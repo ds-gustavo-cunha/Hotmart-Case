{
 "cells": [
  {
   "attachments": {},
   "cell_type": "markdown",
   "id": "2bf7b726",
   "metadata": {},
   "source": [
    "# **PROBLEM SOLVING DESIGN**\n",
    "\n",
    "![Lean StartUp Feedback Loop](../img/project_structure/lean_startup_feedback_loop.jpg)"
   ]
  },
  {
   "attachments": {},
   "cell_type": "markdown",
   "id": "866053b1",
   "metadata": {},
   "source": [
    "# **BUSINESS CONTEXT**"
   ]
  },
  {
   "attachments": {},
   "cell_type": "markdown",
   "id": "654c805f",
   "metadata": {
    "heading_collapsed": true
   },
   "source": [
    "## **What is the company?**\n",
    "\n",
    "Hotmart\n",
    "\n",
    "## **What is its business model?**\n",
    "\n",
    "Two-sided marketplace. It is a platform for buying, selling and promoting digital products in which Hotmart connects product creators/disseminators to their customers.\n",
    "\n",
    "## **What is the company stage on the market?**\n",
    "\n",
    "\"Virality\" (Lean Analytics) or \"early majority\" (Innovation Adoption Curve). The company found a pain in the market and validated a product that solves the pain; now is the time to increase the customer base."
   ]
  },
  {
   "attachments": {},
   "cell_type": "markdown",
   "id": "d5329e88",
   "metadata": {
    "ExecuteTime": {
     "end_time": "2021-11-04T17:35:13.475385Z",
     "start_time": "2021-11-04T17:35:13.469403Z"
    }
   },
   "source": [
    "# **BUSINESS PROBLEM**"
   ]
  },
  {
   "attachments": {},
   "cell_type": "markdown",
   "id": "f00d37f8",
   "metadata": {
    "ExecuteTime": {
     "end_time": "2021-11-04T17:35:17.610201Z",
     "start_time": "2021-11-04T17:35:17.584618Z"
    }
   },
   "source": [
    "## **What is the business problem the company is facing?**\n",
    "\n",
    "The company wants to get insight based on customers' data in order to unveil new product opportunities, especially in terms of product success, customer segmentation, and revenue estimation.\n",
    "\n",
    "## **What is the business solution that this project has to deliver?**\n",
    "\n",
    "A presentation of storytelling insights based on the available data and, possibly, answers to the following questions:\n",
    "- Does Hotmart depend on the biggest producers on the platform? That is, the top-selling producers are responsible for most of the\n",
    "Hotmart billing?\n",
    "- Are there any relevant patterns or trends in the data?\n",
    "- It is possible to segment users based on their characteristics (revenue, product niche, etc.)?\n",
    "- What features most impact the success of a product? that is, the What makes a product sell more?\n",
    "- It is possible to estimate how much revenue Hotmart will generate in the next three months from the last month shown in the dataset?\n",
    "\n",
    "**References:**\n",
    "- Case description\n",
    "- https://hotmart.com/pt-br"
   ]
  },
  {
   "attachments": {},
   "cell_type": "markdown",
   "id": "cce72a6a",
   "metadata": {},
   "source": [
    "# **SCOPE AND BUSINESS ASSUMPTIONS**\n",
    "\n",
    "- **...**\n",
    "\n",
    "- **...**\n",
    "\n",
    "\n",
    "REFERENCES:\n",
    "..."
   ]
  },
  {
   "attachments": {},
   "cell_type": "markdown",
   "id": "34f8a758",
   "metadata": {
    "ExecuteTime": {
     "end_time": "2021-11-04T13:34:43.189698Z",
     "start_time": "2021-11-04T13:34:43.022292Z"
    }
   },
   "source": [
    "# **SOLUTION STRATEGY**\n",
    "\n",
    "![IoT method](../img/project_structure/iot_method.png)*IOT (Input-Output-Taks) is a planning strategy to structure a problem solution and make sure it delivers a solution that solves the initial problem.*"
   ]
  },
  {
   "attachments": {},
   "cell_type": "markdown",
   "id": "b6ca3bf4",
   "metadata": {
    "ExecuteTime": {
     "end_time": "2021-11-04T17:39:03.938670Z",
     "start_time": "2021-11-04T17:39:03.934341Z"
    }
   },
   "source": [
    "### INPUT\n",
    "\n",
    "- **Business context**:\n",
    "    - It is a platform for buying, selling and promoting digital products in which Hotmart connects product creators/disseminators to their customers.\n",
    "    - In principle, Hotmart makes money by **taxing**, either the creators or the disseminators, **a percentage of the purchase by the customer**.\n",
    "- **Business problem**:\n",
    "    - The company wants to get **insights** based on customers' data in order to **unveil new product opportunities**, especially in terms of product success, customer segmentation, and revenue estimation.\n",
    "- **Business questions**:\n",
    "    - Does **Hotmart depend** on the **biggest producers** on the platform? That is, the **top-selling producers** are responsible for **most** of the Hotmart **billing**?\n",
    "    - Are there any **relevant patterns or trends** in the data?\n",
    "    - It is possible to **segment users** based on their characteristics (revenue, product niche, etc.)?\n",
    "    - What **features most impact** the success of a **product**? that is, the What makes a **product sell more**?\n",
    "    - It is possible to **estimate** how much **revenue** Hotmart will generate in the **next three months from the last month** shown in the dataset?\n",
    "- **Available data**:\n",
    "    - Data referring to a **sample of purchases made** at Hotmart in 2016. These are more than 1.5 million records of purchases made on our **platform**."
   ]
  },
  {
   "attachments": {},
   "cell_type": "markdown",
   "id": "8df0c314",
   "metadata": {
    "ExecuteTime": {
     "end_time": "2021-11-04T17:38:29.559329Z",
     "start_time": "2021-11-04T17:38:29.544358Z"
    },
    "heading_collapsed": true
   },
   "source": [
    "### OUTPUT \n",
    "\n",
    "- A presentation of storytelling insights based on the available data and, possibly, answers to the previous questions."
   ]
  },
  {
   "attachments": {},
   "cell_type": "markdown",
   "id": "fa2284b4",
   "metadata": {},
   "source": [
    "### TASKs\n",
    "\n",
    "- *QUESTION*:\n",
    "    - Does **Hotmart depend** on the **biggest producers** on the platform? That is, the **top-selling producers** are responsible for **most** of the Hotmart **billing**?\n",
    "        - What are the biggest producers on the platform? What is its definition?\n",
    "            - Assuming higher than 95th percentile of volume of product sold.\n",
    "        - What it means to be dependent on some producers?\n",
    "            - Assuming \"Pareto rule\" like: 80% of revenue comes from the 5th top selling producers\n",
    "        - What is the revenue difference from this customers to the remaining one?\n",
    "            - Compare revenues\n",
    "\n",
    "<br >\n",
    "\n",
    "- *QUESTION*:\n",
    "    - Are there any **relevant patterns or trends** in the data?\n",
    "        - Check for features (correlation between features, feature distributions and time-changes trends) that shows patterns in terms of customers/producers groups or revenue impact or scaling impact.\n",
    "\n",
    "<br >\n",
    "\n",
    "- *QUESTION*:\n",
    "    - It is possible to **segment users** based on their characteristics (revenue, product niche, etc.)?\n",
    "        - What is the purpose of segmenting customers?\n",
    "          - Find out what are the best customers and what coould be done to change the behaviour of the not-best ones. \n",
    "          - Revenue from best customer could support scaling efforts.\n",
    "        - Check for features that can cluster customer/producers for better revenue undestanding\n",
    "          - Initially try RFM (Recency-Frequency-Monetary)\n",
    "\n",
    "<br >      \n",
    "\n",
    "- *QUESTION*:\n",
    "    - What **features most impact** the success of a **product**? that is, what makes a **product sell more**?\n",
    "        - Success of a product = number of products sold\n",
    "            - Inspect features with high correlation to the number of product sold\n",
    "            - Inspect feature with high correlation with an increasing trend of products sold\n",
    "            - Check for simple causal inference techniques\n",
    "              - knowing features that best impact the product success, we can use this feature for marketing purpose (scalling effort) and, perhaps, get a better overview about what leads to focus on.\n",
    "\n",
    "<br >\n",
    "\n",
    "- *QUESTION*:\n",
    "    - It is possible to **estimate** how much **revenue** Hotmart will generate in the **next three months from the last month** shown in the dataset?\n",
    "        - Check the revenue time-series to understand how to extrapolate it to the future\n",
    "            - Visual inspection\n",
    "            - Check for trend and seasonality and noise\n",
    "            - Define baseline (dummy = last available date)\n",
    "                - Initially, ARIMA model\n",
    "                - If possible, machine learning models\n",
    "                - Check model error and extrapolate to business impact\n",
    "                  - knowing revenue forecast we can predcit scaling investments and even prepone investments."
   ]
  },
  {
   "attachments": {},
   "cell_type": "markdown",
   "id": "b9825219",
   "metadata": {},
   "source": [
    "# **PRODUCT BUILDING ROADMAP**\n",
    "\n",
    "![CRISP-DS Framework](../img/project_structure/crisp_ds.jpg)"
   ]
  },
  {
   "attachments": {},
   "cell_type": "markdown",
   "id": "aa8ba4f7",
   "metadata": {},
   "source": [
    "---\n",
    "---\n",
    "---"
   ]
  },
  {
   "attachments": {},
   "cell_type": "markdown",
   "id": "cfb7b1da",
   "metadata": {
    "heading_collapsed": true
   },
   "source": [
    "# **0 - HELPERS**"
   ]
  },
  {
   "attachments": {},
   "cell_type": "markdown",
   "id": "f73c6dcd",
   "metadata": {
    "heading_collapsed": true,
    "hidden": true
   },
   "source": [
    "## 0.1 - Libraries"
   ]
  },
  {
   "attachments": {},
   "cell_type": "markdown",
   "id": "3a213f9e",
   "metadata": {},
   "source": [
    "*Import required libraries*"
   ]
  },
  {
   "cell_type": "code",
   "execution_count": 1,
   "id": "6bef9efa",
   "metadata": {},
   "outputs": [],
   "source": [
    "# don't cache libraries (especially project library)\n",
    "%load_ext autoreload\n",
    "%autoreload 2"
   ]
  },
  {
   "cell_type": "code",
   "execution_count": 2,
   "id": "2d066e75",
   "metadata": {},
   "outputs": [
    {
     "data": {
      "text/html": [
       "<style>.container { width:100% !important; }</style>"
      ],
      "text/plain": [
       "<IPython.core.display.HTML object>"
      ]
     },
     "metadata": {},
     "output_type": "display_data"
    },
    {
     "data": {
      "text/html": [
       "<style>.container { width:100% !important; }</style>"
      ],
      "text/plain": [
       "<IPython.core.display.HTML object>"
      ]
     },
     "metadata": {},
     "output_type": "display_data"
    },
    {
     "data": {
      "text/html": [
       "<style>.container { width:100% !important; }</style>"
      ],
      "text/plain": [
       "<IPython.core.display.HTML object>"
      ]
     },
     "metadata": {},
     "output_type": "display_data"
    }
   ],
   "source": [
    "# setup and environment\n",
    "import os\n",
    "from   pathlib import Path\n",
    "\n",
    "# data extraction\n",
    "from sqlalchemy import create_engine\n",
    "\n",
    "# data manipulation\n",
    "import numpy as np\n",
    "import pandas as pd\n",
    "\n",
    "# data visualization\n",
    "import matplotlib.pyplot as plt\n",
    "import seaborn as sns\n",
    "\n",
    "# project library\n",
    "from project_lib.initial_config import initial_settings\n",
    "from project_lib.data_description import (check_dataframe, inspect_dtypes, \n",
    "                                          check_na_unique_dtypes, check_dtype_convertion,\n",
    "                                          summary_statistics, categorical_summary, datetime_summary\n",
    "                                          )\n",
    "from project_lib.data_exploration import (numerical_plot, categorical_plot, datetime_plot,\n",
    "                                          create_cramer_v_dataframe)\n",
    "from project_lib.ab_testing import check_for_bias"
   ]
  },
  {
   "attachments": {},
   "cell_type": "markdown",
   "id": "66efdb94",
   "metadata": {
    "ExecuteTime": {
     "end_time": "2021-11-08T11:06:42.870317Z",
     "start_time": "2021-11-08T11:06:42.862040Z"
    },
    "heading_collapsed": true,
    "hidden": true
   },
   "source": [
    "## 0.2 - Functions"
   ]
  },
  {
   "attachments": {},
   "cell_type": "markdown",
   "id": "8e94d8f7",
   "metadata": {},
   "source": [
    "*Define functions that will be used on the project*"
   ]
  },
  {
   "attachments": {},
   "cell_type": "markdown",
   "id": "005d90e2",
   "metadata": {
    "ExecuteTime": {
     "end_time": "2021-12-10T14:13:12.396952Z",
     "start_time": "2021-12-10T14:13:12.316411Z"
    },
    "hidden": true
   },
   "source": [
    "NOTE: Most functions made for this project are inside the project library. That is, **a package called \"project_lib\" was created to hold all functions that will be needed for this project.**\n",
    "\n",
    "\n",
    "For further details, please check the modules inside \"project_lib\" package [in other words, check .py files inside project_lib folder]"
   ]
  },
  {
   "cell_type": "code",
   "execution_count": 3,
   "id": "0166e669",
   "metadata": {},
   "outputs": [],
   "source": [
    "# # example of function created for this project\n",
    "# help(check_dataframe)"
   ]
  },
  {
   "attachments": {},
   "cell_type": "markdown",
   "id": "31bfa06e",
   "metadata": {},
   "source": [
    "## 0.3 - Setup"
   ]
  },
  {
   "attachments": {},
   "cell_type": "markdown",
   "id": "7dc1ec1d",
   "metadata": {},
   "source": [
    "*Define basic configurations*"
   ]
  },
  {
   "cell_type": "code",
   "execution_count": 4,
   "id": "66009c14",
   "metadata": {},
   "outputs": [
    {
     "data": {
      "text/html": [
       "<style>.container { width:100% !important; }</style>"
      ],
      "text/plain": [
       "<IPython.core.display.HTML object>"
      ]
     },
     "metadata": {},
     "output_type": "display_data"
    }
   ],
   "source": [
    "# initial setup of dataframes and plots\n",
    "initial_settings(storytelling=False)"
   ]
  },
  {
   "attachments": {},
   "cell_type": "markdown",
   "id": "fa085249",
   "metadata": {},
   "source": [
    "## 0.4 - Constants"
   ]
  },
  {
   "attachments": {},
   "cell_type": "markdown",
   "id": "059932be",
   "metadata": {},
   "source": [
    "*Define reusuable constants*"
   ]
  },
  {
   "cell_type": "code",
   "execution_count": 5,
   "id": "ad9f83e2",
   "metadata": {},
   "outputs": [
    {
     "data": {
      "text/plain": [
       "PosixPath('/home/ds-gustavo-cunha/Projects/hotmart_case')"
      ]
     },
     "execution_count": 5,
     "metadata": {},
     "output_type": "execute_result"
    }
   ],
   "source": [
    "# define the project root path that will be the \"baseline\" for all paths in the notebook\n",
    "PROJECT_ROOT_PATH = Path.cwd().parent\n",
    "PROJECT_ROOT_PATH"
   ]
  },
  {
   "cell_type": "code",
   "execution_count": 6,
   "id": "98cc48c5-8f19-484d-aa2e-71ca25a41b67",
   "metadata": {},
   "outputs": [],
   "source": [
    "# # variables to connect to data source\n",
    "# HOST=os.environ[\"HOST\"]\n",
    "# PORT=os.environ[\"PORT\"]\n",
    "# USER=os.environ[\"USER\"]\n",
    "# PASSWORD=os.environ[\"PASSWORD\"]\n",
    "# SCHEMA=os.environ[\"SCHEMA\"]\n",
    "# TABLE=os.environ[\"TABLE\"]"
   ]
  },
  {
   "attachments": {},
   "cell_type": "markdown",
   "id": "71c139dd",
   "metadata": {
    "ExecuteTime": {
     "end_time": "2021-11-04T23:09:51.772110Z",
     "start_time": "2021-11-04T23:09:51.767141Z"
    }
   },
   "source": [
    "# **1 - DATA EXTRACTION**"
   ]
  },
  {
   "attachments": {},
   "cell_type": "markdown",
   "id": "870fc960",
   "metadata": {},
   "source": [
    "## 1.1 - Entity Relationship Diagram"
   ]
  },
  {
   "attachments": {},
   "cell_type": "markdown",
   "id": "52b1c61e",
   "metadata": {},
   "source": [
    "*Display Entity-Relationship Diagram to a better data understanding*"
   ]
  },
  {
   "cell_type": "code",
   "execution_count": 7,
   "id": "aee358fe",
   "metadata": {},
   "outputs": [],
   "source": [
    "# Not available -> datasets are already merged"
   ]
  },
  {
   "attachments": {},
   "cell_type": "markdown",
   "id": "eddb0851",
   "metadata": {
    "ExecuteTime": {
     "end_time": "2021-11-08T11:11:43.415835Z",
     "start_time": "2021-11-08T11:11:43.409069Z"
    }
   },
   "source": [
    "## 1.2 - Data Fields Description"
   ]
  },
  {
   "attachments": {},
   "cell_type": "markdown",
   "id": "6ef925d8",
   "metadata": {},
   "source": [
    "*Describe available data in regard to database information*\n"
   ]
  },
  {
   "attachments": {},
   "cell_type": "markdown",
   "id": "ae37d62c-5cfa-4997-87dc-552340480a3c",
   "metadata": {},
   "source": [
    "---\n",
    "\n",
    "Na Hotmart, possuímos três principais personas que integram nosso negócio: os produtores, os afiliados e os compradores.\n",
    "- Produtores são pessoas que criam produtos digitais na Hotmart, como cursos de idiomas, ebooks de receitas culinárias, audiolivros, softwares, dentre muitos outros exemplos.\n",
    "- Afiliados são pessoas que promovem produtos dos produtores em troca de uma comissão na venda, que varia de produto para produto, e de afiliado para afiliado.\n",
    "- Compradores são pessoas que adquirem um ou mais produtos digitais.\n",
    "    \n",
    "Uma venda é feita por um afiliado quando alguém clica em um link de afiliados. Eles geralmente fazem a promoção desses produtos em redes sociais, vídeos, anúncios, etc.\n",
    "\n",
    "Já uma venda é feita por um produtor quando alguém tem acesso direto ao seu produto, sem intermediação do afiliado. Por exemplo, pessoas que seguem o Whindersson Nunes no Youtube e entraram em seu site oficial para adquirir seu produto, ou clicaram no link do produto sem código de afiliação.\n",
    "\n",
    "---"
   ]
  },
  {
   "attachments": {},
   "cell_type": "markdown",
   "id": "8a995eff-1a03-4512-91b0-254468c3b809",
   "metadata": {},
   "source": [
    "---\n",
    "\n",
    "Durante sua avaliação, você irá analisar dados referentes a uma amostra de compras feitas na Hotmart em 2016. Tratam-se de mais de 1,5 milhão registros de compras realizadas em nossa plataforma. Abaixo, nós iremos detalhar o que significa cada campo:\n",
    "- **purchase_id**: Identificação da compra na Hotmart;\n",
    "- **product_id**: Identificação do produto na Hotmart;\n",
    "- **affiliate_id**: Identificação do afiliado na Hotmart;\n",
    "- **producer_id**: Identificação do produtor na Hotmart;\n",
    "- **buyer_id**: Identificação do comprador na Hotmart;\n",
    "- **purchase_date**: Data e hora em que a compra foi realizada;\n",
    "- **product_creation_date**: Data e hora em que o produto foi criado na Hotmart;\n",
    "- **product_category**: categoria do produto na Hotmart. Exemplo: e-book, software, curso online, e-tickets, etc.;\n",
    "- **product_niche**: nicho de mercado que o produto faz parte. Exemplo: educação, saúde e bem-estar, sexualidade, etc.;\n",
    "- **purchase_value**: valor da compra. Esse dado, assim como nicho e categoria foi codificado para manter a confidencialidade. O valor apresentado no dataset é o z-score do valor real;\n",
    "- **affiliate_commission_percentual**: percentual de comissão que o afiliado receberá da compra;\n",
    "- **purchase_device**: tipo de dispositivo utilizado no momento da compra, como: Desktop, Mobile, Tablet, ou Outros;\n",
    "- **purchase_origin**: endereço do site do qual a pessoa veio antes da compra. Por exemplo, se uma pessoa veio do Facebook, Youtube, ou até mesmo de outra página no site oficial do produto;\n",
    "- **is_origin_page_social_network**: informa se essa compra veio de uma URL do Facebook, Youtube, Instagram, Pinterest, ou Twitter.\n",
    "\n",
    "---"
   ]
  },
  {
   "attachments": {},
   "cell_type": "markdown",
   "id": "76df06ec-313d-4bf6-b1ed-413e2c43e926",
   "metadata": {},
   "source": [
    "---\n",
    "\n",
    "Algumas regras de negócio:\n",
    "- Quando a compra for feita diretamente pelo produtor, ou seja, quando não houver afiliado intermediando a compra, o campo affiliate_commission_percentual terá valor 0, e o campo affiliate_id será igual ao producer_id;\n",
    "- No campo purchase_origin nós apenas consideramos o host do site. Isso quer dizer que, se uma pessoa veio do site www.meuproduto.com/promocoes, esse campo só irá retornar o valor www.meuproduto.com;\n",
    "\n",
    "---"
   ]
  },
  {
   "attachments": {},
   "cell_type": "markdown",
   "id": "425ae4b4",
   "metadata": {},
   "source": [
    "## 1.3 - Data Loading"
   ]
  },
  {
   "attachments": {},
   "cell_type": "markdown",
   "id": "98e6ffec",
   "metadata": {},
   "source": [
    "*Load data from required files*"
   ]
  },
  {
   "cell_type": "code",
   "execution_count": 8,
   "id": "e856158a-8b04-4d68-b6ea-c46789fffaf1",
   "metadata": {},
   "outputs": [],
   "source": [
    "# # define connection \"endpoint\"\n",
    "# db_connection_str = f'mysql+pymysql://{USER}:{PASSWORD}@{HOST}/{SCHEMA}'\n",
    "# # create an engine to connect to database\n",
    "# db_connection = create_engine(db_connection_str)\n",
    "\n",
    "# # define query to get data\n",
    "# query=f\"\"\"\n",
    "# SELECT *\n",
    "# FROM {TABLE}\n",
    "# \"\"\"\n",
    "\n",
    "# # read all data from database\n",
    "# df_sql = pd.read_sql(sql=query, con=db_connection)\n",
    "# df_sql"
   ]
  },
  {
   "cell_type": "code",
   "execution_count": 9,
   "id": "0f9aaf2e-15e2-4bd0-b305-d1e0b27a5619",
   "metadata": {},
   "outputs": [],
   "source": [
    "# # save data to parquet so as to not overload database server unnecessarily\n",
    "# df_sql.to_parquet(\n",
    "#     path=os.path.join(PROJECT_ROOT_PATH, \"data\", \"raw_data\", \"customer_data.parquet\")\n",
    "# )"
   ]
  },
  {
   "cell_type": "code",
   "execution_count": 10,
   "id": "5c1b6096",
   "metadata": {},
   "outputs": [
    {
     "data": {
      "text/html": [
       "<div>\n",
       "<style scoped>\n",
       "    .dataframe tbody tr th:only-of-type {\n",
       "        vertical-align: middle;\n",
       "    }\n",
       "\n",
       "    .dataframe tbody tr th {\n",
       "        vertical-align: top;\n",
       "    }\n",
       "\n",
       "    .dataframe thead th {\n",
       "        text-align: right;\n",
       "    }\n",
       "</style>\n",
       "<table border=\"1\" class=\"dataframe\">\n",
       "  <thead>\n",
       "    <tr style=\"text-align: right;\">\n",
       "      <th></th>\n",
       "      <th>purchase_id</th>\n",
       "      <th>product_id</th>\n",
       "      <th>affiliate_id</th>\n",
       "      <th>producer_id</th>\n",
       "      <th>buyer_id</th>\n",
       "      <th>purchase_date</th>\n",
       "      <th>product_creation_date</th>\n",
       "      <th>product_category</th>\n",
       "      <th>product_niche</th>\n",
       "      <th>purchase_value</th>\n",
       "      <th>affiliate_commission_percentual</th>\n",
       "      <th>purchase_device</th>\n",
       "      <th>purchase_origin</th>\n",
       "      <th>is_origin_page_social_network</th>\n",
       "      <th>Venda</th>\n",
       "    </tr>\n",
       "  </thead>\n",
       "  <tbody>\n",
       "    <tr>\n",
       "      <th>1254980</th>\n",
       "      <td>13338966</td>\n",
       "      <td>103700</td>\n",
       "      <td>2084518</td>\n",
       "      <td>2084518</td>\n",
       "      <td>7058419</td>\n",
       "      <td>2016-05-25 02:27:34</td>\n",
       "      <td>2014-06-07 19:21:23</td>\n",
       "      <td>Phisical book</td>\n",
       "      <td>Online course creation</td>\n",
       "      <td>-0.316</td>\n",
       "      <td>0.000</td>\n",
       "      <td>eReaders</td>\n",
       "      <td>Origin 22fe</td>\n",
       "      <td>0,0</td>\n",
       "      <td>1</td>\n",
       "    </tr>\n",
       "    <tr>\n",
       "      <th>1410226</th>\n",
       "      <td>13640216</td>\n",
       "      <td>94435</td>\n",
       "      <td>6682</td>\n",
       "      <td>6682</td>\n",
       "      <td>3652762</td>\n",
       "      <td>2016-06-10 19:06:05</td>\n",
       "      <td>2014-04-06 20:59:36</td>\n",
       "      <td>Phisical book</td>\n",
       "      <td>Careers</td>\n",
       "      <td>-0.350</td>\n",
       "      <td>0.000</td>\n",
       "      <td>Smart TV</td>\n",
       "      <td>Origin ef2b</td>\n",
       "      <td>0,0</td>\n",
       "      <td>1</td>\n",
       "    </tr>\n",
       "    <tr>\n",
       "      <th>190758</th>\n",
       "      <td>11223257</td>\n",
       "      <td>99431</td>\n",
       "      <td>773912</td>\n",
       "      <td>773912</td>\n",
       "      <td>6091405</td>\n",
       "      <td>2016-01-24 14:48:21</td>\n",
       "      <td>2014-05-10 15:45:19</td>\n",
       "      <td>Phisical book</td>\n",
       "      <td>Anxiety management</td>\n",
       "      <td>0.111</td>\n",
       "      <td>0.000</td>\n",
       "      <td>Desktop</td>\n",
       "      <td>Origin f48d</td>\n",
       "      <td>0,0</td>\n",
       "      <td>1</td>\n",
       "    </tr>\n",
       "    <tr>\n",
       "      <th>1507343</th>\n",
       "      <td>13828825</td>\n",
       "      <td>63718</td>\n",
       "      <td>550164</td>\n",
       "      <td>166090</td>\n",
       "      <td>5511271</td>\n",
       "      <td>2016-06-20 12:50:22</td>\n",
       "      <td>2013-07-09 16:54:50</td>\n",
       "      <td>Phisical book</td>\n",
       "      <td>YouTube video creation</td>\n",
       "      <td>-0.303</td>\n",
       "      <td>0.000</td>\n",
       "      <td>Smart TV</td>\n",
       "      <td>Origin ef2b</td>\n",
       "      <td>0,0</td>\n",
       "      <td>1</td>\n",
       "    </tr>\n",
       "    <tr>\n",
       "      <th>1400408</th>\n",
       "      <td>13621062</td>\n",
       "      <td>228324</td>\n",
       "      <td>720158</td>\n",
       "      <td>720158</td>\n",
       "      <td>7370569</td>\n",
       "      <td>2016-06-09 15:57:35</td>\n",
       "      <td>2016-05-12 23:30:09</td>\n",
       "      <td>Phisical book</td>\n",
       "      <td>Filmmaking</td>\n",
       "      <td>0.116</td>\n",
       "      <td>0.000</td>\n",
       "      <td>Desktop</td>\n",
       "      <td>Origin 5187</td>\n",
       "      <td>0,0</td>\n",
       "      <td>1</td>\n",
       "    </tr>\n",
       "  </tbody>\n",
       "</table>\n",
       "<p>5 rows × 15 columns</p>\n",
       "</div>"
      ],
      "text/plain": [
       "         purchase_id  product_id  affiliate_id  producer_id  buyer_id   \n",
       "1254980     13338966      103700       2084518      2084518   7058419  \\\n",
       "1410226     13640216       94435          6682         6682   3652762   \n",
       "190758      11223257       99431        773912       773912   6091405   \n",
       "1507343     13828825       63718        550164       166090   5511271   \n",
       "1400408     13621062      228324        720158       720158   7370569   \n",
       "\n",
       "              purchase_date product_creation_date product_category   \n",
       "1254980 2016-05-25 02:27:34   2014-06-07 19:21:23    Phisical book  \\\n",
       "1410226 2016-06-10 19:06:05   2014-04-06 20:59:36    Phisical book   \n",
       "190758  2016-01-24 14:48:21   2014-05-10 15:45:19    Phisical book   \n",
       "1507343 2016-06-20 12:50:22   2013-07-09 16:54:50    Phisical book   \n",
       "1400408 2016-06-09 15:57:35   2016-05-12 23:30:09    Phisical book   \n",
       "\n",
       "                  product_niche  purchase_value   \n",
       "1254980  Online course creation          -0.316  \\\n",
       "1410226                 Careers          -0.350   \n",
       "190758       Anxiety management           0.111   \n",
       "1507343  YouTube video creation          -0.303   \n",
       "1400408              Filmmaking           0.116   \n",
       "\n",
       "         affiliate_commission_percentual purchase_device purchase_origin   \n",
       "1254980                            0.000        eReaders     Origin 22fe  \\\n",
       "1410226                            0.000        Smart TV     Origin ef2b   \n",
       "190758                             0.000         Desktop     Origin f48d   \n",
       "1507343                            0.000        Smart TV     Origin ef2b   \n",
       "1400408                            0.000         Desktop     Origin 5187   \n",
       "\n",
       "        is_origin_page_social_network  Venda  \n",
       "1254980                           0,0      1  \n",
       "1410226                           0,0      1  \n",
       "190758                            0,0      1  \n",
       "1507343                           0,0      1  \n",
       "1400408                           0,0      1  \n",
       "\n",
       "[5 rows x 15 columns]"
      ]
     },
     "execution_count": 10,
     "metadata": {},
     "output_type": "execute_result"
    }
   ],
   "source": [
    "# read data from local source\n",
    "df_extraction = pd.read_parquet(\n",
    "    path=os.path.join(PROJECT_ROOT_PATH, \"data\", \"raw_data\", \"customer_data.parquet\")\n",
    ")\n",
    "\n",
    "# inspect results\n",
    "df_extraction.sample(5)"
   ]
  },
  {
   "attachments": {},
   "cell_type": "markdown",
   "id": "fab65071",
   "metadata": {
    "heading_collapsed": true
   },
   "source": [
    "# **2 - DATA DESCRIPTION**"
   ]
  },
  {
   "attachments": {},
   "cell_type": "markdown",
   "id": "4baca2ad",
   "metadata": {
    "ExecuteTime": {
     "end_time": "2021-11-08T11:33:34.436022Z",
     "start_time": "2021-11-08T11:33:34.433283Z"
    },
    "heading_collapsed": true,
    "hidden": true
   },
   "source": [
    "## 2.1 - Restore Point"
   ]
  },
  {
   "attachments": {},
   "cell_type": "markdown",
   "id": "d8fff667",
   "metadata": {},
   "source": [
    "*Create a checkpoint of the last dataframe from previous section*"
   ]
  },
  {
   "cell_type": "code",
   "execution_count": 11,
   "id": "5798a081",
   "metadata": {
    "ExecuteTime": {
     "end_time": "2021-11-22T11:35:09.995864Z",
     "start_time": "2021-11-22T11:35:09.300194Z"
    },
    "hidden": true
   },
   "outputs": [
    {
     "name": "stdout",
     "output_type": "stream",
     "text": [
      "*************************************************\n",
      "Dataframe size in memory: 660.704 MB \n",
      "\n",
      "-----------------------------\n",
      "Dataframe overview:\n"
     ]
    },
    {
     "data": {
      "text/html": [
       "<style type=\"text/css\">\n",
       "#T_2f2ae_row0_col1, #T_2f2ae_row0_col3, #T_2f2ae_row1_col1, #T_2f2ae_row1_col3, #T_2f2ae_row2_col1, #T_2f2ae_row2_col3, #T_2f2ae_row3_col1, #T_2f2ae_row3_col3, #T_2f2ae_row4_col1, #T_2f2ae_row4_col3, #T_2f2ae_row5_col1, #T_2f2ae_row5_col3, #T_2f2ae_row6_col1, #T_2f2ae_row6_col3, #T_2f2ae_row7_col1, #T_2f2ae_row7_col3, #T_2f2ae_row8_col1, #T_2f2ae_row8_col3, #T_2f2ae_row9_col1, #T_2f2ae_row9_col3, #T_2f2ae_row10_col1, #T_2f2ae_row10_col3, #T_2f2ae_row11_col1, #T_2f2ae_row11_col3, #T_2f2ae_row12_col1, #T_2f2ae_row12_col3, #T_2f2ae_row13_col1, #T_2f2ae_row13_col3, #T_2f2ae_row14_col1, #T_2f2ae_row14_col3 {\n",
       "  background-color: Navy;\n",
       "  color: White;\n",
       "}\n",
       "</style>\n",
       "<table id=\"T_2f2ae\">\n",
       "  <thead>\n",
       "    <tr>\n",
       "      <th class=\"blank level0\" >&nbsp;</th>\n",
       "      <th id=\"T_2f2ae_level0_col0\" class=\"col_heading level0 col0\" >Num NAs</th>\n",
       "      <th id=\"T_2f2ae_level0_col1\" class=\"col_heading level0 col1\" >Percent NAs</th>\n",
       "      <th id=\"T_2f2ae_level0_col2\" class=\"col_heading level0 col2\" >Num unique [include NAs]</th>\n",
       "      <th id=\"T_2f2ae_level0_col3\" class=\"col_heading level0 col3\" >Data Type</th>\n",
       "    </tr>\n",
       "  </thead>\n",
       "  <tbody>\n",
       "    <tr>\n",
       "      <th id=\"T_2f2ae_level0_row0\" class=\"row_heading level0 row0\" >purchase_id</th>\n",
       "      <td id=\"T_2f2ae_row0_col0\" class=\"data row0 col0\" >0</td>\n",
       "      <td id=\"T_2f2ae_row0_col1\" class=\"data row0 col1\" >0</td>\n",
       "      <td id=\"T_2f2ae_row0_col2\" class=\"data row0 col2\" >1.599.828</td>\n",
       "      <td id=\"T_2f2ae_row0_col3\" class=\"data row0 col3\" >int64</td>\n",
       "    </tr>\n",
       "    <tr>\n",
       "      <th id=\"T_2f2ae_level0_row1\" class=\"row_heading level0 row1\" >product_id</th>\n",
       "      <td id=\"T_2f2ae_row1_col0\" class=\"data row1 col0\" >0</td>\n",
       "      <td id=\"T_2f2ae_row1_col1\" class=\"data row1 col1\" >0</td>\n",
       "      <td id=\"T_2f2ae_row1_col2\" class=\"data row1 col2\" >17.883</td>\n",
       "      <td id=\"T_2f2ae_row1_col3\" class=\"data row1 col3\" >int64</td>\n",
       "    </tr>\n",
       "    <tr>\n",
       "      <th id=\"T_2f2ae_level0_row2\" class=\"row_heading level0 row2\" >affiliate_id</th>\n",
       "      <td id=\"T_2f2ae_row2_col0\" class=\"data row2 col0\" >0</td>\n",
       "      <td id=\"T_2f2ae_row2_col1\" class=\"data row2 col1\" >0</td>\n",
       "      <td id=\"T_2f2ae_row2_col2\" class=\"data row2 col2\" >22.947</td>\n",
       "      <td id=\"T_2f2ae_row2_col3\" class=\"data row2 col3\" >int64</td>\n",
       "    </tr>\n",
       "    <tr>\n",
       "      <th id=\"T_2f2ae_level0_row3\" class=\"row_heading level0 row3\" >producer_id</th>\n",
       "      <td id=\"T_2f2ae_row3_col0\" class=\"data row3 col0\" >0</td>\n",
       "      <td id=\"T_2f2ae_row3_col1\" class=\"data row3 col1\" >0</td>\n",
       "      <td id=\"T_2f2ae_row3_col2\" class=\"data row3 col2\" >8.020</td>\n",
       "      <td id=\"T_2f2ae_row3_col3\" class=\"data row3 col3\" >int64</td>\n",
       "    </tr>\n",
       "    <tr>\n",
       "      <th id=\"T_2f2ae_level0_row4\" class=\"row_heading level0 row4\" >buyer_id</th>\n",
       "      <td id=\"T_2f2ae_row4_col0\" class=\"data row4 col0\" >0</td>\n",
       "      <td id=\"T_2f2ae_row4_col1\" class=\"data row4 col1\" >0</td>\n",
       "      <td id=\"T_2f2ae_row4_col2\" class=\"data row4 col2\" >1.100.649</td>\n",
       "      <td id=\"T_2f2ae_row4_col3\" class=\"data row4 col3\" >int64</td>\n",
       "    </tr>\n",
       "    <tr>\n",
       "      <th id=\"T_2f2ae_level0_row5\" class=\"row_heading level0 row5\" >purchase_date</th>\n",
       "      <td id=\"T_2f2ae_row5_col0\" class=\"data row5 col0\" >0</td>\n",
       "      <td id=\"T_2f2ae_row5_col1\" class=\"data row5 col1\" >0</td>\n",
       "      <td id=\"T_2f2ae_row5_col2\" class=\"data row5 col2\" >1.488.964</td>\n",
       "      <td id=\"T_2f2ae_row5_col3\" class=\"data row5 col3\" >datetime64[ns]</td>\n",
       "    </tr>\n",
       "    <tr>\n",
       "      <th id=\"T_2f2ae_level0_row6\" class=\"row_heading level0 row6\" >product_creation_date</th>\n",
       "      <td id=\"T_2f2ae_row6_col0\" class=\"data row6 col0\" >0</td>\n",
       "      <td id=\"T_2f2ae_row6_col1\" class=\"data row6 col1\" >0</td>\n",
       "      <td id=\"T_2f2ae_row6_col2\" class=\"data row6 col2\" >17.879</td>\n",
       "      <td id=\"T_2f2ae_row6_col3\" class=\"data row6 col3\" >datetime64[ns]</td>\n",
       "    </tr>\n",
       "    <tr>\n",
       "      <th id=\"T_2f2ae_level0_row7\" class=\"row_heading level0 row7\" >product_category</th>\n",
       "      <td id=\"T_2f2ae_row7_col0\" class=\"data row7 col0\" >0</td>\n",
       "      <td id=\"T_2f2ae_row7_col1\" class=\"data row7 col1\" >0</td>\n",
       "      <td id=\"T_2f2ae_row7_col2\" class=\"data row7 col2\" >10</td>\n",
       "      <td id=\"T_2f2ae_row7_col3\" class=\"data row7 col3\" >object</td>\n",
       "    </tr>\n",
       "    <tr>\n",
       "      <th id=\"T_2f2ae_level0_row8\" class=\"row_heading level0 row8\" >product_niche</th>\n",
       "      <td id=\"T_2f2ae_row8_col0\" class=\"data row8 col0\" >0</td>\n",
       "      <td id=\"T_2f2ae_row8_col1\" class=\"data row8 col1\" >0</td>\n",
       "      <td id=\"T_2f2ae_row8_col2\" class=\"data row8 col2\" >25</td>\n",
       "      <td id=\"T_2f2ae_row8_col3\" class=\"data row8 col3\" >object</td>\n",
       "    </tr>\n",
       "    <tr>\n",
       "      <th id=\"T_2f2ae_level0_row9\" class=\"row_heading level0 row9\" >purchase_value</th>\n",
       "      <td id=\"T_2f2ae_row9_col0\" class=\"data row9 col0\" >0</td>\n",
       "      <td id=\"T_2f2ae_row9_col1\" class=\"data row9 col1\" >0</td>\n",
       "      <td id=\"T_2f2ae_row9_col2\" class=\"data row9 col2\" >32.617</td>\n",
       "      <td id=\"T_2f2ae_row9_col3\" class=\"data row9 col3\" >float64</td>\n",
       "    </tr>\n",
       "    <tr>\n",
       "      <th id=\"T_2f2ae_level0_row10\" class=\"row_heading level0 row10\" >affiliate_commission_percentual</th>\n",
       "      <td id=\"T_2f2ae_row10_col0\" class=\"data row10 col0\" >199</td>\n",
       "      <td id=\"T_2f2ae_row10_col1\" class=\"data row10 col1\" >1</td>\n",
       "      <td id=\"T_2f2ae_row10_col2\" class=\"data row10 col2\" >280</td>\n",
       "      <td id=\"T_2f2ae_row10_col3\" class=\"data row10 col3\" >float64</td>\n",
       "    </tr>\n",
       "    <tr>\n",
       "      <th id=\"T_2f2ae_level0_row11\" class=\"row_heading level0 row11\" >purchase_device</th>\n",
       "      <td id=\"T_2f2ae_row11_col0\" class=\"data row11 col0\" >0</td>\n",
       "      <td id=\"T_2f2ae_row11_col1\" class=\"data row11 col1\" >0</td>\n",
       "      <td id=\"T_2f2ae_row11_col2\" class=\"data row11 col2\" >5</td>\n",
       "      <td id=\"T_2f2ae_row11_col3\" class=\"data row11 col3\" >object</td>\n",
       "    </tr>\n",
       "    <tr>\n",
       "      <th id=\"T_2f2ae_level0_row12\" class=\"row_heading level0 row12\" >purchase_origin</th>\n",
       "      <td id=\"T_2f2ae_row12_col0\" class=\"data row12 col0\" >0</td>\n",
       "      <td id=\"T_2f2ae_row12_col1\" class=\"data row12 col1\" >0</td>\n",
       "      <td id=\"T_2f2ae_row12_col2\" class=\"data row12 col2\" >9.603</td>\n",
       "      <td id=\"T_2f2ae_row12_col3\" class=\"data row12 col3\" >object</td>\n",
       "    </tr>\n",
       "    <tr>\n",
       "      <th id=\"T_2f2ae_level0_row13\" class=\"row_heading level0 row13\" >is_origin_page_social_network</th>\n",
       "      <td id=\"T_2f2ae_row13_col0\" class=\"data row13 col0\" >0</td>\n",
       "      <td id=\"T_2f2ae_row13_col1\" class=\"data row13 col1\" >0</td>\n",
       "      <td id=\"T_2f2ae_row13_col2\" class=\"data row13 col2\" >2</td>\n",
       "      <td id=\"T_2f2ae_row13_col3\" class=\"data row13 col3\" >object</td>\n",
       "    </tr>\n",
       "    <tr>\n",
       "      <th id=\"T_2f2ae_level0_row14\" class=\"row_heading level0 row14\" >Venda</th>\n",
       "      <td id=\"T_2f2ae_row14_col0\" class=\"data row14 col0\" >0</td>\n",
       "      <td id=\"T_2f2ae_row14_col1\" class=\"data row14 col1\" >0</td>\n",
       "      <td id=\"T_2f2ae_row14_col2\" class=\"data row14 col2\" >1</td>\n",
       "      <td id=\"T_2f2ae_row14_col3\" class=\"data row14 col3\" >int64</td>\n",
       "    </tr>\n",
       "  </tbody>\n",
       "</table>\n"
      ],
      "text/plain": [
       "<pandas.io.formats.style.Styler at 0x7f6ca0ef4e20>"
      ]
     },
     "metadata": {},
     "output_type": "display_data"
    },
    {
     "name": "stdout",
     "output_type": "stream",
     "text": [
      "-----------------------------\n",
      "\n",
      " Dataframe shape is (1599828, 15) \n",
      "\n",
      "-----------------------------\n",
      "\n",
      "\n",
      "Statistics for Numerical Variables [NaNs are ignored]:\n"
     ]
    },
    {
     "data": {
      "text/html": [
       "<style type=\"text/css\">\n",
       "#T_c4698_row0_col5, #T_c4698_row0_col6, #T_c4698_row1_col5, #T_c4698_row1_col6, #T_c4698_row2_col5, #T_c4698_row2_col6, #T_c4698_row3_col5, #T_c4698_row3_col6, #T_c4698_row4_col5, #T_c4698_row4_col6, #T_c4698_row5_col5, #T_c4698_row5_col6, #T_c4698_row6_col5, #T_c4698_row6_col6, #T_c4698_row7_col5, #T_c4698_row7_col6 {\n",
       "  background-color: Navy;\n",
       "  color: White;\n",
       "}\n",
       "</style>\n",
       "<table id=\"T_c4698\">\n",
       "  <thead>\n",
       "    <tr>\n",
       "      <th class=\"blank level0\" >&nbsp;</th>\n",
       "      <th id=\"T_c4698_level0_col0\" class=\"col_heading level0 col0\" >attribute</th>\n",
       "      <th id=\"T_c4698_level0_col1\" class=\"col_heading level0 col1\" >mean</th>\n",
       "      <th id=\"T_c4698_level0_col2\" class=\"col_heading level0 col2\" >median</th>\n",
       "      <th id=\"T_c4698_level0_col3\" class=\"col_heading level0 col3\" >std</th>\n",
       "      <th id=\"T_c4698_level0_col4\" class=\"col_heading level0 col4\" >iqr</th>\n",
       "      <th id=\"T_c4698_level0_col5\" class=\"col_heading level0 col5\" >min</th>\n",
       "      <th id=\"T_c4698_level0_col6\" class=\"col_heading level0 col6\" >max</th>\n",
       "      <th id=\"T_c4698_level0_col7\" class=\"col_heading level0 col7\" >range</th>\n",
       "      <th id=\"T_c4698_level0_col8\" class=\"col_heading level0 col8\" >skew</th>\n",
       "      <th id=\"T_c4698_level0_col9\" class=\"col_heading level0 col9\" >kurtosis</th>\n",
       "    </tr>\n",
       "  </thead>\n",
       "  <tbody>\n",
       "    <tr>\n",
       "      <th id=\"T_c4698_level0_row0\" class=\"row_heading level0 row0\" >0</th>\n",
       "      <td id=\"T_c4698_row0_col0\" class=\"data row0 col0\" >purchase_id</td>\n",
       "      <td id=\"T_c4698_row0_col1\" class=\"data row0 col1\" >12.445.456,601</td>\n",
       "      <td id=\"T_c4698_row0_col2\" class=\"data row0 col2\" >12.468.487,500</td>\n",
       "      <td id=\"T_c4698_row0_col3\" class=\"data row0 col3\" >917.581,737</td>\n",
       "      <td id=\"T_c4698_row0_col4\" class=\"data row0 col4\" >1.579.356,500</td>\n",
       "      <td id=\"T_c4698_row0_col5\" class=\"data row0 col5\" >1.663.958,000</td>\n",
       "      <td id=\"T_c4698_row0_col6\" class=\"data row0 col6\" >14.357.203,000</td>\n",
       "      <td id=\"T_c4698_row0_col7\" class=\"data row0 col7\" >12.693.245,000</td>\n",
       "      <td id=\"T_c4698_row0_col8\" class=\"data row0 col8\" >-0,090</td>\n",
       "      <td id=\"T_c4698_row0_col9\" class=\"data row0 col9\" >-0,756</td>\n",
       "    </tr>\n",
       "    <tr>\n",
       "      <th id=\"T_c4698_level0_row1\" class=\"row_heading level0 row1\" >1</th>\n",
       "      <td id=\"T_c4698_row1_col0\" class=\"data row1 col0\" >product_id</td>\n",
       "      <td id=\"T_c4698_row1_col1\" class=\"data row1 col1\" >148.595,814</td>\n",
       "      <td id=\"T_c4698_row1_col2\" class=\"data row1 col2\" >154.310,000</td>\n",
       "      <td id=\"T_c4698_row1_col3\" class=\"data row1 col3\" >55.543,152</td>\n",
       "      <td id=\"T_c4698_row1_col4\" class=\"data row1 col4\" >81.796,000</td>\n",
       "      <td id=\"T_c4698_row1_col5\" class=\"data row1 col5\" >4,000</td>\n",
       "      <td id=\"T_c4698_row1_col6\" class=\"data row1 col6\" >319.129,000</td>\n",
       "      <td id=\"T_c4698_row1_col7\" class=\"data row1 col7\" >319.125,000</td>\n",
       "      <td id=\"T_c4698_row1_col8\" class=\"data row1 col8\" >-0,482</td>\n",
       "      <td id=\"T_c4698_row1_col9\" class=\"data row1 col9\" >-0,702</td>\n",
       "    </tr>\n",
       "    <tr>\n",
       "      <th id=\"T_c4698_level0_row2\" class=\"row_heading level0 row2\" >2</th>\n",
       "      <td id=\"T_c4698_row2_col0\" class=\"data row2 col0\" >affiliate_id</td>\n",
       "      <td id=\"T_c4698_row2_col1\" class=\"data row2 col1\" >2.297.500,688</td>\n",
       "      <td id=\"T_c4698_row2_col2\" class=\"data row2 col2\" >1.690.428,000</td>\n",
       "      <td id=\"T_c4698_row2_col3\" class=\"data row2 col3\" >2.092.655,502</td>\n",
       "      <td id=\"T_c4698_row2_col4\" class=\"data row2 col4\" >3.549.994,000</td>\n",
       "      <td id=\"T_c4698_row2_col5\" class=\"data row2 col5\" >3,000</td>\n",
       "      <td id=\"T_c4698_row2_col6\" class=\"data row2 col6\" >7.700.836,000</td>\n",
       "      <td id=\"T_c4698_row2_col7\" class=\"data row2 col7\" >7.700.833,000</td>\n",
       "      <td id=\"T_c4698_row2_col8\" class=\"data row2 col8\" >0,651</td>\n",
       "      <td id=\"T_c4698_row2_col9\" class=\"data row2 col9\" >-0,823</td>\n",
       "    </tr>\n",
       "    <tr>\n",
       "      <th id=\"T_c4698_level0_row3\" class=\"row_heading level0 row3\" >3</th>\n",
       "      <td id=\"T_c4698_row3_col0\" class=\"data row3 col0\" >producer_id</td>\n",
       "      <td id=\"T_c4698_row3_col1\" class=\"data row3 col1\" >2.164.479,522</td>\n",
       "      <td id=\"T_c4698_row3_col2\" class=\"data row3 col2\" >1.377.289,000</td>\n",
       "      <td id=\"T_c4698_row3_col3\" class=\"data row3 col3\" >2.038.959,782</td>\n",
       "      <td id=\"T_c4698_row3_col4\" class=\"data row3 col4\" >3.366.648,000</td>\n",
       "      <td id=\"T_c4698_row3_col5\" class=\"data row3 col5\" >3,000</td>\n",
       "      <td id=\"T_c4698_row3_col6\" class=\"data row3 col6\" >9.868.481,000</td>\n",
       "      <td id=\"T_c4698_row3_col7\" class=\"data row3 col7\" >9.868.478,000</td>\n",
       "      <td id=\"T_c4698_row3_col8\" class=\"data row3 col8\" >0,724</td>\n",
       "      <td id=\"T_c4698_row3_col9\" class=\"data row3 col9\" >-0,699</td>\n",
       "    </tr>\n",
       "    <tr>\n",
       "      <th id=\"T_c4698_level0_row4\" class=\"row_heading level0 row4\" >4</th>\n",
       "      <td id=\"T_c4698_row4_col0\" class=\"data row4 col0\" >buyer_id</td>\n",
       "      <td id=\"T_c4698_row4_col1\" class=\"data row4 col1\" >5.187.551,341</td>\n",
       "      <td id=\"T_c4698_row4_col2\" class=\"data row4 col2\" >5.999.153,500</td>\n",
       "      <td id=\"T_c4698_row4_col3\" class=\"data row4 col3\" >2.199.255,869</td>\n",
       "      <td id=\"T_c4698_row4_col4\" class=\"data row4 col4\" >3.216.124,250</td>\n",
       "      <td id=\"T_c4698_row4_col5\" class=\"data row4 col5\" >60,000</td>\n",
       "      <td id=\"T_c4698_row4_col6\" class=\"data row4 col6\" >12.014.792,000</td>\n",
       "      <td id=\"T_c4698_row4_col7\" class=\"data row4 col7\" >12.014.732,000</td>\n",
       "      <td id=\"T_c4698_row4_col8\" class=\"data row4 col8\" >-0,878</td>\n",
       "      <td id=\"T_c4698_row4_col9\" class=\"data row4 col9\" >-0,492</td>\n",
       "    </tr>\n",
       "    <tr>\n",
       "      <th id=\"T_c4698_level0_row5\" class=\"row_heading level0 row5\" >5</th>\n",
       "      <td id=\"T_c4698_row5_col0\" class=\"data row5 col0\" >purchase_value</td>\n",
       "      <td id=\"T_c4698_row5_col1\" class=\"data row5 col1\" >0,000</td>\n",
       "      <td id=\"T_c4698_row5_col2\" class=\"data row5 col2\" >-0,350</td>\n",
       "      <td id=\"T_c4698_row5_col3\" class=\"data row5 col3\" >1,000</td>\n",
       "      <td id=\"T_c4698_row5_col4\" class=\"data row5 col4\" >0,518</td>\n",
       "      <td id=\"T_c4698_row5_col5\" class=\"data row5 col5\" >-0,541</td>\n",
       "      <td id=\"T_c4698_row5_col6\" class=\"data row5 col6\" >124,561</td>\n",
       "      <td id=\"T_c4698_row5_col7\" class=\"data row5 col7\" >125,102</td>\n",
       "      <td id=\"T_c4698_row5_col8\" class=\"data row5 col8\" >10,817</td>\n",
       "      <td id=\"T_c4698_row5_col9\" class=\"data row5 col9\" >629,206</td>\n",
       "    </tr>\n",
       "    <tr>\n",
       "      <th id=\"T_c4698_level0_row6\" class=\"row_heading level0 row6\" >6</th>\n",
       "      <td id=\"T_c4698_row6_col0\" class=\"data row6 col0\" >affiliate_commission_percentual</td>\n",
       "      <td id=\"T_c4698_row6_col1\" class=\"data row6 col1\" >7,596</td>\n",
       "      <td id=\"T_c4698_row6_col2\" class=\"data row6 col2\" >0,000</td>\n",
       "      <td id=\"T_c4698_row6_col3\" class=\"data row6 col3\" >18,477</td>\n",
       "      <td id=\"T_c4698_row6_col4\" class=\"data row6 col4\" >0,000</td>\n",
       "      <td id=\"T_c4698_row6_col5\" class=\"data row6 col5\" >0,000</td>\n",
       "      <td id=\"T_c4698_row6_col6\" class=\"data row6 col6\" >100,000</td>\n",
       "      <td id=\"T_c4698_row6_col7\" class=\"data row6 col7\" >100,000</td>\n",
       "      <td id=\"T_c4698_row6_col8\" class=\"data row6 col8\" >2,259</td>\n",
       "      <td id=\"T_c4698_row6_col9\" class=\"data row6 col9\" >3,753</td>\n",
       "    </tr>\n",
       "    <tr>\n",
       "      <th id=\"T_c4698_level0_row7\" class=\"row_heading level0 row7\" >7</th>\n",
       "      <td id=\"T_c4698_row7_col0\" class=\"data row7 col0\" >Venda</td>\n",
       "      <td id=\"T_c4698_row7_col1\" class=\"data row7 col1\" >1,000</td>\n",
       "      <td id=\"T_c4698_row7_col2\" class=\"data row7 col2\" >1,000</td>\n",
       "      <td id=\"T_c4698_row7_col3\" class=\"data row7 col3\" >0,000</td>\n",
       "      <td id=\"T_c4698_row7_col4\" class=\"data row7 col4\" >0,000</td>\n",
       "      <td id=\"T_c4698_row7_col5\" class=\"data row7 col5\" >1,000</td>\n",
       "      <td id=\"T_c4698_row7_col6\" class=\"data row7 col6\" >1,000</td>\n",
       "      <td id=\"T_c4698_row7_col7\" class=\"data row7 col7\" >0,000</td>\n",
       "      <td id=\"T_c4698_row7_col8\" class=\"data row7 col8\" >0,000</td>\n",
       "      <td id=\"T_c4698_row7_col9\" class=\"data row7 col9\" >0,000</td>\n",
       "    </tr>\n",
       "  </tbody>\n",
       "</table>\n"
      ],
      "text/plain": [
       "<pandas.io.formats.style.Styler at 0x7f6ca0ef65c0>"
      ]
     },
     "metadata": {},
     "output_type": "display_data"
    },
    {
     "name": "stdout",
     "output_type": "stream",
     "text": [
      "-----------------------------\n",
      "\n",
      "\n",
      "dataframe.head(5)\n"
     ]
    },
    {
     "data": {
      "text/html": [
       "<div>\n",
       "<style scoped>\n",
       "    .dataframe tbody tr th:only-of-type {\n",
       "        vertical-align: middle;\n",
       "    }\n",
       "\n",
       "    .dataframe tbody tr th {\n",
       "        vertical-align: top;\n",
       "    }\n",
       "\n",
       "    .dataframe thead th {\n",
       "        text-align: right;\n",
       "    }\n",
       "</style>\n",
       "<table border=\"1\" class=\"dataframe\">\n",
       "  <thead>\n",
       "    <tr style=\"text-align: right;\">\n",
       "      <th></th>\n",
       "      <th>purchase_id</th>\n",
       "      <th>product_id</th>\n",
       "      <th>affiliate_id</th>\n",
       "      <th>producer_id</th>\n",
       "      <th>buyer_id</th>\n",
       "      <th>purchase_date</th>\n",
       "      <th>product_creation_date</th>\n",
       "      <th>product_category</th>\n",
       "      <th>product_niche</th>\n",
       "      <th>purchase_value</th>\n",
       "      <th>affiliate_commission_percentual</th>\n",
       "      <th>purchase_device</th>\n",
       "      <th>purchase_origin</th>\n",
       "      <th>is_origin_page_social_network</th>\n",
       "      <th>Venda</th>\n",
       "    </tr>\n",
       "  </thead>\n",
       "  <tbody>\n",
       "    <tr>\n",
       "      <th>0</th>\n",
       "      <td>1663958</td>\n",
       "      <td>6640</td>\n",
       "      <td>209372</td>\n",
       "      <td>116238</td>\n",
       "      <td>1200397</td>\n",
       "      <td>2016-06-26 12:00:00</td>\n",
       "      <td>2011-03-19 15:47:36</td>\n",
       "      <td>Video</td>\n",
       "      <td>Presentation skills</td>\n",
       "      <td>-0.3</td>\n",
       "      <td>NaN</td>\n",
       "      <td>Smart TV</td>\n",
       "      <td>Origin ef2b</td>\n",
       "      <td>0,0</td>\n",
       "      <td>1</td>\n",
       "    </tr>\n",
       "    <tr>\n",
       "      <th>1</th>\n",
       "      <td>1677087</td>\n",
       "      <td>2350</td>\n",
       "      <td>141418</td>\n",
       "      <td>2821</td>\n",
       "      <td>1083764</td>\n",
       "      <td>2016-06-26 12:00:00</td>\n",
       "      <td>2010-07-05 01:50:15</td>\n",
       "      <td>Podcast</td>\n",
       "      <td>Child psychology</td>\n",
       "      <td>-0.2</td>\n",
       "      <td>NaN</td>\n",
       "      <td>Smart TV</td>\n",
       "      <td>Origin ef2b</td>\n",
       "      <td>0,0</td>\n",
       "      <td>1</td>\n",
       "    </tr>\n",
       "    <tr>\n",
       "      <th>2</th>\n",
       "      <td>2017360</td>\n",
       "      <td>35669</td>\n",
       "      <td>618642</td>\n",
       "      <td>618642</td>\n",
       "      <td>1436106</td>\n",
       "      <td>2016-06-26 12:00:00</td>\n",
       "      <td>2012-06-13 02:59:37</td>\n",
       "      <td>Podcast</td>\n",
       "      <td>Presentation skills</td>\n",
       "      <td>-0.5</td>\n",
       "      <td>NaN</td>\n",
       "      <td>Smart TV</td>\n",
       "      <td>Origin ef2b</td>\n",
       "      <td>0,0</td>\n",
       "      <td>1</td>\n",
       "    </tr>\n",
       "    <tr>\n",
       "      <th>3</th>\n",
       "      <td>2017379</td>\n",
       "      <td>57998</td>\n",
       "      <td>1164511</td>\n",
       "      <td>70388</td>\n",
       "      <td>1436118</td>\n",
       "      <td>2016-06-26 12:00:00</td>\n",
       "      <td>2013-05-07 08:51:31</td>\n",
       "      <td>Podcast</td>\n",
       "      <td>Anxiety management</td>\n",
       "      <td>-0.4</td>\n",
       "      <td>NaN</td>\n",
       "      <td>Smart TV</td>\n",
       "      <td>Origin ef2b</td>\n",
       "      <td>0,0</td>\n",
       "      <td>1</td>\n",
       "    </tr>\n",
       "    <tr>\n",
       "      <th>4</th>\n",
       "      <td>2017382</td>\n",
       "      <td>58329</td>\n",
       "      <td>1261488</td>\n",
       "      <td>221253</td>\n",
       "      <td>1386357</td>\n",
       "      <td>2016-06-26 12:00:00</td>\n",
       "      <td>2013-05-12 08:12:06</td>\n",
       "      <td>Podcast</td>\n",
       "      <td>Teaching English</td>\n",
       "      <td>-0.5</td>\n",
       "      <td>NaN</td>\n",
       "      <td>Smart TV</td>\n",
       "      <td>Origin ef2b</td>\n",
       "      <td>0,0</td>\n",
       "      <td>1</td>\n",
       "    </tr>\n",
       "  </tbody>\n",
       "</table>\n",
       "<p>5 rows × 15 columns</p>\n",
       "</div>"
      ],
      "text/plain": [
       "   purchase_id  product_id  affiliate_id  producer_id  buyer_id   \n",
       "0      1663958        6640        209372       116238   1200397  \\\n",
       "1      1677087        2350        141418         2821   1083764   \n",
       "2      2017360       35669        618642       618642   1436106   \n",
       "3      2017379       57998       1164511        70388   1436118   \n",
       "4      2017382       58329       1261488       221253   1386357   \n",
       "\n",
       "        purchase_date product_creation_date product_category   \n",
       "0 2016-06-26 12:00:00   2011-03-19 15:47:36            Video  \\\n",
       "1 2016-06-26 12:00:00   2010-07-05 01:50:15          Podcast   \n",
       "2 2016-06-26 12:00:00   2012-06-13 02:59:37          Podcast   \n",
       "3 2016-06-26 12:00:00   2013-05-07 08:51:31          Podcast   \n",
       "4 2016-06-26 12:00:00   2013-05-12 08:12:06          Podcast   \n",
       "\n",
       "         product_niche  purchase_value  affiliate_commission_percentual   \n",
       "0  Presentation skills            -0.3                              NaN  \\\n",
       "1     Child psychology            -0.2                              NaN   \n",
       "2  Presentation skills            -0.5                              NaN   \n",
       "3   Anxiety management            -0.4                              NaN   \n",
       "4     Teaching English            -0.5                              NaN   \n",
       "\n",
       "  purchase_device purchase_origin is_origin_page_social_network  Venda  \n",
       "0        Smart TV     Origin ef2b                           0,0      1  \n",
       "1        Smart TV     Origin ef2b                           0,0      1  \n",
       "2        Smart TV     Origin ef2b                           0,0      1  \n",
       "3        Smart TV     Origin ef2b                           0,0      1  \n",
       "4        Smart TV     Origin ef2b                           0,0      1  \n",
       "\n",
       "[5 rows x 15 columns]"
      ]
     },
     "metadata": {},
     "output_type": "display_data"
    },
    {
     "name": "stdout",
     "output_type": "stream",
     "text": [
      "*************************************************\n"
     ]
    }
   ],
   "source": [
    "# create a restore point of the previous section\n",
    "df_description = df_extraction.copy()\n",
    "\n",
    "# check dataframe for this new section\n",
    "check_dataframe( dataframe=df_description, summary_stats=True, head=True )"
   ]
  },
  {
   "attachments": {},
   "cell_type": "markdown",
   "id": "3f1557c5",
   "metadata": {
    "ExecuteTime": {
     "end_time": "2021-11-08T11:35:57.560444Z",
     "start_time": "2021-11-08T11:35:57.552443Z"
    },
    "heading_collapsed": true,
    "hidden": true
   },
   "source": [
    "## 2.2 - Rename Columns"
   ]
  },
  {
   "attachments": {},
   "cell_type": "markdown",
   "id": "300574e9",
   "metadata": {},
   "source": [
    "*Search for misleading or error-prone column names*"
   ]
  },
  {
   "cell_type": "code",
   "execution_count": 12,
   "id": "84b35f8a",
   "metadata": {
    "ExecuteTime": {
     "end_time": "2021-11-22T11:35:10.018834Z",
     "start_time": "2021-11-22T11:35:10.014437Z"
    },
    "hidden": true,
    "scrolled": true
   },
   "outputs": [
    {
     "data": {
      "text/plain": [
       "Index(['purchase_id', 'product_id', 'affiliate_id', 'producer_id', 'buyer_id',\n",
       "       'purchase_date', 'product_creation_date', 'product_category',\n",
       "       'product_niche', 'purchase_value', 'affiliate_commission_percentual',\n",
       "       'purchase_device', 'purchase_origin', 'is_origin_page_social_network',\n",
       "       'Venda'],\n",
       "      dtype='object')"
      ]
     },
     "execution_count": 12,
     "metadata": {},
     "output_type": "execute_result"
    }
   ],
   "source": [
    "# inspect column names\n",
    "df_description.columns"
   ]
  },
  {
   "cell_type": "code",
   "execution_count": 13,
   "id": "79529779",
   "metadata": {},
   "outputs": [
    {
     "data": {
      "text/plain": [
       "Index(['purchase_id', 'product_id', 'affiliate_id', 'producer_id', 'buyer_id',\n",
       "       'purchase_date', 'product_creation_date', 'product_category',\n",
       "       'product_niche', 'purchase_value', 'affiliate_commission_percentual',\n",
       "       'purchase_device', 'purchase_origin', 'is_origin_page_social_network',\n",
       "       'sell'],\n",
       "      dtype='object')"
      ]
     },
     "execution_count": 13,
     "metadata": {},
     "output_type": "execute_result"
    }
   ],
   "source": [
    "# lower the case of venda column\n",
    "df_description = df_description.rename(columns={\"Venda\": \"sell\"})\n",
    "\n",
    "# inspect results\n",
    "df_description.columns"
   ]
  },
  {
   "attachments": {},
   "cell_type": "markdown",
   "id": "2cbdc1b6",
   "metadata": {
    "heading_collapsed": true,
    "hidden": true
   },
   "source": [
    "## 2.3 - Check Data Dimensions"
   ]
  },
  {
   "attachments": {},
   "cell_type": "markdown",
   "id": "ee1a1d9f",
   "metadata": {},
   "source": [
    "*Check dataframe dimensions to know if pandas will be enough to handle such data size or we will need Big Data tools like Spark*"
   ]
  },
  {
   "cell_type": "code",
   "execution_count": 14,
   "id": "f88b4e12",
   "metadata": {
    "ExecuteTime": {
     "end_time": "2021-11-22T11:35:10.025219Z",
     "start_time": "2021-11-22T11:35:10.020770Z"
    },
    "hidden": true
   },
   "outputs": [
    {
     "name": "stdout",
     "output_type": "stream",
     "text": [
      "Dataframe has 1,599,828 rows and 15 columns\n"
     ]
    }
   ],
   "source": [
    "# check number of rows and columns\n",
    "print( f'\\\n",
    "Dataframe has {df_description.shape[0]:,} \\\n",
    "rows and {df_description.shape[1]} columns' )"
   ]
  },
  {
   "attachments": {},
   "cell_type": "markdown",
   "id": "5a2f8863",
   "metadata": {},
   "source": [
    "## 2.4 - Data Types"
   ]
  },
  {
   "attachments": {},
   "cell_type": "markdown",
   "id": "2018dc53",
   "metadata": {},
   "source": [
    "*Check if data types on dataframe makes sense according to database information*"
   ]
  },
  {
   "cell_type": "code",
   "execution_count": 15,
   "id": "bf87e28c",
   "metadata": {},
   "outputs": [
    {
     "data": {
      "text/html": [
       "<style type=\"text/css\">\n",
       "#T_9bffa_row0_col0, #T_9bffa_row1_col0, #T_9bffa_row2_col0, #T_9bffa_row3_col0, #T_9bffa_row4_col0, #T_9bffa_row5_col0, #T_9bffa_row6_col0, #T_9bffa_row7_col0, #T_9bffa_row8_col0, #T_9bffa_row9_col0, #T_9bffa_row10_col0, #T_9bffa_row11_col0, #T_9bffa_row12_col0, #T_9bffa_row13_col0, #T_9bffa_row14_col0 {\n",
       "  background-color: Navy;\n",
       "  color: White;\n",
       "}\n",
       "</style>\n",
       "<table id=\"T_9bffa\">\n",
       "  <thead>\n",
       "    <tr>\n",
       "      <th class=\"blank level0\" >&nbsp;</th>\n",
       "      <th id=\"T_9bffa_level0_col0\" class=\"col_heading level0 col0\" >types</th>\n",
       "      <th id=\"T_9bffa_level0_col1\" class=\"col_heading level0 col1\" >random row: 1</th>\n",
       "      <th id=\"T_9bffa_level0_col2\" class=\"col_heading level0 col2\" >random row: 2</th>\n",
       "      <th id=\"T_9bffa_level0_col3\" class=\"col_heading level0 col3\" >random row: 3</th>\n",
       "      <th id=\"T_9bffa_level0_col4\" class=\"col_heading level0 col4\" >random row: 4</th>\n",
       "      <th id=\"T_9bffa_level0_col5\" class=\"col_heading level0 col5\" >random row: 5</th>\n",
       "      <th id=\"T_9bffa_level0_col6\" class=\"col_heading level0 col6\" >random row: 6</th>\n",
       "      <th id=\"T_9bffa_level0_col7\" class=\"col_heading level0 col7\" >random row: 7</th>\n",
       "      <th id=\"T_9bffa_level0_col8\" class=\"col_heading level0 col8\" >random row: 8</th>\n",
       "      <th id=\"T_9bffa_level0_col9\" class=\"col_heading level0 col9\" >random row: 9</th>\n",
       "      <th id=\"T_9bffa_level0_col10\" class=\"col_heading level0 col10\" >random row: 10</th>\n",
       "      <th id=\"T_9bffa_level0_col11\" class=\"col_heading level0 col11\" >random row: 11</th>\n",
       "      <th id=\"T_9bffa_level0_col12\" class=\"col_heading level0 col12\" >random row: 12</th>\n",
       "      <th id=\"T_9bffa_level0_col13\" class=\"col_heading level0 col13\" >random row: 13</th>\n",
       "      <th id=\"T_9bffa_level0_col14\" class=\"col_heading level0 col14\" >random row: 14</th>\n",
       "      <th id=\"T_9bffa_level0_col15\" class=\"col_heading level0 col15\" >random row: 15</th>\n",
       "    </tr>\n",
       "  </thead>\n",
       "  <tbody>\n",
       "    <tr>\n",
       "      <th id=\"T_9bffa_level0_row0\" class=\"row_heading level0 row0\" >purchase_id</th>\n",
       "      <td id=\"T_9bffa_row0_col0\" class=\"data row0 col0\" >int64</td>\n",
       "      <td id=\"T_9bffa_row0_col1\" class=\"data row0 col1\" >12.881.529</td>\n",
       "      <td id=\"T_9bffa_row0_col2\" class=\"data row0 col2\" >11.071.570</td>\n",
       "      <td id=\"T_9bffa_row0_col3\" class=\"data row0 col3\" >11.425.639</td>\n",
       "      <td id=\"T_9bffa_row0_col4\" class=\"data row0 col4\" >11.334.987</td>\n",
       "      <td id=\"T_9bffa_row0_col5\" class=\"data row0 col5\" >13.592.282</td>\n",
       "      <td id=\"T_9bffa_row0_col6\" class=\"data row0 col6\" >13.174.496</td>\n",
       "      <td id=\"T_9bffa_row0_col7\" class=\"data row0 col7\" >11.018.329</td>\n",
       "      <td id=\"T_9bffa_row0_col8\" class=\"data row0 col8\" >11.507.711</td>\n",
       "      <td id=\"T_9bffa_row0_col9\" class=\"data row0 col9\" >11.589.450</td>\n",
       "      <td id=\"T_9bffa_row0_col10\" class=\"data row0 col10\" >12.483.355</td>\n",
       "      <td id=\"T_9bffa_row0_col11\" class=\"data row0 col11\" >13.490.713</td>\n",
       "      <td id=\"T_9bffa_row0_col12\" class=\"data row0 col12\" >12.976.705</td>\n",
       "      <td id=\"T_9bffa_row0_col13\" class=\"data row0 col13\" >11.138.081</td>\n",
       "      <td id=\"T_9bffa_row0_col14\" class=\"data row0 col14\" >12.023.194</td>\n",
       "      <td id=\"T_9bffa_row0_col15\" class=\"data row0 col15\" >13.171.337</td>\n",
       "    </tr>\n",
       "    <tr>\n",
       "      <th id=\"T_9bffa_level0_row1\" class=\"row_heading level0 row1\" >product_id</th>\n",
       "      <td id=\"T_9bffa_row1_col0\" class=\"data row1 col0\" >int64</td>\n",
       "      <td id=\"T_9bffa_row1_col1\" class=\"data row1 col1\" >206.014</td>\n",
       "      <td id=\"T_9bffa_row1_col2\" class=\"data row1 col2\" >193.975</td>\n",
       "      <td id=\"T_9bffa_row1_col3\" class=\"data row1 col3\" >195.416</td>\n",
       "      <td id=\"T_9bffa_row1_col4\" class=\"data row1 col4\" >188.379</td>\n",
       "      <td id=\"T_9bffa_row1_col5\" class=\"data row1 col5\" >104.766</td>\n",
       "      <td id=\"T_9bffa_row1_col6\" class=\"data row1 col6\" >149.048</td>\n",
       "      <td id=\"T_9bffa_row1_col7\" class=\"data row1 col7\" >111.160</td>\n",
       "      <td id=\"T_9bffa_row1_col8\" class=\"data row1 col8\" >189.433</td>\n",
       "      <td id=\"T_9bffa_row1_col9\" class=\"data row1 col9\" >162.173</td>\n",
       "      <td id=\"T_9bffa_row1_col10\" class=\"data row1 col10\" >173.510</td>\n",
       "      <td id=\"T_9bffa_row1_col11\" class=\"data row1 col11\" >217.255</td>\n",
       "      <td id=\"T_9bffa_row1_col12\" class=\"data row1 col12\" >181.119</td>\n",
       "      <td id=\"T_9bffa_row1_col13\" class=\"data row1 col13\" >56.996</td>\n",
       "      <td id=\"T_9bffa_row1_col14\" class=\"data row1 col14\" >111.830</td>\n",
       "      <td id=\"T_9bffa_row1_col15\" class=\"data row1 col15\" >41.338</td>\n",
       "    </tr>\n",
       "    <tr>\n",
       "      <th id=\"T_9bffa_level0_row2\" class=\"row_heading level0 row2\" >affiliate_id</th>\n",
       "      <td id=\"T_9bffa_row2_col0\" class=\"data row2 col0\" >int64</td>\n",
       "      <td id=\"T_9bffa_row2_col1\" class=\"data row2 col1\" >1.091.997</td>\n",
       "      <td id=\"T_9bffa_row2_col2\" class=\"data row2 col2\" >349.701</td>\n",
       "      <td id=\"T_9bffa_row2_col3\" class=\"data row2 col3\" >292.117</td>\n",
       "      <td id=\"T_9bffa_row2_col4\" class=\"data row2 col4\" >4.924.248</td>\n",
       "      <td id=\"T_9bffa_row2_col5\" class=\"data row2 col5\" >2.962.838</td>\n",
       "      <td id=\"T_9bffa_row2_col6\" class=\"data row2 col6\" >4.580.574</td>\n",
       "      <td id=\"T_9bffa_row2_col7\" class=\"data row2 col7\" >1.516.709</td>\n",
       "      <td id=\"T_9bffa_row2_col8\" class=\"data row2 col8\" >3.218.226</td>\n",
       "      <td id=\"T_9bffa_row2_col9\" class=\"data row2 col9\" >349.701</td>\n",
       "      <td id=\"T_9bffa_row2_col10\" class=\"data row2 col10\" >6.244.450</td>\n",
       "      <td id=\"T_9bffa_row2_col11\" class=\"data row2 col11\" >1.250.472</td>\n",
       "      <td id=\"T_9bffa_row2_col12\" class=\"data row2 col12\" >213.339</td>\n",
       "      <td id=\"T_9bffa_row2_col13\" class=\"data row2 col13\" >369.756</td>\n",
       "      <td id=\"T_9bffa_row2_col14\" class=\"data row2 col14\" >3.258.278</td>\n",
       "      <td id=\"T_9bffa_row2_col15\" class=\"data row2 col15\" >546.051</td>\n",
       "    </tr>\n",
       "    <tr>\n",
       "      <th id=\"T_9bffa_level0_row3\" class=\"row_heading level0 row3\" >producer_id</th>\n",
       "      <td id=\"T_9bffa_row3_col0\" class=\"data row3 col0\" >int64</td>\n",
       "      <td id=\"T_9bffa_row3_col1\" class=\"data row3 col1\" >503.778</td>\n",
       "      <td id=\"T_9bffa_row3_col2\" class=\"data row3 col2\" >349.701</td>\n",
       "      <td id=\"T_9bffa_row3_col3\" class=\"data row3 col3\" >292.117</td>\n",
       "      <td id=\"T_9bffa_row3_col4\" class=\"data row3 col4\" >4.924.248</td>\n",
       "      <td id=\"T_9bffa_row3_col5\" class=\"data row3 col5\" >2.962.838</td>\n",
       "      <td id=\"T_9bffa_row3_col6\" class=\"data row3 col6\" >4.580.574</td>\n",
       "      <td id=\"T_9bffa_row3_col7\" class=\"data row3 col7\" >1.516.709</td>\n",
       "      <td id=\"T_9bffa_row3_col8\" class=\"data row3 col8\" >3.218.226</td>\n",
       "      <td id=\"T_9bffa_row3_col9\" class=\"data row3 col9\" >349.701</td>\n",
       "      <td id=\"T_9bffa_row3_col10\" class=\"data row3 col10\" >4.733.599</td>\n",
       "      <td id=\"T_9bffa_row3_col11\" class=\"data row3 col11\" >1.250.472</td>\n",
       "      <td id=\"T_9bffa_row3_col12\" class=\"data row3 col12\" >213.339</td>\n",
       "      <td id=\"T_9bffa_row3_col13\" class=\"data row3 col13\" >369.756</td>\n",
       "      <td id=\"T_9bffa_row3_col14\" class=\"data row3 col14\" >3.258.278</td>\n",
       "      <td id=\"T_9bffa_row3_col15\" class=\"data row3 col15\" >546.051</td>\n",
       "    </tr>\n",
       "    <tr>\n",
       "      <th id=\"T_9bffa_level0_row4\" class=\"row_heading level0 row4\" >buyer_id</th>\n",
       "      <td id=\"T_9bffa_row4_col0\" class=\"data row4 col0\" >int64</td>\n",
       "      <td id=\"T_9bffa_row4_col1\" class=\"data row4 col1\" >7.170.556</td>\n",
       "      <td id=\"T_9bffa_row4_col2\" class=\"data row4 col2\" >1.119.888</td>\n",
       "      <td id=\"T_9bffa_row4_col3\" class=\"data row4 col3\" >6.479.823</td>\n",
       "      <td id=\"T_9bffa_row4_col4\" class=\"data row4 col4\" >6.216.851</td>\n",
       "      <td id=\"T_9bffa_row4_col5\" class=\"data row4 col5\" >7.507.673</td>\n",
       "      <td id=\"T_9bffa_row4_col6\" class=\"data row4 col6\" >5.665.907</td>\n",
       "      <td id=\"T_9bffa_row4_col7\" class=\"data row4 col7\" >5.996.958</td>\n",
       "      <td id=\"T_9bffa_row4_col8\" class=\"data row4 col8\" >210.210</td>\n",
       "      <td id=\"T_9bffa_row4_col9\" class=\"data row4 col9\" >5.661.047</td>\n",
       "      <td id=\"T_9bffa_row4_col10\" class=\"data row4 col10\" >6.983.958</td>\n",
       "      <td id=\"T_9bffa_row4_col11\" class=\"data row4 col11\" >7.460.850</td>\n",
       "      <td id=\"T_9bffa_row4_col12\" class=\"data row4 col12\" >7.221.625</td>\n",
       "      <td id=\"T_9bffa_row4_col13\" class=\"data row4 col13\" >1.113.320</td>\n",
       "      <td id=\"T_9bffa_row4_col14\" class=\"data row4 col14\" >2.509.549</td>\n",
       "      <td id=\"T_9bffa_row4_col15\" class=\"data row4 col15\" >6.645.492</td>\n",
       "    </tr>\n",
       "    <tr>\n",
       "      <th id=\"T_9bffa_level0_row5\" class=\"row_heading level0 row5\" >purchase_date</th>\n",
       "      <td id=\"T_9bffa_row5_col0\" class=\"data row5 col0\" >datetime64[ns]</td>\n",
       "      <td id=\"T_9bffa_row5_col1\" class=\"data row5 col1\" >2016-04-30 22:22:53</td>\n",
       "      <td id=\"T_9bffa_row5_col2\" class=\"data row5 col2\" >2016-01-15 23:43:54</td>\n",
       "      <td id=\"T_9bffa_row5_col3\" class=\"data row5 col3\" >2016-02-06 09:15:42</td>\n",
       "      <td id=\"T_9bffa_row5_col4\" class=\"data row5 col4\" >2016-01-31 11:28:08</td>\n",
       "      <td id=\"T_9bffa_row5_col5\" class=\"data row5 col5\" >2016-06-08 00:22:59</td>\n",
       "      <td id=\"T_9bffa_row5_col6\" class=\"data row5 col6\" >2016-05-15 19:15:35</td>\n",
       "      <td id=\"T_9bffa_row5_col7\" class=\"data row5 col7\" >2016-01-12 15:46:40</td>\n",
       "      <td id=\"T_9bffa_row5_col8\" class=\"data row5 col8\" >2016-02-11 03:49:55</td>\n",
       "      <td id=\"T_9bffa_row5_col9\" class=\"data row5 col9\" >2016-02-16 17:50:15</td>\n",
       "      <td id=\"T_9bffa_row5_col10\" class=\"data row5 col10\" >2016-04-08 19:48:33</td>\n",
       "      <td id=\"T_9bffa_row5_col11\" class=\"data row5 col11\" >2016-06-03 13:04:00</td>\n",
       "      <td id=\"T_9bffa_row5_col12\" class=\"data row5 col12\" >2016-05-04 23:29:15</td>\n",
       "      <td id=\"T_9bffa_row5_col13\" class=\"data row5 col13\" >2016-01-19 13:55:17</td>\n",
       "      <td id=\"T_9bffa_row5_col14\" class=\"data row5 col14\" >2016-03-12 23:14:48</td>\n",
       "      <td id=\"T_9bffa_row5_col15\" class=\"data row5 col15\" >2016-05-15 17:15:32</td>\n",
       "    </tr>\n",
       "    <tr>\n",
       "      <th id=\"T_9bffa_level0_row6\" class=\"row_heading level0 row6\" >product_creation_date</th>\n",
       "      <td id=\"T_9bffa_row6_col0\" class=\"data row6 col0\" >datetime64[ns]</td>\n",
       "      <td id=\"T_9bffa_row6_col1\" class=\"data row6 col1\" >2016-02-19 22:23:06</td>\n",
       "      <td id=\"T_9bffa_row6_col2\" class=\"data row6 col2\" >2015-12-27 13:17:06</td>\n",
       "      <td id=\"T_9bffa_row6_col3\" class=\"data row6 col3\" >2016-01-04 19:23:24</td>\n",
       "      <td id=\"T_9bffa_row6_col4\" class=\"data row6 col4\" >2015-11-28 12:12:28</td>\n",
       "      <td id=\"T_9bffa_row6_col5\" class=\"data row6 col5\" >2014-06-14 19:45:24</td>\n",
       "      <td id=\"T_9bffa_row6_col6\" class=\"data row6 col6\" >2015-04-29 22:18:41</td>\n",
       "      <td id=\"T_9bffa_row6_col7\" class=\"data row6 col7\" >2014-08-01 16:07:45</td>\n",
       "      <td id=\"T_9bffa_row6_col8\" class=\"data row6 col8\" >2015-12-02 19:39:38</td>\n",
       "      <td id=\"T_9bffa_row6_col9\" class=\"data row6 col9\" >2015-07-13 20:47:06</td>\n",
       "      <td id=\"T_9bffa_row6_col10\" class=\"data row6 col10\" >2015-09-12 16:39:29</td>\n",
       "      <td id=\"T_9bffa_row6_col11\" class=\"data row6 col11\" >2016-04-03 00:37:29</td>\n",
       "      <td id=\"T_9bffa_row6_col12\" class=\"data row6 col12\" >2015-10-22 11:05:58</td>\n",
       "      <td id=\"T_9bffa_row6_col13\" class=\"data row6 col13\" >2013-04-23 11:04:45</td>\n",
       "      <td id=\"T_9bffa_row6_col14\" class=\"data row6 col14\" >2014-08-06 17:59:26</td>\n",
       "      <td id=\"T_9bffa_row6_col15\" class=\"data row6 col15\" >2012-09-03 17:02:53</td>\n",
       "    </tr>\n",
       "    <tr>\n",
       "      <th id=\"T_9bffa_level0_row7\" class=\"row_heading level0 row7\" >product_category</th>\n",
       "      <td id=\"T_9bffa_row7_col0\" class=\"data row7 col0\" >object</td>\n",
       "      <td id=\"T_9bffa_row7_col1\" class=\"data row7 col1\" >Phisical book</td>\n",
       "      <td id=\"T_9bffa_row7_col2\" class=\"data row7 col2\" >Phisical book</td>\n",
       "      <td id=\"T_9bffa_row7_col3\" class=\"data row7 col3\" >Phisical book</td>\n",
       "      <td id=\"T_9bffa_row7_col4\" class=\"data row7 col4\" >Podcast</td>\n",
       "      <td id=\"T_9bffa_row7_col5\" class=\"data row7 col5\" >Phisical book</td>\n",
       "      <td id=\"T_9bffa_row7_col6\" class=\"data row7 col6\" >Phisical book</td>\n",
       "      <td id=\"T_9bffa_row7_col7\" class=\"data row7 col7\" >Phisical book</td>\n",
       "      <td id=\"T_9bffa_row7_col8\" class=\"data row7 col8\" >Podcast</td>\n",
       "      <td id=\"T_9bffa_row7_col9\" class=\"data row7 col9\" >Phisical book</td>\n",
       "      <td id=\"T_9bffa_row7_col10\" class=\"data row7 col10\" >Phisical book</td>\n",
       "      <td id=\"T_9bffa_row7_col11\" class=\"data row7 col11\" >Podcast</td>\n",
       "      <td id=\"T_9bffa_row7_col12\" class=\"data row7 col12\" >Phisical book</td>\n",
       "      <td id=\"T_9bffa_row7_col13\" class=\"data row7 col13\" >Phisical book</td>\n",
       "      <td id=\"T_9bffa_row7_col14\" class=\"data row7 col14\" >Podcast</td>\n",
       "      <td id=\"T_9bffa_row7_col15\" class=\"data row7 col15\" >Phisical book</td>\n",
       "    </tr>\n",
       "    <tr>\n",
       "      <th id=\"T_9bffa_level0_row8\" class=\"row_heading level0 row8\" >product_niche</th>\n",
       "      <td id=\"T_9bffa_row8_col0\" class=\"data row8 col0\" >object</td>\n",
       "      <td id=\"T_9bffa_row8_col1\" class=\"data row8 col1\" >Biology</td>\n",
       "      <td id=\"T_9bffa_row8_col2\" class=\"data row8 col2\" >Anxiety management</td>\n",
       "      <td id=\"T_9bffa_row8_col3\" class=\"data row8 col3\" >Negotiation</td>\n",
       "      <td id=\"T_9bffa_row8_col4\" class=\"data row8 col4\" >Physics</td>\n",
       "      <td id=\"T_9bffa_row8_col5\" class=\"data row8 col5\" >Economics</td>\n",
       "      <td id=\"T_9bffa_row8_col6\" class=\"data row8 col6\" >Negotiation</td>\n",
       "      <td id=\"T_9bffa_row8_col7\" class=\"data row8 col7\" >Economics</td>\n",
       "      <td id=\"T_9bffa_row8_col8\" class=\"data row8 col8\" >Personal finance</td>\n",
       "      <td id=\"T_9bffa_row8_col9\" class=\"data row8 col9\" >Anxiety management</td>\n",
       "      <td id=\"T_9bffa_row8_col10\" class=\"data row8 col10\" >Organization</td>\n",
       "      <td id=\"T_9bffa_row8_col11\" class=\"data row8 col11\" >Online course creation</td>\n",
       "      <td id=\"T_9bffa_row8_col12\" class=\"data row8 col12\" >Organization</td>\n",
       "      <td id=\"T_9bffa_row8_col13\" class=\"data row8 col13\" >Online course creation</td>\n",
       "      <td id=\"T_9bffa_row8_col14\" class=\"data row8 col14\" >Careers</td>\n",
       "      <td id=\"T_9bffa_row8_col15\" class=\"data row8 col15\" >Government</td>\n",
       "    </tr>\n",
       "    <tr>\n",
       "      <th id=\"T_9bffa_level0_row9\" class=\"row_heading level0 row9\" >purchase_value</th>\n",
       "      <td id=\"T_9bffa_row9_col0\" class=\"data row9 col0\" >float64</td>\n",
       "      <td id=\"T_9bffa_row9_col1\" class=\"data row9 col1\" >-0,378</td>\n",
       "      <td id=\"T_9bffa_row9_col2\" class=\"data row9 col2\" >-0,093</td>\n",
       "      <td id=\"T_9bffa_row9_col3\" class=\"data row9 col3\" >2,031</td>\n",
       "      <td id=\"T_9bffa_row9_col4\" class=\"data row9 col4\" >-0,522</td>\n",
       "      <td id=\"T_9bffa_row9_col5\" class=\"data row9 col5\" >1,064</td>\n",
       "      <td id=\"T_9bffa_row9_col6\" class=\"data row9 col6\" >-0,523</td>\n",
       "      <td id=\"T_9bffa_row9_col7\" class=\"data row9 col7\" >-0,185</td>\n",
       "      <td id=\"T_9bffa_row9_col8\" class=\"data row9 col8\" >-0,453</td>\n",
       "      <td id=\"T_9bffa_row9_col9\" class=\"data row9 col9\" >-0,506</td>\n",
       "      <td id=\"T_9bffa_row9_col10\" class=\"data row9 col10\" >-0,541</td>\n",
       "      <td id=\"T_9bffa_row9_col11\" class=\"data row9 col11\" >-0,522</td>\n",
       "      <td id=\"T_9bffa_row9_col12\" class=\"data row9 col12\" >0,204</td>\n",
       "      <td id=\"T_9bffa_row9_col13\" class=\"data row9 col13\" >-0,391</td>\n",
       "      <td id=\"T_9bffa_row9_col14\" class=\"data row9 col14\" >-0,532</td>\n",
       "      <td id=\"T_9bffa_row9_col15\" class=\"data row9 col15\" >-0,415</td>\n",
       "    </tr>\n",
       "    <tr>\n",
       "      <th id=\"T_9bffa_level0_row10\" class=\"row_heading level0 row10\" >affiliate_commission_percentual</th>\n",
       "      <td id=\"T_9bffa_row10_col0\" class=\"data row10 col0\" >float64</td>\n",
       "      <td id=\"T_9bffa_row10_col1\" class=\"data row10 col1\" >50,000</td>\n",
       "      <td id=\"T_9bffa_row10_col2\" class=\"data row10 col2\" >0,000</td>\n",
       "      <td id=\"T_9bffa_row10_col3\" class=\"data row10 col3\" >0,000</td>\n",
       "      <td id=\"T_9bffa_row10_col4\" class=\"data row10 col4\" >0,000</td>\n",
       "      <td id=\"T_9bffa_row10_col5\" class=\"data row10 col5\" >0,000</td>\n",
       "      <td id=\"T_9bffa_row10_col6\" class=\"data row10 col6\" >0,000</td>\n",
       "      <td id=\"T_9bffa_row10_col7\" class=\"data row10 col7\" >0,000</td>\n",
       "      <td id=\"T_9bffa_row10_col8\" class=\"data row10 col8\" >0,000</td>\n",
       "      <td id=\"T_9bffa_row10_col9\" class=\"data row10 col9\" >0,000</td>\n",
       "      <td id=\"T_9bffa_row10_col10\" class=\"data row10 col10\" >0,000</td>\n",
       "      <td id=\"T_9bffa_row10_col11\" class=\"data row10 col11\" >0,000</td>\n",
       "      <td id=\"T_9bffa_row10_col12\" class=\"data row10 col12\" >0,000</td>\n",
       "      <td id=\"T_9bffa_row10_col13\" class=\"data row10 col13\" >0,000</td>\n",
       "      <td id=\"T_9bffa_row10_col14\" class=\"data row10 col14\" >0,000</td>\n",
       "      <td id=\"T_9bffa_row10_col15\" class=\"data row10 col15\" >0,000</td>\n",
       "    </tr>\n",
       "    <tr>\n",
       "      <th id=\"T_9bffa_level0_row11\" class=\"row_heading level0 row11\" >purchase_device</th>\n",
       "      <td id=\"T_9bffa_row11_col0\" class=\"data row11 col0\" >object</td>\n",
       "      <td id=\"T_9bffa_row11_col1\" class=\"data row11 col1\" >eReaders</td>\n",
       "      <td id=\"T_9bffa_row11_col2\" class=\"data row11 col2\" >eReaders</td>\n",
       "      <td id=\"T_9bffa_row11_col3\" class=\"data row11 col3\" >Cellphone</td>\n",
       "      <td id=\"T_9bffa_row11_col4\" class=\"data row11 col4\" >eReaders</td>\n",
       "      <td id=\"T_9bffa_row11_col5\" class=\"data row11 col5\" >eReaders</td>\n",
       "      <td id=\"T_9bffa_row11_col6\" class=\"data row11 col6\" >Smart TV</td>\n",
       "      <td id=\"T_9bffa_row11_col7\" class=\"data row11 col7\" >eReaders</td>\n",
       "      <td id=\"T_9bffa_row11_col8\" class=\"data row11 col8\" >eReaders</td>\n",
       "      <td id=\"T_9bffa_row11_col9\" class=\"data row11 col9\" >Smart TV</td>\n",
       "      <td id=\"T_9bffa_row11_col10\" class=\"data row11 col10\" >eReaders</td>\n",
       "      <td id=\"T_9bffa_row11_col11\" class=\"data row11 col11\" >eReaders</td>\n",
       "      <td id=\"T_9bffa_row11_col12\" class=\"data row11 col12\" >Desktop</td>\n",
       "      <td id=\"T_9bffa_row11_col13\" class=\"data row11 col13\" >Smart TV</td>\n",
       "      <td id=\"T_9bffa_row11_col14\" class=\"data row11 col14\" >Cellphone</td>\n",
       "      <td id=\"T_9bffa_row11_col15\" class=\"data row11 col15\" >eReaders</td>\n",
       "    </tr>\n",
       "    <tr>\n",
       "      <th id=\"T_9bffa_level0_row12\" class=\"row_heading level0 row12\" >purchase_origin</th>\n",
       "      <td id=\"T_9bffa_row12_col0\" class=\"data row12 col0\" >object</td>\n",
       "      <td id=\"T_9bffa_row12_col1\" class=\"data row12 col1\" >Origin a061</td>\n",
       "      <td id=\"T_9bffa_row12_col2\" class=\"data row12 col2\" >Origin 12f4</td>\n",
       "      <td id=\"T_9bffa_row12_col3\" class=\"data row12 col3\" >Origin f4a6</td>\n",
       "      <td id=\"T_9bffa_row12_col4\" class=\"data row12 col4\" >Origin 4517</td>\n",
       "      <td id=\"T_9bffa_row12_col5\" class=\"data row12 col5\" >Origin d834</td>\n",
       "      <td id=\"T_9bffa_row12_col6\" class=\"data row12 col6\" >Origin ef2b</td>\n",
       "      <td id=\"T_9bffa_row12_col7\" class=\"data row12 col7\" >Origin ceaa</td>\n",
       "      <td id=\"T_9bffa_row12_col8\" class=\"data row12 col8\" >Origin 6249</td>\n",
       "      <td id=\"T_9bffa_row12_col9\" class=\"data row12 col9\" >Origin ef2b</td>\n",
       "      <td id=\"T_9bffa_row12_col10\" class=\"data row12 col10\" >Origin 2643</td>\n",
       "      <td id=\"T_9bffa_row12_col11\" class=\"data row12 col11\" >Origin 3c59</td>\n",
       "      <td id=\"T_9bffa_row12_col12\" class=\"data row12 col12\" >Origin 3c5a</td>\n",
       "      <td id=\"T_9bffa_row12_col13\" class=\"data row12 col13\" >Origin ef2b</td>\n",
       "      <td id=\"T_9bffa_row12_col14\" class=\"data row12 col14\" >Origin 90f2</td>\n",
       "      <td id=\"T_9bffa_row12_col15\" class=\"data row12 col15\" >Origin c7a4</td>\n",
       "    </tr>\n",
       "    <tr>\n",
       "      <th id=\"T_9bffa_level0_row13\" class=\"row_heading level0 row13\" >is_origin_page_social_network</th>\n",
       "      <td id=\"T_9bffa_row13_col0\" class=\"data row13 col0\" >object</td>\n",
       "      <td id=\"T_9bffa_row13_col1\" class=\"data row13 col1\" >0,0</td>\n",
       "      <td id=\"T_9bffa_row13_col2\" class=\"data row13 col2\" >0,0</td>\n",
       "      <td id=\"T_9bffa_row13_col3\" class=\"data row13 col3\" >0,0</td>\n",
       "      <td id=\"T_9bffa_row13_col4\" class=\"data row13 col4\" >0,0</td>\n",
       "      <td id=\"T_9bffa_row13_col5\" class=\"data row13 col5\" >1,0</td>\n",
       "      <td id=\"T_9bffa_row13_col6\" class=\"data row13 col6\" >0,0</td>\n",
       "      <td id=\"T_9bffa_row13_col7\" class=\"data row13 col7\" >0,0</td>\n",
       "      <td id=\"T_9bffa_row13_col8\" class=\"data row13 col8\" >0,0</td>\n",
       "      <td id=\"T_9bffa_row13_col9\" class=\"data row13 col9\" >0,0</td>\n",
       "      <td id=\"T_9bffa_row13_col10\" class=\"data row13 col10\" >0,0</td>\n",
       "      <td id=\"T_9bffa_row13_col11\" class=\"data row13 col11\" >0,0</td>\n",
       "      <td id=\"T_9bffa_row13_col12\" class=\"data row13 col12\" >0,0</td>\n",
       "      <td id=\"T_9bffa_row13_col13\" class=\"data row13 col13\" >0,0</td>\n",
       "      <td id=\"T_9bffa_row13_col14\" class=\"data row13 col14\" >0,0</td>\n",
       "      <td id=\"T_9bffa_row13_col15\" class=\"data row13 col15\" >0,0</td>\n",
       "    </tr>\n",
       "    <tr>\n",
       "      <th id=\"T_9bffa_level0_row14\" class=\"row_heading level0 row14\" >sell</th>\n",
       "      <td id=\"T_9bffa_row14_col0\" class=\"data row14 col0\" >int64</td>\n",
       "      <td id=\"T_9bffa_row14_col1\" class=\"data row14 col1\" >1</td>\n",
       "      <td id=\"T_9bffa_row14_col2\" class=\"data row14 col2\" >1</td>\n",
       "      <td id=\"T_9bffa_row14_col3\" class=\"data row14 col3\" >1</td>\n",
       "      <td id=\"T_9bffa_row14_col4\" class=\"data row14 col4\" >1</td>\n",
       "      <td id=\"T_9bffa_row14_col5\" class=\"data row14 col5\" >1</td>\n",
       "      <td id=\"T_9bffa_row14_col6\" class=\"data row14 col6\" >1</td>\n",
       "      <td id=\"T_9bffa_row14_col7\" class=\"data row14 col7\" >1</td>\n",
       "      <td id=\"T_9bffa_row14_col8\" class=\"data row14 col8\" >1</td>\n",
       "      <td id=\"T_9bffa_row14_col9\" class=\"data row14 col9\" >1</td>\n",
       "      <td id=\"T_9bffa_row14_col10\" class=\"data row14 col10\" >1</td>\n",
       "      <td id=\"T_9bffa_row14_col11\" class=\"data row14 col11\" >1</td>\n",
       "      <td id=\"T_9bffa_row14_col12\" class=\"data row14 col12\" >1</td>\n",
       "      <td id=\"T_9bffa_row14_col13\" class=\"data row14 col13\" >1</td>\n",
       "      <td id=\"T_9bffa_row14_col14\" class=\"data row14 col14\" >1</td>\n",
       "      <td id=\"T_9bffa_row14_col15\" class=\"data row14 col15\" >1</td>\n",
       "    </tr>\n",
       "  </tbody>\n",
       "</table>\n"
      ],
      "text/plain": [
       "<pandas.io.formats.style.Styler at 0x7f6ceab0d5d0>"
      ]
     },
     "metadata": {},
     "output_type": "display_data"
    }
   ],
   "source": [
    "# define shape before dtype convertion\n",
    "shape_before = df_description.shape\n",
    "\n",
    "# inspect dataframe types\n",
    "inspect_dtypes(df_description, 15)"
   ]
  },
  {
   "cell_type": "code",
   "execution_count": 16,
   "id": "f3285be0",
   "metadata": {},
   "outputs": [
    {
     "name": "stdout",
     "output_type": "stream",
     "text": [
      "*************************************************\n",
      "Dataframe size in memory: 660.704 MB \n",
      "\n",
      "-----------------------------\n",
      "Dataframe overview:\n"
     ]
    },
    {
     "data": {
      "text/html": [
       "<style type=\"text/css\">\n",
       "#T_273a7_row0_col1, #T_273a7_row0_col3, #T_273a7_row1_col1, #T_273a7_row1_col3, #T_273a7_row2_col1, #T_273a7_row2_col3, #T_273a7_row3_col1, #T_273a7_row3_col3, #T_273a7_row4_col1, #T_273a7_row4_col3, #T_273a7_row5_col1, #T_273a7_row5_col3, #T_273a7_row6_col1, #T_273a7_row6_col3, #T_273a7_row7_col1, #T_273a7_row7_col3, #T_273a7_row8_col1, #T_273a7_row8_col3, #T_273a7_row9_col1, #T_273a7_row9_col3, #T_273a7_row10_col1, #T_273a7_row10_col3, #T_273a7_row11_col1, #T_273a7_row11_col3, #T_273a7_row12_col1, #T_273a7_row12_col3, #T_273a7_row13_col1, #T_273a7_row13_col3, #T_273a7_row14_col1, #T_273a7_row14_col3 {\n",
       "  background-color: Navy;\n",
       "  color: White;\n",
       "}\n",
       "</style>\n",
       "<table id=\"T_273a7\">\n",
       "  <thead>\n",
       "    <tr>\n",
       "      <th class=\"blank level0\" >&nbsp;</th>\n",
       "      <th id=\"T_273a7_level0_col0\" class=\"col_heading level0 col0\" >Num NAs</th>\n",
       "      <th id=\"T_273a7_level0_col1\" class=\"col_heading level0 col1\" >Percent NAs</th>\n",
       "      <th id=\"T_273a7_level0_col2\" class=\"col_heading level0 col2\" >Num unique [include NAs]</th>\n",
       "      <th id=\"T_273a7_level0_col3\" class=\"col_heading level0 col3\" >Data Type</th>\n",
       "    </tr>\n",
       "  </thead>\n",
       "  <tbody>\n",
       "    <tr>\n",
       "      <th id=\"T_273a7_level0_row0\" class=\"row_heading level0 row0\" >purchase_id</th>\n",
       "      <td id=\"T_273a7_row0_col0\" class=\"data row0 col0\" >0</td>\n",
       "      <td id=\"T_273a7_row0_col1\" class=\"data row0 col1\" >0</td>\n",
       "      <td id=\"T_273a7_row0_col2\" class=\"data row0 col2\" >1.599.828</td>\n",
       "      <td id=\"T_273a7_row0_col3\" class=\"data row0 col3\" >int64</td>\n",
       "    </tr>\n",
       "    <tr>\n",
       "      <th id=\"T_273a7_level0_row1\" class=\"row_heading level0 row1\" >product_id</th>\n",
       "      <td id=\"T_273a7_row1_col0\" class=\"data row1 col0\" >0</td>\n",
       "      <td id=\"T_273a7_row1_col1\" class=\"data row1 col1\" >0</td>\n",
       "      <td id=\"T_273a7_row1_col2\" class=\"data row1 col2\" >17.883</td>\n",
       "      <td id=\"T_273a7_row1_col3\" class=\"data row1 col3\" >int64</td>\n",
       "    </tr>\n",
       "    <tr>\n",
       "      <th id=\"T_273a7_level0_row2\" class=\"row_heading level0 row2\" >affiliate_id</th>\n",
       "      <td id=\"T_273a7_row2_col0\" class=\"data row2 col0\" >0</td>\n",
       "      <td id=\"T_273a7_row2_col1\" class=\"data row2 col1\" >0</td>\n",
       "      <td id=\"T_273a7_row2_col2\" class=\"data row2 col2\" >22.947</td>\n",
       "      <td id=\"T_273a7_row2_col3\" class=\"data row2 col3\" >int64</td>\n",
       "    </tr>\n",
       "    <tr>\n",
       "      <th id=\"T_273a7_level0_row3\" class=\"row_heading level0 row3\" >producer_id</th>\n",
       "      <td id=\"T_273a7_row3_col0\" class=\"data row3 col0\" >0</td>\n",
       "      <td id=\"T_273a7_row3_col1\" class=\"data row3 col1\" >0</td>\n",
       "      <td id=\"T_273a7_row3_col2\" class=\"data row3 col2\" >8.020</td>\n",
       "      <td id=\"T_273a7_row3_col3\" class=\"data row3 col3\" >int64</td>\n",
       "    </tr>\n",
       "    <tr>\n",
       "      <th id=\"T_273a7_level0_row4\" class=\"row_heading level0 row4\" >buyer_id</th>\n",
       "      <td id=\"T_273a7_row4_col0\" class=\"data row4 col0\" >0</td>\n",
       "      <td id=\"T_273a7_row4_col1\" class=\"data row4 col1\" >0</td>\n",
       "      <td id=\"T_273a7_row4_col2\" class=\"data row4 col2\" >1.100.649</td>\n",
       "      <td id=\"T_273a7_row4_col3\" class=\"data row4 col3\" >int64</td>\n",
       "    </tr>\n",
       "    <tr>\n",
       "      <th id=\"T_273a7_level0_row5\" class=\"row_heading level0 row5\" >purchase_date</th>\n",
       "      <td id=\"T_273a7_row5_col0\" class=\"data row5 col0\" >0</td>\n",
       "      <td id=\"T_273a7_row5_col1\" class=\"data row5 col1\" >0</td>\n",
       "      <td id=\"T_273a7_row5_col2\" class=\"data row5 col2\" >1.488.964</td>\n",
       "      <td id=\"T_273a7_row5_col3\" class=\"data row5 col3\" >datetime64[ns]</td>\n",
       "    </tr>\n",
       "    <tr>\n",
       "      <th id=\"T_273a7_level0_row6\" class=\"row_heading level0 row6\" >product_creation_date</th>\n",
       "      <td id=\"T_273a7_row6_col0\" class=\"data row6 col0\" >0</td>\n",
       "      <td id=\"T_273a7_row6_col1\" class=\"data row6 col1\" >0</td>\n",
       "      <td id=\"T_273a7_row6_col2\" class=\"data row6 col2\" >17.879</td>\n",
       "      <td id=\"T_273a7_row6_col3\" class=\"data row6 col3\" >datetime64[ns]</td>\n",
       "    </tr>\n",
       "    <tr>\n",
       "      <th id=\"T_273a7_level0_row7\" class=\"row_heading level0 row7\" >product_category</th>\n",
       "      <td id=\"T_273a7_row7_col0\" class=\"data row7 col0\" >0</td>\n",
       "      <td id=\"T_273a7_row7_col1\" class=\"data row7 col1\" >0</td>\n",
       "      <td id=\"T_273a7_row7_col2\" class=\"data row7 col2\" >10</td>\n",
       "      <td id=\"T_273a7_row7_col3\" class=\"data row7 col3\" >object</td>\n",
       "    </tr>\n",
       "    <tr>\n",
       "      <th id=\"T_273a7_level0_row8\" class=\"row_heading level0 row8\" >product_niche</th>\n",
       "      <td id=\"T_273a7_row8_col0\" class=\"data row8 col0\" >0</td>\n",
       "      <td id=\"T_273a7_row8_col1\" class=\"data row8 col1\" >0</td>\n",
       "      <td id=\"T_273a7_row8_col2\" class=\"data row8 col2\" >25</td>\n",
       "      <td id=\"T_273a7_row8_col3\" class=\"data row8 col3\" >object</td>\n",
       "    </tr>\n",
       "    <tr>\n",
       "      <th id=\"T_273a7_level0_row9\" class=\"row_heading level0 row9\" >purchase_value</th>\n",
       "      <td id=\"T_273a7_row9_col0\" class=\"data row9 col0\" >0</td>\n",
       "      <td id=\"T_273a7_row9_col1\" class=\"data row9 col1\" >0</td>\n",
       "      <td id=\"T_273a7_row9_col2\" class=\"data row9 col2\" >32.617</td>\n",
       "      <td id=\"T_273a7_row9_col3\" class=\"data row9 col3\" >float64</td>\n",
       "    </tr>\n",
       "    <tr>\n",
       "      <th id=\"T_273a7_level0_row10\" class=\"row_heading level0 row10\" >affiliate_commission_percentual</th>\n",
       "      <td id=\"T_273a7_row10_col0\" class=\"data row10 col0\" >199</td>\n",
       "      <td id=\"T_273a7_row10_col1\" class=\"data row10 col1\" >1</td>\n",
       "      <td id=\"T_273a7_row10_col2\" class=\"data row10 col2\" >280</td>\n",
       "      <td id=\"T_273a7_row10_col3\" class=\"data row10 col3\" >float64</td>\n",
       "    </tr>\n",
       "    <tr>\n",
       "      <th id=\"T_273a7_level0_row11\" class=\"row_heading level0 row11\" >purchase_device</th>\n",
       "      <td id=\"T_273a7_row11_col0\" class=\"data row11 col0\" >0</td>\n",
       "      <td id=\"T_273a7_row11_col1\" class=\"data row11 col1\" >0</td>\n",
       "      <td id=\"T_273a7_row11_col2\" class=\"data row11 col2\" >5</td>\n",
       "      <td id=\"T_273a7_row11_col3\" class=\"data row11 col3\" >object</td>\n",
       "    </tr>\n",
       "    <tr>\n",
       "      <th id=\"T_273a7_level0_row12\" class=\"row_heading level0 row12\" >purchase_origin</th>\n",
       "      <td id=\"T_273a7_row12_col0\" class=\"data row12 col0\" >0</td>\n",
       "      <td id=\"T_273a7_row12_col1\" class=\"data row12 col1\" >0</td>\n",
       "      <td id=\"T_273a7_row12_col2\" class=\"data row12 col2\" >9.603</td>\n",
       "      <td id=\"T_273a7_row12_col3\" class=\"data row12 col3\" >object</td>\n",
       "    </tr>\n",
       "    <tr>\n",
       "      <th id=\"T_273a7_level0_row13\" class=\"row_heading level0 row13\" >is_origin_page_social_network</th>\n",
       "      <td id=\"T_273a7_row13_col0\" class=\"data row13 col0\" >0</td>\n",
       "      <td id=\"T_273a7_row13_col1\" class=\"data row13 col1\" >0</td>\n",
       "      <td id=\"T_273a7_row13_col2\" class=\"data row13 col2\" >2</td>\n",
       "      <td id=\"T_273a7_row13_col3\" class=\"data row13 col3\" >object</td>\n",
       "    </tr>\n",
       "    <tr>\n",
       "      <th id=\"T_273a7_level0_row14\" class=\"row_heading level0 row14\" >sell</th>\n",
       "      <td id=\"T_273a7_row14_col0\" class=\"data row14 col0\" >0</td>\n",
       "      <td id=\"T_273a7_row14_col1\" class=\"data row14 col1\" >0</td>\n",
       "      <td id=\"T_273a7_row14_col2\" class=\"data row14 col2\" >1</td>\n",
       "      <td id=\"T_273a7_row14_col3\" class=\"data row14 col3\" >int64</td>\n",
       "    </tr>\n",
       "  </tbody>\n",
       "</table>\n"
      ],
      "text/plain": [
       "<pandas.io.formats.style.Styler at 0x7f6ca0ef4ca0>"
      ]
     },
     "metadata": {},
     "output_type": "display_data"
    },
    {
     "name": "stdout",
     "output_type": "stream",
     "text": [
      "-----------------------------\n",
      "\n",
      " Dataframe shape is (1599828, 15) \n",
      "\n"
     ]
    }
   ],
   "source": [
    "# inspect basic column descriptions\n",
    "check_na_unique_dtypes(df_description);"
   ]
  },
  {
   "cell_type": "code",
   "execution_count": 17,
   "id": "deab866e",
   "metadata": {},
   "outputs": [
    {
     "name": "stdout",
     "output_type": "stream",
     "text": [
      "Unique values in colum 'sell': {1}\n"
     ]
    }
   ],
   "source": [
    "# print report\n",
    "print(\n",
    "    f\"Unique values in colum 'sell': {set(df_description['sell'].tolist())}\"\n",
    ")"
   ]
  },
  {
   "cell_type": "code",
   "execution_count": 18,
   "id": "2146bdb5",
   "metadata": {},
   "outputs": [
    {
     "name": "stdout",
     "output_type": "stream",
     "text": [
      "Unique values in colum 'sell': {'0,0', '1,0'}\n",
      "Unique values in colum 'sell' after transformation: {False, True}\n"
     ]
    }
   ],
   "source": [
    "# print report\n",
    "print(\n",
    "    f\"Unique values in colum 'sell': {set(df_description['is_origin_page_social_network'].tolist())}\"\n",
    ")\n",
    "\n",
    "# convert column is_origin_page_social_network to boolean\n",
    "df_description[\"is_origin_page_social_network\"] = df_description[\"is_origin_page_social_network\"].apply( lambda x: True if x == '0,0' else False if x == '1,0' else \"NaN\")\n",
    "\n",
    "# print report\n",
    "print(\n",
    "    f\"Unique values in colum 'sell' after transformation: {set(df_description['is_origin_page_social_network'].tolist())}\"\n",
    ")"
   ]
  },
  {
   "cell_type": "code",
   "execution_count": 19,
   "id": "deb7f8be",
   "metadata": {},
   "outputs": [],
   "source": [
    "# sanity check\n",
    "assert df_description.shape == shape_before, \"Data was missed during dtype convertion\""
   ]
  },
  {
   "attachments": {},
   "cell_type": "markdown",
   "id": "aaf6f518",
   "metadata": {},
   "source": [
    "## 2.5 - Data Validation"
   ]
  },
  {
   "attachments": {},
   "cell_type": "markdown",
   "id": "e9b811b1",
   "metadata": {},
   "source": [
    "*Check if columns make sense in regard to business understanding*"
   ]
  },
  {
   "cell_type": "code",
   "execution_count": 20,
   "id": "3dd4270a",
   "metadata": {},
   "outputs": [],
   "source": [
    "# as data was already made available to us \n",
    "# and there is no way to validate data source,\n",
    "# no need for data validation right now."
   ]
  },
  {
   "attachments": {},
   "cell_type": "markdown",
   "id": "e0d5576b",
   "metadata": {},
   "source": [
    "## 2.6 - Check Duplicated Rows"
   ]
  },
  {
   "attachments": {},
   "cell_type": "markdown",
   "id": "d9a70dc0",
   "metadata": {},
   "source": [
    "*Inspect duplicated rows and handle them properly*"
   ]
  },
  {
   "cell_type": "code",
   "execution_count": 21,
   "id": "4df49971",
   "metadata": {},
   "outputs": [
    {
     "name": "stdout",
     "output_type": "stream",
     "text": [
      "*************************************************\n",
      "\n",
      "There are 0 duplicated rows [0.00%] based on all columns. Duplicated rows are double counted.\n",
      "\n",
      "*************************************************\n",
      "\n",
      "Dataframe granularity: ['purchase_id']\n",
      "\n",
      "There are 0 duplicated rows [0.00%] based on table granularity. Duplicated rows are double counted.\n",
      "\n",
      "*************************************************\n"
     ]
    }
   ],
   "source": [
    "# define dataframe grain\n",
    "grain = [\"purchase_id\"]\n",
    "\n",
    "# check duplicated rows\n",
    "print(\n",
    "    f'{\"*\"*49}\\n\\n'\n",
    "    f'There are {df_description.duplicated(keep=False).sum():,} '\n",
    "    f'duplicated rows [{df_description.duplicated(keep=False).mean()*100:.2f}%] based on all columns. '\n",
    "    f'Duplicated rows are double counted.'\n",
    "    f'\\n\\n{\"*\"*49}\\n\\n'\n",
    "    f'Dataframe granularity: {grain}\\n\\n'\n",
    "    f'There are {df_description.duplicated(subset=grain, keep=False).sum():,} duplicated rows '\n",
    "    f'[{df_description.duplicated(subset=grain, keep=False).mean()*100:.2f}%] based on table granularity. '\n",
    "    f'Duplicated rows are double counted.'\n",
    "    f'\\n\\n{\"*\"*49}'\n",
    ")"
   ]
  },
  {
   "attachments": {},
   "cell_type": "markdown",
   "id": "4627b5a2",
   "metadata": {
    "ExecuteTime": {
     "end_time": "2021-11-08T11:40:01.154007Z",
     "start_time": "2021-11-08T11:40:01.126048Z"
    },
    "heading_collapsed": true,
    "hidden": true
   },
   "source": [
    "## 2.7 - Check Missing Values"
   ]
  },
  {
   "attachments": {},
   "cell_type": "markdown",
   "id": "9d8c1102",
   "metadata": {},
   "source": [
    "*Inspect number and percentage of missing value per column to decide what to do with them*"
   ]
  },
  {
   "cell_type": "code",
   "execution_count": 22,
   "id": "792f5e02",
   "metadata": {},
   "outputs": [
    {
     "name": "stdout",
     "output_type": "stream",
     "text": [
      "*************************************************\n",
      "Dataframe size in memory: 566.315 MB \n",
      "\n",
      "-----------------------------\n",
      "Dataframe overview:\n"
     ]
    },
    {
     "data": {
      "text/html": [
       "<style type=\"text/css\">\n",
       "#T_d567c_row0_col1, #T_d567c_row0_col3, #T_d567c_row1_col1, #T_d567c_row1_col3, #T_d567c_row2_col1, #T_d567c_row2_col3, #T_d567c_row3_col1, #T_d567c_row3_col3, #T_d567c_row4_col1, #T_d567c_row4_col3, #T_d567c_row5_col1, #T_d567c_row5_col3, #T_d567c_row6_col1, #T_d567c_row6_col3, #T_d567c_row7_col1, #T_d567c_row7_col3, #T_d567c_row8_col1, #T_d567c_row8_col3, #T_d567c_row9_col1, #T_d567c_row9_col3, #T_d567c_row10_col1, #T_d567c_row10_col3, #T_d567c_row11_col1, #T_d567c_row11_col3, #T_d567c_row12_col1, #T_d567c_row12_col3, #T_d567c_row13_col1, #T_d567c_row13_col3, #T_d567c_row14_col1, #T_d567c_row14_col3 {\n",
       "  background-color: Navy;\n",
       "  color: White;\n",
       "}\n",
       "</style>\n",
       "<table id=\"T_d567c\">\n",
       "  <thead>\n",
       "    <tr>\n",
       "      <th class=\"blank level0\" >&nbsp;</th>\n",
       "      <th id=\"T_d567c_level0_col0\" class=\"col_heading level0 col0\" >Num NAs</th>\n",
       "      <th id=\"T_d567c_level0_col1\" class=\"col_heading level0 col1\" >Percent NAs</th>\n",
       "      <th id=\"T_d567c_level0_col2\" class=\"col_heading level0 col2\" >Num unique [include NAs]</th>\n",
       "      <th id=\"T_d567c_level0_col3\" class=\"col_heading level0 col3\" >Data Type</th>\n",
       "    </tr>\n",
       "  </thead>\n",
       "  <tbody>\n",
       "    <tr>\n",
       "      <th id=\"T_d567c_level0_row0\" class=\"row_heading level0 row0\" >purchase_id</th>\n",
       "      <td id=\"T_d567c_row0_col0\" class=\"data row0 col0\" >0</td>\n",
       "      <td id=\"T_d567c_row0_col1\" class=\"data row0 col1\" >0</td>\n",
       "      <td id=\"T_d567c_row0_col2\" class=\"data row0 col2\" >1.599.828</td>\n",
       "      <td id=\"T_d567c_row0_col3\" class=\"data row0 col3\" >int64</td>\n",
       "    </tr>\n",
       "    <tr>\n",
       "      <th id=\"T_d567c_level0_row1\" class=\"row_heading level0 row1\" >product_id</th>\n",
       "      <td id=\"T_d567c_row1_col0\" class=\"data row1 col0\" >0</td>\n",
       "      <td id=\"T_d567c_row1_col1\" class=\"data row1 col1\" >0</td>\n",
       "      <td id=\"T_d567c_row1_col2\" class=\"data row1 col2\" >17.883</td>\n",
       "      <td id=\"T_d567c_row1_col3\" class=\"data row1 col3\" >int64</td>\n",
       "    </tr>\n",
       "    <tr>\n",
       "      <th id=\"T_d567c_level0_row2\" class=\"row_heading level0 row2\" >affiliate_id</th>\n",
       "      <td id=\"T_d567c_row2_col0\" class=\"data row2 col0\" >0</td>\n",
       "      <td id=\"T_d567c_row2_col1\" class=\"data row2 col1\" >0</td>\n",
       "      <td id=\"T_d567c_row2_col2\" class=\"data row2 col2\" >22.947</td>\n",
       "      <td id=\"T_d567c_row2_col3\" class=\"data row2 col3\" >int64</td>\n",
       "    </tr>\n",
       "    <tr>\n",
       "      <th id=\"T_d567c_level0_row3\" class=\"row_heading level0 row3\" >producer_id</th>\n",
       "      <td id=\"T_d567c_row3_col0\" class=\"data row3 col0\" >0</td>\n",
       "      <td id=\"T_d567c_row3_col1\" class=\"data row3 col1\" >0</td>\n",
       "      <td id=\"T_d567c_row3_col2\" class=\"data row3 col2\" >8.020</td>\n",
       "      <td id=\"T_d567c_row3_col3\" class=\"data row3 col3\" >int64</td>\n",
       "    </tr>\n",
       "    <tr>\n",
       "      <th id=\"T_d567c_level0_row4\" class=\"row_heading level0 row4\" >buyer_id</th>\n",
       "      <td id=\"T_d567c_row4_col0\" class=\"data row4 col0\" >0</td>\n",
       "      <td id=\"T_d567c_row4_col1\" class=\"data row4 col1\" >0</td>\n",
       "      <td id=\"T_d567c_row4_col2\" class=\"data row4 col2\" >1.100.649</td>\n",
       "      <td id=\"T_d567c_row4_col3\" class=\"data row4 col3\" >int64</td>\n",
       "    </tr>\n",
       "    <tr>\n",
       "      <th id=\"T_d567c_level0_row5\" class=\"row_heading level0 row5\" >purchase_date</th>\n",
       "      <td id=\"T_d567c_row5_col0\" class=\"data row5 col0\" >0</td>\n",
       "      <td id=\"T_d567c_row5_col1\" class=\"data row5 col1\" >0</td>\n",
       "      <td id=\"T_d567c_row5_col2\" class=\"data row5 col2\" >1.488.964</td>\n",
       "      <td id=\"T_d567c_row5_col3\" class=\"data row5 col3\" >datetime64[ns]</td>\n",
       "    </tr>\n",
       "    <tr>\n",
       "      <th id=\"T_d567c_level0_row6\" class=\"row_heading level0 row6\" >product_creation_date</th>\n",
       "      <td id=\"T_d567c_row6_col0\" class=\"data row6 col0\" >0</td>\n",
       "      <td id=\"T_d567c_row6_col1\" class=\"data row6 col1\" >0</td>\n",
       "      <td id=\"T_d567c_row6_col2\" class=\"data row6 col2\" >17.879</td>\n",
       "      <td id=\"T_d567c_row6_col3\" class=\"data row6 col3\" >datetime64[ns]</td>\n",
       "    </tr>\n",
       "    <tr>\n",
       "      <th id=\"T_d567c_level0_row7\" class=\"row_heading level0 row7\" >product_category</th>\n",
       "      <td id=\"T_d567c_row7_col0\" class=\"data row7 col0\" >0</td>\n",
       "      <td id=\"T_d567c_row7_col1\" class=\"data row7 col1\" >0</td>\n",
       "      <td id=\"T_d567c_row7_col2\" class=\"data row7 col2\" >10</td>\n",
       "      <td id=\"T_d567c_row7_col3\" class=\"data row7 col3\" >object</td>\n",
       "    </tr>\n",
       "    <tr>\n",
       "      <th id=\"T_d567c_level0_row8\" class=\"row_heading level0 row8\" >product_niche</th>\n",
       "      <td id=\"T_d567c_row8_col0\" class=\"data row8 col0\" >0</td>\n",
       "      <td id=\"T_d567c_row8_col1\" class=\"data row8 col1\" >0</td>\n",
       "      <td id=\"T_d567c_row8_col2\" class=\"data row8 col2\" >25</td>\n",
       "      <td id=\"T_d567c_row8_col3\" class=\"data row8 col3\" >object</td>\n",
       "    </tr>\n",
       "    <tr>\n",
       "      <th id=\"T_d567c_level0_row9\" class=\"row_heading level0 row9\" >purchase_value</th>\n",
       "      <td id=\"T_d567c_row9_col0\" class=\"data row9 col0\" >0</td>\n",
       "      <td id=\"T_d567c_row9_col1\" class=\"data row9 col1\" >0</td>\n",
       "      <td id=\"T_d567c_row9_col2\" class=\"data row9 col2\" >32.617</td>\n",
       "      <td id=\"T_d567c_row9_col3\" class=\"data row9 col3\" >float64</td>\n",
       "    </tr>\n",
       "    <tr>\n",
       "      <th id=\"T_d567c_level0_row10\" class=\"row_heading level0 row10\" >affiliate_commission_percentual</th>\n",
       "      <td id=\"T_d567c_row10_col0\" class=\"data row10 col0\" >199</td>\n",
       "      <td id=\"T_d567c_row10_col1\" class=\"data row10 col1\" >1</td>\n",
       "      <td id=\"T_d567c_row10_col2\" class=\"data row10 col2\" >280</td>\n",
       "      <td id=\"T_d567c_row10_col3\" class=\"data row10 col3\" >float64</td>\n",
       "    </tr>\n",
       "    <tr>\n",
       "      <th id=\"T_d567c_level0_row11\" class=\"row_heading level0 row11\" >purchase_device</th>\n",
       "      <td id=\"T_d567c_row11_col0\" class=\"data row11 col0\" >0</td>\n",
       "      <td id=\"T_d567c_row11_col1\" class=\"data row11 col1\" >0</td>\n",
       "      <td id=\"T_d567c_row11_col2\" class=\"data row11 col2\" >5</td>\n",
       "      <td id=\"T_d567c_row11_col3\" class=\"data row11 col3\" >object</td>\n",
       "    </tr>\n",
       "    <tr>\n",
       "      <th id=\"T_d567c_level0_row12\" class=\"row_heading level0 row12\" >purchase_origin</th>\n",
       "      <td id=\"T_d567c_row12_col0\" class=\"data row12 col0\" >0</td>\n",
       "      <td id=\"T_d567c_row12_col1\" class=\"data row12 col1\" >0</td>\n",
       "      <td id=\"T_d567c_row12_col2\" class=\"data row12 col2\" >9.603</td>\n",
       "      <td id=\"T_d567c_row12_col3\" class=\"data row12 col3\" >object</td>\n",
       "    </tr>\n",
       "    <tr>\n",
       "      <th id=\"T_d567c_level0_row13\" class=\"row_heading level0 row13\" >is_origin_page_social_network</th>\n",
       "      <td id=\"T_d567c_row13_col0\" class=\"data row13 col0\" >0</td>\n",
       "      <td id=\"T_d567c_row13_col1\" class=\"data row13 col1\" >0</td>\n",
       "      <td id=\"T_d567c_row13_col2\" class=\"data row13 col2\" >2</td>\n",
       "      <td id=\"T_d567c_row13_col3\" class=\"data row13 col3\" >bool</td>\n",
       "    </tr>\n",
       "    <tr>\n",
       "      <th id=\"T_d567c_level0_row14\" class=\"row_heading level0 row14\" >sell</th>\n",
       "      <td id=\"T_d567c_row14_col0\" class=\"data row14 col0\" >0</td>\n",
       "      <td id=\"T_d567c_row14_col1\" class=\"data row14 col1\" >0</td>\n",
       "      <td id=\"T_d567c_row14_col2\" class=\"data row14 col2\" >1</td>\n",
       "      <td id=\"T_d567c_row14_col3\" class=\"data row14 col3\" >int64</td>\n",
       "    </tr>\n",
       "  </tbody>\n",
       "</table>\n"
      ],
      "text/plain": [
       "<pandas.io.formats.style.Styler at 0x7f6ca0ef4130>"
      ]
     },
     "metadata": {},
     "output_type": "display_data"
    },
    {
     "name": "stdout",
     "output_type": "stream",
     "text": [
      "-----------------------------\n",
      "\n",
      " Dataframe shape is (1599828, 15) \n",
      "\n"
     ]
    }
   ],
   "source": [
    "#  get number of NA, percent of NA, number of unique and column type\n",
    "check_na_unique_dtypes(df_description);"
   ]
  },
  {
   "cell_type": "code",
   "execution_count": 23,
   "id": "f3bd2c5f",
   "metadata": {},
   "outputs": [
    {
     "name": "stdout",
     "output_type": "stream",
     "text": [
      "affiliate_commission_percentual\n",
      "\tmax value 100.0\n",
      "\tmin value 0.0\n"
     ]
    }
   ],
   "source": [
    "# print report\n",
    "print(\n",
    "    f'affiliate_commission_percentual\\n'\n",
    "    f'\\tmax value {df_description[\"affiliate_commission_percentual\"].max(skipna=True)}\\n'\n",
    "    f'\\tmin value {df_description[\"affiliate_commission_percentual\"].min(skipna=True)}'\n",
    ")"
   ]
  },
  {
   "attachments": {},
   "cell_type": "markdown",
   "id": "99df2de1",
   "metadata": {
    "heading_collapsed": true,
    "hidden": true
   },
   "source": [
    "## 2.8 - Handle Missing Values"
   ]
  },
  {
   "attachments": {},
   "cell_type": "markdown",
   "id": "efea71d8",
   "metadata": {},
   "source": [
    "*Handle missing value for columns*"
   ]
  },
  {
   "attachments": {},
   "cell_type": "markdown",
   "id": "14b28ea1",
   "metadata": {},
   "source": [
    "**Business rule**\n",
    "- Quando a compra for feita diretamente pelo produtor, ou seja, quando não houver afiliado intermediando a compra, o campo affiliate_commission_percentual terá valor 0, e o campo affiliate_id será igual ao producer_id;"
   ]
  },
  {
   "cell_type": "code",
   "execution_count": 24,
   "id": "881ff3b9",
   "metadata": {},
   "outputs": [],
   "source": [
    "# get number of NaN in affiliate_commission_percentual\n",
    "num_nas = df_description[\"affiliate_commission_percentual\"].isna().sum()"
   ]
  },
  {
   "cell_type": "code",
   "execution_count": 25,
   "id": "c2ebe4e0",
   "metadata": {},
   "outputs": [
    {
     "data": {
      "text/html": [
       "<div>\n",
       "<style scoped>\n",
       "    .dataframe tbody tr th:only-of-type {\n",
       "        vertical-align: middle;\n",
       "    }\n",
       "\n",
       "    .dataframe tbody tr th {\n",
       "        vertical-align: top;\n",
       "    }\n",
       "\n",
       "    .dataframe thead th {\n",
       "        text-align: right;\n",
       "    }\n",
       "</style>\n",
       "<table border=\"1\" class=\"dataframe\">\n",
       "  <thead>\n",
       "    <tr style=\"text-align: right;\">\n",
       "      <th></th>\n",
       "      <th>affiliate_commission_percentual</th>\n",
       "      <th>affiliate_id</th>\n",
       "      <th>producer_id</th>\n",
       "    </tr>\n",
       "  </thead>\n",
       "  <tbody>\n",
       "    <tr>\n",
       "      <th>85</th>\n",
       "      <td>NaN</td>\n",
       "      <td>213339</td>\n",
       "      <td>213339</td>\n",
       "    </tr>\n",
       "    <tr>\n",
       "      <th>106</th>\n",
       "      <td>NaN</td>\n",
       "      <td>195000</td>\n",
       "      <td>195000</td>\n",
       "    </tr>\n",
       "    <tr>\n",
       "      <th>22</th>\n",
       "      <td>NaN</td>\n",
       "      <td>431496</td>\n",
       "      <td>298517</td>\n",
       "    </tr>\n",
       "    <tr>\n",
       "      <th>11</th>\n",
       "      <td>NaN</td>\n",
       "      <td>618642</td>\n",
       "      <td>618642</td>\n",
       "    </tr>\n",
       "    <tr>\n",
       "      <th>65</th>\n",
       "      <td>NaN</td>\n",
       "      <td>8716</td>\n",
       "      <td>361052</td>\n",
       "    </tr>\n",
       "  </tbody>\n",
       "</table>\n",
       "<p>5 rows × 3 columns</p>\n",
       "</div>"
      ],
      "text/plain": [
       "     affiliate_commission_percentual  affiliate_id  producer_id\n",
       "85                               NaN        213339       213339\n",
       "106                              NaN        195000       195000\n",
       "22                               NaN        431496       298517\n",
       "11                               NaN        618642       618642\n",
       "65                               NaN          8716       361052\n",
       "\n",
       "[5 rows x 3 columns]"
      ]
     },
     "execution_count": 25,
     "metadata": {},
     "output_type": "execute_result"
    }
   ],
   "source": [
    "# inspect rows where affiliate_commission_percentual is NaN to validate business rule\n",
    "df_description.loc[\n",
    "    df_description[\"affiliate_commission_percentual\"].isna(),\n",
    "    [\"affiliate_commission_percentual\", \"affiliate_id\", \"producer_id\"]    \n",
    "].sample(5, random_state=7)"
   ]
  },
  {
   "cell_type": "code",
   "execution_count": 26,
   "id": "d7dc8b83",
   "metadata": {},
   "outputs": [],
   "source": [
    "# as NaNs in affiliate_commission_percentual don't seem to be due to business rule,\n",
    "# let's fill NaN with -1 (number outside of the scope of min-max range)\n",
    "df_description[\"affiliate_commission_percentual\"] = df_description[\"affiliate_commission_percentual\"].fillna(value=-1)\n",
    "\n",
    "# sanity check\n",
    "assert (df_description[\"affiliate_commission_percentual\"] == -1).sum() == num_nas, \"Misleading fillna operation\""
   ]
  },
  {
   "attachments": {},
   "cell_type": "markdown",
   "id": "918bd63b",
   "metadata": {
    "heading_collapsed": true,
    "hidden": true
   },
   "source": [
    "## 2.9 - Descriptive Statistics"
   ]
  },
  {
   "attachments": {},
   "cell_type": "markdown",
   "id": "66576dc1",
   "metadata": {},
   "source": [
    "*Inspect some summary statistics for numerical columns*"
   ]
  },
  {
   "cell_type": "code",
   "execution_count": 27,
   "id": "ea18362e",
   "metadata": {},
   "outputs": [],
   "source": [
    "# split dataset into types of features\n",
    "df_number = df_description.select_dtypes(include=[\"number\", \"bool\"])\n",
    "df_date = df_description.select_dtypes(include=[\"datetime\"])\n",
    "df_string = df_description.select_dtypes(include=[\"object\"])\n",
    "\n",
    "# sanity check\n",
    "assert df_number.shape[1] + df_date.shape[1] + df_string.shape[1] == df_description.shape[1], \"\"\"Revise the previous split, something may be wrong!\"\"\""
   ]
  },
  {
   "attachments": {},
   "cell_type": "markdown",
   "id": "90cd3688",
   "metadata": {},
   "source": [
    "### 2.9.1 - Numerical Variables"
   ]
  },
  {
   "attachments": {},
   "cell_type": "markdown",
   "id": "21704db6",
   "metadata": {},
   "source": [
    "*Inspect numerical variables*"
   ]
  },
  {
   "cell_type": "code",
   "execution_count": 28,
   "id": "50ae4b5d",
   "metadata": {},
   "outputs": [
    {
     "name": "stdout",
     "output_type": "stream",
     "text": [
      "\n",
      "\n",
      "Statistics for Numerical Variables [NaNs are ignored]:\n"
     ]
    },
    {
     "data": {
      "text/html": [
       "<style type=\"text/css\">\n",
       "#T_52f3f_row0_col5, #T_52f3f_row0_col6, #T_52f3f_row1_col5, #T_52f3f_row1_col6, #T_52f3f_row2_col5, #T_52f3f_row2_col6, #T_52f3f_row3_col5, #T_52f3f_row3_col6, #T_52f3f_row4_col5, #T_52f3f_row4_col6, #T_52f3f_row5_col5, #T_52f3f_row5_col6, #T_52f3f_row6_col5, #T_52f3f_row6_col6, #T_52f3f_row7_col5, #T_52f3f_row7_col6 {\n",
       "  background-color: Navy;\n",
       "  color: White;\n",
       "}\n",
       "</style>\n",
       "<table id=\"T_52f3f\">\n",
       "  <thead>\n",
       "    <tr>\n",
       "      <th class=\"blank level0\" >&nbsp;</th>\n",
       "      <th id=\"T_52f3f_level0_col0\" class=\"col_heading level0 col0\" >attribute</th>\n",
       "      <th id=\"T_52f3f_level0_col1\" class=\"col_heading level0 col1\" >mean</th>\n",
       "      <th id=\"T_52f3f_level0_col2\" class=\"col_heading level0 col2\" >median</th>\n",
       "      <th id=\"T_52f3f_level0_col3\" class=\"col_heading level0 col3\" >std</th>\n",
       "      <th id=\"T_52f3f_level0_col4\" class=\"col_heading level0 col4\" >iqr</th>\n",
       "      <th id=\"T_52f3f_level0_col5\" class=\"col_heading level0 col5\" >min</th>\n",
       "      <th id=\"T_52f3f_level0_col6\" class=\"col_heading level0 col6\" >max</th>\n",
       "      <th id=\"T_52f3f_level0_col7\" class=\"col_heading level0 col7\" >range</th>\n",
       "      <th id=\"T_52f3f_level0_col8\" class=\"col_heading level0 col8\" >skew</th>\n",
       "      <th id=\"T_52f3f_level0_col9\" class=\"col_heading level0 col9\" >kurtosis</th>\n",
       "    </tr>\n",
       "  </thead>\n",
       "  <tbody>\n",
       "    <tr>\n",
       "      <th id=\"T_52f3f_level0_row0\" class=\"row_heading level0 row0\" >0</th>\n",
       "      <td id=\"T_52f3f_row0_col0\" class=\"data row0 col0\" >purchase_id</td>\n",
       "      <td id=\"T_52f3f_row0_col1\" class=\"data row0 col1\" >12.445.456,601</td>\n",
       "      <td id=\"T_52f3f_row0_col2\" class=\"data row0 col2\" >12.468.487,500</td>\n",
       "      <td id=\"T_52f3f_row0_col3\" class=\"data row0 col3\" >917.581,737</td>\n",
       "      <td id=\"T_52f3f_row0_col4\" class=\"data row0 col4\" >1.579.356,500</td>\n",
       "      <td id=\"T_52f3f_row0_col5\" class=\"data row0 col5\" >1.663.958,000</td>\n",
       "      <td id=\"T_52f3f_row0_col6\" class=\"data row0 col6\" >14.357.203,000</td>\n",
       "      <td id=\"T_52f3f_row0_col7\" class=\"data row0 col7\" >12.693.245,000</td>\n",
       "      <td id=\"T_52f3f_row0_col8\" class=\"data row0 col8\" >-0,090</td>\n",
       "      <td id=\"T_52f3f_row0_col9\" class=\"data row0 col9\" >-0,756</td>\n",
       "    </tr>\n",
       "    <tr>\n",
       "      <th id=\"T_52f3f_level0_row1\" class=\"row_heading level0 row1\" >1</th>\n",
       "      <td id=\"T_52f3f_row1_col0\" class=\"data row1 col0\" >product_id</td>\n",
       "      <td id=\"T_52f3f_row1_col1\" class=\"data row1 col1\" >148.595,814</td>\n",
       "      <td id=\"T_52f3f_row1_col2\" class=\"data row1 col2\" >154.310,000</td>\n",
       "      <td id=\"T_52f3f_row1_col3\" class=\"data row1 col3\" >55.543,152</td>\n",
       "      <td id=\"T_52f3f_row1_col4\" class=\"data row1 col4\" >81.796,000</td>\n",
       "      <td id=\"T_52f3f_row1_col5\" class=\"data row1 col5\" >4,000</td>\n",
       "      <td id=\"T_52f3f_row1_col6\" class=\"data row1 col6\" >319.129,000</td>\n",
       "      <td id=\"T_52f3f_row1_col7\" class=\"data row1 col7\" >319.125,000</td>\n",
       "      <td id=\"T_52f3f_row1_col8\" class=\"data row1 col8\" >-0,482</td>\n",
       "      <td id=\"T_52f3f_row1_col9\" class=\"data row1 col9\" >-0,702</td>\n",
       "    </tr>\n",
       "    <tr>\n",
       "      <th id=\"T_52f3f_level0_row2\" class=\"row_heading level0 row2\" >2</th>\n",
       "      <td id=\"T_52f3f_row2_col0\" class=\"data row2 col0\" >affiliate_id</td>\n",
       "      <td id=\"T_52f3f_row2_col1\" class=\"data row2 col1\" >2.297.500,688</td>\n",
       "      <td id=\"T_52f3f_row2_col2\" class=\"data row2 col2\" >1.690.428,000</td>\n",
       "      <td id=\"T_52f3f_row2_col3\" class=\"data row2 col3\" >2.092.655,502</td>\n",
       "      <td id=\"T_52f3f_row2_col4\" class=\"data row2 col4\" >3.549.994,000</td>\n",
       "      <td id=\"T_52f3f_row2_col5\" class=\"data row2 col5\" >3,000</td>\n",
       "      <td id=\"T_52f3f_row2_col6\" class=\"data row2 col6\" >7.700.836,000</td>\n",
       "      <td id=\"T_52f3f_row2_col7\" class=\"data row2 col7\" >7.700.833,000</td>\n",
       "      <td id=\"T_52f3f_row2_col8\" class=\"data row2 col8\" >0,651</td>\n",
       "      <td id=\"T_52f3f_row2_col9\" class=\"data row2 col9\" >-0,823</td>\n",
       "    </tr>\n",
       "    <tr>\n",
       "      <th id=\"T_52f3f_level0_row3\" class=\"row_heading level0 row3\" >3</th>\n",
       "      <td id=\"T_52f3f_row3_col0\" class=\"data row3 col0\" >producer_id</td>\n",
       "      <td id=\"T_52f3f_row3_col1\" class=\"data row3 col1\" >2.164.479,522</td>\n",
       "      <td id=\"T_52f3f_row3_col2\" class=\"data row3 col2\" >1.377.289,000</td>\n",
       "      <td id=\"T_52f3f_row3_col3\" class=\"data row3 col3\" >2.038.959,782</td>\n",
       "      <td id=\"T_52f3f_row3_col4\" class=\"data row3 col4\" >3.366.648,000</td>\n",
       "      <td id=\"T_52f3f_row3_col5\" class=\"data row3 col5\" >3,000</td>\n",
       "      <td id=\"T_52f3f_row3_col6\" class=\"data row3 col6\" >9.868.481,000</td>\n",
       "      <td id=\"T_52f3f_row3_col7\" class=\"data row3 col7\" >9.868.478,000</td>\n",
       "      <td id=\"T_52f3f_row3_col8\" class=\"data row3 col8\" >0,724</td>\n",
       "      <td id=\"T_52f3f_row3_col9\" class=\"data row3 col9\" >-0,699</td>\n",
       "    </tr>\n",
       "    <tr>\n",
       "      <th id=\"T_52f3f_level0_row4\" class=\"row_heading level0 row4\" >4</th>\n",
       "      <td id=\"T_52f3f_row4_col0\" class=\"data row4 col0\" >buyer_id</td>\n",
       "      <td id=\"T_52f3f_row4_col1\" class=\"data row4 col1\" >5.187.551,341</td>\n",
       "      <td id=\"T_52f3f_row4_col2\" class=\"data row4 col2\" >5.999.153,500</td>\n",
       "      <td id=\"T_52f3f_row4_col3\" class=\"data row4 col3\" >2.199.255,869</td>\n",
       "      <td id=\"T_52f3f_row4_col4\" class=\"data row4 col4\" >3.216.124,250</td>\n",
       "      <td id=\"T_52f3f_row4_col5\" class=\"data row4 col5\" >60,000</td>\n",
       "      <td id=\"T_52f3f_row4_col6\" class=\"data row4 col6\" >12.014.792,000</td>\n",
       "      <td id=\"T_52f3f_row4_col7\" class=\"data row4 col7\" >12.014.732,000</td>\n",
       "      <td id=\"T_52f3f_row4_col8\" class=\"data row4 col8\" >-0,878</td>\n",
       "      <td id=\"T_52f3f_row4_col9\" class=\"data row4 col9\" >-0,492</td>\n",
       "    </tr>\n",
       "    <tr>\n",
       "      <th id=\"T_52f3f_level0_row5\" class=\"row_heading level0 row5\" >5</th>\n",
       "      <td id=\"T_52f3f_row5_col0\" class=\"data row5 col0\" >purchase_value</td>\n",
       "      <td id=\"T_52f3f_row5_col1\" class=\"data row5 col1\" >0,000</td>\n",
       "      <td id=\"T_52f3f_row5_col2\" class=\"data row5 col2\" >-0,350</td>\n",
       "      <td id=\"T_52f3f_row5_col3\" class=\"data row5 col3\" >1,000</td>\n",
       "      <td id=\"T_52f3f_row5_col4\" class=\"data row5 col4\" >0,518</td>\n",
       "      <td id=\"T_52f3f_row5_col5\" class=\"data row5 col5\" >-0,541</td>\n",
       "      <td id=\"T_52f3f_row5_col6\" class=\"data row5 col6\" >124,561</td>\n",
       "      <td id=\"T_52f3f_row5_col7\" class=\"data row5 col7\" >125,102</td>\n",
       "      <td id=\"T_52f3f_row5_col8\" class=\"data row5 col8\" >10,817</td>\n",
       "      <td id=\"T_52f3f_row5_col9\" class=\"data row5 col9\" >629,206</td>\n",
       "    </tr>\n",
       "    <tr>\n",
       "      <th id=\"T_52f3f_level0_row6\" class=\"row_heading level0 row6\" >6</th>\n",
       "      <td id=\"T_52f3f_row6_col0\" class=\"data row6 col0\" >affiliate_commission_percentual</td>\n",
       "      <td id=\"T_52f3f_row6_col1\" class=\"data row6 col1\" >7,595</td>\n",
       "      <td id=\"T_52f3f_row6_col2\" class=\"data row6 col2\" >0,000</td>\n",
       "      <td id=\"T_52f3f_row6_col3\" class=\"data row6 col3\" >18,476</td>\n",
       "      <td id=\"T_52f3f_row6_col4\" class=\"data row6 col4\" >0,000</td>\n",
       "      <td id=\"T_52f3f_row6_col5\" class=\"data row6 col5\" >-1,000</td>\n",
       "      <td id=\"T_52f3f_row6_col6\" class=\"data row6 col6\" >100,000</td>\n",
       "      <td id=\"T_52f3f_row6_col7\" class=\"data row6 col7\" >101,000</td>\n",
       "      <td id=\"T_52f3f_row6_col8\" class=\"data row6 col8\" >2,259</td>\n",
       "      <td id=\"T_52f3f_row6_col9\" class=\"data row6 col9\" >3,754</td>\n",
       "    </tr>\n",
       "    <tr>\n",
       "      <th id=\"T_52f3f_level0_row7\" class=\"row_heading level0 row7\" >7</th>\n",
       "      <td id=\"T_52f3f_row7_col0\" class=\"data row7 col0\" >sell</td>\n",
       "      <td id=\"T_52f3f_row7_col1\" class=\"data row7 col1\" >1,000</td>\n",
       "      <td id=\"T_52f3f_row7_col2\" class=\"data row7 col2\" >1,000</td>\n",
       "      <td id=\"T_52f3f_row7_col3\" class=\"data row7 col3\" >0,000</td>\n",
       "      <td id=\"T_52f3f_row7_col4\" class=\"data row7 col4\" >0,000</td>\n",
       "      <td id=\"T_52f3f_row7_col5\" class=\"data row7 col5\" >1,000</td>\n",
       "      <td id=\"T_52f3f_row7_col6\" class=\"data row7 col6\" >1,000</td>\n",
       "      <td id=\"T_52f3f_row7_col7\" class=\"data row7 col7\" >0,000</td>\n",
       "      <td id=\"T_52f3f_row7_col8\" class=\"data row7 col8\" >0,000</td>\n",
       "      <td id=\"T_52f3f_row7_col9\" class=\"data row7 col9\" >0,000</td>\n",
       "    </tr>\n",
       "  </tbody>\n",
       "</table>\n"
      ],
      "text/plain": [
       "<pandas.io.formats.style.Styler at 0x7f6ca0ef5c90>"
      ]
     },
     "metadata": {},
     "output_type": "display_data"
    }
   ],
   "source": [
    "# check summary statistics\n",
    "summary_statistics(df_number)"
   ]
  },
  {
   "attachments": {},
   "cell_type": "markdown",
   "id": "55c73cb6",
   "metadata": {},
   "source": [
    "According to business rule:\n",
    "- purchase_value: \"valor da compra. Esse dado, assim como nicho e categoria foi codificado para manter a  confidencialidade. O valor apresentado no dataset é o **z-score** do valor real\";\n",
    "  - So it is fine to have negative values!"
   ]
  },
  {
   "attachments": {},
   "cell_type": "markdown",
   "id": "c5f415f3",
   "metadata": {},
   "source": [
    "### 2.9.2 - Categorical Variables"
   ]
  },
  {
   "attachments": {},
   "cell_type": "markdown",
   "id": "cd102a7d",
   "metadata": {},
   "source": [
    "*Inspect categorical variables*"
   ]
  },
  {
   "cell_type": "code",
   "execution_count": 29,
   "id": "3ad44e8e",
   "metadata": {},
   "outputs": [
    {
     "name": "stdout",
     "output_type": "stream",
     "text": [
      "Overview of string columns:\n"
     ]
    },
    {
     "data": {
      "text/html": [
       "<style type=\"text/css\">\n",
       "#T_693ba_row0_col1, #T_693ba_row1_col1, #T_693ba_row2_col1, #T_693ba_row3_col1 {\n",
       "  background-color: Navy;\n",
       "  color: White;\n",
       "}\n",
       "</style>\n",
       "<table id=\"T_693ba\">\n",
       "  <thead>\n",
       "    <tr>\n",
       "      <th class=\"blank level0\" >&nbsp;</th>\n",
       "      <th id=\"T_693ba_level0_col0\" class=\"col_heading level0 col0\" >Num NAs</th>\n",
       "      <th id=\"T_693ba_level0_col1\" class=\"col_heading level0 col1\" >Percent NAs</th>\n",
       "      <th id=\"T_693ba_level0_col2\" class=\"col_heading level0 col2\" >Num unique [include NAs]</th>\n",
       "      <th id=\"T_693ba_level0_col3\" class=\"col_heading level0 col3\" >Data Type</th>\n",
       "    </tr>\n",
       "  </thead>\n",
       "  <tbody>\n",
       "    <tr>\n",
       "      <th id=\"T_693ba_level0_row0\" class=\"row_heading level0 row0\" >product_category</th>\n",
       "      <td id=\"T_693ba_row0_col0\" class=\"data row0 col0\" >0</td>\n",
       "      <td id=\"T_693ba_row0_col1\" class=\"data row0 col1\" >0</td>\n",
       "      <td id=\"T_693ba_row0_col2\" class=\"data row0 col2\" >10</td>\n",
       "      <td id=\"T_693ba_row0_col3\" class=\"data row0 col3\" >object</td>\n",
       "    </tr>\n",
       "    <tr>\n",
       "      <th id=\"T_693ba_level0_row1\" class=\"row_heading level0 row1\" >product_niche</th>\n",
       "      <td id=\"T_693ba_row1_col0\" class=\"data row1 col0\" >0</td>\n",
       "      <td id=\"T_693ba_row1_col1\" class=\"data row1 col1\" >0</td>\n",
       "      <td id=\"T_693ba_row1_col2\" class=\"data row1 col2\" >25</td>\n",
       "      <td id=\"T_693ba_row1_col3\" class=\"data row1 col3\" >object</td>\n",
       "    </tr>\n",
       "    <tr>\n",
       "      <th id=\"T_693ba_level0_row2\" class=\"row_heading level0 row2\" >purchase_device</th>\n",
       "      <td id=\"T_693ba_row2_col0\" class=\"data row2 col0\" >0</td>\n",
       "      <td id=\"T_693ba_row2_col1\" class=\"data row2 col1\" >0</td>\n",
       "      <td id=\"T_693ba_row2_col2\" class=\"data row2 col2\" >5</td>\n",
       "      <td id=\"T_693ba_row2_col3\" class=\"data row2 col3\" >object</td>\n",
       "    </tr>\n",
       "    <tr>\n",
       "      <th id=\"T_693ba_level0_row3\" class=\"row_heading level0 row3\" >purchase_origin</th>\n",
       "      <td id=\"T_693ba_row3_col0\" class=\"data row3 col0\" >0</td>\n",
       "      <td id=\"T_693ba_row3_col1\" class=\"data row3 col1\" >0</td>\n",
       "      <td id=\"T_693ba_row3_col2\" class=\"data row3 col2\" >9.603</td>\n",
       "      <td id=\"T_693ba_row3_col3\" class=\"data row3 col3\" >object</td>\n",
       "    </tr>\n",
       "  </tbody>\n",
       "</table>\n"
      ],
      "text/plain": [
       "<pandas.io.formats.style.Styler at 0x7f6ca0ef5000>"
      ]
     },
     "metadata": {},
     "output_type": "display_data"
    },
    {
     "name": "stdout",
     "output_type": "stream",
     "text": [
      "------------------------------------------------- \n",
      "\n",
      "\u001b[94m--->\u001b[0m The unique values for \u001b[94m\u001b[1mproduct_category\u001b[0m\u001b[0m column are: [\u001b[1mvalues are truncated\u001b[0m] \n",
      "\n",
      "['Video', 'Podcast', 'Phisical book', 'eBook', 'In-class course', 'Workshop', 'Webinar', 'eTicket', 'Subscription', 'App']\n",
      "------------------------------------------------- \n",
      "\n",
      "\u001b[94m--->\u001b[0m The unique values for \u001b[94m\u001b[1mproduct_niche\u001b[0m\u001b[0m column are: [\u001b[1mvalues are truncated\u001b[0m] \n",
      "\n",
      "['Presentation skills', 'Child psychology', 'Anxiety management', 'Teaching English', 'Online course creation', 'Media training', 'Storytelling', 'YouTube video creation', 'Procrastination', 'Organization', 'Negotiation', 'Careers', 'Personal finance', 'Filmmaking', 'Government', 'Global diplomacy', 'Immigration', 'Economics', 'Accounting', 'Biology', 'Physics', 'Genetics', 'Disease', 'Thermodynamics', 'Travel hacking']\n",
      "------------------------------------------------- \n",
      "\n",
      "\u001b[94m--->\u001b[0m The unique values for \u001b[94m\u001b[1mpurchase_device\u001b[0m\u001b[0m column are: [\u001b[1mvalues are truncated\u001b[0m] \n",
      "\n",
      "['Smart TV', 'Tablet', 'Desktop', 'eReaders', 'Cellphone']\n",
      "------------------------------------------------- \n",
      "\n",
      "\u001b[94m--->\u001b[0m The unique values for \u001b[94m\u001b[1mpurchase_origin\u001b[0m\u001b[0m column are: [\u001b[1mvalues are truncated\u001b[0m] \n",
      "\n",
      "Column purchase_origin has more than 30 unique values. To avoid a noisy display, they weren't printed. You can change the nunique_threshold param if you do want to print them.\n",
      "------------------------------------------------- \n",
      "\n"
     ]
    }
   ],
   "source": [
    "# check overview of categorical features\n",
    "categorical_summary(df_string, nunique_threshold=30, unique_name_len_threshold=50)"
   ]
  },
  {
   "attachments": {},
   "cell_type": "markdown",
   "id": "429001da",
   "metadata": {},
   "source": [
    "### 2.9.3 - Datetime Variables"
   ]
  },
  {
   "attachments": {},
   "cell_type": "markdown",
   "id": "4ff30514",
   "metadata": {},
   "source": [
    "*Inspect datetime variables*"
   ]
  },
  {
   "cell_type": "code",
   "execution_count": 30,
   "id": "8e847fd4",
   "metadata": {},
   "outputs": [
    {
     "data": {
      "text/html": [
       "<style type=\"text/css\">\n",
       "#T_c1c55_row0_col0, #T_c1c55_row0_col1, #T_c1c55_row0_col2, #T_c1c55_row0_col6, #T_c1c55_row1_col0, #T_c1c55_row1_col1, #T_c1c55_row1_col2, #T_c1c55_row1_col6 {\n",
       "  background-color: Navy;\n",
       "  color: White;\n",
       "}\n",
       "</style>\n",
       "<table id=\"T_c1c55\">\n",
       "  <thead>\n",
       "    <tr>\n",
       "      <th class=\"blank level0\" >&nbsp;</th>\n",
       "      <th id=\"T_c1c55_level0_col0\" class=\"col_heading level0 col0\" >first date</th>\n",
       "      <th id=\"T_c1c55_level0_col1\" class=\"col_heading level0 col1\" >last date</th>\n",
       "      <th id=\"T_c1c55_level0_col2\" class=\"col_heading level0 col2\" >range [months]</th>\n",
       "      <th id=\"T_c1c55_level0_col3\" class=\"col_heading level0 col3\" >mean</th>\n",
       "      <th id=\"T_c1c55_level0_col4\" class=\"col_heading level0 col4\" >median</th>\n",
       "      <th id=\"T_c1c55_level0_col5\" class=\"col_heading level0 col5\" >Num NAs</th>\n",
       "      <th id=\"T_c1c55_level0_col6\" class=\"col_heading level0 col6\" >Percent NAs</th>\n",
       "      <th id=\"T_c1c55_level0_col7\" class=\"col_heading level0 col7\" >count [non-NA]</th>\n",
       "      <th id=\"T_c1c55_level0_col8\" class=\"col_heading level0 col8\" >nunique</th>\n",
       "    </tr>\n",
       "  </thead>\n",
       "  <tbody>\n",
       "    <tr>\n",
       "      <th id=\"T_c1c55_level0_row0\" class=\"row_heading level0 row0\" >purchase_date</th>\n",
       "      <td id=\"T_c1c55_row0_col0\" class=\"data row0 col0\" >2016-01-01 00:00:27</td>\n",
       "      <td id=\"T_c1c55_row0_col1\" class=\"data row0 col1\" >2016-06-30 23:59:57</td>\n",
       "      <td id=\"T_c1c55_row0_col2\" class=\"data row0 col2\" >6</td>\n",
       "      <td id=\"T_c1c55_row0_col3\" class=\"data row0 col3\" >2016-04-04 18:39:34.511339776</td>\n",
       "      <td id=\"T_c1c55_row0_col4\" class=\"data row0 col4\" >2016-04-07 18:50:16.500000</td>\n",
       "      <td id=\"T_c1c55_row0_col5\" class=\"data row0 col5\" >0</td>\n",
       "      <td id=\"T_c1c55_row0_col6\" class=\"data row0 col6\" >0</td>\n",
       "      <td id=\"T_c1c55_row0_col7\" class=\"data row0 col7\" >1.599.828</td>\n",
       "      <td id=\"T_c1c55_row0_col8\" class=\"data row0 col8\" >1.488.964</td>\n",
       "    </tr>\n",
       "    <tr>\n",
       "      <th id=\"T_c1c55_level0_row1\" class=\"row_heading level0 row1\" >product_creation_date</th>\n",
       "      <td id=\"T_c1c55_row1_col0\" class=\"data row1 col0\" >2008-10-27 01:39:34</td>\n",
       "      <td id=\"T_c1c55_row1_col1\" class=\"data row1 col1\" >2016-12-31 13:43:50</td>\n",
       "      <td id=\"T_c1c55_row1_col2\" class=\"data row1 col2\" >99</td>\n",
       "      <td id=\"T_c1c55_row1_col3\" class=\"data row1 col3\" >2015-02-22 14:52:58.141221376</td>\n",
       "      <td id=\"T_c1c55_row1_col4\" class=\"data row1 col4\" >2015-05-31 00:12:18</td>\n",
       "      <td id=\"T_c1c55_row1_col5\" class=\"data row1 col5\" >0</td>\n",
       "      <td id=\"T_c1c55_row1_col6\" class=\"data row1 col6\" >0</td>\n",
       "      <td id=\"T_c1c55_row1_col7\" class=\"data row1 col7\" >1.599.828</td>\n",
       "      <td id=\"T_c1c55_row1_col8\" class=\"data row1 col8\" >17.879</td>\n",
       "    </tr>\n",
       "  </tbody>\n",
       "</table>\n"
      ],
      "text/plain": [
       "<pandas.io.formats.style.Styler at 0x7f6ca0ef5030>"
      ]
     },
     "metadata": {},
     "output_type": "display_data"
    }
   ],
   "source": [
    "# check an overview of datetime features\n",
    "datetime_summary(df_date)"
   ]
  },
  {
   "attachments": {},
   "cell_type": "markdown",
   "id": "fcba07f5",
   "metadata": {},
   "source": [
    "### 2.9.4 - Investigate further:"
   ]
  },
  {
   "attachments": {},
   "cell_type": "markdown",
   "id": "e66e2046",
   "metadata": {},
   "source": [
    "*Variables to inspect the real meaning*"
   ]
  },
  {
   "cell_type": "code",
   "execution_count": 31,
   "id": "995e384c",
   "metadata": {},
   "outputs": [],
   "source": [
    "# None up to this point"
   ]
  },
  {
   "attachments": {},
   "cell_type": "markdown",
   "id": "0782f000",
   "metadata": {},
   "source": [
    "# **3 - FEATURE ENGINEERING**"
   ]
  },
  {
   "attachments": {},
   "cell_type": "markdown",
   "id": "15c2eb92",
   "metadata": {},
   "source": [
    "## 3.1 - Restore Point"
   ]
  },
  {
   "attachments": {},
   "cell_type": "markdown",
   "id": "86ffb7ec",
   "metadata": {},
   "source": [
    "*Create a checkpoint of the last dataframe from previous section*"
   ]
  },
  {
   "cell_type": "code",
   "execution_count": 32,
   "id": "d48c0545",
   "metadata": {},
   "outputs": [
    {
     "name": "stdout",
     "output_type": "stream",
     "text": [
      "*************************************************\n",
      "Dataframe size in memory: 566.315 MB \n",
      "\n",
      "-----------------------------\n",
      "Dataframe overview:\n"
     ]
    },
    {
     "data": {
      "text/html": [
       "<style type=\"text/css\">\n",
       "#T_4bdd3_row0_col1, #T_4bdd3_row0_col3, #T_4bdd3_row1_col1, #T_4bdd3_row1_col3, #T_4bdd3_row2_col1, #T_4bdd3_row2_col3, #T_4bdd3_row3_col1, #T_4bdd3_row3_col3, #T_4bdd3_row4_col1, #T_4bdd3_row4_col3, #T_4bdd3_row5_col1, #T_4bdd3_row5_col3, #T_4bdd3_row6_col1, #T_4bdd3_row6_col3, #T_4bdd3_row7_col1, #T_4bdd3_row7_col3, #T_4bdd3_row8_col1, #T_4bdd3_row8_col3, #T_4bdd3_row9_col1, #T_4bdd3_row9_col3, #T_4bdd3_row10_col1, #T_4bdd3_row10_col3, #T_4bdd3_row11_col1, #T_4bdd3_row11_col3, #T_4bdd3_row12_col1, #T_4bdd3_row12_col3, #T_4bdd3_row13_col1, #T_4bdd3_row13_col3, #T_4bdd3_row14_col1, #T_4bdd3_row14_col3 {\n",
       "  background-color: Navy;\n",
       "  color: White;\n",
       "}\n",
       "</style>\n",
       "<table id=\"T_4bdd3\">\n",
       "  <thead>\n",
       "    <tr>\n",
       "      <th class=\"blank level0\" >&nbsp;</th>\n",
       "      <th id=\"T_4bdd3_level0_col0\" class=\"col_heading level0 col0\" >Num NAs</th>\n",
       "      <th id=\"T_4bdd3_level0_col1\" class=\"col_heading level0 col1\" >Percent NAs</th>\n",
       "      <th id=\"T_4bdd3_level0_col2\" class=\"col_heading level0 col2\" >Num unique [include NAs]</th>\n",
       "      <th id=\"T_4bdd3_level0_col3\" class=\"col_heading level0 col3\" >Data Type</th>\n",
       "    </tr>\n",
       "  </thead>\n",
       "  <tbody>\n",
       "    <tr>\n",
       "      <th id=\"T_4bdd3_level0_row0\" class=\"row_heading level0 row0\" >purchase_id</th>\n",
       "      <td id=\"T_4bdd3_row0_col0\" class=\"data row0 col0\" >0</td>\n",
       "      <td id=\"T_4bdd3_row0_col1\" class=\"data row0 col1\" >0</td>\n",
       "      <td id=\"T_4bdd3_row0_col2\" class=\"data row0 col2\" >1.599.828</td>\n",
       "      <td id=\"T_4bdd3_row0_col3\" class=\"data row0 col3\" >int64</td>\n",
       "    </tr>\n",
       "    <tr>\n",
       "      <th id=\"T_4bdd3_level0_row1\" class=\"row_heading level0 row1\" >product_id</th>\n",
       "      <td id=\"T_4bdd3_row1_col0\" class=\"data row1 col0\" >0</td>\n",
       "      <td id=\"T_4bdd3_row1_col1\" class=\"data row1 col1\" >0</td>\n",
       "      <td id=\"T_4bdd3_row1_col2\" class=\"data row1 col2\" >17.883</td>\n",
       "      <td id=\"T_4bdd3_row1_col3\" class=\"data row1 col3\" >int64</td>\n",
       "    </tr>\n",
       "    <tr>\n",
       "      <th id=\"T_4bdd3_level0_row2\" class=\"row_heading level0 row2\" >affiliate_id</th>\n",
       "      <td id=\"T_4bdd3_row2_col0\" class=\"data row2 col0\" >0</td>\n",
       "      <td id=\"T_4bdd3_row2_col1\" class=\"data row2 col1\" >0</td>\n",
       "      <td id=\"T_4bdd3_row2_col2\" class=\"data row2 col2\" >22.947</td>\n",
       "      <td id=\"T_4bdd3_row2_col3\" class=\"data row2 col3\" >int64</td>\n",
       "    </tr>\n",
       "    <tr>\n",
       "      <th id=\"T_4bdd3_level0_row3\" class=\"row_heading level0 row3\" >producer_id</th>\n",
       "      <td id=\"T_4bdd3_row3_col0\" class=\"data row3 col0\" >0</td>\n",
       "      <td id=\"T_4bdd3_row3_col1\" class=\"data row3 col1\" >0</td>\n",
       "      <td id=\"T_4bdd3_row3_col2\" class=\"data row3 col2\" >8.020</td>\n",
       "      <td id=\"T_4bdd3_row3_col3\" class=\"data row3 col3\" >int64</td>\n",
       "    </tr>\n",
       "    <tr>\n",
       "      <th id=\"T_4bdd3_level0_row4\" class=\"row_heading level0 row4\" >buyer_id</th>\n",
       "      <td id=\"T_4bdd3_row4_col0\" class=\"data row4 col0\" >0</td>\n",
       "      <td id=\"T_4bdd3_row4_col1\" class=\"data row4 col1\" >0</td>\n",
       "      <td id=\"T_4bdd3_row4_col2\" class=\"data row4 col2\" >1.100.649</td>\n",
       "      <td id=\"T_4bdd3_row4_col3\" class=\"data row4 col3\" >int64</td>\n",
       "    </tr>\n",
       "    <tr>\n",
       "      <th id=\"T_4bdd3_level0_row5\" class=\"row_heading level0 row5\" >purchase_date</th>\n",
       "      <td id=\"T_4bdd3_row5_col0\" class=\"data row5 col0\" >0</td>\n",
       "      <td id=\"T_4bdd3_row5_col1\" class=\"data row5 col1\" >0</td>\n",
       "      <td id=\"T_4bdd3_row5_col2\" class=\"data row5 col2\" >1.488.964</td>\n",
       "      <td id=\"T_4bdd3_row5_col3\" class=\"data row5 col3\" >datetime64[ns]</td>\n",
       "    </tr>\n",
       "    <tr>\n",
       "      <th id=\"T_4bdd3_level0_row6\" class=\"row_heading level0 row6\" >product_creation_date</th>\n",
       "      <td id=\"T_4bdd3_row6_col0\" class=\"data row6 col0\" >0</td>\n",
       "      <td id=\"T_4bdd3_row6_col1\" class=\"data row6 col1\" >0</td>\n",
       "      <td id=\"T_4bdd3_row6_col2\" class=\"data row6 col2\" >17.879</td>\n",
       "      <td id=\"T_4bdd3_row6_col3\" class=\"data row6 col3\" >datetime64[ns]</td>\n",
       "    </tr>\n",
       "    <tr>\n",
       "      <th id=\"T_4bdd3_level0_row7\" class=\"row_heading level0 row7\" >product_category</th>\n",
       "      <td id=\"T_4bdd3_row7_col0\" class=\"data row7 col0\" >0</td>\n",
       "      <td id=\"T_4bdd3_row7_col1\" class=\"data row7 col1\" >0</td>\n",
       "      <td id=\"T_4bdd3_row7_col2\" class=\"data row7 col2\" >10</td>\n",
       "      <td id=\"T_4bdd3_row7_col3\" class=\"data row7 col3\" >object</td>\n",
       "    </tr>\n",
       "    <tr>\n",
       "      <th id=\"T_4bdd3_level0_row8\" class=\"row_heading level0 row8\" >product_niche</th>\n",
       "      <td id=\"T_4bdd3_row8_col0\" class=\"data row8 col0\" >0</td>\n",
       "      <td id=\"T_4bdd3_row8_col1\" class=\"data row8 col1\" >0</td>\n",
       "      <td id=\"T_4bdd3_row8_col2\" class=\"data row8 col2\" >25</td>\n",
       "      <td id=\"T_4bdd3_row8_col3\" class=\"data row8 col3\" >object</td>\n",
       "    </tr>\n",
       "    <tr>\n",
       "      <th id=\"T_4bdd3_level0_row9\" class=\"row_heading level0 row9\" >purchase_value</th>\n",
       "      <td id=\"T_4bdd3_row9_col0\" class=\"data row9 col0\" >0</td>\n",
       "      <td id=\"T_4bdd3_row9_col1\" class=\"data row9 col1\" >0</td>\n",
       "      <td id=\"T_4bdd3_row9_col2\" class=\"data row9 col2\" >32.617</td>\n",
       "      <td id=\"T_4bdd3_row9_col3\" class=\"data row9 col3\" >float64</td>\n",
       "    </tr>\n",
       "    <tr>\n",
       "      <th id=\"T_4bdd3_level0_row10\" class=\"row_heading level0 row10\" >affiliate_commission_percentual</th>\n",
       "      <td id=\"T_4bdd3_row10_col0\" class=\"data row10 col0\" >0</td>\n",
       "      <td id=\"T_4bdd3_row10_col1\" class=\"data row10 col1\" >0</td>\n",
       "      <td id=\"T_4bdd3_row10_col2\" class=\"data row10 col2\" >280</td>\n",
       "      <td id=\"T_4bdd3_row10_col3\" class=\"data row10 col3\" >float64</td>\n",
       "    </tr>\n",
       "    <tr>\n",
       "      <th id=\"T_4bdd3_level0_row11\" class=\"row_heading level0 row11\" >purchase_device</th>\n",
       "      <td id=\"T_4bdd3_row11_col0\" class=\"data row11 col0\" >0</td>\n",
       "      <td id=\"T_4bdd3_row11_col1\" class=\"data row11 col1\" >0</td>\n",
       "      <td id=\"T_4bdd3_row11_col2\" class=\"data row11 col2\" >5</td>\n",
       "      <td id=\"T_4bdd3_row11_col3\" class=\"data row11 col3\" >object</td>\n",
       "    </tr>\n",
       "    <tr>\n",
       "      <th id=\"T_4bdd3_level0_row12\" class=\"row_heading level0 row12\" >purchase_origin</th>\n",
       "      <td id=\"T_4bdd3_row12_col0\" class=\"data row12 col0\" >0</td>\n",
       "      <td id=\"T_4bdd3_row12_col1\" class=\"data row12 col1\" >0</td>\n",
       "      <td id=\"T_4bdd3_row12_col2\" class=\"data row12 col2\" >9.603</td>\n",
       "      <td id=\"T_4bdd3_row12_col3\" class=\"data row12 col3\" >object</td>\n",
       "    </tr>\n",
       "    <tr>\n",
       "      <th id=\"T_4bdd3_level0_row13\" class=\"row_heading level0 row13\" >is_origin_page_social_network</th>\n",
       "      <td id=\"T_4bdd3_row13_col0\" class=\"data row13 col0\" >0</td>\n",
       "      <td id=\"T_4bdd3_row13_col1\" class=\"data row13 col1\" >0</td>\n",
       "      <td id=\"T_4bdd3_row13_col2\" class=\"data row13 col2\" >2</td>\n",
       "      <td id=\"T_4bdd3_row13_col3\" class=\"data row13 col3\" >bool</td>\n",
       "    </tr>\n",
       "    <tr>\n",
       "      <th id=\"T_4bdd3_level0_row14\" class=\"row_heading level0 row14\" >sell</th>\n",
       "      <td id=\"T_4bdd3_row14_col0\" class=\"data row14 col0\" >0</td>\n",
       "      <td id=\"T_4bdd3_row14_col1\" class=\"data row14 col1\" >0</td>\n",
       "      <td id=\"T_4bdd3_row14_col2\" class=\"data row14 col2\" >1</td>\n",
       "      <td id=\"T_4bdd3_row14_col3\" class=\"data row14 col3\" >int64</td>\n",
       "    </tr>\n",
       "  </tbody>\n",
       "</table>\n"
      ],
      "text/plain": [
       "<pandas.io.formats.style.Styler at 0x7f6cd9e6dd50>"
      ]
     },
     "metadata": {},
     "output_type": "display_data"
    },
    {
     "name": "stdout",
     "output_type": "stream",
     "text": [
      "-----------------------------\n",
      "\n",
      " Dataframe shape is (1599828, 15) \n",
      "\n",
      "-----------------------------\n",
      "\n",
      "\n",
      "dataframe.sample(5)\n"
     ]
    },
    {
     "data": {
      "text/html": [
       "<div>\n",
       "<style scoped>\n",
       "    .dataframe tbody tr th:only-of-type {\n",
       "        vertical-align: middle;\n",
       "    }\n",
       "\n",
       "    .dataframe tbody tr th {\n",
       "        vertical-align: top;\n",
       "    }\n",
       "\n",
       "    .dataframe thead th {\n",
       "        text-align: right;\n",
       "    }\n",
       "</style>\n",
       "<table border=\"1\" class=\"dataframe\">\n",
       "  <thead>\n",
       "    <tr style=\"text-align: right;\">\n",
       "      <th></th>\n",
       "      <th>purchase_id</th>\n",
       "      <th>product_id</th>\n",
       "      <th>affiliate_id</th>\n",
       "      <th>producer_id</th>\n",
       "      <th>buyer_id</th>\n",
       "      <th>purchase_date</th>\n",
       "      <th>product_creation_date</th>\n",
       "      <th>product_category</th>\n",
       "      <th>product_niche</th>\n",
       "      <th>purchase_value</th>\n",
       "      <th>affiliate_commission_percentual</th>\n",
       "      <th>purchase_device</th>\n",
       "      <th>purchase_origin</th>\n",
       "      <th>is_origin_page_social_network</th>\n",
       "      <th>sell</th>\n",
       "    </tr>\n",
       "  </thead>\n",
       "  <tbody>\n",
       "    <tr>\n",
       "      <th>307513</th>\n",
       "      <td>11462431</td>\n",
       "      <td>186536</td>\n",
       "      <td>5277553</td>\n",
       "      <td>5277553</td>\n",
       "      <td>6497049</td>\n",
       "      <td>2016-02-08 02:41:57</td>\n",
       "      <td>2015-11-18 22:37:18</td>\n",
       "      <td>Phisical book</td>\n",
       "      <td>Careers</td>\n",
       "      <td>0.2</td>\n",
       "      <td>0.0</td>\n",
       "      <td>eReaders</td>\n",
       "      <td>Origin 41c1</td>\n",
       "      <td>True</td>\n",
       "      <td>1</td>\n",
       "    </tr>\n",
       "    <tr>\n",
       "      <th>716028</th>\n",
       "      <td>12296652</td>\n",
       "      <td>149014</td>\n",
       "      <td>4478320</td>\n",
       "      <td>4478320</td>\n",
       "      <td>4212355</td>\n",
       "      <td>2016-03-28 03:27:43</td>\n",
       "      <td>2015-04-29 17:20:58</td>\n",
       "      <td>Phisical book</td>\n",
       "      <td>Personal finance</td>\n",
       "      <td>-0.5</td>\n",
       "      <td>0.0</td>\n",
       "      <td>Desktop</td>\n",
       "      <td>Origin 5187</td>\n",
       "      <td>True</td>\n",
       "      <td>1</td>\n",
       "    </tr>\n",
       "    <tr>\n",
       "      <th>1291377</th>\n",
       "      <td>13412465</td>\n",
       "      <td>132454</td>\n",
       "      <td>3512</td>\n",
       "      <td>3512</td>\n",
       "      <td>7161036</td>\n",
       "      <td>2016-05-29 16:55:25</td>\n",
       "      <td>2015-01-13 14:39:13</td>\n",
       "      <td>Phisical book</td>\n",
       "      <td>Online course creation</td>\n",
       "      <td>-0.5</td>\n",
       "      <td>0.0</td>\n",
       "      <td>Smart TV</td>\n",
       "      <td>Origin ef2b</td>\n",
       "      <td>True</td>\n",
       "      <td>1</td>\n",
       "    </tr>\n",
       "    <tr>\n",
       "      <th>454477</th>\n",
       "      <td>11765995</td>\n",
       "      <td>130294</td>\n",
       "      <td>231479</td>\n",
       "      <td>3992235</td>\n",
       "      <td>5885655</td>\n",
       "      <td>2016-02-27 14:02:15</td>\n",
       "      <td>2014-12-29 12:36:10</td>\n",
       "      <td>Phisical book</td>\n",
       "      <td>Immigration</td>\n",
       "      <td>-0.4</td>\n",
       "      <td>0.0</td>\n",
       "      <td>Smart TV</td>\n",
       "      <td>Origin ef2b</td>\n",
       "      <td>True</td>\n",
       "      <td>1</td>\n",
       "    </tr>\n",
       "    <tr>\n",
       "      <th>578084</th>\n",
       "      <td>12021267</td>\n",
       "      <td>183336</td>\n",
       "      <td>1853968</td>\n",
       "      <td>1853968</td>\n",
       "      <td>6764465</td>\n",
       "      <td>2016-03-12 21:37:08</td>\n",
       "      <td>2015-11-03 02:53:47</td>\n",
       "      <td>Podcast</td>\n",
       "      <td>Anxiety management</td>\n",
       "      <td>-0.3</td>\n",
       "      <td>0.0</td>\n",
       "      <td>eReaders</td>\n",
       "      <td>Origin b04c</td>\n",
       "      <td>True</td>\n",
       "      <td>1</td>\n",
       "    </tr>\n",
       "  </tbody>\n",
       "</table>\n",
       "<p>5 rows × 15 columns</p>\n",
       "</div>"
      ],
      "text/plain": [
       "         purchase_id  product_id  affiliate_id  producer_id  buyer_id   \n",
       "307513      11462431      186536       5277553      5277553   6497049  \\\n",
       "716028      12296652      149014       4478320      4478320   4212355   \n",
       "1291377     13412465      132454          3512         3512   7161036   \n",
       "454477      11765995      130294        231479      3992235   5885655   \n",
       "578084      12021267      183336       1853968      1853968   6764465   \n",
       "\n",
       "              purchase_date product_creation_date product_category   \n",
       "307513  2016-02-08 02:41:57   2015-11-18 22:37:18    Phisical book  \\\n",
       "716028  2016-03-28 03:27:43   2015-04-29 17:20:58    Phisical book   \n",
       "1291377 2016-05-29 16:55:25   2015-01-13 14:39:13    Phisical book   \n",
       "454477  2016-02-27 14:02:15   2014-12-29 12:36:10    Phisical book   \n",
       "578084  2016-03-12 21:37:08   2015-11-03 02:53:47          Podcast   \n",
       "\n",
       "                  product_niche  purchase_value   \n",
       "307513                  Careers             0.2  \\\n",
       "716028         Personal finance            -0.5   \n",
       "1291377  Online course creation            -0.5   \n",
       "454477              Immigration            -0.4   \n",
       "578084       Anxiety management            -0.3   \n",
       "\n",
       "         affiliate_commission_percentual purchase_device purchase_origin   \n",
       "307513                               0.0        eReaders     Origin 41c1  \\\n",
       "716028                               0.0         Desktop     Origin 5187   \n",
       "1291377                              0.0        Smart TV     Origin ef2b   \n",
       "454477                               0.0        Smart TV     Origin ef2b   \n",
       "578084                               0.0        eReaders     Origin b04c   \n",
       "\n",
       "         is_origin_page_social_network  sell  \n",
       "307513                            True     1  \n",
       "716028                            True     1  \n",
       "1291377                           True     1  \n",
       "454477                            True     1  \n",
       "578084                            True     1  \n",
       "\n",
       "[5 rows x 15 columns]"
      ]
     },
     "metadata": {},
     "output_type": "display_data"
    },
    {
     "name": "stdout",
     "output_type": "stream",
     "text": [
      "*************************************************\n"
     ]
    }
   ],
   "source": [
    "# create a restore point for the previous section dataframe\n",
    "df_f_eng = df_description.copy()\n",
    "\n",
    "# check dataframe\n",
    "check_dataframe( df_f_eng )"
   ]
  },
  {
   "attachments": {},
   "cell_type": "markdown",
   "id": "5fc8ce4a",
   "metadata": {},
   "source": [
    "## 3.2 - Hypothesis Testing List"
   ]
  },
  {
   "attachments": {},
   "cell_type": "markdown",
   "id": "1aeb871f",
   "metadata": {},
   "source": [
    "*Define the list of hypotheses that will be validated during Exploratory Data Analysis (EDA)*"
   ]
  },
  {
   "attachments": {},
   "cell_type": "markdown",
   "id": "e96ccd38",
   "metadata": {},
   "source": [
    "**HYPOTHESIS MIND MAP**\n",
    "\n",
    "![Business hypothesis mindmap](../img/project_structure/xxx.jpg)\n",
    "\n",
    "*The above image is the product of a brainstorm that took into consideration many different variables that can impact the main business metric. This mind map is a great help when trying to raise hypotheses that could lead to insights. It is also helpful to guide feature engineering (create new relevant features) and when there is a need to look for more data elsewhere.*"
   ]
  },
  {
   "attachments": {},
   "cell_type": "markdown",
   "id": "517c742d",
   "metadata": {},
   "source": [
    "> *Taking into consideration hypothesis mind map (at the beginning of this notebook) and the business case questions:*\n",
    "\n",
    "\n",
    "**H1**. Does **Hotmart depend** on the **biggest producers** on the platform? That is, the **top-selling producers** are responsible for **most** of the Hotmart **billing**?\n",
    "\n",
    "**H2**. Are there any **relevant patterns or trends** in the data?\n",
    "\n",
    "**H3**. It is possible to **segment users** based on their characteristics (revenue, product niche, etc.)?\n",
    "\n",
    "**H4**. What **features most impact** the success of a **product**? that is, the What makes a **product sell more**?\n",
    "\n",
    "**H5**. It is possible to **estimate** how much **revenue** Hotmart will generate in the **next three months from the last month** shown in the dataset?\n"
   ]
  },
  {
   "attachments": {},
   "cell_type": "markdown",
   "id": "75ba067e",
   "metadata": {},
   "source": [
    "## 3.3 - Feature Creation"
   ]
  },
  {
   "attachments": {},
   "cell_type": "markdown",
   "id": "d4301622",
   "metadata": {},
   "source": [
    "*Create new features (columns) that can be meaningful for EDA and, especially, machine learning modelling.*"
   ]
  },
  {
   "cell_type": "code",
   "execution_count": 33,
   "id": "0558e18e",
   "metadata": {},
   "outputs": [
    {
     "data": {
      "text/html": [
       "<div>\n",
       "<style scoped>\n",
       "    .dataframe tbody tr th:only-of-type {\n",
       "        vertical-align: middle;\n",
       "    }\n",
       "\n",
       "    .dataframe tbody tr th {\n",
       "        vertical-align: top;\n",
       "    }\n",
       "\n",
       "    .dataframe thead th {\n",
       "        text-align: right;\n",
       "    }\n",
       "</style>\n",
       "<table border=\"1\" class=\"dataframe\">\n",
       "  <thead>\n",
       "    <tr style=\"text-align: right;\">\n",
       "      <th></th>\n",
       "      <th>product_creation_date</th>\n",
       "      <th>purchase_date</th>\n",
       "      <th>product_age_when_purchased</th>\n",
       "    </tr>\n",
       "  </thead>\n",
       "  <tbody>\n",
       "    <tr>\n",
       "      <th>687286</th>\n",
       "      <td>2015-12-01 12:37:00</td>\n",
       "      <td>2016-03-24 20:01:35</td>\n",
       "      <td>3</td>\n",
       "    </tr>\n",
       "    <tr>\n",
       "      <th>307154</th>\n",
       "      <td>2016-01-27 22:56:37</td>\n",
       "      <td>2016-02-08 01:28:05</td>\n",
       "      <td>1</td>\n",
       "    </tr>\n",
       "    <tr>\n",
       "      <th>94908</th>\n",
       "      <td>2015-01-10 15:32:09</td>\n",
       "      <td>2016-01-13 13:48:37</td>\n",
       "      <td>12</td>\n",
       "    </tr>\n",
       "    <tr>\n",
       "      <th>309710</th>\n",
       "      <td>2013-01-14 13:17:37</td>\n",
       "      <td>2016-02-08 13:19:27</td>\n",
       "      <td>37</td>\n",
       "    </tr>\n",
       "    <tr>\n",
       "      <th>1074287</th>\n",
       "      <td>2015-12-27 13:17:06</td>\n",
       "      <td>2016-05-06 12:38:26</td>\n",
       "      <td>5</td>\n",
       "    </tr>\n",
       "    <tr>\n",
       "      <th>1398614</th>\n",
       "      <td>2016-04-11 13:35:45</td>\n",
       "      <td>2016-06-09 12:45:41</td>\n",
       "      <td>2</td>\n",
       "    </tr>\n",
       "    <tr>\n",
       "      <th>1587844</th>\n",
       "      <td>2015-11-06 23:59:53</td>\n",
       "      <td>2016-06-29 12:32:21</td>\n",
       "      <td>7</td>\n",
       "    </tr>\n",
       "    <tr>\n",
       "      <th>1184721</th>\n",
       "      <td>2016-04-14 21:41:31</td>\n",
       "      <td>2016-05-17 02:28:10</td>\n",
       "      <td>1</td>\n",
       "    </tr>\n",
       "    <tr>\n",
       "      <th>514906</th>\n",
       "      <td>2016-02-12 14:33:39</td>\n",
       "      <td>2016-03-06 01:52:02</td>\n",
       "      <td>1</td>\n",
       "    </tr>\n",
       "    <tr>\n",
       "      <th>810722</th>\n",
       "      <td>2016-02-21 18:28:50</td>\n",
       "      <td>2016-04-09 11:46:53</td>\n",
       "      <td>2</td>\n",
       "    </tr>\n",
       "  </tbody>\n",
       "</table>\n",
       "<p>10 rows × 3 columns</p>\n",
       "</div>"
      ],
      "text/plain": [
       "        product_creation_date       purchase_date  product_age_when_purchased\n",
       "687286    2015-12-01 12:37:00 2016-03-24 20:01:35                           3\n",
       "307154    2016-01-27 22:56:37 2016-02-08 01:28:05                           1\n",
       "94908     2015-01-10 15:32:09 2016-01-13 13:48:37                          12\n",
       "309710    2013-01-14 13:17:37 2016-02-08 13:19:27                          37\n",
       "1074287   2015-12-27 13:17:06 2016-05-06 12:38:26                           5\n",
       "1398614   2016-04-11 13:35:45 2016-06-09 12:45:41                           2\n",
       "1587844   2015-11-06 23:59:53 2016-06-29 12:32:21                           7\n",
       "1184721   2016-04-14 21:41:31 2016-05-17 02:28:10                           1\n",
       "514906    2016-02-12 14:33:39 2016-03-06 01:52:02                           1\n",
       "810722    2016-02-21 18:28:50 2016-04-09 11:46:53                           2\n",
       "\n",
       "[10 rows x 3 columns]"
      ]
     },
     "execution_count": 33,
     "metadata": {},
     "output_type": "execute_result"
    }
   ],
   "source": [
    "# create a column to indicate what is the age of the product when it was purchased\n",
    "# purchase_date - product_creation_date in months\n",
    "# month = 0 ---> purchased on the month of creation\n",
    "df_f_eng[\"product_age_when_purchased\"] = df_f_eng[\"purchase_date\"].dt.to_period(freq=\"M\") - df_f_eng[\"product_creation_date\"].dt.to_period(freq=\"M\")\n",
    "# extract the month information\n",
    "df_f_eng[\"product_age_when_purchased\"] = df_f_eng[\"product_age_when_purchased\"].apply(lambda x: x.n)\n",
    "\n",
    "# inspect result\n",
    "df_f_eng[[\"product_creation_date\", \"purchase_date\", \"product_age_when_purchased\"]].sample(10, random_state=7)"
   ]
  },
  {
   "attachments": {},
   "cell_type": "markdown",
   "id": "755eba7c",
   "metadata": {
    "ExecuteTime": {
     "end_time": "2021-11-08T17:29:18.464606Z",
     "start_time": "2021-11-08T17:29:18.458947Z"
    },
    "heading_collapsed": true
   },
   "source": [
    "# **4 - DATA FILTERING**"
   ]
  },
  {
   "attachments": {},
   "cell_type": "markdown",
   "id": "026ae2aa",
   "metadata": {
    "hidden": true
   },
   "source": [
    "## 4.1 - Restore Point"
   ]
  },
  {
   "attachments": {},
   "cell_type": "markdown",
   "id": "cb4c9722",
   "metadata": {},
   "source": [
    "*Create a checkpoint of the last dataframe from previous section*"
   ]
  },
  {
   "cell_type": "code",
   "execution_count": 34,
   "id": "569c1ae8",
   "metadata": {
    "ExecuteTime": {
     "end_time": "2021-11-22T11:35:16.188448Z",
     "start_time": "2021-11-22T11:35:15.658676Z"
    },
    "hidden": true
   },
   "outputs": [
    {
     "name": "stdout",
     "output_type": "stream",
     "text": [
      "*************************************************\n",
      "Dataframe size in memory: 579.113 MB \n",
      "\n",
      "-----------------------------\n",
      "Dataframe overview:\n"
     ]
    },
    {
     "data": {
      "text/html": [
       "<style type=\"text/css\">\n",
       "#T_fc7ed_row0_col1, #T_fc7ed_row0_col3, #T_fc7ed_row1_col1, #T_fc7ed_row1_col3, #T_fc7ed_row2_col1, #T_fc7ed_row2_col3, #T_fc7ed_row3_col1, #T_fc7ed_row3_col3, #T_fc7ed_row4_col1, #T_fc7ed_row4_col3, #T_fc7ed_row5_col1, #T_fc7ed_row5_col3, #T_fc7ed_row6_col1, #T_fc7ed_row6_col3, #T_fc7ed_row7_col1, #T_fc7ed_row7_col3, #T_fc7ed_row8_col1, #T_fc7ed_row8_col3, #T_fc7ed_row9_col1, #T_fc7ed_row9_col3, #T_fc7ed_row10_col1, #T_fc7ed_row10_col3, #T_fc7ed_row11_col1, #T_fc7ed_row11_col3, #T_fc7ed_row12_col1, #T_fc7ed_row12_col3, #T_fc7ed_row13_col1, #T_fc7ed_row13_col3, #T_fc7ed_row14_col1, #T_fc7ed_row14_col3, #T_fc7ed_row15_col1, #T_fc7ed_row15_col3 {\n",
       "  background-color: Navy;\n",
       "  color: White;\n",
       "}\n",
       "</style>\n",
       "<table id=\"T_fc7ed\">\n",
       "  <thead>\n",
       "    <tr>\n",
       "      <th class=\"blank level0\" >&nbsp;</th>\n",
       "      <th id=\"T_fc7ed_level0_col0\" class=\"col_heading level0 col0\" >Num NAs</th>\n",
       "      <th id=\"T_fc7ed_level0_col1\" class=\"col_heading level0 col1\" >Percent NAs</th>\n",
       "      <th id=\"T_fc7ed_level0_col2\" class=\"col_heading level0 col2\" >Num unique [include NAs]</th>\n",
       "      <th id=\"T_fc7ed_level0_col3\" class=\"col_heading level0 col3\" >Data Type</th>\n",
       "    </tr>\n",
       "  </thead>\n",
       "  <tbody>\n",
       "    <tr>\n",
       "      <th id=\"T_fc7ed_level0_row0\" class=\"row_heading level0 row0\" >purchase_id</th>\n",
       "      <td id=\"T_fc7ed_row0_col0\" class=\"data row0 col0\" >0</td>\n",
       "      <td id=\"T_fc7ed_row0_col1\" class=\"data row0 col1\" >0</td>\n",
       "      <td id=\"T_fc7ed_row0_col2\" class=\"data row0 col2\" >1.599.828</td>\n",
       "      <td id=\"T_fc7ed_row0_col3\" class=\"data row0 col3\" >int64</td>\n",
       "    </tr>\n",
       "    <tr>\n",
       "      <th id=\"T_fc7ed_level0_row1\" class=\"row_heading level0 row1\" >product_id</th>\n",
       "      <td id=\"T_fc7ed_row1_col0\" class=\"data row1 col0\" >0</td>\n",
       "      <td id=\"T_fc7ed_row1_col1\" class=\"data row1 col1\" >0</td>\n",
       "      <td id=\"T_fc7ed_row1_col2\" class=\"data row1 col2\" >17.883</td>\n",
       "      <td id=\"T_fc7ed_row1_col3\" class=\"data row1 col3\" >int64</td>\n",
       "    </tr>\n",
       "    <tr>\n",
       "      <th id=\"T_fc7ed_level0_row2\" class=\"row_heading level0 row2\" >affiliate_id</th>\n",
       "      <td id=\"T_fc7ed_row2_col0\" class=\"data row2 col0\" >0</td>\n",
       "      <td id=\"T_fc7ed_row2_col1\" class=\"data row2 col1\" >0</td>\n",
       "      <td id=\"T_fc7ed_row2_col2\" class=\"data row2 col2\" >22.947</td>\n",
       "      <td id=\"T_fc7ed_row2_col3\" class=\"data row2 col3\" >int64</td>\n",
       "    </tr>\n",
       "    <tr>\n",
       "      <th id=\"T_fc7ed_level0_row3\" class=\"row_heading level0 row3\" >producer_id</th>\n",
       "      <td id=\"T_fc7ed_row3_col0\" class=\"data row3 col0\" >0</td>\n",
       "      <td id=\"T_fc7ed_row3_col1\" class=\"data row3 col1\" >0</td>\n",
       "      <td id=\"T_fc7ed_row3_col2\" class=\"data row3 col2\" >8.020</td>\n",
       "      <td id=\"T_fc7ed_row3_col3\" class=\"data row3 col3\" >int64</td>\n",
       "    </tr>\n",
       "    <tr>\n",
       "      <th id=\"T_fc7ed_level0_row4\" class=\"row_heading level0 row4\" >buyer_id</th>\n",
       "      <td id=\"T_fc7ed_row4_col0\" class=\"data row4 col0\" >0</td>\n",
       "      <td id=\"T_fc7ed_row4_col1\" class=\"data row4 col1\" >0</td>\n",
       "      <td id=\"T_fc7ed_row4_col2\" class=\"data row4 col2\" >1.100.649</td>\n",
       "      <td id=\"T_fc7ed_row4_col3\" class=\"data row4 col3\" >int64</td>\n",
       "    </tr>\n",
       "    <tr>\n",
       "      <th id=\"T_fc7ed_level0_row5\" class=\"row_heading level0 row5\" >purchase_date</th>\n",
       "      <td id=\"T_fc7ed_row5_col0\" class=\"data row5 col0\" >0</td>\n",
       "      <td id=\"T_fc7ed_row5_col1\" class=\"data row5 col1\" >0</td>\n",
       "      <td id=\"T_fc7ed_row5_col2\" class=\"data row5 col2\" >1.488.964</td>\n",
       "      <td id=\"T_fc7ed_row5_col3\" class=\"data row5 col3\" >datetime64[ns]</td>\n",
       "    </tr>\n",
       "    <tr>\n",
       "      <th id=\"T_fc7ed_level0_row6\" class=\"row_heading level0 row6\" >product_creation_date</th>\n",
       "      <td id=\"T_fc7ed_row6_col0\" class=\"data row6 col0\" >0</td>\n",
       "      <td id=\"T_fc7ed_row6_col1\" class=\"data row6 col1\" >0</td>\n",
       "      <td id=\"T_fc7ed_row6_col2\" class=\"data row6 col2\" >17.879</td>\n",
       "      <td id=\"T_fc7ed_row6_col3\" class=\"data row6 col3\" >datetime64[ns]</td>\n",
       "    </tr>\n",
       "    <tr>\n",
       "      <th id=\"T_fc7ed_level0_row7\" class=\"row_heading level0 row7\" >product_category</th>\n",
       "      <td id=\"T_fc7ed_row7_col0\" class=\"data row7 col0\" >0</td>\n",
       "      <td id=\"T_fc7ed_row7_col1\" class=\"data row7 col1\" >0</td>\n",
       "      <td id=\"T_fc7ed_row7_col2\" class=\"data row7 col2\" >10</td>\n",
       "      <td id=\"T_fc7ed_row7_col3\" class=\"data row7 col3\" >object</td>\n",
       "    </tr>\n",
       "    <tr>\n",
       "      <th id=\"T_fc7ed_level0_row8\" class=\"row_heading level0 row8\" >product_niche</th>\n",
       "      <td id=\"T_fc7ed_row8_col0\" class=\"data row8 col0\" >0</td>\n",
       "      <td id=\"T_fc7ed_row8_col1\" class=\"data row8 col1\" >0</td>\n",
       "      <td id=\"T_fc7ed_row8_col2\" class=\"data row8 col2\" >25</td>\n",
       "      <td id=\"T_fc7ed_row8_col3\" class=\"data row8 col3\" >object</td>\n",
       "    </tr>\n",
       "    <tr>\n",
       "      <th id=\"T_fc7ed_level0_row9\" class=\"row_heading level0 row9\" >purchase_value</th>\n",
       "      <td id=\"T_fc7ed_row9_col0\" class=\"data row9 col0\" >0</td>\n",
       "      <td id=\"T_fc7ed_row9_col1\" class=\"data row9 col1\" >0</td>\n",
       "      <td id=\"T_fc7ed_row9_col2\" class=\"data row9 col2\" >32.617</td>\n",
       "      <td id=\"T_fc7ed_row9_col3\" class=\"data row9 col3\" >float64</td>\n",
       "    </tr>\n",
       "    <tr>\n",
       "      <th id=\"T_fc7ed_level0_row10\" class=\"row_heading level0 row10\" >affiliate_commission_percentual</th>\n",
       "      <td id=\"T_fc7ed_row10_col0\" class=\"data row10 col0\" >0</td>\n",
       "      <td id=\"T_fc7ed_row10_col1\" class=\"data row10 col1\" >0</td>\n",
       "      <td id=\"T_fc7ed_row10_col2\" class=\"data row10 col2\" >280</td>\n",
       "      <td id=\"T_fc7ed_row10_col3\" class=\"data row10 col3\" >float64</td>\n",
       "    </tr>\n",
       "    <tr>\n",
       "      <th id=\"T_fc7ed_level0_row11\" class=\"row_heading level0 row11\" >purchase_device</th>\n",
       "      <td id=\"T_fc7ed_row11_col0\" class=\"data row11 col0\" >0</td>\n",
       "      <td id=\"T_fc7ed_row11_col1\" class=\"data row11 col1\" >0</td>\n",
       "      <td id=\"T_fc7ed_row11_col2\" class=\"data row11 col2\" >5</td>\n",
       "      <td id=\"T_fc7ed_row11_col3\" class=\"data row11 col3\" >object</td>\n",
       "    </tr>\n",
       "    <tr>\n",
       "      <th id=\"T_fc7ed_level0_row12\" class=\"row_heading level0 row12\" >purchase_origin</th>\n",
       "      <td id=\"T_fc7ed_row12_col0\" class=\"data row12 col0\" >0</td>\n",
       "      <td id=\"T_fc7ed_row12_col1\" class=\"data row12 col1\" >0</td>\n",
       "      <td id=\"T_fc7ed_row12_col2\" class=\"data row12 col2\" >9.603</td>\n",
       "      <td id=\"T_fc7ed_row12_col3\" class=\"data row12 col3\" >object</td>\n",
       "    </tr>\n",
       "    <tr>\n",
       "      <th id=\"T_fc7ed_level0_row13\" class=\"row_heading level0 row13\" >is_origin_page_social_network</th>\n",
       "      <td id=\"T_fc7ed_row13_col0\" class=\"data row13 col0\" >0</td>\n",
       "      <td id=\"T_fc7ed_row13_col1\" class=\"data row13 col1\" >0</td>\n",
       "      <td id=\"T_fc7ed_row13_col2\" class=\"data row13 col2\" >2</td>\n",
       "      <td id=\"T_fc7ed_row13_col3\" class=\"data row13 col3\" >bool</td>\n",
       "    </tr>\n",
       "    <tr>\n",
       "      <th id=\"T_fc7ed_level0_row14\" class=\"row_heading level0 row14\" >sell</th>\n",
       "      <td id=\"T_fc7ed_row14_col0\" class=\"data row14 col0\" >0</td>\n",
       "      <td id=\"T_fc7ed_row14_col1\" class=\"data row14 col1\" >0</td>\n",
       "      <td id=\"T_fc7ed_row14_col2\" class=\"data row14 col2\" >1</td>\n",
       "      <td id=\"T_fc7ed_row14_col3\" class=\"data row14 col3\" >int64</td>\n",
       "    </tr>\n",
       "    <tr>\n",
       "      <th id=\"T_fc7ed_level0_row15\" class=\"row_heading level0 row15\" >product_age_when_purchased</th>\n",
       "      <td id=\"T_fc7ed_row15_col0\" class=\"data row15 col0\" >0</td>\n",
       "      <td id=\"T_fc7ed_row15_col1\" class=\"data row15 col1\" >0</td>\n",
       "      <td id=\"T_fc7ed_row15_col2\" class=\"data row15 col2\" >93</td>\n",
       "      <td id=\"T_fc7ed_row15_col3\" class=\"data row15 col3\" >int64</td>\n",
       "    </tr>\n",
       "  </tbody>\n",
       "</table>\n"
      ],
      "text/plain": [
       "<pandas.io.formats.style.Styler at 0x7f6cd9e6f2e0>"
      ]
     },
     "metadata": {},
     "output_type": "display_data"
    },
    {
     "name": "stdout",
     "output_type": "stream",
     "text": [
      "-----------------------------\n",
      "\n",
      " Dataframe shape is (1599828, 16) \n",
      "\n",
      "-----------------------------\n",
      "\n",
      "\n",
      "Statistics for Numerical Variables [NaNs are ignored]:\n"
     ]
    },
    {
     "data": {
      "text/html": [
       "<style type=\"text/css\">\n",
       "#T_5a6e8_row0_col5, #T_5a6e8_row0_col6, #T_5a6e8_row1_col5, #T_5a6e8_row1_col6, #T_5a6e8_row2_col5, #T_5a6e8_row2_col6, #T_5a6e8_row3_col5, #T_5a6e8_row3_col6, #T_5a6e8_row4_col5, #T_5a6e8_row4_col6, #T_5a6e8_row5_col5, #T_5a6e8_row5_col6, #T_5a6e8_row6_col5, #T_5a6e8_row6_col6, #T_5a6e8_row7_col5, #T_5a6e8_row7_col6, #T_5a6e8_row8_col5, #T_5a6e8_row8_col6 {\n",
       "  background-color: Navy;\n",
       "  color: White;\n",
       "}\n",
       "</style>\n",
       "<table id=\"T_5a6e8\">\n",
       "  <thead>\n",
       "    <tr>\n",
       "      <th class=\"blank level0\" >&nbsp;</th>\n",
       "      <th id=\"T_5a6e8_level0_col0\" class=\"col_heading level0 col0\" >attribute</th>\n",
       "      <th id=\"T_5a6e8_level0_col1\" class=\"col_heading level0 col1\" >mean</th>\n",
       "      <th id=\"T_5a6e8_level0_col2\" class=\"col_heading level0 col2\" >median</th>\n",
       "      <th id=\"T_5a6e8_level0_col3\" class=\"col_heading level0 col3\" >std</th>\n",
       "      <th id=\"T_5a6e8_level0_col4\" class=\"col_heading level0 col4\" >iqr</th>\n",
       "      <th id=\"T_5a6e8_level0_col5\" class=\"col_heading level0 col5\" >min</th>\n",
       "      <th id=\"T_5a6e8_level0_col6\" class=\"col_heading level0 col6\" >max</th>\n",
       "      <th id=\"T_5a6e8_level0_col7\" class=\"col_heading level0 col7\" >range</th>\n",
       "      <th id=\"T_5a6e8_level0_col8\" class=\"col_heading level0 col8\" >skew</th>\n",
       "      <th id=\"T_5a6e8_level0_col9\" class=\"col_heading level0 col9\" >kurtosis</th>\n",
       "    </tr>\n",
       "  </thead>\n",
       "  <tbody>\n",
       "    <tr>\n",
       "      <th id=\"T_5a6e8_level0_row0\" class=\"row_heading level0 row0\" >0</th>\n",
       "      <td id=\"T_5a6e8_row0_col0\" class=\"data row0 col0\" >purchase_id</td>\n",
       "      <td id=\"T_5a6e8_row0_col1\" class=\"data row0 col1\" >12.445.456,601</td>\n",
       "      <td id=\"T_5a6e8_row0_col2\" class=\"data row0 col2\" >12.468.487,500</td>\n",
       "      <td id=\"T_5a6e8_row0_col3\" class=\"data row0 col3\" >917.581,737</td>\n",
       "      <td id=\"T_5a6e8_row0_col4\" class=\"data row0 col4\" >1.579.356,500</td>\n",
       "      <td id=\"T_5a6e8_row0_col5\" class=\"data row0 col5\" >1.663.958,000</td>\n",
       "      <td id=\"T_5a6e8_row0_col6\" class=\"data row0 col6\" >14.357.203,000</td>\n",
       "      <td id=\"T_5a6e8_row0_col7\" class=\"data row0 col7\" >12.693.245,000</td>\n",
       "      <td id=\"T_5a6e8_row0_col8\" class=\"data row0 col8\" >-0,090</td>\n",
       "      <td id=\"T_5a6e8_row0_col9\" class=\"data row0 col9\" >-0,756</td>\n",
       "    </tr>\n",
       "    <tr>\n",
       "      <th id=\"T_5a6e8_level0_row1\" class=\"row_heading level0 row1\" >1</th>\n",
       "      <td id=\"T_5a6e8_row1_col0\" class=\"data row1 col0\" >product_id</td>\n",
       "      <td id=\"T_5a6e8_row1_col1\" class=\"data row1 col1\" >148.595,814</td>\n",
       "      <td id=\"T_5a6e8_row1_col2\" class=\"data row1 col2\" >154.310,000</td>\n",
       "      <td id=\"T_5a6e8_row1_col3\" class=\"data row1 col3\" >55.543,152</td>\n",
       "      <td id=\"T_5a6e8_row1_col4\" class=\"data row1 col4\" >81.796,000</td>\n",
       "      <td id=\"T_5a6e8_row1_col5\" class=\"data row1 col5\" >4,000</td>\n",
       "      <td id=\"T_5a6e8_row1_col6\" class=\"data row1 col6\" >319.129,000</td>\n",
       "      <td id=\"T_5a6e8_row1_col7\" class=\"data row1 col7\" >319.125,000</td>\n",
       "      <td id=\"T_5a6e8_row1_col8\" class=\"data row1 col8\" >-0,482</td>\n",
       "      <td id=\"T_5a6e8_row1_col9\" class=\"data row1 col9\" >-0,702</td>\n",
       "    </tr>\n",
       "    <tr>\n",
       "      <th id=\"T_5a6e8_level0_row2\" class=\"row_heading level0 row2\" >2</th>\n",
       "      <td id=\"T_5a6e8_row2_col0\" class=\"data row2 col0\" >affiliate_id</td>\n",
       "      <td id=\"T_5a6e8_row2_col1\" class=\"data row2 col1\" >2.297.500,688</td>\n",
       "      <td id=\"T_5a6e8_row2_col2\" class=\"data row2 col2\" >1.690.428,000</td>\n",
       "      <td id=\"T_5a6e8_row2_col3\" class=\"data row2 col3\" >2.092.655,502</td>\n",
       "      <td id=\"T_5a6e8_row2_col4\" class=\"data row2 col4\" >3.549.994,000</td>\n",
       "      <td id=\"T_5a6e8_row2_col5\" class=\"data row2 col5\" >3,000</td>\n",
       "      <td id=\"T_5a6e8_row2_col6\" class=\"data row2 col6\" >7.700.836,000</td>\n",
       "      <td id=\"T_5a6e8_row2_col7\" class=\"data row2 col7\" >7.700.833,000</td>\n",
       "      <td id=\"T_5a6e8_row2_col8\" class=\"data row2 col8\" >0,651</td>\n",
       "      <td id=\"T_5a6e8_row2_col9\" class=\"data row2 col9\" >-0,823</td>\n",
       "    </tr>\n",
       "    <tr>\n",
       "      <th id=\"T_5a6e8_level0_row3\" class=\"row_heading level0 row3\" >3</th>\n",
       "      <td id=\"T_5a6e8_row3_col0\" class=\"data row3 col0\" >producer_id</td>\n",
       "      <td id=\"T_5a6e8_row3_col1\" class=\"data row3 col1\" >2.164.479,522</td>\n",
       "      <td id=\"T_5a6e8_row3_col2\" class=\"data row3 col2\" >1.377.289,000</td>\n",
       "      <td id=\"T_5a6e8_row3_col3\" class=\"data row3 col3\" >2.038.959,782</td>\n",
       "      <td id=\"T_5a6e8_row3_col4\" class=\"data row3 col4\" >3.366.648,000</td>\n",
       "      <td id=\"T_5a6e8_row3_col5\" class=\"data row3 col5\" >3,000</td>\n",
       "      <td id=\"T_5a6e8_row3_col6\" class=\"data row3 col6\" >9.868.481,000</td>\n",
       "      <td id=\"T_5a6e8_row3_col7\" class=\"data row3 col7\" >9.868.478,000</td>\n",
       "      <td id=\"T_5a6e8_row3_col8\" class=\"data row3 col8\" >0,724</td>\n",
       "      <td id=\"T_5a6e8_row3_col9\" class=\"data row3 col9\" >-0,699</td>\n",
       "    </tr>\n",
       "    <tr>\n",
       "      <th id=\"T_5a6e8_level0_row4\" class=\"row_heading level0 row4\" >4</th>\n",
       "      <td id=\"T_5a6e8_row4_col0\" class=\"data row4 col0\" >buyer_id</td>\n",
       "      <td id=\"T_5a6e8_row4_col1\" class=\"data row4 col1\" >5.187.551,341</td>\n",
       "      <td id=\"T_5a6e8_row4_col2\" class=\"data row4 col2\" >5.999.153,500</td>\n",
       "      <td id=\"T_5a6e8_row4_col3\" class=\"data row4 col3\" >2.199.255,869</td>\n",
       "      <td id=\"T_5a6e8_row4_col4\" class=\"data row4 col4\" >3.216.124,250</td>\n",
       "      <td id=\"T_5a6e8_row4_col5\" class=\"data row4 col5\" >60,000</td>\n",
       "      <td id=\"T_5a6e8_row4_col6\" class=\"data row4 col6\" >12.014.792,000</td>\n",
       "      <td id=\"T_5a6e8_row4_col7\" class=\"data row4 col7\" >12.014.732,000</td>\n",
       "      <td id=\"T_5a6e8_row4_col8\" class=\"data row4 col8\" >-0,878</td>\n",
       "      <td id=\"T_5a6e8_row4_col9\" class=\"data row4 col9\" >-0,492</td>\n",
       "    </tr>\n",
       "    <tr>\n",
       "      <th id=\"T_5a6e8_level0_row5\" class=\"row_heading level0 row5\" >5</th>\n",
       "      <td id=\"T_5a6e8_row5_col0\" class=\"data row5 col0\" >purchase_value</td>\n",
       "      <td id=\"T_5a6e8_row5_col1\" class=\"data row5 col1\" >0,000</td>\n",
       "      <td id=\"T_5a6e8_row5_col2\" class=\"data row5 col2\" >-0,350</td>\n",
       "      <td id=\"T_5a6e8_row5_col3\" class=\"data row5 col3\" >1,000</td>\n",
       "      <td id=\"T_5a6e8_row5_col4\" class=\"data row5 col4\" >0,518</td>\n",
       "      <td id=\"T_5a6e8_row5_col5\" class=\"data row5 col5\" >-0,541</td>\n",
       "      <td id=\"T_5a6e8_row5_col6\" class=\"data row5 col6\" >124,561</td>\n",
       "      <td id=\"T_5a6e8_row5_col7\" class=\"data row5 col7\" >125,102</td>\n",
       "      <td id=\"T_5a6e8_row5_col8\" class=\"data row5 col8\" >10,817</td>\n",
       "      <td id=\"T_5a6e8_row5_col9\" class=\"data row5 col9\" >629,206</td>\n",
       "    </tr>\n",
       "    <tr>\n",
       "      <th id=\"T_5a6e8_level0_row6\" class=\"row_heading level0 row6\" >6</th>\n",
       "      <td id=\"T_5a6e8_row6_col0\" class=\"data row6 col0\" >affiliate_commission_percentual</td>\n",
       "      <td id=\"T_5a6e8_row6_col1\" class=\"data row6 col1\" >7,595</td>\n",
       "      <td id=\"T_5a6e8_row6_col2\" class=\"data row6 col2\" >0,000</td>\n",
       "      <td id=\"T_5a6e8_row6_col3\" class=\"data row6 col3\" >18,476</td>\n",
       "      <td id=\"T_5a6e8_row6_col4\" class=\"data row6 col4\" >0,000</td>\n",
       "      <td id=\"T_5a6e8_row6_col5\" class=\"data row6 col5\" >-1,000</td>\n",
       "      <td id=\"T_5a6e8_row6_col6\" class=\"data row6 col6\" >100,000</td>\n",
       "      <td id=\"T_5a6e8_row6_col7\" class=\"data row6 col7\" >101,000</td>\n",
       "      <td id=\"T_5a6e8_row6_col8\" class=\"data row6 col8\" >2,259</td>\n",
       "      <td id=\"T_5a6e8_row6_col9\" class=\"data row6 col9\" >3,754</td>\n",
       "    </tr>\n",
       "    <tr>\n",
       "      <th id=\"T_5a6e8_level0_row7\" class=\"row_heading level0 row7\" >7</th>\n",
       "      <td id=\"T_5a6e8_row7_col0\" class=\"data row7 col0\" >sell</td>\n",
       "      <td id=\"T_5a6e8_row7_col1\" class=\"data row7 col1\" >1,000</td>\n",
       "      <td id=\"T_5a6e8_row7_col2\" class=\"data row7 col2\" >1,000</td>\n",
       "      <td id=\"T_5a6e8_row7_col3\" class=\"data row7 col3\" >0,000</td>\n",
       "      <td id=\"T_5a6e8_row7_col4\" class=\"data row7 col4\" >0,000</td>\n",
       "      <td id=\"T_5a6e8_row7_col5\" class=\"data row7 col5\" >1,000</td>\n",
       "      <td id=\"T_5a6e8_row7_col6\" class=\"data row7 col6\" >1,000</td>\n",
       "      <td id=\"T_5a6e8_row7_col7\" class=\"data row7 col7\" >0,000</td>\n",
       "      <td id=\"T_5a6e8_row7_col8\" class=\"data row7 col8\" >0,000</td>\n",
       "      <td id=\"T_5a6e8_row7_col9\" class=\"data row7 col9\" >0,000</td>\n",
       "    </tr>\n",
       "    <tr>\n",
       "      <th id=\"T_5a6e8_level0_row8\" class=\"row_heading level0 row8\" >8</th>\n",
       "      <td id=\"T_5a6e8_row8_col0\" class=\"data row8 col0\" >product_age_when_purchased</td>\n",
       "      <td id=\"T_5a6e8_row8_col1\" class=\"data row8 col1\" >13,416</td>\n",
       "      <td id=\"T_5a6e8_row8_col2\" class=\"data row8 col2\" >10,000</td>\n",
       "      <td id=\"T_5a6e8_row8_col3\" class=\"data row8 col3\" >12,933</td>\n",
       "      <td id=\"T_5a6e8_row8_col4\" class=\"data row8 col4\" >17,000</td>\n",
       "      <td id=\"T_5a6e8_row8_col5\" class=\"data row8 col5\" >-6,000</td>\n",
       "      <td id=\"T_5a6e8_row8_col6\" class=\"data row8 col6\" >91,000</td>\n",
       "      <td id=\"T_5a6e8_row8_col7\" class=\"data row8 col7\" >97,000</td>\n",
       "      <td id=\"T_5a6e8_row8_col8\" class=\"data row8 col8\" >1,277</td>\n",
       "      <td id=\"T_5a6e8_row8_col9\" class=\"data row8 col9\" >1,555</td>\n",
       "    </tr>\n",
       "  </tbody>\n",
       "</table>\n"
      ],
      "text/plain": [
       "<pandas.io.formats.style.Styler at 0x7f6cd9e6cb50>"
      ]
     },
     "metadata": {},
     "output_type": "display_data"
    },
    {
     "name": "stdout",
     "output_type": "stream",
     "text": [
      "-----------------------------\n",
      "\n",
      "\n",
      "dataframe.sample(5)\n"
     ]
    },
    {
     "data": {
      "text/html": [
       "<div>\n",
       "<style scoped>\n",
       "    .dataframe tbody tr th:only-of-type {\n",
       "        vertical-align: middle;\n",
       "    }\n",
       "\n",
       "    .dataframe tbody tr th {\n",
       "        vertical-align: top;\n",
       "    }\n",
       "\n",
       "    .dataframe thead th {\n",
       "        text-align: right;\n",
       "    }\n",
       "</style>\n",
       "<table border=\"1\" class=\"dataframe\">\n",
       "  <thead>\n",
       "    <tr style=\"text-align: right;\">\n",
       "      <th></th>\n",
       "      <th>purchase_id</th>\n",
       "      <th>product_id</th>\n",
       "      <th>affiliate_id</th>\n",
       "      <th>producer_id</th>\n",
       "      <th>buyer_id</th>\n",
       "      <th>purchase_date</th>\n",
       "      <th>product_creation_date</th>\n",
       "      <th>product_category</th>\n",
       "      <th>product_niche</th>\n",
       "      <th>purchase_value</th>\n",
       "      <th>affiliate_commission_percentual</th>\n",
       "      <th>purchase_device</th>\n",
       "      <th>purchase_origin</th>\n",
       "      <th>is_origin_page_social_network</th>\n",
       "      <th>sell</th>\n",
       "      <th>product_age_when_purchased</th>\n",
       "    </tr>\n",
       "  </thead>\n",
       "  <tbody>\n",
       "    <tr>\n",
       "      <th>662683</th>\n",
       "      <td>12190082</td>\n",
       "      <td>175928</td>\n",
       "      <td>366308</td>\n",
       "      <td>366308</td>\n",
       "      <td>6843836</td>\n",
       "      <td>2016-03-21 20:09:39</td>\n",
       "      <td>2015-09-25 22:05:39</td>\n",
       "      <td>Phisical book</td>\n",
       "      <td>Organization</td>\n",
       "      <td>-0.4</td>\n",
       "      <td>0.0</td>\n",
       "      <td>eReaders</td>\n",
       "      <td>Origin 22fb</td>\n",
       "      <td>True</td>\n",
       "      <td>1</td>\n",
       "      <td>6</td>\n",
       "    </tr>\n",
       "    <tr>\n",
       "      <th>1126243</th>\n",
       "      <td>13094681</td>\n",
       "      <td>42903</td>\n",
       "      <td>589948</td>\n",
       "      <td>442241</td>\n",
       "      <td>5754510</td>\n",
       "      <td>2016-05-11 02:32:30</td>\n",
       "      <td>2012-09-26 15:54:59</td>\n",
       "      <td>Phisical book</td>\n",
       "      <td>YouTube video creation</td>\n",
       "      <td>-0.3</td>\n",
       "      <td>0.0</td>\n",
       "      <td>Desktop</td>\n",
       "      <td>Origin b472</td>\n",
       "      <td>True</td>\n",
       "      <td>1</td>\n",
       "      <td>44</td>\n",
       "    </tr>\n",
       "    <tr>\n",
       "      <th>1434214</th>\n",
       "      <td>13685087</td>\n",
       "      <td>72421</td>\n",
       "      <td>426265</td>\n",
       "      <td>426265</td>\n",
       "      <td>4057795</td>\n",
       "      <td>2016-06-12 19:10:32</td>\n",
       "      <td>2013-10-02 18:58:40</td>\n",
       "      <td>Phisical book</td>\n",
       "      <td>Negotiation</td>\n",
       "      <td>-0.5</td>\n",
       "      <td>0.0</td>\n",
       "      <td>Smart TV</td>\n",
       "      <td>Origin ef2b</td>\n",
       "      <td>True</td>\n",
       "      <td>1</td>\n",
       "      <td>32</td>\n",
       "    </tr>\n",
       "    <tr>\n",
       "      <th>1138479</th>\n",
       "      <td>13117030</td>\n",
       "      <td>187569</td>\n",
       "      <td>4956732</td>\n",
       "      <td>4956732</td>\n",
       "      <td>6763647</td>\n",
       "      <td>2016-05-12 14:56:03</td>\n",
       "      <td>2015-11-23 18:16:50</td>\n",
       "      <td>Phisical book</td>\n",
       "      <td>Personal finance</td>\n",
       "      <td>-0.0</td>\n",
       "      <td>0.0</td>\n",
       "      <td>Smart TV</td>\n",
       "      <td>Origin ef2b</td>\n",
       "      <td>True</td>\n",
       "      <td>1</td>\n",
       "      <td>6</td>\n",
       "    </tr>\n",
       "    <tr>\n",
       "      <th>697213</th>\n",
       "      <td>12258964</td>\n",
       "      <td>97603</td>\n",
       "      <td>2724</td>\n",
       "      <td>2724</td>\n",
       "      <td>6875936</td>\n",
       "      <td>2016-03-26 11:48:18</td>\n",
       "      <td>2014-04-28 10:16:14</td>\n",
       "      <td>Phisical book</td>\n",
       "      <td>Immigration</td>\n",
       "      <td>-0.3</td>\n",
       "      <td>0.0</td>\n",
       "      <td>eReaders</td>\n",
       "      <td>Origin b8ef</td>\n",
       "      <td>True</td>\n",
       "      <td>1</td>\n",
       "      <td>23</td>\n",
       "    </tr>\n",
       "  </tbody>\n",
       "</table>\n",
       "<p>5 rows × 16 columns</p>\n",
       "</div>"
      ],
      "text/plain": [
       "         purchase_id  product_id  affiliate_id  producer_id  buyer_id   \n",
       "662683      12190082      175928        366308       366308   6843836  \\\n",
       "1126243     13094681       42903        589948       442241   5754510   \n",
       "1434214     13685087       72421        426265       426265   4057795   \n",
       "1138479     13117030      187569       4956732      4956732   6763647   \n",
       "697213      12258964       97603          2724         2724   6875936   \n",
       "\n",
       "              purchase_date product_creation_date product_category   \n",
       "662683  2016-03-21 20:09:39   2015-09-25 22:05:39    Phisical book  \\\n",
       "1126243 2016-05-11 02:32:30   2012-09-26 15:54:59    Phisical book   \n",
       "1434214 2016-06-12 19:10:32   2013-10-02 18:58:40    Phisical book   \n",
       "1138479 2016-05-12 14:56:03   2015-11-23 18:16:50    Phisical book   \n",
       "697213  2016-03-26 11:48:18   2014-04-28 10:16:14    Phisical book   \n",
       "\n",
       "                  product_niche  purchase_value   \n",
       "662683             Organization            -0.4  \\\n",
       "1126243  YouTube video creation            -0.3   \n",
       "1434214             Negotiation            -0.5   \n",
       "1138479        Personal finance            -0.0   \n",
       "697213              Immigration            -0.3   \n",
       "\n",
       "         affiliate_commission_percentual purchase_device purchase_origin   \n",
       "662683                               0.0        eReaders     Origin 22fb  \\\n",
       "1126243                              0.0         Desktop     Origin b472   \n",
       "1434214                              0.0        Smart TV     Origin ef2b   \n",
       "1138479                              0.0        Smart TV     Origin ef2b   \n",
       "697213                               0.0        eReaders     Origin b8ef   \n",
       "\n",
       "         is_origin_page_social_network  sell  product_age_when_purchased  \n",
       "662683                            True     1                           6  \n",
       "1126243                           True     1                          44  \n",
       "1434214                           True     1                          32  \n",
       "1138479                           True     1                           6  \n",
       "697213                            True     1                          23  \n",
       "\n",
       "[5 rows x 16 columns]"
      ]
     },
     "metadata": {},
     "output_type": "display_data"
    },
    {
     "name": "stdout",
     "output_type": "stream",
     "text": [
      "*************************************************\n"
     ]
    }
   ],
   "source": [
    "# create a restore point for the previous section dataframe\n",
    "df_filter = df_f_eng.copy()\n",
    "\n",
    "# check dataframe\n",
    "check_dataframe( df_filter, summary_stats=True )"
   ]
  },
  {
   "attachments": {},
   "cell_type": "markdown",
   "id": "196cddb7",
   "metadata": {
    "ExecuteTime": {
     "end_time": "2021-11-08T18:08:30.512496Z",
     "start_time": "2021-11-08T18:08:30.507268Z"
    },
    "heading_collapsed": true,
    "hidden": true
   },
   "source": [
    "## 4.2 Rows Filtering"
   ]
  },
  {
   "attachments": {},
   "cell_type": "markdown",
   "id": "8253646d",
   "metadata": {},
   "source": [
    "*Remove rows with meaningless (or unimportant) data*"
   ]
  },
  {
   "attachments": {},
   "cell_type": "markdown",
   "id": "28b456d1",
   "metadata": {},
   "source": [
    "### purchase_value column"
   ]
  },
  {
   "cell_type": "code",
   "execution_count": 35,
   "id": "74a1e2db",
   "metadata": {},
   "outputs": [],
   "source": [
    "# According to business rule:\n",
    "# - purchase_value: valor da compra. Esse dado, assim como nicho e categoria foi codificado para manter a  confidencialidade. O valor apresentado no dataset é o **z-score** do valor real;\n",
    "# So it is fine to have negative values! ---> no need to filter rows!"
   ]
  },
  {
   "attachments": {},
   "cell_type": "markdown",
   "id": "5c244bd4",
   "metadata": {},
   "source": [
    "### product_age_when_purchased column"
   ]
  },
  {
   "cell_type": "code",
   "execution_count": 36,
   "id": "457347a6",
   "metadata": {
    "ExecuteTime": {
     "end_time": "2021-11-22T11:35:16.193901Z",
     "start_time": "2021-11-22T11:35:16.190106Z"
    },
    "hidden": true,
    "scrolled": true
   },
   "outputs": [
    {
     "data": {
      "text/html": [
       "<div>\n",
       "<style scoped>\n",
       "    .dataframe tbody tr th:only-of-type {\n",
       "        vertical-align: middle;\n",
       "    }\n",
       "\n",
       "    .dataframe tbody tr th {\n",
       "        vertical-align: top;\n",
       "    }\n",
       "\n",
       "    .dataframe thead th {\n",
       "        text-align: right;\n",
       "    }\n",
       "</style>\n",
       "<table border=\"1\" class=\"dataframe\">\n",
       "  <thead>\n",
       "    <tr style=\"text-align: right;\">\n",
       "      <th></th>\n",
       "      <th>purchase_id</th>\n",
       "      <th>product_id</th>\n",
       "      <th>affiliate_id</th>\n",
       "      <th>producer_id</th>\n",
       "      <th>buyer_id</th>\n",
       "      <th>purchase_date</th>\n",
       "      <th>product_creation_date</th>\n",
       "      <th>product_category</th>\n",
       "      <th>product_niche</th>\n",
       "      <th>purchase_value</th>\n",
       "      <th>affiliate_commission_percentual</th>\n",
       "      <th>purchase_device</th>\n",
       "      <th>purchase_origin</th>\n",
       "      <th>is_origin_page_social_network</th>\n",
       "      <th>sell</th>\n",
       "      <th>product_age_when_purchased</th>\n",
       "    </tr>\n",
       "  </thead>\n",
       "  <tbody>\n",
       "    <tr>\n",
       "      <th>1394257</th>\n",
       "      <td>13609042</td>\n",
       "      <td>319129</td>\n",
       "      <td>1738263</td>\n",
       "      <td>9868481</td>\n",
       "      <td>7049073</td>\n",
       "      <td>2016-06-08 19:41:27</td>\n",
       "      <td>2016-12-31 13:43:50</td>\n",
       "      <td>Phisical book</td>\n",
       "      <td>Negotiation</td>\n",
       "      <td>3.4</td>\n",
       "      <td>20.0</td>\n",
       "      <td>Desktop</td>\n",
       "      <td>Origin 5187</td>\n",
       "      <td>True</td>\n",
       "      <td>1</td>\n",
       "      <td>-6</td>\n",
       "    </tr>\n",
       "    <tr>\n",
       "      <th>1438238</th>\n",
       "      <td>13692956</td>\n",
       "      <td>319129</td>\n",
       "      <td>599274</td>\n",
       "      <td>9868481</td>\n",
       "      <td>4450488</td>\n",
       "      <td>2016-06-13 05:57:13</td>\n",
       "      <td>2016-12-31 13:43:50</td>\n",
       "      <td>Phisical book</td>\n",
       "      <td>Negotiation</td>\n",
       "      <td>3.5</td>\n",
       "      <td>30.0</td>\n",
       "      <td>Desktop</td>\n",
       "      <td>Origin 6c05</td>\n",
       "      <td>True</td>\n",
       "      <td>1</td>\n",
       "      <td>-6</td>\n",
       "    </tr>\n",
       "  </tbody>\n",
       "</table>\n",
       "<p>2 rows × 16 columns</p>\n",
       "</div>"
      ],
      "text/plain": [
       "         purchase_id  product_id  affiliate_id  producer_id  buyer_id   \n",
       "1394257     13609042      319129       1738263      9868481   7049073  \\\n",
       "1438238     13692956      319129        599274      9868481   4450488   \n",
       "\n",
       "              purchase_date product_creation_date product_category   \n",
       "1394257 2016-06-08 19:41:27   2016-12-31 13:43:50    Phisical book  \\\n",
       "1438238 2016-06-13 05:57:13   2016-12-31 13:43:50    Phisical book   \n",
       "\n",
       "        product_niche  purchase_value  affiliate_commission_percentual   \n",
       "1394257   Negotiation             3.4                             20.0  \\\n",
       "1438238   Negotiation             3.5                             30.0   \n",
       "\n",
       "        purchase_device purchase_origin  is_origin_page_social_network  sell   \n",
       "1394257         Desktop     Origin 5187                           True     1  \\\n",
       "1438238         Desktop     Origin 6c05                           True     1   \n",
       "\n",
       "         product_age_when_purchased  \n",
       "1394257                          -6  \n",
       "1438238                          -6  \n",
       "\n",
       "[2 rows x 16 columns]"
      ]
     },
     "execution_count": 36,
     "metadata": {},
     "output_type": "execute_result"
    }
   ],
   "source": [
    "# check negative product_age_when_purchased\n",
    "df_filter[df_filter[\"product_age_when_purchased\"] < 0]\n"
   ]
  },
  {
   "cell_type": "code",
   "execution_count": 37,
   "id": "3ef558e8",
   "metadata": {},
   "outputs": [],
   "source": [
    "# define shape before filtering data\n",
    "shape_before = df_filter.shape\n",
    "\n",
    "# it order to avoid misleading data (product was sold before being created)\n",
    "# we will remove these rows\n",
    "df_filter = df_filter[df_filter[\"product_age_when_purchased\"] >= 0]\n",
    "\n",
    "# sanity check\n",
    "assert (\n",
    "    df_filter.shape[0] == shape_before[0] - 2\n",
    ") & (\n",
    "    df_filter.shape[1] == shape_before[1]\n",
    "), \"Misleading rows filtering!\""
   ]
  },
  {
   "attachments": {},
   "cell_type": "markdown",
   "id": "1ca35d9b",
   "metadata": {},
   "source": [
    "## 4.3 - Columns Filtering"
   ]
  },
  {
   "attachments": {},
   "cell_type": "markdown",
   "id": "9acd7efd",
   "metadata": {},
   "source": [
    "*Remove auxiliary columns or columns that won't be available in the prediction moment*"
   ]
  },
  {
   "attachments": {},
   "cell_type": "markdown",
   "id": "0c088b9e",
   "metadata": {},
   "source": [
    "### sell column"
   ]
  },
  {
   "cell_type": "code",
   "execution_count": 38,
   "id": "bfd86022",
   "metadata": {},
   "outputs": [
    {
     "name": "stdout",
     "output_type": "stream",
     "text": [
      "Unique values in colum 'sell': {1}\n"
     ]
    }
   ],
   "source": [
    "# TO-DO\n",
    "# print report\n",
    "print(\n",
    "    f\"Unique values in colum 'sell': {set(df_filter['sell'].tolist())}\"\n",
    ")"
   ]
  },
  {
   "cell_type": "code",
   "execution_count": 39,
   "id": "bbf4b202",
   "metadata": {},
   "outputs": [],
   "source": [
    "# define shape before filtering data\n",
    "shape_before = df_filter.shape\n",
    "\n",
    "# column sell is a constant column ---> remove it\n",
    "df_filter = df_filter.drop(columns=[\"sell\"])\n",
    "\n",
    "# sanity check\n",
    "# sanity check\n",
    "assert (\n",
    "    df_filter.shape[0] == shape_before[0]\n",
    ") & (\n",
    "    df_filter.shape[1] == shape_before[1] - 1\n",
    "), \"Misleading columns filtering!\""
   ]
  },
  {
   "attachments": {},
   "cell_type": "markdown",
   "id": "36158fe8",
   "metadata": {
    "heading_collapsed": true
   },
   "source": [
    "# **5 - EXPLORATORY DATA ANALYSIS**"
   ]
  },
  {
   "attachments": {},
   "cell_type": "markdown",
   "id": "e109374b",
   "metadata": {
    "heading_collapsed": true,
    "hidden": true
   },
   "source": [
    "## 5.1 - Restore Point"
   ]
  },
  {
   "attachments": {},
   "cell_type": "markdown",
   "id": "2b6245ee",
   "metadata": {},
   "source": [
    "*Create a checkpoint of the last dataframe from previous section*"
   ]
  },
  {
   "cell_type": "code",
   "execution_count": 40,
   "id": "9ec1c6c5",
   "metadata": {
    "ExecuteTime": {
     "end_time": "2021-11-22T11:35:18.508075Z",
     "start_time": "2021-11-22T11:35:17.992047Z"
    },
    "hidden": true,
    "scrolled": true
   },
   "outputs": [
    {
     "name": "stdout",
     "output_type": "stream",
     "text": [
      "*************************************************\n",
      "Dataframe size in memory: 579.112 MB \n",
      "\n",
      "-----------------------------\n",
      "Dataframe overview:\n"
     ]
    },
    {
     "data": {
      "text/html": [
       "<style type=\"text/css\">\n",
       "#T_d2613_row0_col1, #T_d2613_row0_col3, #T_d2613_row1_col1, #T_d2613_row1_col3, #T_d2613_row2_col1, #T_d2613_row2_col3, #T_d2613_row3_col1, #T_d2613_row3_col3, #T_d2613_row4_col1, #T_d2613_row4_col3, #T_d2613_row5_col1, #T_d2613_row5_col3, #T_d2613_row6_col1, #T_d2613_row6_col3, #T_d2613_row7_col1, #T_d2613_row7_col3, #T_d2613_row8_col1, #T_d2613_row8_col3, #T_d2613_row9_col1, #T_d2613_row9_col3, #T_d2613_row10_col1, #T_d2613_row10_col3, #T_d2613_row11_col1, #T_d2613_row11_col3, #T_d2613_row12_col1, #T_d2613_row12_col3, #T_d2613_row13_col1, #T_d2613_row13_col3, #T_d2613_row14_col1, #T_d2613_row14_col3 {\n",
       "  background-color: Navy;\n",
       "  color: White;\n",
       "}\n",
       "</style>\n",
       "<table id=\"T_d2613\">\n",
       "  <thead>\n",
       "    <tr>\n",
       "      <th class=\"blank level0\" >&nbsp;</th>\n",
       "      <th id=\"T_d2613_level0_col0\" class=\"col_heading level0 col0\" >Num NAs</th>\n",
       "      <th id=\"T_d2613_level0_col1\" class=\"col_heading level0 col1\" >Percent NAs</th>\n",
       "      <th id=\"T_d2613_level0_col2\" class=\"col_heading level0 col2\" >Num unique [include NAs]</th>\n",
       "      <th id=\"T_d2613_level0_col3\" class=\"col_heading level0 col3\" >Data Type</th>\n",
       "    </tr>\n",
       "  </thead>\n",
       "  <tbody>\n",
       "    <tr>\n",
       "      <th id=\"T_d2613_level0_row0\" class=\"row_heading level0 row0\" >purchase_id</th>\n",
       "      <td id=\"T_d2613_row0_col0\" class=\"data row0 col0\" >0</td>\n",
       "      <td id=\"T_d2613_row0_col1\" class=\"data row0 col1\" >0</td>\n",
       "      <td id=\"T_d2613_row0_col2\" class=\"data row0 col2\" >1.599.826</td>\n",
       "      <td id=\"T_d2613_row0_col3\" class=\"data row0 col3\" >int64</td>\n",
       "    </tr>\n",
       "    <tr>\n",
       "      <th id=\"T_d2613_level0_row1\" class=\"row_heading level0 row1\" >product_id</th>\n",
       "      <td id=\"T_d2613_row1_col0\" class=\"data row1 col0\" >0</td>\n",
       "      <td id=\"T_d2613_row1_col1\" class=\"data row1 col1\" >0</td>\n",
       "      <td id=\"T_d2613_row1_col2\" class=\"data row1 col2\" >17.882</td>\n",
       "      <td id=\"T_d2613_row1_col3\" class=\"data row1 col3\" >int64</td>\n",
       "    </tr>\n",
       "    <tr>\n",
       "      <th id=\"T_d2613_level0_row2\" class=\"row_heading level0 row2\" >affiliate_id</th>\n",
       "      <td id=\"T_d2613_row2_col0\" class=\"data row2 col0\" >0</td>\n",
       "      <td id=\"T_d2613_row2_col1\" class=\"data row2 col1\" >0</td>\n",
       "      <td id=\"T_d2613_row2_col2\" class=\"data row2 col2\" >22.947</td>\n",
       "      <td id=\"T_d2613_row2_col3\" class=\"data row2 col3\" >int64</td>\n",
       "    </tr>\n",
       "    <tr>\n",
       "      <th id=\"T_d2613_level0_row3\" class=\"row_heading level0 row3\" >producer_id</th>\n",
       "      <td id=\"T_d2613_row3_col0\" class=\"data row3 col0\" >0</td>\n",
       "      <td id=\"T_d2613_row3_col1\" class=\"data row3 col1\" >0</td>\n",
       "      <td id=\"T_d2613_row3_col2\" class=\"data row3 col2\" >8.019</td>\n",
       "      <td id=\"T_d2613_row3_col3\" class=\"data row3 col3\" >int64</td>\n",
       "    </tr>\n",
       "    <tr>\n",
       "      <th id=\"T_d2613_level0_row4\" class=\"row_heading level0 row4\" >buyer_id</th>\n",
       "      <td id=\"T_d2613_row4_col0\" class=\"data row4 col0\" >0</td>\n",
       "      <td id=\"T_d2613_row4_col1\" class=\"data row4 col1\" >0</td>\n",
       "      <td id=\"T_d2613_row4_col2\" class=\"data row4 col2\" >1.100.649</td>\n",
       "      <td id=\"T_d2613_row4_col3\" class=\"data row4 col3\" >int64</td>\n",
       "    </tr>\n",
       "    <tr>\n",
       "      <th id=\"T_d2613_level0_row5\" class=\"row_heading level0 row5\" >purchase_date</th>\n",
       "      <td id=\"T_d2613_row5_col0\" class=\"data row5 col0\" >0</td>\n",
       "      <td id=\"T_d2613_row5_col1\" class=\"data row5 col1\" >0</td>\n",
       "      <td id=\"T_d2613_row5_col2\" class=\"data row5 col2\" >1.488.962</td>\n",
       "      <td id=\"T_d2613_row5_col3\" class=\"data row5 col3\" >datetime64[ns]</td>\n",
       "    </tr>\n",
       "    <tr>\n",
       "      <th id=\"T_d2613_level0_row6\" class=\"row_heading level0 row6\" >product_creation_date</th>\n",
       "      <td id=\"T_d2613_row6_col0\" class=\"data row6 col0\" >0</td>\n",
       "      <td id=\"T_d2613_row6_col1\" class=\"data row6 col1\" >0</td>\n",
       "      <td id=\"T_d2613_row6_col2\" class=\"data row6 col2\" >17.878</td>\n",
       "      <td id=\"T_d2613_row6_col3\" class=\"data row6 col3\" >datetime64[ns]</td>\n",
       "    </tr>\n",
       "    <tr>\n",
       "      <th id=\"T_d2613_level0_row7\" class=\"row_heading level0 row7\" >product_category</th>\n",
       "      <td id=\"T_d2613_row7_col0\" class=\"data row7 col0\" >0</td>\n",
       "      <td id=\"T_d2613_row7_col1\" class=\"data row7 col1\" >0</td>\n",
       "      <td id=\"T_d2613_row7_col2\" class=\"data row7 col2\" >10</td>\n",
       "      <td id=\"T_d2613_row7_col3\" class=\"data row7 col3\" >object</td>\n",
       "    </tr>\n",
       "    <tr>\n",
       "      <th id=\"T_d2613_level0_row8\" class=\"row_heading level0 row8\" >product_niche</th>\n",
       "      <td id=\"T_d2613_row8_col0\" class=\"data row8 col0\" >0</td>\n",
       "      <td id=\"T_d2613_row8_col1\" class=\"data row8 col1\" >0</td>\n",
       "      <td id=\"T_d2613_row8_col2\" class=\"data row8 col2\" >25</td>\n",
       "      <td id=\"T_d2613_row8_col3\" class=\"data row8 col3\" >object</td>\n",
       "    </tr>\n",
       "    <tr>\n",
       "      <th id=\"T_d2613_level0_row9\" class=\"row_heading level0 row9\" >purchase_value</th>\n",
       "      <td id=\"T_d2613_row9_col0\" class=\"data row9 col0\" >0</td>\n",
       "      <td id=\"T_d2613_row9_col1\" class=\"data row9 col1\" >0</td>\n",
       "      <td id=\"T_d2613_row9_col2\" class=\"data row9 col2\" >32.617</td>\n",
       "      <td id=\"T_d2613_row9_col3\" class=\"data row9 col3\" >float64</td>\n",
       "    </tr>\n",
       "    <tr>\n",
       "      <th id=\"T_d2613_level0_row10\" class=\"row_heading level0 row10\" >affiliate_commission_percentual</th>\n",
       "      <td id=\"T_d2613_row10_col0\" class=\"data row10 col0\" >0</td>\n",
       "      <td id=\"T_d2613_row10_col1\" class=\"data row10 col1\" >0</td>\n",
       "      <td id=\"T_d2613_row10_col2\" class=\"data row10 col2\" >280</td>\n",
       "      <td id=\"T_d2613_row10_col3\" class=\"data row10 col3\" >float64</td>\n",
       "    </tr>\n",
       "    <tr>\n",
       "      <th id=\"T_d2613_level0_row11\" class=\"row_heading level0 row11\" >purchase_device</th>\n",
       "      <td id=\"T_d2613_row11_col0\" class=\"data row11 col0\" >0</td>\n",
       "      <td id=\"T_d2613_row11_col1\" class=\"data row11 col1\" >0</td>\n",
       "      <td id=\"T_d2613_row11_col2\" class=\"data row11 col2\" >5</td>\n",
       "      <td id=\"T_d2613_row11_col3\" class=\"data row11 col3\" >object</td>\n",
       "    </tr>\n",
       "    <tr>\n",
       "      <th id=\"T_d2613_level0_row12\" class=\"row_heading level0 row12\" >purchase_origin</th>\n",
       "      <td id=\"T_d2613_row12_col0\" class=\"data row12 col0\" >0</td>\n",
       "      <td id=\"T_d2613_row12_col1\" class=\"data row12 col1\" >0</td>\n",
       "      <td id=\"T_d2613_row12_col2\" class=\"data row12 col2\" >9.603</td>\n",
       "      <td id=\"T_d2613_row12_col3\" class=\"data row12 col3\" >object</td>\n",
       "    </tr>\n",
       "    <tr>\n",
       "      <th id=\"T_d2613_level0_row13\" class=\"row_heading level0 row13\" >is_origin_page_social_network</th>\n",
       "      <td id=\"T_d2613_row13_col0\" class=\"data row13 col0\" >0</td>\n",
       "      <td id=\"T_d2613_row13_col1\" class=\"data row13 col1\" >0</td>\n",
       "      <td id=\"T_d2613_row13_col2\" class=\"data row13 col2\" >2</td>\n",
       "      <td id=\"T_d2613_row13_col3\" class=\"data row13 col3\" >bool</td>\n",
       "    </tr>\n",
       "    <tr>\n",
       "      <th id=\"T_d2613_level0_row14\" class=\"row_heading level0 row14\" >product_age_when_purchased</th>\n",
       "      <td id=\"T_d2613_row14_col0\" class=\"data row14 col0\" >0</td>\n",
       "      <td id=\"T_d2613_row14_col1\" class=\"data row14 col1\" >0</td>\n",
       "      <td id=\"T_d2613_row14_col2\" class=\"data row14 col2\" >92</td>\n",
       "      <td id=\"T_d2613_row14_col3\" class=\"data row14 col3\" >int64</td>\n",
       "    </tr>\n",
       "  </tbody>\n",
       "</table>\n"
      ],
      "text/plain": [
       "<pandas.io.formats.style.Styler at 0x7f6cd9e6fc40>"
      ]
     },
     "metadata": {},
     "output_type": "display_data"
    },
    {
     "name": "stdout",
     "output_type": "stream",
     "text": [
      "-----------------------------\n",
      "\n",
      " Dataframe shape is (1599826, 15) \n",
      "\n",
      "-----------------------------\n",
      "\n",
      "\n",
      "dataframe.sample(5)\n"
     ]
    },
    {
     "data": {
      "text/html": [
       "<div>\n",
       "<style scoped>\n",
       "    .dataframe tbody tr th:only-of-type {\n",
       "        vertical-align: middle;\n",
       "    }\n",
       "\n",
       "    .dataframe tbody tr th {\n",
       "        vertical-align: top;\n",
       "    }\n",
       "\n",
       "    .dataframe thead th {\n",
       "        text-align: right;\n",
       "    }\n",
       "</style>\n",
       "<table border=\"1\" class=\"dataframe\">\n",
       "  <thead>\n",
       "    <tr style=\"text-align: right;\">\n",
       "      <th></th>\n",
       "      <th>purchase_id</th>\n",
       "      <th>product_id</th>\n",
       "      <th>affiliate_id</th>\n",
       "      <th>producer_id</th>\n",
       "      <th>buyer_id</th>\n",
       "      <th>purchase_date</th>\n",
       "      <th>product_creation_date</th>\n",
       "      <th>product_category</th>\n",
       "      <th>product_niche</th>\n",
       "      <th>purchase_value</th>\n",
       "      <th>affiliate_commission_percentual</th>\n",
       "      <th>purchase_device</th>\n",
       "      <th>purchase_origin</th>\n",
       "      <th>is_origin_page_social_network</th>\n",
       "      <th>product_age_when_purchased</th>\n",
       "    </tr>\n",
       "  </thead>\n",
       "  <tbody>\n",
       "    <tr>\n",
       "      <th>452461</th>\n",
       "      <td>11761689</td>\n",
       "      <td>62157</td>\n",
       "      <td>366308</td>\n",
       "      <td>366308</td>\n",
       "      <td>6642142</td>\n",
       "      <td>2016-02-27 04:44:26</td>\n",
       "      <td>2013-06-23 13:41:35</td>\n",
       "      <td>Phisical book</td>\n",
       "      <td>Personal finance</td>\n",
       "      <td>-0.4</td>\n",
       "      <td>0.0</td>\n",
       "      <td>eReaders</td>\n",
       "      <td>Origin 4b11</td>\n",
       "      <td>True</td>\n",
       "      <td>32</td>\n",
       "    </tr>\n",
       "    <tr>\n",
       "      <th>899246</th>\n",
       "      <td>12665383</td>\n",
       "      <td>79774</td>\n",
       "      <td>51210</td>\n",
       "      <td>51210</td>\n",
       "      <td>7071596</td>\n",
       "      <td>2016-04-18 14:41:11</td>\n",
       "      <td>2013-12-17 23:07:42</td>\n",
       "      <td>Phisical book</td>\n",
       "      <td>Negotiation</td>\n",
       "      <td>-0.4</td>\n",
       "      <td>0.0</td>\n",
       "      <td>eReaders</td>\n",
       "      <td>Origin 5187</td>\n",
       "      <td>True</td>\n",
       "      <td>28</td>\n",
       "    </tr>\n",
       "    <tr>\n",
       "      <th>1134315</th>\n",
       "      <td>13109194</td>\n",
       "      <td>209718</td>\n",
       "      <td>6613449</td>\n",
       "      <td>6558015</td>\n",
       "      <td>7283676</td>\n",
       "      <td>2016-05-11 22:19:09</td>\n",
       "      <td>2016-03-06 13:50:11</td>\n",
       "      <td>Phisical book</td>\n",
       "      <td>Media training</td>\n",
       "      <td>-0.3</td>\n",
       "      <td>50.0</td>\n",
       "      <td>eReaders</td>\n",
       "      <td>Origin c3d8</td>\n",
       "      <td>True</td>\n",
       "      <td>2</td>\n",
       "    </tr>\n",
       "    <tr>\n",
       "      <th>1568750</th>\n",
       "      <td>13949347</td>\n",
       "      <td>225512</td>\n",
       "      <td>7169834</td>\n",
       "      <td>7169834</td>\n",
       "      <td>7037375</td>\n",
       "      <td>2016-06-27 11:54:00</td>\n",
       "      <td>2016-05-02 17:43:38</td>\n",
       "      <td>Phisical book</td>\n",
       "      <td>Negotiation</td>\n",
       "      <td>1.3</td>\n",
       "      <td>0.0</td>\n",
       "      <td>eReaders</td>\n",
       "      <td>Origin 5187</td>\n",
       "      <td>True</td>\n",
       "      <td>1</td>\n",
       "    </tr>\n",
       "    <tr>\n",
       "      <th>666769</th>\n",
       "      <td>12198160</td>\n",
       "      <td>213970</td>\n",
       "      <td>349701</td>\n",
       "      <td>349701</td>\n",
       "      <td>6848202</td>\n",
       "      <td>2016-03-22 12:46:09</td>\n",
       "      <td>2016-03-21 13:21:38</td>\n",
       "      <td>Phisical book</td>\n",
       "      <td>Anxiety management</td>\n",
       "      <td>-0.5</td>\n",
       "      <td>0.0</td>\n",
       "      <td>Desktop</td>\n",
       "      <td>Origin 5187</td>\n",
       "      <td>True</td>\n",
       "      <td>0</td>\n",
       "    </tr>\n",
       "  </tbody>\n",
       "</table>\n",
       "<p>5 rows × 15 columns</p>\n",
       "</div>"
      ],
      "text/plain": [
       "         purchase_id  product_id  affiliate_id  producer_id  buyer_id   \n",
       "452461      11761689       62157        366308       366308   6642142  \\\n",
       "899246      12665383       79774         51210        51210   7071596   \n",
       "1134315     13109194      209718       6613449      6558015   7283676   \n",
       "1568750     13949347      225512       7169834      7169834   7037375   \n",
       "666769      12198160      213970        349701       349701   6848202   \n",
       "\n",
       "              purchase_date product_creation_date product_category   \n",
       "452461  2016-02-27 04:44:26   2013-06-23 13:41:35    Phisical book  \\\n",
       "899246  2016-04-18 14:41:11   2013-12-17 23:07:42    Phisical book   \n",
       "1134315 2016-05-11 22:19:09   2016-03-06 13:50:11    Phisical book   \n",
       "1568750 2016-06-27 11:54:00   2016-05-02 17:43:38    Phisical book   \n",
       "666769  2016-03-22 12:46:09   2016-03-21 13:21:38    Phisical book   \n",
       "\n",
       "              product_niche  purchase_value  affiliate_commission_percentual   \n",
       "452461     Personal finance            -0.4                              0.0  \\\n",
       "899246          Negotiation            -0.4                              0.0   \n",
       "1134315      Media training            -0.3                             50.0   \n",
       "1568750         Negotiation             1.3                              0.0   \n",
       "666769   Anxiety management            -0.5                              0.0   \n",
       "\n",
       "        purchase_device purchase_origin  is_origin_page_social_network   \n",
       "452461         eReaders     Origin 4b11                           True  \\\n",
       "899246         eReaders     Origin 5187                           True   \n",
       "1134315        eReaders     Origin c3d8                           True   \n",
       "1568750        eReaders     Origin 5187                           True   \n",
       "666769          Desktop     Origin 5187                           True   \n",
       "\n",
       "         product_age_when_purchased  \n",
       "452461                           32  \n",
       "899246                           28  \n",
       "1134315                           2  \n",
       "1568750                           1  \n",
       "666769                            0  \n",
       "\n",
       "[5 rows x 15 columns]"
      ]
     },
     "metadata": {},
     "output_type": "display_data"
    },
    {
     "name": "stdout",
     "output_type": "stream",
     "text": [
      "*************************************************\n"
     ]
    }
   ],
   "source": [
    "# create a restore point for the previous section dataframe\n",
    "df_eda = df_filter.copy()\n",
    "\n",
    "# check dataframe\n",
    "check_dataframe( df_eda )"
   ]
  },
  {
   "attachments": {},
   "cell_type": "markdown",
   "id": "7ce04da7",
   "metadata": {},
   "source": [
    "## 5.2 - Univariate Analysis"
   ]
  },
  {
   "attachments": {},
   "cell_type": "markdown",
   "id": "251f387b",
   "metadata": {},
   "source": [
    "*Explore variables distributions*"
   ]
  },
  {
   "cell_type": "code",
   "execution_count": 41,
   "id": "3aca4f52",
   "metadata": {},
   "outputs": [],
   "source": [
    "# split dataset into types of features\n",
    "df_eda_num = df_eda.select_dtypes(include=[\"number\", \"bool\"])\n",
    "df_eda_date = df_eda.select_dtypes(include=[\"datetime\"])\n",
    "df_eda_str = df_eda.select_dtypes(include=[\"object\"])\n",
    "\n",
    "# sanity check\n",
    "assert df_eda_num.shape[1] + df_eda_date.shape[1] + df_eda_str.shape[1] == df_eda.shape[1], \"\"\"Revise the previous split, something may be wrong!\"\"\""
   ]
  },
  {
   "attachments": {},
   "cell_type": "markdown",
   "id": "2453e220",
   "metadata": {},
   "source": [
    "### 5.2.1 - Numerical Columns"
   ]
  },
  {
   "cell_type": "code",
   "execution_count": 42,
   "id": "06ff8907",
   "metadata": {},
   "outputs": [],
   "source": [
    "# define categorical figure path\n",
    "numerical_fig_path = os.path.join(PROJECT_ROOT_PATH, \"img\", \"data_exploration\", \"numerical_fatures_eda.png\")\n",
    "\n",
    "# # plot numerical columns for base data\n",
    "# numerical_plot(\n",
    "#     dataframe=df_eda_num, \n",
    "#     n_cols=3,\n",
    "#     hist=False,\n",
    "#     save_fig=numerical_fig_path\n",
    "#     )"
   ]
  },
  {
   "attachments": {},
   "cell_type": "markdown",
   "id": "25650dc5",
   "metadata": {},
   "source": [
    "![Numerical Univariate EDA](../img/data_exploration/numerical_fatures_eda.png)"
   ]
  },
  {
   "attachments": {},
   "cell_type": "markdown",
   "id": "fc3d072e",
   "metadata": {},
   "source": [
    "### 5.2.2 - Categorical Columns"
   ]
  },
  {
   "cell_type": "code",
   "execution_count": 43,
   "id": "e2107307",
   "metadata": {},
   "outputs": [],
   "source": [
    "# define categorical figure path\n",
    "categorical_fig_path = os.path.join(PROJECT_ROOT_PATH, \"img\", \"data_exploration\", \"categorical_fatures_eda.png\")\n",
    "\n",
    "# # plot categorical columns for base data\n",
    "# categorical_plot(\n",
    "#     dataframe=df_eda_str,\n",
    "#     max_num_cat=10,\n",
    "#     n_cols=3,\n",
    "#     trunc_label=20,\n",
    "#     save_fig=categorical_fig_path\n",
    "#     )"
   ]
  },
  {
   "attachments": {},
   "cell_type": "markdown",
   "id": "fb18f06f",
   "metadata": {},
   "source": [
    "![Categorical Univariate EDA](../img/data_exploration/categorical_fatures_eda.png)"
   ]
  },
  {
   "attachments": {},
   "cell_type": "markdown",
   "id": "e51d0134",
   "metadata": {},
   "source": [
    "### 5.2.3 Datetime Columns"
   ]
  },
  {
   "cell_type": "code",
   "execution_count": 44,
   "id": "8e4ea868",
   "metadata": {},
   "outputs": [],
   "source": [
    "# define datetime figure path\n",
    "datetime_fig_path = os.path.join(PROJECT_ROOT_PATH, \"img\", \"data_exploration\", \"datetime_fatures_eda.png\")\n",
    "\n",
    "# # plot datetime columns for base data\n",
    "# datetime_plot(\n",
    "#     dataframe=df_eda_date,\n",
    "#     n_cols=3,\n",
    "#     save_fig=datetime_fig_path\n",
    "#     )"
   ]
  },
  {
   "attachments": {},
   "cell_type": "markdown",
   "id": "7853d86b",
   "metadata": {},
   "source": [
    "![Datetime Univariate EDA](../img/data_exploration/datetime_fatures_eda.png)"
   ]
  },
  {
   "attachments": {},
   "cell_type": "markdown",
   "id": "186dfadf",
   "metadata": {
    "heading_collapsed": true,
    "hidden": true
   },
   "source": [
    "## 5.3 - Bivariate Analysis"
   ]
  },
  {
   "attachments": {},
   "cell_type": "markdown",
   "id": "45447dfc",
   "metadata": {},
   "source": [
    "*Explore relationship between variables (in pairs)*"
   ]
  },
  {
   "attachments": {},
   "cell_type": "markdown",
   "id": "20845368",
   "metadata": {
    "ExecuteTime": {
     "end_time": "2021-11-22T11:35:39.228869Z",
     "start_time": "2021-11-22T11:35:39.226949Z"
    },
    "hidden": true
   },
   "source": [
    "### 5.3.1 - Numerical variables"
   ]
  },
  {
   "cell_type": "code",
   "execution_count": 45,
   "id": "2fbf8735",
   "metadata": {},
   "outputs": [
    {
     "data": {
      "text/plain": [
       "Index(['purchase_id', 'product_id', 'affiliate_id', 'producer_id', 'buyer_id',\n",
       "       'purchase_value', 'affiliate_commission_percentual',\n",
       "       'is_origin_page_social_network', 'product_age_when_purchased'],\n",
       "      dtype='object')"
      ]
     },
     "execution_count": 45,
     "metadata": {},
     "output_type": "execute_result"
    }
   ],
   "source": [
    "# check numerical features\n",
    "df_eda_num.columns"
   ]
  },
  {
   "cell_type": "code",
   "execution_count": 46,
   "id": "5d4910e4",
   "metadata": {},
   "outputs": [],
   "source": [
    "# define pairplot figure path\n",
    "pairplot_fig_path = os.path.join(PROJECT_ROOT_PATH, \"img\", \"data_exploration\", \"pairplot_eda.png\")\n",
    "\n",
    "# # plot pairplot\n",
    "# # don't consider id columns -> make no sense as they are \"random\"\n",
    "# g = sns.pairplot( df_eda[[\n",
    "#     'purchase_value', 'affiliate_commission_percentual',\n",
    "#     'is_origin_page_social_network', 'product_age_when_purchased'\n",
    "#     ]].sample(100_000), diag_kind=\"kde\", corner=False )\n",
    "# # define plot details\n",
    "# for ax in g.axes.flatten():\n",
    "#     # rotate x axis labels\n",
    "#     ax.set_xlabel(ax.get_xlabel(), rotation = 45)\n",
    "#     # rotate y axis labels\n",
    "#     ax.set_ylabel(ax.get_ylabel(), rotation = 45)\n",
    "#     # set y labels alignment\n",
    "#     ax.yaxis.get_label().set_horizontalalignment('right')\n",
    "\n",
    "# # save figure\n",
    "# plt.savefig(pairplot_fig_path, facecolor=\"white\", bbox_inches=\"tight\");        "
   ]
  },
  {
   "attachments": {},
   "cell_type": "markdown",
   "id": "09514e22",
   "metadata": {},
   "source": [
    "![Pairplot EDA](../img/data_exploration/pairplot_eda.png)"
   ]
  },
  {
   "cell_type": "code",
   "execution_count": 47,
   "id": "79118ce5",
   "metadata": {
    "ExecuteTime": {
     "end_time": "2021-11-22T11:35:39.939255Z",
     "start_time": "2021-11-22T11:35:39.230647Z"
    },
    "hidden": true
   },
   "outputs": [],
   "source": [
    "# define pairplot figure path\n",
    "spearman_corr_fig_path = os.path.join(PROJECT_ROOT_PATH, \"img\", \"data_exploration\", \"spearman_corr_eda.png\")\n",
    "\n",
    "# # calculate pearson correlation coefficient\n",
    "# # don't consider id columns -> make no sense as they are \"random\"\n",
    "# correlation = df_eda_num[[\n",
    "#     'purchase_value', 'affiliate_commission_percentual',\n",
    "#     'is_origin_page_social_network', 'product_age_when_purchased'\n",
    "#     ]].corr( method = 'spearman' )\n",
    "\n",
    "# # display heatmap of correlation on figure\n",
    "# sns.heatmap( correlation, annot = True, fmt=\".2f\", cmap=\"Blues\")\n",
    "# plt.yticks( rotation = 0 )\n",
    "# # save figure\n",
    "# plt.savefig(spearman_corr_fig_path, facecolor=\"white\", bbox_inches=\"tight\");"
   ]
  },
  {
   "attachments": {},
   "cell_type": "markdown",
   "id": "52fbcbfc",
   "metadata": {},
   "source": [
    "![Spearman Corr EDA](../img/data_exploration/spearman_corr_eda.png)"
   ]
  },
  {
   "attachments": {},
   "cell_type": "markdown",
   "id": "c916bafd",
   "metadata": {},
   "source": [
    "### 5.3.2 - Categorical variables"
   ]
  },
  {
   "cell_type": "code",
   "execution_count": 48,
   "id": "aa1c45f9",
   "metadata": {},
   "outputs": [
    {
     "data": {
      "text/plain": [
       "Index(['product_category', 'product_niche', 'purchase_device',\n",
       "       'purchase_origin'],\n",
       "      dtype='object')"
      ]
     },
     "execution_count": 48,
     "metadata": {},
     "output_type": "execute_result"
    }
   ],
   "source": [
    "# check categorical columns\n",
    "df_eda_str.columns"
   ]
  },
  {
   "cell_type": "code",
   "execution_count": 49,
   "id": "b3bfc9e9",
   "metadata": {},
   "outputs": [],
   "source": [
    "# # create a dataframe with cramer-v for every row-column pair\n",
    "# cramer_v_corr = create_cramer_v_dataframe( df_eda_str )\n",
    "\n",
    "# # inspect results\n",
    "# cramer_v_corr"
   ]
  },
  {
   "cell_type": "code",
   "execution_count": 50,
   "id": "1ac0535a",
   "metadata": {},
   "outputs": [],
   "source": [
    "# # define pairplot figure path\n",
    "# cramer_corr_fig_path = os.path.join(PROJECT_ROOT_PATH, \"img\", \"data_exploration\", \"cramer_corr_eda.png\")\n",
    "\n",
    "# # display heatmap of correlation on figure\n",
    "# sns.heatmap( cramer_v_corr, annot = True, fmt=\".2f\", cmap=\"Blues\")\n",
    "# plt.yticks( rotation = 0 )\n",
    "# # save figure\n",
    "# plt.savefig(cramer_corr_fig_path, facecolor=\"white\", bbox_inches=\"tight\");"
   ]
  },
  {
   "attachments": {},
   "cell_type": "markdown",
   "id": "e88f4b82",
   "metadata": {},
   "source": [
    "![Spearman Corr EDA](../img/data_exploration/cramer_corr_eda.png)"
   ]
  },
  {
   "attachments": {},
   "cell_type": "markdown",
   "id": "29a6ec3d",
   "metadata": {},
   "source": [
    "### 5.3.3 - Correlation with target variable"
   ]
  },
  {
   "cell_type": "code",
   "execution_count": 51,
   "id": "50e408ee",
   "metadata": {},
   "outputs": [
    {
     "data": {
      "text/plain": [
       "Index(['purchase_id', 'product_id', 'affiliate_id', 'producer_id', 'buyer_id',\n",
       "       'purchase_date', 'product_creation_date', 'product_category',\n",
       "       'product_niche', 'purchase_value', 'affiliate_commission_percentual',\n",
       "       'purchase_device', 'purchase_origin', 'is_origin_page_social_network',\n",
       "       'product_age_when_purchased'],\n",
       "      dtype='object')"
      ]
     },
     "execution_count": 51,
     "metadata": {},
     "output_type": "execute_result"
    }
   ],
   "source": [
    "# check available columns\n",
    "df_eda.columns"
   ]
  },
  {
   "cell_type": "code",
   "execution_count": 52,
   "id": "e6d223d4",
   "metadata": {},
   "outputs": [],
   "source": [
    "# # iterate over columns to check for correlation with target variable\n",
    "# for col in ['purchase_date', 'product_creation_date', \n",
    "#             'product_category', \n",
    "#             'product_niche', \n",
    "#             'affiliate_commission_percentual', 'purchase_device', \n",
    "#             'purchase_origin', 'is_origin_page_social_network',\n",
    "#             'product_age_when_purchased']:\n",
    "#     # inspect correlation\n",
    "#     check_for_bias(\n",
    "#         dataframe=df_eda[[col, 'purchase_value']].sample(100_000),\n",
    "#         treatment=\"purchase_value\",\n",
    "#         showfliers=False,\n",
    "#         figsize=(30, 6),\n",
    "#         num_cols=3,\n",
    "#         saving_path=os.path.join(PROJECT_ROOT_PATH, \"img\", \"data_exploration\", f\"{col}_vs_purchase_value_eda.png\")\n",
    "#     );"
   ]
  },
  {
   "attachments": {},
   "cell_type": "markdown",
   "id": "a9c4094d",
   "metadata": {},
   "source": [
    "![Feature vs Target EDA](../img/data_exploration/product_category_vs_purchase_value_eda.png)"
   ]
  },
  {
   "attachments": {},
   "cell_type": "markdown",
   "id": "23cfc960",
   "metadata": {},
   "source": [
    "![Feature vs Target EDA](../img/data_exploration/product_niche_vs_purchase_value_eda.png)"
   ]
  },
  {
   "attachments": {},
   "cell_type": "markdown",
   "id": "a3cedf97",
   "metadata": {},
   "source": [
    "![Feature vs Target EDA](../img/data_exploration/purchase_device_vs_purchase_value_eda.png)"
   ]
  },
  {
   "attachments": {},
   "cell_type": "markdown",
   "id": "3a834899",
   "metadata": {},
   "source": [
    "![Feature vs Target EDA](../img/data_exploration/purchase_origin_vs_purchase_value_eda.png)"
   ]
  },
  {
   "attachments": {},
   "cell_type": "markdown",
   "id": "4198f44f",
   "metadata": {},
   "source": [
    "![Feature vs Target EDA](../img/data_exploration/affiliate_commission_percentual_vs_purchase_value_eda.png)"
   ]
  },
  {
   "attachments": {},
   "cell_type": "markdown",
   "id": "87332a39",
   "metadata": {},
   "source": [
    "![Feature vs Target EDA](../img/data_exploration/product_age_when_purchased_vs_purchase_value_eda.png)"
   ]
  },
  {
   "attachments": {},
   "cell_type": "markdown",
   "id": "606d451c",
   "metadata": {},
   "source": [
    "## 5.4 - Business Hypothesis"
   ]
  },
  {
   "attachments": {},
   "cell_type": "markdown",
   "id": "0876f828",
   "metadata": {},
   "source": [
    "*Validate all business hypothesis based on available data*"
   ]
  },
  {
   "attachments": {},
   "cell_type": "markdown",
   "id": "1671d285",
   "metadata": {},
   "source": [
    "### **H1. ..**"
   ]
  },
  {
   "cell_type": "code",
   "execution_count": null,
   "id": "cb8e5b11",
   "metadata": {},
   "outputs": [],
   "source": []
  },
  {
   "attachments": {},
   "cell_type": "markdown",
   "id": "8b6006ae",
   "metadata": {},
   "source": [
    "### **H2. ..**"
   ]
  },
  {
   "cell_type": "code",
   "execution_count": null,
   "id": "45e59c75",
   "metadata": {},
   "outputs": [],
   "source": []
  },
  {
   "attachments": {},
   "cell_type": "markdown",
   "id": "b5353cde",
   "metadata": {},
   "source": [
    "### **H3. ..**"
   ]
  },
  {
   "cell_type": "code",
   "execution_count": null,
   "id": "98c59e80",
   "metadata": {},
   "outputs": [],
   "source": []
  },
  {
   "attachments": {},
   "cell_type": "markdown",
   "id": "14a7fae9",
   "metadata": {},
   "source": [
    "### **H4. ..**"
   ]
  },
  {
   "cell_type": "code",
   "execution_count": null,
   "id": "e5078c5e",
   "metadata": {},
   "outputs": [],
   "source": []
  },
  {
   "attachments": {},
   "cell_type": "markdown",
   "id": "e8788e1b",
   "metadata": {},
   "source": [
    "### **H5. ..**"
   ]
  },
  {
   "cell_type": "code",
   "execution_count": null,
   "id": "9a9c15dd",
   "metadata": {},
   "outputs": [],
   "source": []
  },
  {
   "attachments": {},
   "cell_type": "markdown",
   "id": "a83c4df3",
   "metadata": {
    "heading_collapsed": true,
    "hidden": true
   },
   "source": [
    "## 5.5 - Data Space Analysis"
   ]
  },
  {
   "attachments": {},
   "cell_type": "markdown",
   "id": "035779a8",
   "metadata": {},
   "source": [
    "**Initial inspection on dimensionality reduction potential**"
   ]
  },
  {
   "attachments": {},
   "cell_type": "markdown",
   "id": "58d17b6d",
   "metadata": {
    "ExecuteTime": {
     "end_time": "2021-11-12T14:52:05.470744Z",
     "start_time": "2021-11-12T14:52:05.466937Z"
    },
    "heading_collapsed": true,
    "hidden": true
   },
   "source": [
    "### PCA"
   ]
  },
  {
   "cell_type": "code",
   "execution_count": null,
   "id": "1918b2c1",
   "metadata": {
    "ExecuteTime": {
     "end_time": "2021-11-22T11:35:39.981919Z",
     "start_time": "2021-11-22T11:35:39.955021Z"
    },
    "hidden": true
   },
   "outputs": [],
   "source": [
    "# No need so far"
   ]
  },
  {
   "attachments": {},
   "cell_type": "markdown",
   "id": "6cfeafc6",
   "metadata": {
    "heading_collapsed": true,
    "hidden": true
   },
   "source": [
    "### UMAP"
   ]
  },
  {
   "cell_type": "code",
   "execution_count": null,
   "id": "b8b1451b",
   "metadata": {
    "ExecuteTime": {
     "end_time": "2021-11-22T11:36:07.808671Z",
     "start_time": "2021-11-22T11:35:40.592638Z"
    },
    "hidden": true
   },
   "outputs": [],
   "source": [
    "# No need so far"
   ]
  },
  {
   "attachments": {},
   "cell_type": "markdown",
   "id": "158cdc9e",
   "metadata": {
    "heading_collapsed": true,
    "hidden": true
   },
   "source": [
    "### t-SNE"
   ]
  },
  {
   "cell_type": "code",
   "execution_count": null,
   "id": "0cb4ccb3",
   "metadata": {
    "ExecuteTime": {
     "end_time": "2021-11-22T11:36:45.325959Z",
     "start_time": "2021-11-22T11:36:08.051724Z"
    },
    "hidden": true,
    "scrolled": true
   },
   "outputs": [],
   "source": [
    "# No need so far"
   ]
  },
  {
   "attachments": {},
   "cell_type": "markdown",
   "id": "facedc5f",
   "metadata": {
    "heading_collapsed": true,
    "hidden": true
   },
   "source": [
    "### PHATE"
   ]
  },
  {
   "cell_type": "code",
   "execution_count": null,
   "id": "a1e2ab66",
   "metadata": {
    "ExecuteTime": {
     "end_time": "2021-11-22T11:37:16.617873Z",
     "start_time": "2021-11-22T11:36:45.530058Z"
    },
    "hidden": true
   },
   "outputs": [],
   "source": [
    "# No need so far"
   ]
  },
  {
   "attachments": {},
   "cell_type": "markdown",
   "id": "dad2f694",
   "metadata": {
    "heading_collapsed": true,
    "hidden": true
   },
   "source": [
    "### KMeans Embedding"
   ]
  },
  {
   "cell_type": "code",
   "execution_count": null,
   "id": "156840e8",
   "metadata": {
    "ExecuteTime": {
     "end_time": "2021-11-22T11:37:40.479163Z",
     "start_time": "2021-11-22T11:37:29.524697Z"
    },
    "hidden": true
   },
   "outputs": [],
   "source": [
    "# No need so far"
   ]
  },
  {
   "attachments": {},
   "cell_type": "markdown",
   "id": "5f1f4718",
   "metadata": {},
   "source": [
    "### Tree-Base Embedding"
   ]
  },
  {
   "cell_type": "code",
   "execution_count": null,
   "id": "b2bdd16d",
   "metadata": {},
   "outputs": [],
   "source": [
    "# No need so far"
   ]
  },
  {
   "attachments": {},
   "cell_type": "markdown",
   "id": "1c42ecba",
   "metadata": {},
   "source": [
    "# **6 - DATA PREPARATION**"
   ]
  },
  {
   "attachments": {},
   "cell_type": "markdown",
   "id": "ec7eabd2",
   "metadata": {},
   "source": [
    "## 6.1 - Restore Point"
   ]
  },
  {
   "attachments": {},
   "cell_type": "markdown",
   "id": "e5eabd39",
   "metadata": {},
   "source": [
    "*Create a checkpoint of the last dataframe from previous section*"
   ]
  },
  {
   "cell_type": "code",
   "execution_count": null,
   "id": "261c798a",
   "metadata": {},
   "outputs": [],
   "source": [
    "xxxxxxxxxxxxxxxxxxxxxxxxxxx"
   ]
  },
  {
   "cell_type": "code",
   "execution_count": null,
   "id": "40ff716a",
   "metadata": {},
   "outputs": [],
   "source": [
    "# create a restore point for the previous section dataframe\n",
    "df_prep = df_eda.copy()\n",
    "\n",
    "# check dataframe\n",
    "check_dataframe( df_prep )"
   ]
  },
  {
   "attachments": {},
   "cell_type": "markdown",
   "id": "44c0d35a",
   "metadata": {},
   "source": [
    "## 6.2 - Remove variables that won't be available in the production environment"
   ]
  },
  {
   "attachments": {},
   "cell_type": "markdown",
   "id": "767334b4",
   "metadata": {},
   "source": [
    "*Remove variables that model can use on production to make predictions*"
   ]
  },
  {
   "cell_type": "code",
   "execution_count": null,
   "id": "61fe90a8",
   "metadata": {},
   "outputs": [],
   "source": [
    "# TO-DO"
   ]
  },
  {
   "attachments": {},
   "cell_type": "markdown",
   "id": "3cfe39a4",
   "metadata": {},
   "source": [
    "## 6.3 - Train-Validation-Test split"
   ]
  },
  {
   "attachments": {},
   "cell_type": "markdown",
   "id": "a14a8105",
   "metadata": {},
   "source": [
    "*Split dataframe into training, validation and test dataset*"
   ]
  },
  {
   "cell_type": "code",
   "execution_count": null,
   "id": "dfac0f92",
   "metadata": {},
   "outputs": [],
   "source": [
    "# TO-DO"
   ]
  },
  {
   "attachments": {},
   "cell_type": "markdown",
   "id": "b2f48e31",
   "metadata": {},
   "source": [
    "## 6.4 - Scale numeric features"
   ]
  },
  {
   "attachments": {},
   "cell_type": "markdown",
   "id": "cd93f108",
   "metadata": {},
   "source": [
    "*Scale numeric feature to make modelling \"easier\" for ML models*"
   ]
  },
  {
   "attachments": {},
   "cell_type": "markdown",
   "id": "c58a8f54",
   "metadata": {},
   "source": [
    "### 6.4.1 - Standard Scaler"
   ]
  },
  {
   "cell_type": "code",
   "execution_count": null,
   "id": "44cfe8ab",
   "metadata": {},
   "outputs": [],
   "source": [
    "# TO-DO"
   ]
  },
  {
   "attachments": {},
   "cell_type": "markdown",
   "id": "f40f60b7",
   "metadata": {},
   "source": [
    "### 6.4.2 - Min-Max Scaler"
   ]
  },
  {
   "cell_type": "code",
   "execution_count": null,
   "id": "99d1dcb2",
   "metadata": {},
   "outputs": [],
   "source": [
    "# TO-DO"
   ]
  },
  {
   "attachments": {},
   "cell_type": "markdown",
   "id": "880503b8",
   "metadata": {},
   "source": [
    "### 6.4.3 - Robust Scaler"
   ]
  },
  {
   "cell_type": "code",
   "execution_count": null,
   "id": "51a24aad",
   "metadata": {},
   "outputs": [],
   "source": [
    "# TO-DO"
   ]
  },
  {
   "attachments": {},
   "cell_type": "markdown",
   "id": "22c6163d",
   "metadata": {},
   "source": [
    "### 6.4.4 - Discretization"
   ]
  },
  {
   "cell_type": "code",
   "execution_count": null,
   "id": "18f78a64",
   "metadata": {},
   "outputs": [],
   "source": [
    "# TO-DO"
   ]
  },
  {
   "attachments": {},
   "cell_type": "markdown",
   "id": "bed93774",
   "metadata": {},
   "source": [
    "## 6.5 - Encode categorical features"
   ]
  },
  {
   "attachments": {},
   "cell_type": "markdown",
   "id": "55ac6f45",
   "metadata": {},
   "source": [
    "*Encode categorical feature to make modelling possible for ML models*"
   ]
  },
  {
   "attachments": {},
   "cell_type": "markdown",
   "id": "c0814e8c",
   "metadata": {},
   "source": [
    "### 6.5.1 - One-Hot Encodingm"
   ]
  },
  {
   "cell_type": "code",
   "execution_count": null,
   "id": "7a2486ff",
   "metadata": {},
   "outputs": [],
   "source": [
    "# TO-DO"
   ]
  },
  {
   "attachments": {},
   "cell_type": "markdown",
   "id": "e50dacee",
   "metadata": {},
   "source": [
    "### 6.5.2 - Ordinal Encoding"
   ]
  },
  {
   "cell_type": "code",
   "execution_count": null,
   "id": "f5848643",
   "metadata": {},
   "outputs": [],
   "source": [
    "# TO-DO"
   ]
  },
  {
   "attachments": {},
   "cell_type": "markdown",
   "id": "2d8e7c71",
   "metadata": {},
   "source": [
    "### 6.5.3 - Target Encoding"
   ]
  },
  {
   "cell_type": "code",
   "execution_count": null,
   "id": "d72d40c7",
   "metadata": {},
   "outputs": [],
   "source": [
    "# TO-DO"
   ]
  },
  {
   "attachments": {},
   "cell_type": "markdown",
   "id": "99e12393",
   "metadata": {},
   "source": [
    "## 6.6 - Response variable transformation"
   ]
  },
  {
   "attachments": {},
   "cell_type": "markdown",
   "id": "6f07db9d",
   "metadata": {},
   "source": [
    "*Transform target variable (e.g. log, sqrt, etc) to make modelling \"easier\" for ML models*"
   ]
  },
  {
   "cell_type": "code",
   "execution_count": null,
   "id": "70d3ee79",
   "metadata": {},
   "outputs": [],
   "source": [
    "# TO-DO"
   ]
  },
  {
   "attachments": {},
   "cell_type": "markdown",
   "id": "20a1fee9",
   "metadata": {},
   "source": [
    "## 6.7 - Cyclic variables transformation"
   ]
  },
  {
   "attachments": {},
   "cell_type": "markdown",
   "id": "f88bdcde",
   "metadata": {},
   "source": [
    "*Transform cyclic variables (e.g. days of week, months in year, etc) with a sin and cos functions*"
   ]
  },
  {
   "cell_type": "code",
   "execution_count": null,
   "id": "aa224055",
   "metadata": {},
   "outputs": [],
   "source": [
    "# TO-DO"
   ]
  },
  {
   "attachments": {},
   "cell_type": "markdown",
   "id": "35474f40",
   "metadata": {},
   "source": [
    "## 6.8 - Double-check preparation"
   ]
  },
  {
   "attachments": {},
   "cell_type": "markdown",
   "id": "ec4faaa7",
   "metadata": {},
   "source": [
    "*Double-check the prepared dataset to make sure it is as expected*"
   ]
  },
  {
   "cell_type": "code",
   "execution_count": null,
   "id": "72f62edb",
   "metadata": {},
   "outputs": [],
   "source": [
    "# TO-DO"
   ]
  },
  {
   "attachments": {},
   "cell_type": "markdown",
   "id": "ee9d757b",
   "metadata": {
    "ExecuteTime": {
     "end_time": "2021-11-09T11:28:02.993277Z",
     "start_time": "2021-11-09T11:28:02.988140Z"
    },
    "heading_collapsed": true
   },
   "source": [
    "# **7 - FEATURE SELECTION**"
   ]
  },
  {
   "attachments": {},
   "cell_type": "markdown",
   "id": "989cfb33",
   "metadata": {
    "heading_collapsed": true,
    "hidden": true
   },
   "source": [
    "## 7.1 - Restore Point"
   ]
  },
  {
   "attachments": {},
   "cell_type": "markdown",
   "id": "dab40a87",
   "metadata": {},
   "source": [
    "*Create a checkpoint of the last dataframe from previous section*"
   ]
  },
  {
   "cell_type": "code",
   "execution_count": null,
   "id": "9e572e68",
   "metadata": {},
   "outputs": [],
   "source": [
    "# create a restore point for the previous section dataframe\n",
    "df_f_selection = df_prep.copy()\n",
    "\n",
    "# check dataframe\n",
    "check_dataframe( df_f_selection )"
   ]
  },
  {
   "attachments": {},
   "cell_type": "markdown",
   "id": "2ed869c5",
   "metadata": {},
   "source": [
    "## 7.2 - Logist regression coefficients"
   ]
  },
  {
   "cell_type": "code",
   "execution_count": null,
   "id": "b109fbf8",
   "metadata": {},
   "outputs": [],
   "source": [
    "# TO-DO"
   ]
  },
  {
   "attachments": {},
   "cell_type": "markdown",
   "id": "18ded795",
   "metadata": {},
   "source": [
    "## 7.3 - Random forest feature importance"
   ]
  },
  {
   "cell_type": "code",
   "execution_count": null,
   "id": "bddb7118",
   "metadata": {},
   "outputs": [],
   "source": [
    "# TO-DO"
   ]
  },
  {
   "attachments": {},
   "cell_type": "markdown",
   "id": "ed578042",
   "metadata": {},
   "source": [
    "## 7.4 - Boruta algorithm"
   ]
  },
  {
   "cell_type": "code",
   "execution_count": null,
   "id": "d9be4e25",
   "metadata": {},
   "outputs": [],
   "source": [
    "# TO-DO"
   ]
  },
  {
   "attachments": {},
   "cell_type": "markdown",
   "id": "593aa50b",
   "metadata": {},
   "source": [
    "## 7.5 - Mutual information"
   ]
  },
  {
   "cell_type": "code",
   "execution_count": null,
   "id": "42990ce9",
   "metadata": {},
   "outputs": [],
   "source": [
    "# TO-DO"
   ]
  },
  {
   "attachments": {},
   "cell_type": "markdown",
   "id": "6cd4a7d0",
   "metadata": {
    "heading_collapsed": true
   },
   "source": [
    "# **8 - ML MODEL TRAINING**"
   ]
  },
  {
   "attachments": {},
   "cell_type": "markdown",
   "id": "0b3baa9b",
   "metadata": {
    "heading_collapsed": true,
    "hidden": true
   },
   "source": [
    "## 8.1 - Restore Point"
   ]
  },
  {
   "attachments": {},
   "cell_type": "markdown",
   "id": "78eb6db9",
   "metadata": {},
   "source": [
    "*Create a checkpoint of the last dataframe from previous section*"
   ]
  },
  {
   "cell_type": "code",
   "execution_count": null,
   "id": "2711c6a3",
   "metadata": {
    "ExecuteTime": {
     "end_time": "2021-11-22T11:44:02.805951Z",
     "start_time": "2021-11-22T11:44:02.715657Z"
    },
    "hidden": true,
    "scrolled": true
   },
   "outputs": [],
   "source": [
    "# create a restore point for the previous section dataframe\n",
    "df_train = df_f_selection.copy()\n",
    "\n",
    "# check dataframe\n",
    "check_dataframe( df_train )"
   ]
  },
  {
   "attachments": {},
   "cell_type": "markdown",
   "id": "dab90bd1",
   "metadata": {},
   "source": [
    "## 8.2 - Metrics"
   ]
  },
  {
   "attachments": {},
   "cell_type": "markdown",
   "id": "a3265dbc",
   "metadata": {},
   "source": [
    "*Define the metric of success and the health metrics*"
   ]
  },
  {
   "cell_type": "code",
   "execution_count": null,
   "id": "088c6cce",
   "metadata": {},
   "outputs": [],
   "source": [
    "# TO-DO"
   ]
  },
  {
   "attachments": {},
   "cell_type": "markdown",
   "id": "611df983",
   "metadata": {},
   "source": [
    "## 8.3 - Baseline model"
   ]
  },
  {
   "attachments": {},
   "cell_type": "markdown",
   "id": "e1cba9e3",
   "metadata": {},
   "source": [
    "*Check the performance metrics with a dummy model to get the baseline metric*"
   ]
  },
  {
   "cell_type": "code",
   "execution_count": null,
   "id": "74687ece",
   "metadata": {},
   "outputs": [],
   "source": [
    "# TO-DO"
   ]
  },
  {
   "attachments": {},
   "cell_type": "markdown",
   "id": "ca3fc080",
   "metadata": {},
   "source": [
    "## 8.4 - ML models"
   ]
  },
  {
   "attachments": {},
   "cell_type": "markdown",
   "id": "0d1afd08",
   "metadata": {},
   "source": [
    "*Get performance metrics of ML model with cross-validation*"
   ]
  },
  {
   "cell_type": "code",
   "execution_count": null,
   "id": "b5bc1860",
   "metadata": {},
   "outputs": [],
   "source": [
    "# TO-DO"
   ]
  },
  {
   "attachments": {},
   "cell_type": "markdown",
   "id": "5d3c3c07",
   "metadata": {},
   "source": [
    "## 8.5 - Final modelling comparison"
   ]
  },
  {
   "attachments": {},
   "cell_type": "markdown",
   "id": "dd70b6db",
   "metadata": {},
   "source": [
    "*Compare all models and decide what one is the best (and will be fine-tuned)*"
   ]
  },
  {
   "cell_type": "code",
   "execution_count": null,
   "id": "c4712c7a",
   "metadata": {},
   "outputs": [],
   "source": [
    "# TO-DO"
   ]
  },
  {
   "attachments": {},
   "cell_type": "markdown",
   "id": "575611fe",
   "metadata": {},
   "source": [
    "# **9 - HYPERPARAMETER TUNNING**"
   ]
  },
  {
   "attachments": {},
   "cell_type": "markdown",
   "id": "e2edc6bc",
   "metadata": {},
   "source": [
    "## 9.1 - Restore Point"
   ]
  },
  {
   "attachments": {},
   "cell_type": "markdown",
   "id": "bc71366d",
   "metadata": {},
   "source": [
    "*Create a checkpoint of the last dataframe from previous section*"
   ]
  },
  {
   "cell_type": "code",
   "execution_count": null,
   "id": "08d3467a",
   "metadata": {},
   "outputs": [],
   "source": [
    "# create a restore point for the previous section dataframe\n",
    "df_tune = df_train.copy()\n",
    "\n",
    "# check dataframe\n",
    "check_dataframe( df_tune )"
   ]
  },
  {
   "attachments": {},
   "cell_type": "markdown",
   "id": "de10e50a",
   "metadata": {},
   "source": [
    "## 9.2 - Hypertune the best ML model"
   ]
  },
  {
   "attachments": {},
   "cell_type": "markdown",
   "id": "9e6ac096",
   "metadata": {},
   "source": [
    "*Check the best hyperparams for the best ML model*"
   ]
  },
  {
   "attachments": {},
   "cell_type": "markdown",
   "id": "8f4cd59d",
   "metadata": {},
   "source": [
    "### 9.2.1 - Grid Search"
   ]
  },
  {
   "cell_type": "code",
   "execution_count": null,
   "id": "191d670f",
   "metadata": {},
   "outputs": [],
   "source": [
    "# TO-DO"
   ]
  },
  {
   "attachments": {},
   "cell_type": "markdown",
   "id": "3ca5e074",
   "metadata": {},
   "source": [
    "### 9.2.2 - Random Search"
   ]
  },
  {
   "cell_type": "code",
   "execution_count": null,
   "id": "3ba96cf2",
   "metadata": {},
   "outputs": [],
   "source": [
    "# TO-DO"
   ]
  },
  {
   "attachments": {},
   "cell_type": "markdown",
   "id": "1099906e",
   "metadata": {},
   "source": [
    "### 9.2.3 - Bayesian Search"
   ]
  },
  {
   "cell_type": "code",
   "execution_count": null,
   "id": "b9d6a0a3",
   "metadata": {},
   "outputs": [],
   "source": [
    "# TO-DO"
   ]
  },
  {
   "attachments": {},
   "cell_type": "markdown",
   "id": "cc85ea29",
   "metadata": {},
   "source": [
    "## 9.3 - Define best hyperparameters"
   ]
  },
  {
   "attachments": {},
   "cell_type": "markdown",
   "id": "56530fc0",
   "metadata": {},
   "source": [
    "*Explicitly define best hyper parameters*"
   ]
  },
  {
   "cell_type": "code",
   "execution_count": null,
   "id": "29a0941a",
   "metadata": {},
   "outputs": [],
   "source": [
    "# TO-DO"
   ]
  },
  {
   "attachments": {},
   "cell_type": "markdown",
   "id": "118a044d",
   "metadata": {},
   "source": [
    "# **10 - PERFORMANCE EVALUATION AND INTERPRETATION**"
   ]
  },
  {
   "attachments": {},
   "cell_type": "markdown",
   "id": "9beb0f5e",
   "metadata": {},
   "source": [
    "## 10.1 - Restore Point"
   ]
  },
  {
   "attachments": {},
   "cell_type": "markdown",
   "id": "06063ebc",
   "metadata": {},
   "source": [
    "*Create a checkpoint of the last dataframe from previous section*"
   ]
  },
  {
   "cell_type": "code",
   "execution_count": null,
   "id": "ca048da1",
   "metadata": {},
   "outputs": [],
   "source": [
    "# create a restore point for the previous section dataframe\n",
    "df_perform = df_tune.copy()\n",
    "\n",
    "# check dataframe\n",
    "check_dataframe( df_perform )"
   ]
  },
  {
   "attachments": {},
   "cell_type": "markdown",
   "id": "bd259a95",
   "metadata": {},
   "source": [
    "## 10.2 - Training Performance"
   ]
  },
  {
   "attachments": {},
   "cell_type": "markdown",
   "id": "61597c50",
   "metadata": {},
   "source": [
    "*Get final model performance on training data*"
   ]
  },
  {
   "cell_type": "code",
   "execution_count": null,
   "id": "de669b2b",
   "metadata": {},
   "outputs": [],
   "source": [
    "# TO-DO"
   ]
  },
  {
   "attachments": {},
   "cell_type": "markdown",
   "id": "ad7b1738",
   "metadata": {},
   "source": [
    "## 10.3 - Generalization performance"
   ]
  },
  {
   "attachments": {},
   "cell_type": "markdown",
   "id": "86cbc993",
   "metadata": {},
   "source": [
    "### 10.3.1 - Final model training"
   ]
  },
  {
   "attachments": {},
   "cell_type": "markdown",
   "id": "e68bfaed",
   "metadata": {},
   "source": [
    "*Get final model performance on validation data*"
   ]
  },
  {
   "cell_type": "code",
   "execution_count": null,
   "id": "51f346c4",
   "metadata": {},
   "outputs": [],
   "source": [
    "# TO-DO"
   ]
  },
  {
   "attachments": {},
   "cell_type": "markdown",
   "id": "56ad9401",
   "metadata": {},
   "source": [
    "### 10.3.2 - Error analysis"
   ]
  },
  {
   "attachments": {},
   "cell_type": "markdown",
   "id": "30f53834",
   "metadata": {},
   "source": [
    "*Perform error analysis on final model to make sure it is ready for production*"
   ]
  },
  {
   "cell_type": "code",
   "execution_count": null,
   "id": "08faa83e",
   "metadata": {},
   "outputs": [],
   "source": [
    "# TO-DO"
   ]
  },
  {
   "attachments": {},
   "cell_type": "markdown",
   "id": "227e866b",
   "metadata": {},
   "source": [
    "## 10.4 - Define prodution model"
   ]
  },
  {
   "attachments": {},
   "cell_type": "markdown",
   "id": "d3babf23",
   "metadata": {},
   "source": [
    "*Train ML on \"training + validation\" data*"
   ]
  },
  {
   "cell_type": "code",
   "execution_count": null,
   "id": "4c8d89a9",
   "metadata": {},
   "outputs": [],
   "source": [
    "# TO-DO"
   ]
  },
  {
   "attachments": {},
   "cell_type": "markdown",
   "id": "5b33acde",
   "metadata": {},
   "source": [
    "## 10.5 - Testing performance"
   ]
  },
  {
   "attachments": {},
   "cell_type": "markdown",
   "id": "fb1220a9",
   "metadata": {},
   "source": [
    "*Get production model performance on testing data*"
   ]
  },
  {
   "cell_type": "code",
   "execution_count": null,
   "id": "6e52f764",
   "metadata": {},
   "outputs": [],
   "source": [
    "# TO-DO"
   ]
  },
  {
   "attachments": {},
   "cell_type": "markdown",
   "id": "1d2e70d7",
   "metadata": {},
   "source": [
    "## 10.6 - Business performance"
   ]
  },
  {
   "attachments": {},
   "cell_type": "markdown",
   "id": "a294eeac",
   "metadata": {},
   "source": [
    "*Translate testing performance into business results*"
   ]
  },
  {
   "cell_type": "code",
   "execution_count": null,
   "id": "36f80bff",
   "metadata": {},
   "outputs": [],
   "source": [
    "# TO-DO"
   ]
  },
  {
   "attachments": {},
   "cell_type": "markdown",
   "id": "855aae5f",
   "metadata": {},
   "source": [
    "# **11 - DEPLOYMENT**"
   ]
  },
  {
   "attachments": {},
   "cell_type": "markdown",
   "id": "ee8e3824",
   "metadata": {},
   "source": [
    "![Deployment architecture](../img/....jpg)"
   ]
  },
  {
   "attachments": {},
   "cell_type": "markdown",
   "id": "c8ebea41",
   "metadata": {},
   "source": [
    "## 11.1 - API creation"
   ]
  },
  {
   "attachments": {},
   "cell_type": "markdown",
   "id": "33ea6360",
   "metadata": {},
   "source": [
    "*Code to create API for ML predictions*"
   ]
  },
  {
   "cell_type": "code",
   "execution_count": null,
   "id": "c1352323",
   "metadata": {},
   "outputs": [],
   "source": [
    "# TO-DO"
   ]
  },
  {
   "attachments": {},
   "cell_type": "markdown",
   "id": "60bbaa2e",
   "metadata": {},
   "source": [
    "## 11.2 - Docker container"
   ]
  },
  {
   "attachments": {},
   "cell_type": "markdown",
   "id": "4e1b9c1e",
   "metadata": {},
   "source": [
    "*Code to create a Docker container and deploy ML model*"
   ]
  },
  {
   "cell_type": "code",
   "execution_count": null,
   "id": "73bb3659",
   "metadata": {},
   "outputs": [],
   "source": [
    "# TO-DO"
   ]
  },
  {
   "cell_type": "code",
   "execution_count": null,
   "id": "c0333fb1",
   "metadata": {},
   "outputs": [],
   "source": []
  }
 ],
 "metadata": {
  "kernelspec": {
   "display_name": "hotmart_case",
   "language": "python",
   "name": "python3"
  },
  "language_info": {
   "codemirror_mode": {
    "name": "ipython",
    "version": 3
   },
   "file_extension": ".py",
   "mimetype": "text/x-python",
   "name": "python",
   "nbconvert_exporter": "python",
   "pygments_lexer": "ipython3",
   "version": "3.10.6"
  },
  "toc": {
   "base_numbering": 1,
   "nav_menu": {},
   "number_sections": false,
   "sideBar": true,
   "skip_h1_title": false,
   "title_cell": "Table of Contents",
   "title_sidebar": "Contents",
   "toc_cell": false,
   "toc_position": {},
   "toc_section_display": true,
   "toc_window_display": false
  },
  "varInspector": {
   "cols": {
    "lenName": 16,
    "lenType": 16,
    "lenVar": 40
   },
   "kernels_config": {
    "python": {
     "delete_cmd_postfix": "",
     "delete_cmd_prefix": "del ",
     "library": "var_list.py",
     "varRefreshCmd": "print(var_dic_list())"
    },
    "r": {
     "delete_cmd_postfix": ") ",
     "delete_cmd_prefix": "rm(",
     "library": "var_list.r",
     "varRefreshCmd": "cat(var_dic_list()) "
    }
   },
   "types_to_exclude": [
    "module",
    "function",
    "builtin_function_or_method",
    "instance",
    "_Feature"
   ],
   "window_display": false
  }
 },
 "nbformat": 4,
 "nbformat_minor": 5
}
