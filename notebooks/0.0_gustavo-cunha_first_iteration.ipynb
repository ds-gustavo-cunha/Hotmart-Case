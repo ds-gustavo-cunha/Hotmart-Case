{
 "cells": [
  {
   "attachments": {},
   "cell_type": "markdown",
   "id": "2bf7b726",
   "metadata": {},
   "source": [
    "# **PROBLEM SOLVING DESIGN**\n",
    "\n",
    "![Lean StartUp Feedback Loop](../img/project_structure/lean_startup_feedback_loop.jpg)"
   ]
  },
  {
   "attachments": {},
   "cell_type": "markdown",
   "id": "866053b1",
   "metadata": {},
   "source": [
    "# **BUSINESS CONTEXT**"
   ]
  },
  {
   "attachments": {},
   "cell_type": "markdown",
   "id": "654c805f",
   "metadata": {
    "heading_collapsed": true
   },
   "source": [
    "## **What is the company?**\n",
    "\n",
    "Hotmart\n",
    "\n",
    "## **What is its business model?**\n",
    "\n",
    "Two-sided marketplace. It is a platform for buying, selling and promoting digital products in which Hotmart connects product creators/disseminators to their customers.\n",
    "\n",
    "## **What is the company stage on the market?**\n",
    "\n",
    "\"Virality\" (Lean Analytics) or \"early majority\" (Innovation Adoption Curve). The company found a pain in the market and validated a product that solves the pain; now is the time to increase the customer base."
   ]
  },
  {
   "attachments": {},
   "cell_type": "markdown",
   "id": "d5329e88",
   "metadata": {
    "ExecuteTime": {
     "end_time": "2021-11-04T17:35:13.475385Z",
     "start_time": "2021-11-04T17:35:13.469403Z"
    }
   },
   "source": [
    "# **BUSINESS PROBLEM**"
   ]
  },
  {
   "attachments": {},
   "cell_type": "markdown",
   "id": "f00d37f8",
   "metadata": {
    "ExecuteTime": {
     "end_time": "2021-11-04T17:35:17.610201Z",
     "start_time": "2021-11-04T17:35:17.584618Z"
    }
   },
   "source": [
    "## **What is the business problem the company is facing?**\n",
    "\n",
    "The company wants to get insight based on customers' data in order to unveil new product opportunities, especially in terms of product success, customer segmentation, and revenue estimation.\n",
    "\n",
    "## **What is the business solution that this project has to deliver?**\n",
    "\n",
    "A presentation of storytelling insights based on the available data and, possibly, answers to the following questions:\n",
    "- Does Hotmart depend on the biggest producers on the platform? That is, the top-selling producers are responsible for most of the\n",
    "Hotmart billing?\n",
    "- Are there any relevant patterns or trends in the data?\n",
    "- It is possible to segment users based on their characteristics (revenue, product niche, etc.)?\n",
    "- What features most impact the success of a product? that is, the What makes a product sell more?\n",
    "- It is possible to estimate how much revenue Hotmart will generate in the next three months from the last month shown in the dataset?\n",
    "\n",
    "**References:**\n",
    "- Case description\n",
    "- https://hotmart.com/pt-br"
   ]
  },
  {
   "attachments": {},
   "cell_type": "markdown",
   "id": "cce72a6a",
   "metadata": {},
   "source": [
    "# **SCOPE AND BUSINESS ASSUMPTIONS**\n",
    "\n",
    "- **...**\n",
    "\n",
    "- **...**\n",
    "\n",
    "\n",
    "REFERENCES:\n",
    "..."
   ]
  },
  {
   "attachments": {},
   "cell_type": "markdown",
   "id": "34f8a758",
   "metadata": {
    "ExecuteTime": {
     "end_time": "2021-11-04T13:34:43.189698Z",
     "start_time": "2021-11-04T13:34:43.022292Z"
    }
   },
   "source": [
    "# **SOLUTION STRATEGY**\n",
    "\n",
    "![IoT method](../img/project_structure/iot_method.png)*IOT (Input-Output-Taks) is a planning strategy to structure a problem solution and make sure it delivers a solution that solves the initial problem.*"
   ]
  },
  {
   "attachments": {},
   "cell_type": "markdown",
   "id": "b6ca3bf4",
   "metadata": {
    "ExecuteTime": {
     "end_time": "2021-11-04T17:39:03.938670Z",
     "start_time": "2021-11-04T17:39:03.934341Z"
    }
   },
   "source": [
    "### INPUT\n",
    "\n",
    "- **Business context**:\n",
    "    - It is a platform for buying, selling and promoting digital products in which Hotmart connects product creators/disseminators to their customers.\n",
    "    - In principle, Hotmart makes money by **taxing**, either the creators or the disseminators, **a percentage of the purchase by the customer**.\n",
    "- **Business problem**:\n",
    "    - The company wants to get **insights** based on customers' data in order to **unveil new product opportunities**, especially in terms of product success, customer segmentation, and revenue estimation.\n",
    "- **Business questions**:\n",
    "    - Does **Hotmart depend** on the **biggest producers** on the platform? That is, the **top-selling producers** are responsible for **most** of the Hotmart **billing**?\n",
    "    - Are there any **relevant patterns or trends** in the data?\n",
    "    - It is possible to **segment users** based on their characteristics (revenue, product niche, etc.)?\n",
    "    - What **features most impact** the success of a **product**? that is, the What makes a **product sell more**?\n",
    "    - It is possible to **estimate** how much **revenue** Hotmart will generate in the **next three months from the last month** shown in the dataset?\n",
    "- **Available data**:\n",
    "    - Data referring to a **sample of purchases made** at Hotmart in 2016. These are more than 1.5 million records of purchases made on our **platform**."
   ]
  },
  {
   "attachments": {},
   "cell_type": "markdown",
   "id": "8df0c314",
   "metadata": {
    "ExecuteTime": {
     "end_time": "2021-11-04T17:38:29.559329Z",
     "start_time": "2021-11-04T17:38:29.544358Z"
    },
    "heading_collapsed": true
   },
   "source": [
    "### OUTPUT \n",
    "\n",
    "- A presentation of storytelling insights based on the available data and, possibly, answers to the previous questions."
   ]
  },
  {
   "attachments": {},
   "cell_type": "markdown",
   "id": "fa2284b4",
   "metadata": {},
   "source": [
    "### TASKs\n",
    "\n",
    "- *QUESTION*:\n",
    "    - Does **Hotmart depend** on the **biggest producers** on the platform? That is, the **top-selling producers** are responsible for **most** of the Hotmart **billing**?\n",
    "        - What are the biggest producers on the platform? What is its definition?\n",
    "            - Assuming higher than 95th percentile of volume of product sold.\n",
    "        - What is the revenue difference from this customers to the remaining one?\n",
    "            - Compare revenues\n",
    "        - What it means to be dependent on some producers?\n",
    "            - Assuming \"Pareto rule\" like: 80% of revenue comes from the 5th top selling producers\n",
    "\n",
    "<br >\n",
    "\n",
    "- *QUESTION*:\n",
    "    - Are there any **relevant patterns or trends** in the data?\n",
    "        - Check for features that shows patterns in terms of customers/producers groups or revenue impact\n",
    "\n",
    "<br >\n",
    "\n",
    "- *QUESTION*:\n",
    "    - It is possible to **segment users** based on their characteristics (revenue, product niche, etc.)?\n",
    "        - What is the purpose of segmenting customers?\n",
    "            - Assuming purchase_value as the target variable\n",
    "            - Check for features that can cluster customer/producers for better revenue undestanding\n",
    "                - Initially try RFM (Recency-Frequency-Monetary)\n",
    "\n",
    "<br >      \n",
    "\n",
    "- *QUESTION*:\n",
    "    - What **features most impact** the success of a **product**? that is, the What makes a **product sell more**?\n",
    "        - Success of a product = number of products sold\n",
    "            - Inspect features with high correlation to the number of product sold\n",
    "            - Check for simple causal inference techniques\n",
    "\n",
    "<br >\n",
    "\n",
    "- *QUESTION*:\n",
    "    - It is possible to **estimate** how much **revenue** Hotmart will generate in the **next three months from the last month** shown in the dataset?\n",
    "        - Check the revenue time-series to understand how to extrapolate it to the future\n",
    "            - Visual inspection\n",
    "            - Check for trend and seasonality and noise\n",
    "            - Define baseline (dummy = last available date)\n",
    "                - Initially, ARIMA model\n",
    "                - If possible, machine learning models\n",
    "                - Check model error and extrapolate to business impact"
   ]
  },
  {
   "attachments": {},
   "cell_type": "markdown",
   "id": "b9825219",
   "metadata": {},
   "source": [
    "# **PRODUCT BUILDING ROADMAP**\n",
    "\n",
    "![CRISP-DS Framework](../img/project_structure/crisp_ds.jpg)"
   ]
  },
  {
   "attachments": {},
   "cell_type": "markdown",
   "id": "aa8ba4f7",
   "metadata": {},
   "source": [
    "---\n",
    "---\n",
    "---"
   ]
  },
  {
   "attachments": {},
   "cell_type": "markdown",
   "id": "cfb7b1da",
   "metadata": {
    "heading_collapsed": true
   },
   "source": [
    "# **0 - HELPERS**"
   ]
  },
  {
   "attachments": {},
   "cell_type": "markdown",
   "id": "f73c6dcd",
   "metadata": {
    "heading_collapsed": true,
    "hidden": true
   },
   "source": [
    "## 0.1 - Libraries"
   ]
  },
  {
   "attachments": {},
   "cell_type": "markdown",
   "id": "3a213f9e",
   "metadata": {},
   "source": [
    "*Import required libraries*"
   ]
  },
  {
   "cell_type": "code",
   "execution_count": 1,
   "id": "6bef9efa",
   "metadata": {},
   "outputs": [],
   "source": [
    "# don't cache libraries (especially project library)\n",
    "%load_ext autoreload\n",
    "%autoreload 2"
   ]
  },
  {
   "cell_type": "code",
   "execution_count": 2,
   "id": "2d066e75",
   "metadata": {},
   "outputs": [
    {
     "data": {
      "text/html": [
       "<style>.container { width:100% !important; }</style>"
      ],
      "text/plain": [
       "<IPython.core.display.HTML object>"
      ]
     },
     "metadata": {},
     "output_type": "display_data"
    }
   ],
   "source": [
    "# setup and environment\n",
    "import os\n",
    "from   pathlib import Path\n",
    "\n",
    "# data extraction\n",
    "from sqlalchemy import create_engine\n",
    "\n",
    "# data manipulation\n",
    "import numpy as np\n",
    "import pandas as pd\n",
    "\n",
    "# project library\n",
    "from project_lib.initial_config import initial_settings\n",
    "from project_lib.data_description import check_dataframe"
   ]
  },
  {
   "attachments": {},
   "cell_type": "markdown",
   "id": "66efdb94",
   "metadata": {
    "ExecuteTime": {
     "end_time": "2021-11-08T11:06:42.870317Z",
     "start_time": "2021-11-08T11:06:42.862040Z"
    },
    "heading_collapsed": true,
    "hidden": true
   },
   "source": [
    "## 0.2 - Functions"
   ]
  },
  {
   "attachments": {},
   "cell_type": "markdown",
   "id": "8e94d8f7",
   "metadata": {},
   "source": [
    "*Define functions that will be used on the project*"
   ]
  },
  {
   "attachments": {},
   "cell_type": "markdown",
   "id": "005d90e2",
   "metadata": {
    "ExecuteTime": {
     "end_time": "2021-12-10T14:13:12.396952Z",
     "start_time": "2021-12-10T14:13:12.316411Z"
    },
    "hidden": true
   },
   "source": [
    "NOTE: Most functions made for this project are inside the project library. That is, **a package called \"project_lib\" was created to hold all functions that will be needed for this project.**\n",
    "\n",
    "\n",
    "For further details, please check the modules inside \"project_lib\" package [in other words, check .py files inside project_lib folder]"
   ]
  },
  {
   "cell_type": "code",
   "execution_count": 3,
   "id": "0166e669",
   "metadata": {},
   "outputs": [],
   "source": [
    "# # example of function created for this project\n",
    "# help(check_dataframe)"
   ]
  },
  {
   "attachments": {},
   "cell_type": "markdown",
   "id": "31bfa06e",
   "metadata": {},
   "source": [
    "## 0.3 - Setup"
   ]
  },
  {
   "attachments": {},
   "cell_type": "markdown",
   "id": "7dc1ec1d",
   "metadata": {},
   "source": [
    "*Define basic configurations*"
   ]
  },
  {
   "cell_type": "code",
   "execution_count": 4,
   "id": "66009c14",
   "metadata": {},
   "outputs": [
    {
     "data": {
      "text/html": [
       "<style>.container { width:100% !important; }</style>"
      ],
      "text/plain": [
       "<IPython.core.display.HTML object>"
      ]
     },
     "metadata": {},
     "output_type": "display_data"
    }
   ],
   "source": [
    "# initial setup of dataframes and plots\n",
    "initial_settings(storytelling=False)"
   ]
  },
  {
   "attachments": {},
   "cell_type": "markdown",
   "id": "fa085249",
   "metadata": {},
   "source": [
    "## 0.4 - Constants"
   ]
  },
  {
   "attachments": {},
   "cell_type": "markdown",
   "id": "059932be",
   "metadata": {},
   "source": [
    "*Define reusuable constants*"
   ]
  },
  {
   "cell_type": "code",
   "execution_count": 5,
   "id": "ad9f83e2",
   "metadata": {},
   "outputs": [
    {
     "data": {
      "text/plain": [
       "PosixPath('/home/ds-gustavo-cunha/Projects/hotmart_case')"
      ]
     },
     "execution_count": 5,
     "metadata": {},
     "output_type": "execute_result"
    }
   ],
   "source": [
    "# define the project root path that will be the \"baseline\" for all paths in the notebook\n",
    "PROJECT_ROOT_PATH = Path.cwd().parent\n",
    "PROJECT_ROOT_PATH"
   ]
  },
  {
   "cell_type": "code",
   "execution_count": 6,
   "id": "98cc48c5-8f19-484d-aa2e-71ca25a41b67",
   "metadata": {},
   "outputs": [],
   "source": [
    "# # variables to connect to data source\n",
    "# HOST=os.environ[\"HOST\"]\n",
    "# PORT=os.environ[\"PORT\"]\n",
    "# USER=os.environ[\"USER\"]\n",
    "# PASSWORD=os.environ[\"PASSWORD\"]\n",
    "# SCHEMA=os.environ[\"SCHEMA\"]\n",
    "# TABLE=os.environ[\"TABLE\"]"
   ]
  },
  {
   "attachments": {},
   "cell_type": "markdown",
   "id": "71c139dd",
   "metadata": {
    "ExecuteTime": {
     "end_time": "2021-11-04T23:09:51.772110Z",
     "start_time": "2021-11-04T23:09:51.767141Z"
    }
   },
   "source": [
    "# **1 - DATA EXTRACTION**"
   ]
  },
  {
   "attachments": {},
   "cell_type": "markdown",
   "id": "870fc960",
   "metadata": {},
   "source": [
    "## 1.1 - Entity Relationship Diagram"
   ]
  },
  {
   "attachments": {},
   "cell_type": "markdown",
   "id": "52b1c61e",
   "metadata": {},
   "source": [
    "*Display Entity-Relationship Diagram to a better data understanding*"
   ]
  },
  {
   "cell_type": "code",
   "execution_count": 7,
   "id": "aee358fe",
   "metadata": {},
   "outputs": [],
   "source": [
    "# Not available -> datasets are already merged"
   ]
  },
  {
   "attachments": {},
   "cell_type": "markdown",
   "id": "eddb0851",
   "metadata": {
    "ExecuteTime": {
     "end_time": "2021-11-08T11:11:43.415835Z",
     "start_time": "2021-11-08T11:11:43.409069Z"
    }
   },
   "source": [
    "## 1.2 - Data Fields Description"
   ]
  },
  {
   "attachments": {},
   "cell_type": "markdown",
   "id": "6ef925d8",
   "metadata": {},
   "source": [
    "*Describe available data in regard to database information*\n"
   ]
  },
  {
   "cell_type": "markdown",
   "id": "ae37d62c-5cfa-4997-87dc-552340480a3c",
   "metadata": {},
   "source": [
    "---\n",
    "\n",
    "Na Hotmart, possuímos três principais personas que integram nosso negócio: os produtores, os afiliados e os compradores.\n",
    "- Produtores são pessoas que criam produtos digitais na Hotmart, como cursos de idiomas, ebooks de receitas culinárias, audiolivros, softwares, dentre muitos outros exemplos.\n",
    "- Afiliados são pessoas que promovem produtos dos produtores em troca de uma comissão na venda, que varia de produto para produto, e de afiliado para afiliado.\n",
    "- Compradores são pessoas que adquirem um ou mais produtos digitais.\n",
    "    \n",
    "Uma venda é feita por um afiliado quando alguém clica em um link de afiliados. Eles geralmente fazem a promoção desses produtos em redes sociais, vídeos, anúncios, etc.\n",
    "\n",
    "Já uma venda é feita por um produtor quando alguém tem acesso direto ao seu produto, sem intermediação do afiliado. Por exemplo, pessoas que seguem o Whindersson Nunes no Youtube e entraram em seu site oficial para adquirir seu produto, ou clicaram no link do produto sem código de afiliação.\n",
    "\n",
    "---"
   ]
  },
  {
   "cell_type": "markdown",
   "id": "8a995eff-1a03-4512-91b0-254468c3b809",
   "metadata": {},
   "source": [
    "---\n",
    "\n",
    "Durante sua avaliação, você irá analisar dados referentes a uma amostra de compras feitas na Hotmart em 2016. Tratam-se de mais de 1,5 milhão registros de compras realizadas em nossa plataforma. Abaixo, nós iremos detalhar o que significa cada campo:\n",
    "- **purchase_id**: Identificação da compra na Hotmart;\n",
    "- **product_id**: Identificação do produto na Hotmart;\n",
    "- **affiliate_id**: Identificação do afiliado na Hotmart;\n",
    "- **producer_id**: Identificação do produtor na Hotmart;\n",
    "- **buyer_id**: Identificação do comprador na Hotmart;\n",
    "- **purchase_date**: Data e hora em que a compra foi realizada;\n",
    "- **product_creation_date**: Data e hora em que o produto foi criado na Hotmart;\n",
    "- **product_category**: categoria do produto na Hotmart. Exemplo: e-book, software, curso online, e-tickets, etc.;\n",
    "- **product_niche**: nicho de mercado que o produto faz parte. Exemplo: educação, saúde e bem-estar, sexualidade, etc.;\n",
    "- **purchase_value**: valor da compra. Esse dado, assim como nicho e categoria foi codificado para manter a confidencialidade. O valor apresentado no dataset é o z-score do valor real;\n",
    "- **affiliate_commission_percentual**: percentual de comissão que o afiliado receberá da compra;\n",
    "- **purchase_device**: tipo de dispositivo utilizado no momento da compra, como: Desktop, Mobile, Tablet, ou Outros;\n",
    "- **purchase_origin**: endereço do site do qual a pessoa veio antes da compra. Por exemplo, se uma pessoa veio do Facebook, Youtube, ou até mesmo de outra página no site oficial do produto;\n",
    "- **is_origin_page_social_network**: informa se essa compra veio de uma URL do Facebook, Youtube, Instagram, Pinterest, ou Twitter.\n",
    "\n",
    "---"
   ]
  },
  {
   "cell_type": "markdown",
   "id": "76df06ec-313d-4bf6-b1ed-413e2c43e926",
   "metadata": {},
   "source": [
    "---\n",
    "\n",
    "Algumas regras de negócio:\n",
    "- Quando a compra for feita diretamente pelo produtor, ou seja, quando não houver afiliado intermediando a compra, o campo affiliate_commission_percentual terá valor 0, e o campo affiliate_id será igual ao producer_id;\n",
    "- No campo purchase_origin nós apenas consideramos o host do site. Isso quer dizer que, se uma pessoa veio do site www.meuproduto.com/promocoes, esse campo só irá retornar o valor www.meuproduto.com;\n",
    "\n",
    "---"
   ]
  },
  {
   "attachments": {},
   "cell_type": "markdown",
   "id": "425ae4b4",
   "metadata": {},
   "source": [
    "## 1.3 - Data Loading"
   ]
  },
  {
   "attachments": {},
   "cell_type": "markdown",
   "id": "98e6ffec",
   "metadata": {},
   "source": [
    "*Load data from required files*"
   ]
  },
  {
   "cell_type": "code",
   "execution_count": 8,
   "id": "e856158a-8b04-4d68-b6ea-c46789fffaf1",
   "metadata": {},
   "outputs": [],
   "source": [
    "# # define connection \"endpoint\"\n",
    "# db_connection_str = f'mysql+pymysql://{USER}:{PASSWORD}@{HOST}/{SCHEMA}'\n",
    "# # create an engine to connect to database\n",
    "# db_connection = create_engine(db_connection_str)\n",
    "\n",
    "# # define query to get data\n",
    "# query=f\"\"\"\n",
    "# SELECT *\n",
    "# FROM {TABLE}\n",
    "# \"\"\"\n",
    "\n",
    "# # read all data from database\n",
    "# df_sql = pd.read_sql(sql=query, con=db_connection)\n",
    "# df_sql"
   ]
  },
  {
   "cell_type": "code",
   "execution_count": 9,
   "id": "0f9aaf2e-15e2-4bd0-b305-d1e0b27a5619",
   "metadata": {},
   "outputs": [],
   "source": [
    "# # save data to parquet so as to not overload database server unnecessarily\n",
    "# df_sql.to_parquet(\n",
    "#     path=os.path.join(PROJECT_ROOT_PATH, \"data\", \"raw_data\", \"customer_data.parquet\")\n",
    "# )"
   ]
  },
  {
   "cell_type": "code",
   "execution_count": 10,
   "id": "5c1b6096",
   "metadata": {},
   "outputs": [
    {
     "data": {
      "text/html": [
       "<div>\n",
       "<style scoped>\n",
       "    .dataframe tbody tr th:only-of-type {\n",
       "        vertical-align: middle;\n",
       "    }\n",
       "\n",
       "    .dataframe tbody tr th {\n",
       "        vertical-align: top;\n",
       "    }\n",
       "\n",
       "    .dataframe thead th {\n",
       "        text-align: right;\n",
       "    }\n",
       "</style>\n",
       "<table border=\"1\" class=\"dataframe\">\n",
       "  <thead>\n",
       "    <tr style=\"text-align: right;\">\n",
       "      <th></th>\n",
       "      <th>purchase_id</th>\n",
       "      <th>product_id</th>\n",
       "      <th>affiliate_id</th>\n",
       "      <th>producer_id</th>\n",
       "      <th>buyer_id</th>\n",
       "      <th>purchase_date</th>\n",
       "      <th>product_creation_date</th>\n",
       "      <th>product_category</th>\n",
       "      <th>product_niche</th>\n",
       "      <th>purchase_value</th>\n",
       "      <th>affiliate_commission_percentual</th>\n",
       "      <th>purchase_device</th>\n",
       "      <th>purchase_origin</th>\n",
       "      <th>is_origin_page_social_network</th>\n",
       "      <th>Venda</th>\n",
       "    </tr>\n",
       "  </thead>\n",
       "  <tbody>\n",
       "    <tr>\n",
       "      <th>287950</th>\n",
       "      <td>11422946</td>\n",
       "      <td>75112</td>\n",
       "      <td>1710129</td>\n",
       "      <td>1710129</td>\n",
       "      <td>6478103</td>\n",
       "      <td>2016-02-06 00:10:19</td>\n",
       "      <td>2013-10-30 11:16:08</td>\n",
       "      <td>Phisical book</td>\n",
       "      <td>YouTube video creation</td>\n",
       "      <td>0.135</td>\n",
       "      <td>0.000</td>\n",
       "      <td>Desktop</td>\n",
       "      <td>Origin f01f</td>\n",
       "      <td>0,0</td>\n",
       "      <td>1</td>\n",
       "    </tr>\n",
       "    <tr>\n",
       "      <th>280310</th>\n",
       "      <td>11407415</td>\n",
       "      <td>152793</td>\n",
       "      <td>1466995</td>\n",
       "      <td>1466995</td>\n",
       "      <td>6471288</td>\n",
       "      <td>2016-02-05 11:09:33</td>\n",
       "      <td>2015-05-22 16:59:28</td>\n",
       "      <td>Podcast</td>\n",
       "      <td>Government</td>\n",
       "      <td>-0.485</td>\n",
       "      <td>0.000</td>\n",
       "      <td>eReaders</td>\n",
       "      <td>Origin adf0</td>\n",
       "      <td>0,0</td>\n",
       "      <td>1</td>\n",
       "    </tr>\n",
       "    <tr>\n",
       "      <th>442964</th>\n",
       "      <td>11742887</td>\n",
       "      <td>143650</td>\n",
       "      <td>233684</td>\n",
       "      <td>233684</td>\n",
       "      <td>4980693</td>\n",
       "      <td>2016-02-26 09:36:55</td>\n",
       "      <td>2015-03-27 13:41:05</td>\n",
       "      <td>Phisical book</td>\n",
       "      <td>Procrastination</td>\n",
       "      <td>-0.148</td>\n",
       "      <td>0.000</td>\n",
       "      <td>eReaders</td>\n",
       "      <td>Origin 386a</td>\n",
       "      <td>0,0</td>\n",
       "      <td>1</td>\n",
       "    </tr>\n",
       "    <tr>\n",
       "      <th>465287</th>\n",
       "      <td>11789366</td>\n",
       "      <td>88450</td>\n",
       "      <td>289832</td>\n",
       "      <td>289832</td>\n",
       "      <td>5245069</td>\n",
       "      <td>2016-02-28 17:40:06</td>\n",
       "      <td>2014-02-28 23:43:21</td>\n",
       "      <td>Phisical book</td>\n",
       "      <td>Physics</td>\n",
       "      <td>-0.485</td>\n",
       "      <td>0.000</td>\n",
       "      <td>Smart TV</td>\n",
       "      <td>Origin ef2b</td>\n",
       "      <td>0,0</td>\n",
       "      <td>1</td>\n",
       "    </tr>\n",
       "    <tr>\n",
       "      <th>51001</th>\n",
       "      <td>10943595</td>\n",
       "      <td>120214</td>\n",
       "      <td>4181</td>\n",
       "      <td>4181</td>\n",
       "      <td>717475</td>\n",
       "      <td>2016-01-08 03:29:03</td>\n",
       "      <td>2014-10-17 15:32:24</td>\n",
       "      <td>Phisical book</td>\n",
       "      <td>Negotiation</td>\n",
       "      <td>0.341</td>\n",
       "      <td>0.000</td>\n",
       "      <td>Desktop</td>\n",
       "      <td>Origin 71cd</td>\n",
       "      <td>0,0</td>\n",
       "      <td>1</td>\n",
       "    </tr>\n",
       "  </tbody>\n",
       "</table>\n",
       "<p>5 rows × 15 columns</p>\n",
       "</div>"
      ],
      "text/plain": [
       "        purchase_id  product_id  affiliate_id  producer_id  buyer_id   \n",
       "287950     11422946       75112       1710129      1710129   6478103  \\\n",
       "280310     11407415      152793       1466995      1466995   6471288   \n",
       "442964     11742887      143650        233684       233684   4980693   \n",
       "465287     11789366       88450        289832       289832   5245069   \n",
       "51001      10943595      120214          4181         4181    717475   \n",
       "\n",
       "             purchase_date product_creation_date product_category   \n",
       "287950 2016-02-06 00:10:19   2013-10-30 11:16:08    Phisical book  \\\n",
       "280310 2016-02-05 11:09:33   2015-05-22 16:59:28          Podcast   \n",
       "442964 2016-02-26 09:36:55   2015-03-27 13:41:05    Phisical book   \n",
       "465287 2016-02-28 17:40:06   2014-02-28 23:43:21    Phisical book   \n",
       "51001  2016-01-08 03:29:03   2014-10-17 15:32:24    Phisical book   \n",
       "\n",
       "                 product_niche  purchase_value   \n",
       "287950  YouTube video creation           0.135  \\\n",
       "280310              Government          -0.485   \n",
       "442964         Procrastination          -0.148   \n",
       "465287                 Physics          -0.485   \n",
       "51001              Negotiation           0.341   \n",
       "\n",
       "        affiliate_commission_percentual purchase_device purchase_origin   \n",
       "287950                            0.000         Desktop     Origin f01f  \\\n",
       "280310                            0.000        eReaders     Origin adf0   \n",
       "442964                            0.000        eReaders     Origin 386a   \n",
       "465287                            0.000        Smart TV     Origin ef2b   \n",
       "51001                             0.000         Desktop     Origin 71cd   \n",
       "\n",
       "       is_origin_page_social_network  Venda  \n",
       "287950                           0,0      1  \n",
       "280310                           0,0      1  \n",
       "442964                           0,0      1  \n",
       "465287                           0,0      1  \n",
       "51001                            0,0      1  \n",
       "\n",
       "[5 rows x 15 columns]"
      ]
     },
     "execution_count": 10,
     "metadata": {},
     "output_type": "execute_result"
    }
   ],
   "source": [
    "# read data from local source\n",
    "df_extraction = pd.read_parquet(\n",
    "    path=os.path.join(PROJECT_ROOT_PATH, \"data\", \"raw_data\", \"customer_data.parquet\")\n",
    ")\n",
    "\n",
    "# inspect results\n",
    "df_extraction.sample(5)"
   ]
  },
  {
   "attachments": {},
   "cell_type": "markdown",
   "id": "fab65071",
   "metadata": {
    "heading_collapsed": true
   },
   "source": [
    "# **2 - DATA DESCRIPTION**"
   ]
  },
  {
   "attachments": {},
   "cell_type": "markdown",
   "id": "4baca2ad",
   "metadata": {
    "ExecuteTime": {
     "end_time": "2021-11-08T11:33:34.436022Z",
     "start_time": "2021-11-08T11:33:34.433283Z"
    },
    "heading_collapsed": true,
    "hidden": true
   },
   "source": [
    "## 2.1 - Restore Point"
   ]
  },
  {
   "attachments": {},
   "cell_type": "markdown",
   "id": "d8fff667",
   "metadata": {},
   "source": [
    "*Create a checkpoint of the last dataframe from previous section*"
   ]
  },
  {
   "cell_type": "code",
   "execution_count": 11,
   "id": "5798a081",
   "metadata": {
    "ExecuteTime": {
     "end_time": "2021-11-22T11:35:09.995864Z",
     "start_time": "2021-11-22T11:35:09.300194Z"
    },
    "hidden": true
   },
   "outputs": [
    {
     "name": "stdout",
     "output_type": "stream",
     "text": [
      "*************************************************\n",
      "Dataframe size in memory: 660.704 MB \n",
      "\n",
      "-----------------------------\n",
      "Dataframe overview:\n"
     ]
    },
    {
     "data": {
      "text/html": [
       "<style type=\"text/css\">\n",
       "#T_f9254_row0_col1, #T_f9254_row0_col3, #T_f9254_row1_col1, #T_f9254_row1_col3, #T_f9254_row2_col1, #T_f9254_row2_col3, #T_f9254_row3_col1, #T_f9254_row3_col3, #T_f9254_row4_col1, #T_f9254_row4_col3, #T_f9254_row5_col1, #T_f9254_row5_col3, #T_f9254_row6_col1, #T_f9254_row6_col3, #T_f9254_row7_col1, #T_f9254_row7_col3, #T_f9254_row8_col1, #T_f9254_row8_col3, #T_f9254_row9_col1, #T_f9254_row9_col3, #T_f9254_row10_col1, #T_f9254_row10_col3, #T_f9254_row11_col1, #T_f9254_row11_col3, #T_f9254_row12_col1, #T_f9254_row12_col3, #T_f9254_row13_col1, #T_f9254_row13_col3, #T_f9254_row14_col1, #T_f9254_row14_col3 {\n",
       "  background-color: Navy;\n",
       "  color: White;\n",
       "}\n",
       "</style>\n",
       "<table id=\"T_f9254\">\n",
       "  <thead>\n",
       "    <tr>\n",
       "      <th class=\"blank level0\" >&nbsp;</th>\n",
       "      <th id=\"T_f9254_level0_col0\" class=\"col_heading level0 col0\" >Num NAs</th>\n",
       "      <th id=\"T_f9254_level0_col1\" class=\"col_heading level0 col1\" >Percent NAs</th>\n",
       "      <th id=\"T_f9254_level0_col2\" class=\"col_heading level0 col2\" >Num unique [include NAs]</th>\n",
       "      <th id=\"T_f9254_level0_col3\" class=\"col_heading level0 col3\" >Data Type</th>\n",
       "    </tr>\n",
       "  </thead>\n",
       "  <tbody>\n",
       "    <tr>\n",
       "      <th id=\"T_f9254_level0_row0\" class=\"row_heading level0 row0\" >purchase_id</th>\n",
       "      <td id=\"T_f9254_row0_col0\" class=\"data row0 col0\" >0</td>\n",
       "      <td id=\"T_f9254_row0_col1\" class=\"data row0 col1\" >0</td>\n",
       "      <td id=\"T_f9254_row0_col2\" class=\"data row0 col2\" >1.599.828</td>\n",
       "      <td id=\"T_f9254_row0_col3\" class=\"data row0 col3\" >int64</td>\n",
       "    </tr>\n",
       "    <tr>\n",
       "      <th id=\"T_f9254_level0_row1\" class=\"row_heading level0 row1\" >product_id</th>\n",
       "      <td id=\"T_f9254_row1_col0\" class=\"data row1 col0\" >0</td>\n",
       "      <td id=\"T_f9254_row1_col1\" class=\"data row1 col1\" >0</td>\n",
       "      <td id=\"T_f9254_row1_col2\" class=\"data row1 col2\" >17.883</td>\n",
       "      <td id=\"T_f9254_row1_col3\" class=\"data row1 col3\" >int64</td>\n",
       "    </tr>\n",
       "    <tr>\n",
       "      <th id=\"T_f9254_level0_row2\" class=\"row_heading level0 row2\" >affiliate_id</th>\n",
       "      <td id=\"T_f9254_row2_col0\" class=\"data row2 col0\" >0</td>\n",
       "      <td id=\"T_f9254_row2_col1\" class=\"data row2 col1\" >0</td>\n",
       "      <td id=\"T_f9254_row2_col2\" class=\"data row2 col2\" >22.947</td>\n",
       "      <td id=\"T_f9254_row2_col3\" class=\"data row2 col3\" >int64</td>\n",
       "    </tr>\n",
       "    <tr>\n",
       "      <th id=\"T_f9254_level0_row3\" class=\"row_heading level0 row3\" >producer_id</th>\n",
       "      <td id=\"T_f9254_row3_col0\" class=\"data row3 col0\" >0</td>\n",
       "      <td id=\"T_f9254_row3_col1\" class=\"data row3 col1\" >0</td>\n",
       "      <td id=\"T_f9254_row3_col2\" class=\"data row3 col2\" >8.020</td>\n",
       "      <td id=\"T_f9254_row3_col3\" class=\"data row3 col3\" >int64</td>\n",
       "    </tr>\n",
       "    <tr>\n",
       "      <th id=\"T_f9254_level0_row4\" class=\"row_heading level0 row4\" >buyer_id</th>\n",
       "      <td id=\"T_f9254_row4_col0\" class=\"data row4 col0\" >0</td>\n",
       "      <td id=\"T_f9254_row4_col1\" class=\"data row4 col1\" >0</td>\n",
       "      <td id=\"T_f9254_row4_col2\" class=\"data row4 col2\" >1.100.649</td>\n",
       "      <td id=\"T_f9254_row4_col3\" class=\"data row4 col3\" >int64</td>\n",
       "    </tr>\n",
       "    <tr>\n",
       "      <th id=\"T_f9254_level0_row5\" class=\"row_heading level0 row5\" >purchase_date</th>\n",
       "      <td id=\"T_f9254_row5_col0\" class=\"data row5 col0\" >0</td>\n",
       "      <td id=\"T_f9254_row5_col1\" class=\"data row5 col1\" >0</td>\n",
       "      <td id=\"T_f9254_row5_col2\" class=\"data row5 col2\" >1.488.964</td>\n",
       "      <td id=\"T_f9254_row5_col3\" class=\"data row5 col3\" >datetime64[ns]</td>\n",
       "    </tr>\n",
       "    <tr>\n",
       "      <th id=\"T_f9254_level0_row6\" class=\"row_heading level0 row6\" >product_creation_date</th>\n",
       "      <td id=\"T_f9254_row6_col0\" class=\"data row6 col0\" >0</td>\n",
       "      <td id=\"T_f9254_row6_col1\" class=\"data row6 col1\" >0</td>\n",
       "      <td id=\"T_f9254_row6_col2\" class=\"data row6 col2\" >17.879</td>\n",
       "      <td id=\"T_f9254_row6_col3\" class=\"data row6 col3\" >datetime64[ns]</td>\n",
       "    </tr>\n",
       "    <tr>\n",
       "      <th id=\"T_f9254_level0_row7\" class=\"row_heading level0 row7\" >product_category</th>\n",
       "      <td id=\"T_f9254_row7_col0\" class=\"data row7 col0\" >0</td>\n",
       "      <td id=\"T_f9254_row7_col1\" class=\"data row7 col1\" >0</td>\n",
       "      <td id=\"T_f9254_row7_col2\" class=\"data row7 col2\" >10</td>\n",
       "      <td id=\"T_f9254_row7_col3\" class=\"data row7 col3\" >object</td>\n",
       "    </tr>\n",
       "    <tr>\n",
       "      <th id=\"T_f9254_level0_row8\" class=\"row_heading level0 row8\" >product_niche</th>\n",
       "      <td id=\"T_f9254_row8_col0\" class=\"data row8 col0\" >0</td>\n",
       "      <td id=\"T_f9254_row8_col1\" class=\"data row8 col1\" >0</td>\n",
       "      <td id=\"T_f9254_row8_col2\" class=\"data row8 col2\" >25</td>\n",
       "      <td id=\"T_f9254_row8_col3\" class=\"data row8 col3\" >object</td>\n",
       "    </tr>\n",
       "    <tr>\n",
       "      <th id=\"T_f9254_level0_row9\" class=\"row_heading level0 row9\" >purchase_value</th>\n",
       "      <td id=\"T_f9254_row9_col0\" class=\"data row9 col0\" >0</td>\n",
       "      <td id=\"T_f9254_row9_col1\" class=\"data row9 col1\" >0</td>\n",
       "      <td id=\"T_f9254_row9_col2\" class=\"data row9 col2\" >32.617</td>\n",
       "      <td id=\"T_f9254_row9_col3\" class=\"data row9 col3\" >float64</td>\n",
       "    </tr>\n",
       "    <tr>\n",
       "      <th id=\"T_f9254_level0_row10\" class=\"row_heading level0 row10\" >affiliate_commission_percentual</th>\n",
       "      <td id=\"T_f9254_row10_col0\" class=\"data row10 col0\" >199</td>\n",
       "      <td id=\"T_f9254_row10_col1\" class=\"data row10 col1\" >1</td>\n",
       "      <td id=\"T_f9254_row10_col2\" class=\"data row10 col2\" >280</td>\n",
       "      <td id=\"T_f9254_row10_col3\" class=\"data row10 col3\" >float64</td>\n",
       "    </tr>\n",
       "    <tr>\n",
       "      <th id=\"T_f9254_level0_row11\" class=\"row_heading level0 row11\" >purchase_device</th>\n",
       "      <td id=\"T_f9254_row11_col0\" class=\"data row11 col0\" >0</td>\n",
       "      <td id=\"T_f9254_row11_col1\" class=\"data row11 col1\" >0</td>\n",
       "      <td id=\"T_f9254_row11_col2\" class=\"data row11 col2\" >5</td>\n",
       "      <td id=\"T_f9254_row11_col3\" class=\"data row11 col3\" >object</td>\n",
       "    </tr>\n",
       "    <tr>\n",
       "      <th id=\"T_f9254_level0_row12\" class=\"row_heading level0 row12\" >purchase_origin</th>\n",
       "      <td id=\"T_f9254_row12_col0\" class=\"data row12 col0\" >0</td>\n",
       "      <td id=\"T_f9254_row12_col1\" class=\"data row12 col1\" >0</td>\n",
       "      <td id=\"T_f9254_row12_col2\" class=\"data row12 col2\" >9.603</td>\n",
       "      <td id=\"T_f9254_row12_col3\" class=\"data row12 col3\" >object</td>\n",
       "    </tr>\n",
       "    <tr>\n",
       "      <th id=\"T_f9254_level0_row13\" class=\"row_heading level0 row13\" >is_origin_page_social_network</th>\n",
       "      <td id=\"T_f9254_row13_col0\" class=\"data row13 col0\" >0</td>\n",
       "      <td id=\"T_f9254_row13_col1\" class=\"data row13 col1\" >0</td>\n",
       "      <td id=\"T_f9254_row13_col2\" class=\"data row13 col2\" >2</td>\n",
       "      <td id=\"T_f9254_row13_col3\" class=\"data row13 col3\" >object</td>\n",
       "    </tr>\n",
       "    <tr>\n",
       "      <th id=\"T_f9254_level0_row14\" class=\"row_heading level0 row14\" >Venda</th>\n",
       "      <td id=\"T_f9254_row14_col0\" class=\"data row14 col0\" >0</td>\n",
       "      <td id=\"T_f9254_row14_col1\" class=\"data row14 col1\" >0</td>\n",
       "      <td id=\"T_f9254_row14_col2\" class=\"data row14 col2\" >1</td>\n",
       "      <td id=\"T_f9254_row14_col3\" class=\"data row14 col3\" >int64</td>\n",
       "    </tr>\n",
       "  </tbody>\n",
       "</table>\n"
      ],
      "text/plain": [
       "<pandas.io.formats.style.Styler at 0x7fe95f4c2890>"
      ]
     },
     "metadata": {},
     "output_type": "display_data"
    },
    {
     "name": "stdout",
     "output_type": "stream",
     "text": [
      "-----------------------------\n",
      "\n",
      " Dataframe shape is (1599828, 15) \n",
      "\n",
      "-----------------------------\n",
      "\n",
      "\n",
      "Statistics for Numerical Variables [NaNs are ignored]:\n"
     ]
    },
    {
     "data": {
      "text/html": [
       "<style type=\"text/css\">\n",
       "#T_a4dce_row0_col5, #T_a4dce_row0_col6, #T_a4dce_row1_col5, #T_a4dce_row1_col6, #T_a4dce_row2_col5, #T_a4dce_row2_col6, #T_a4dce_row3_col5, #T_a4dce_row3_col6, #T_a4dce_row4_col5, #T_a4dce_row4_col6, #T_a4dce_row5_col5, #T_a4dce_row5_col6, #T_a4dce_row6_col5, #T_a4dce_row6_col6, #T_a4dce_row7_col5, #T_a4dce_row7_col6 {\n",
       "  background-color: Navy;\n",
       "  color: White;\n",
       "}\n",
       "</style>\n",
       "<table id=\"T_a4dce\">\n",
       "  <thead>\n",
       "    <tr>\n",
       "      <th class=\"blank level0\" >&nbsp;</th>\n",
       "      <th id=\"T_a4dce_level0_col0\" class=\"col_heading level0 col0\" >attribute</th>\n",
       "      <th id=\"T_a4dce_level0_col1\" class=\"col_heading level0 col1\" >mean</th>\n",
       "      <th id=\"T_a4dce_level0_col2\" class=\"col_heading level0 col2\" >median</th>\n",
       "      <th id=\"T_a4dce_level0_col3\" class=\"col_heading level0 col3\" >std</th>\n",
       "      <th id=\"T_a4dce_level0_col4\" class=\"col_heading level0 col4\" >iqr</th>\n",
       "      <th id=\"T_a4dce_level0_col5\" class=\"col_heading level0 col5\" >min</th>\n",
       "      <th id=\"T_a4dce_level0_col6\" class=\"col_heading level0 col6\" >max</th>\n",
       "      <th id=\"T_a4dce_level0_col7\" class=\"col_heading level0 col7\" >range</th>\n",
       "      <th id=\"T_a4dce_level0_col8\" class=\"col_heading level0 col8\" >skew</th>\n",
       "      <th id=\"T_a4dce_level0_col9\" class=\"col_heading level0 col9\" >kurtosis</th>\n",
       "    </tr>\n",
       "  </thead>\n",
       "  <tbody>\n",
       "    <tr>\n",
       "      <th id=\"T_a4dce_level0_row0\" class=\"row_heading level0 row0\" >0</th>\n",
       "      <td id=\"T_a4dce_row0_col0\" class=\"data row0 col0\" >purchase_id</td>\n",
       "      <td id=\"T_a4dce_row0_col1\" class=\"data row0 col1\" >12.445.456,601</td>\n",
       "      <td id=\"T_a4dce_row0_col2\" class=\"data row0 col2\" >12.468.487,500</td>\n",
       "      <td id=\"T_a4dce_row0_col3\" class=\"data row0 col3\" >917.581,737</td>\n",
       "      <td id=\"T_a4dce_row0_col4\" class=\"data row0 col4\" >1.579.356,500</td>\n",
       "      <td id=\"T_a4dce_row0_col5\" class=\"data row0 col5\" >1.663.958,000</td>\n",
       "      <td id=\"T_a4dce_row0_col6\" class=\"data row0 col6\" >14.357.203,000</td>\n",
       "      <td id=\"T_a4dce_row0_col7\" class=\"data row0 col7\" >12.693.245,000</td>\n",
       "      <td id=\"T_a4dce_row0_col8\" class=\"data row0 col8\" >-0,090</td>\n",
       "      <td id=\"T_a4dce_row0_col9\" class=\"data row0 col9\" >-0,756</td>\n",
       "    </tr>\n",
       "    <tr>\n",
       "      <th id=\"T_a4dce_level0_row1\" class=\"row_heading level0 row1\" >1</th>\n",
       "      <td id=\"T_a4dce_row1_col0\" class=\"data row1 col0\" >product_id</td>\n",
       "      <td id=\"T_a4dce_row1_col1\" class=\"data row1 col1\" >148.595,814</td>\n",
       "      <td id=\"T_a4dce_row1_col2\" class=\"data row1 col2\" >154.310,000</td>\n",
       "      <td id=\"T_a4dce_row1_col3\" class=\"data row1 col3\" >55.543,152</td>\n",
       "      <td id=\"T_a4dce_row1_col4\" class=\"data row1 col4\" >81.796,000</td>\n",
       "      <td id=\"T_a4dce_row1_col5\" class=\"data row1 col5\" >4,000</td>\n",
       "      <td id=\"T_a4dce_row1_col6\" class=\"data row1 col6\" >319.129,000</td>\n",
       "      <td id=\"T_a4dce_row1_col7\" class=\"data row1 col7\" >319.125,000</td>\n",
       "      <td id=\"T_a4dce_row1_col8\" class=\"data row1 col8\" >-0,482</td>\n",
       "      <td id=\"T_a4dce_row1_col9\" class=\"data row1 col9\" >-0,702</td>\n",
       "    </tr>\n",
       "    <tr>\n",
       "      <th id=\"T_a4dce_level0_row2\" class=\"row_heading level0 row2\" >2</th>\n",
       "      <td id=\"T_a4dce_row2_col0\" class=\"data row2 col0\" >affiliate_id</td>\n",
       "      <td id=\"T_a4dce_row2_col1\" class=\"data row2 col1\" >2.297.500,688</td>\n",
       "      <td id=\"T_a4dce_row2_col2\" class=\"data row2 col2\" >1.690.428,000</td>\n",
       "      <td id=\"T_a4dce_row2_col3\" class=\"data row2 col3\" >2.092.655,502</td>\n",
       "      <td id=\"T_a4dce_row2_col4\" class=\"data row2 col4\" >3.549.994,000</td>\n",
       "      <td id=\"T_a4dce_row2_col5\" class=\"data row2 col5\" >3,000</td>\n",
       "      <td id=\"T_a4dce_row2_col6\" class=\"data row2 col6\" >7.700.836,000</td>\n",
       "      <td id=\"T_a4dce_row2_col7\" class=\"data row2 col7\" >7.700.833,000</td>\n",
       "      <td id=\"T_a4dce_row2_col8\" class=\"data row2 col8\" >0,651</td>\n",
       "      <td id=\"T_a4dce_row2_col9\" class=\"data row2 col9\" >-0,823</td>\n",
       "    </tr>\n",
       "    <tr>\n",
       "      <th id=\"T_a4dce_level0_row3\" class=\"row_heading level0 row3\" >3</th>\n",
       "      <td id=\"T_a4dce_row3_col0\" class=\"data row3 col0\" >producer_id</td>\n",
       "      <td id=\"T_a4dce_row3_col1\" class=\"data row3 col1\" >2.164.479,522</td>\n",
       "      <td id=\"T_a4dce_row3_col2\" class=\"data row3 col2\" >1.377.289,000</td>\n",
       "      <td id=\"T_a4dce_row3_col3\" class=\"data row3 col3\" >2.038.959,782</td>\n",
       "      <td id=\"T_a4dce_row3_col4\" class=\"data row3 col4\" >3.366.648,000</td>\n",
       "      <td id=\"T_a4dce_row3_col5\" class=\"data row3 col5\" >3,000</td>\n",
       "      <td id=\"T_a4dce_row3_col6\" class=\"data row3 col6\" >9.868.481,000</td>\n",
       "      <td id=\"T_a4dce_row3_col7\" class=\"data row3 col7\" >9.868.478,000</td>\n",
       "      <td id=\"T_a4dce_row3_col8\" class=\"data row3 col8\" >0,724</td>\n",
       "      <td id=\"T_a4dce_row3_col9\" class=\"data row3 col9\" >-0,699</td>\n",
       "    </tr>\n",
       "    <tr>\n",
       "      <th id=\"T_a4dce_level0_row4\" class=\"row_heading level0 row4\" >4</th>\n",
       "      <td id=\"T_a4dce_row4_col0\" class=\"data row4 col0\" >buyer_id</td>\n",
       "      <td id=\"T_a4dce_row4_col1\" class=\"data row4 col1\" >5.187.551,341</td>\n",
       "      <td id=\"T_a4dce_row4_col2\" class=\"data row4 col2\" >5.999.153,500</td>\n",
       "      <td id=\"T_a4dce_row4_col3\" class=\"data row4 col3\" >2.199.255,869</td>\n",
       "      <td id=\"T_a4dce_row4_col4\" class=\"data row4 col4\" >3.216.124,250</td>\n",
       "      <td id=\"T_a4dce_row4_col5\" class=\"data row4 col5\" >60,000</td>\n",
       "      <td id=\"T_a4dce_row4_col6\" class=\"data row4 col6\" >12.014.792,000</td>\n",
       "      <td id=\"T_a4dce_row4_col7\" class=\"data row4 col7\" >12.014.732,000</td>\n",
       "      <td id=\"T_a4dce_row4_col8\" class=\"data row4 col8\" >-0,878</td>\n",
       "      <td id=\"T_a4dce_row4_col9\" class=\"data row4 col9\" >-0,492</td>\n",
       "    </tr>\n",
       "    <tr>\n",
       "      <th id=\"T_a4dce_level0_row5\" class=\"row_heading level0 row5\" >5</th>\n",
       "      <td id=\"T_a4dce_row5_col0\" class=\"data row5 col0\" >purchase_value</td>\n",
       "      <td id=\"T_a4dce_row5_col1\" class=\"data row5 col1\" >0,000</td>\n",
       "      <td id=\"T_a4dce_row5_col2\" class=\"data row5 col2\" >-0,350</td>\n",
       "      <td id=\"T_a4dce_row5_col3\" class=\"data row5 col3\" >1,000</td>\n",
       "      <td id=\"T_a4dce_row5_col4\" class=\"data row5 col4\" >0,518</td>\n",
       "      <td id=\"T_a4dce_row5_col5\" class=\"data row5 col5\" >-0,541</td>\n",
       "      <td id=\"T_a4dce_row5_col6\" class=\"data row5 col6\" >124,561</td>\n",
       "      <td id=\"T_a4dce_row5_col7\" class=\"data row5 col7\" >125,102</td>\n",
       "      <td id=\"T_a4dce_row5_col8\" class=\"data row5 col8\" >10,817</td>\n",
       "      <td id=\"T_a4dce_row5_col9\" class=\"data row5 col9\" >629,206</td>\n",
       "    </tr>\n",
       "    <tr>\n",
       "      <th id=\"T_a4dce_level0_row6\" class=\"row_heading level0 row6\" >6</th>\n",
       "      <td id=\"T_a4dce_row6_col0\" class=\"data row6 col0\" >affiliate_commission_percentual</td>\n",
       "      <td id=\"T_a4dce_row6_col1\" class=\"data row6 col1\" >7,596</td>\n",
       "      <td id=\"T_a4dce_row6_col2\" class=\"data row6 col2\" >0,000</td>\n",
       "      <td id=\"T_a4dce_row6_col3\" class=\"data row6 col3\" >18,477</td>\n",
       "      <td id=\"T_a4dce_row6_col4\" class=\"data row6 col4\" >0,000</td>\n",
       "      <td id=\"T_a4dce_row6_col5\" class=\"data row6 col5\" >0,000</td>\n",
       "      <td id=\"T_a4dce_row6_col6\" class=\"data row6 col6\" >100,000</td>\n",
       "      <td id=\"T_a4dce_row6_col7\" class=\"data row6 col7\" >100,000</td>\n",
       "      <td id=\"T_a4dce_row6_col8\" class=\"data row6 col8\" >2,259</td>\n",
       "      <td id=\"T_a4dce_row6_col9\" class=\"data row6 col9\" >3,753</td>\n",
       "    </tr>\n",
       "    <tr>\n",
       "      <th id=\"T_a4dce_level0_row7\" class=\"row_heading level0 row7\" >7</th>\n",
       "      <td id=\"T_a4dce_row7_col0\" class=\"data row7 col0\" >Venda</td>\n",
       "      <td id=\"T_a4dce_row7_col1\" class=\"data row7 col1\" >1,000</td>\n",
       "      <td id=\"T_a4dce_row7_col2\" class=\"data row7 col2\" >1,000</td>\n",
       "      <td id=\"T_a4dce_row7_col3\" class=\"data row7 col3\" >0,000</td>\n",
       "      <td id=\"T_a4dce_row7_col4\" class=\"data row7 col4\" >0,000</td>\n",
       "      <td id=\"T_a4dce_row7_col5\" class=\"data row7 col5\" >1,000</td>\n",
       "      <td id=\"T_a4dce_row7_col6\" class=\"data row7 col6\" >1,000</td>\n",
       "      <td id=\"T_a4dce_row7_col7\" class=\"data row7 col7\" >0,000</td>\n",
       "      <td id=\"T_a4dce_row7_col8\" class=\"data row7 col8\" >0,000</td>\n",
       "      <td id=\"T_a4dce_row7_col9\" class=\"data row7 col9\" >0,000</td>\n",
       "    </tr>\n",
       "  </tbody>\n",
       "</table>\n"
      ],
      "text/plain": [
       "<pandas.io.formats.style.Styler at 0x7fe95f4c2c80>"
      ]
     },
     "metadata": {},
     "output_type": "display_data"
    },
    {
     "name": "stdout",
     "output_type": "stream",
     "text": [
      "-----------------------------\n",
      "\n",
      "\n",
      "dataframe.head(5)\n"
     ]
    },
    {
     "data": {
      "text/html": [
       "<div>\n",
       "<style scoped>\n",
       "    .dataframe tbody tr th:only-of-type {\n",
       "        vertical-align: middle;\n",
       "    }\n",
       "\n",
       "    .dataframe tbody tr th {\n",
       "        vertical-align: top;\n",
       "    }\n",
       "\n",
       "    .dataframe thead th {\n",
       "        text-align: right;\n",
       "    }\n",
       "</style>\n",
       "<table border=\"1\" class=\"dataframe\">\n",
       "  <thead>\n",
       "    <tr style=\"text-align: right;\">\n",
       "      <th></th>\n",
       "      <th>purchase_id</th>\n",
       "      <th>product_id</th>\n",
       "      <th>affiliate_id</th>\n",
       "      <th>producer_id</th>\n",
       "      <th>buyer_id</th>\n",
       "      <th>purchase_date</th>\n",
       "      <th>product_creation_date</th>\n",
       "      <th>product_category</th>\n",
       "      <th>product_niche</th>\n",
       "      <th>purchase_value</th>\n",
       "      <th>affiliate_commission_percentual</th>\n",
       "      <th>purchase_device</th>\n",
       "      <th>purchase_origin</th>\n",
       "      <th>is_origin_page_social_network</th>\n",
       "      <th>Venda</th>\n",
       "    </tr>\n",
       "  </thead>\n",
       "  <tbody>\n",
       "    <tr>\n",
       "      <th>0</th>\n",
       "      <td>1663958</td>\n",
       "      <td>6640</td>\n",
       "      <td>209372</td>\n",
       "      <td>116238</td>\n",
       "      <td>1200397</td>\n",
       "      <td>2016-06-26 12:00:00</td>\n",
       "      <td>2011-03-19 15:47:36</td>\n",
       "      <td>Video</td>\n",
       "      <td>Presentation skills</td>\n",
       "      <td>-0.3</td>\n",
       "      <td>NaN</td>\n",
       "      <td>Smart TV</td>\n",
       "      <td>Origin ef2b</td>\n",
       "      <td>0,0</td>\n",
       "      <td>1</td>\n",
       "    </tr>\n",
       "    <tr>\n",
       "      <th>1</th>\n",
       "      <td>1677087</td>\n",
       "      <td>2350</td>\n",
       "      <td>141418</td>\n",
       "      <td>2821</td>\n",
       "      <td>1083764</td>\n",
       "      <td>2016-06-26 12:00:00</td>\n",
       "      <td>2010-07-05 01:50:15</td>\n",
       "      <td>Podcast</td>\n",
       "      <td>Child psychology</td>\n",
       "      <td>-0.2</td>\n",
       "      <td>NaN</td>\n",
       "      <td>Smart TV</td>\n",
       "      <td>Origin ef2b</td>\n",
       "      <td>0,0</td>\n",
       "      <td>1</td>\n",
       "    </tr>\n",
       "    <tr>\n",
       "      <th>2</th>\n",
       "      <td>2017360</td>\n",
       "      <td>35669</td>\n",
       "      <td>618642</td>\n",
       "      <td>618642</td>\n",
       "      <td>1436106</td>\n",
       "      <td>2016-06-26 12:00:00</td>\n",
       "      <td>2012-06-13 02:59:37</td>\n",
       "      <td>Podcast</td>\n",
       "      <td>Presentation skills</td>\n",
       "      <td>-0.5</td>\n",
       "      <td>NaN</td>\n",
       "      <td>Smart TV</td>\n",
       "      <td>Origin ef2b</td>\n",
       "      <td>0,0</td>\n",
       "      <td>1</td>\n",
       "    </tr>\n",
       "    <tr>\n",
       "      <th>3</th>\n",
       "      <td>2017379</td>\n",
       "      <td>57998</td>\n",
       "      <td>1164511</td>\n",
       "      <td>70388</td>\n",
       "      <td>1436118</td>\n",
       "      <td>2016-06-26 12:00:00</td>\n",
       "      <td>2013-05-07 08:51:31</td>\n",
       "      <td>Podcast</td>\n",
       "      <td>Anxiety management</td>\n",
       "      <td>-0.4</td>\n",
       "      <td>NaN</td>\n",
       "      <td>Smart TV</td>\n",
       "      <td>Origin ef2b</td>\n",
       "      <td>0,0</td>\n",
       "      <td>1</td>\n",
       "    </tr>\n",
       "    <tr>\n",
       "      <th>4</th>\n",
       "      <td>2017382</td>\n",
       "      <td>58329</td>\n",
       "      <td>1261488</td>\n",
       "      <td>221253</td>\n",
       "      <td>1386357</td>\n",
       "      <td>2016-06-26 12:00:00</td>\n",
       "      <td>2013-05-12 08:12:06</td>\n",
       "      <td>Podcast</td>\n",
       "      <td>Teaching English</td>\n",
       "      <td>-0.5</td>\n",
       "      <td>NaN</td>\n",
       "      <td>Smart TV</td>\n",
       "      <td>Origin ef2b</td>\n",
       "      <td>0,0</td>\n",
       "      <td>1</td>\n",
       "    </tr>\n",
       "  </tbody>\n",
       "</table>\n",
       "<p>5 rows × 15 columns</p>\n",
       "</div>"
      ],
      "text/plain": [
       "   purchase_id  product_id  affiliate_id  producer_id  buyer_id   \n",
       "0      1663958        6640        209372       116238   1200397  \\\n",
       "1      1677087        2350        141418         2821   1083764   \n",
       "2      2017360       35669        618642       618642   1436106   \n",
       "3      2017379       57998       1164511        70388   1436118   \n",
       "4      2017382       58329       1261488       221253   1386357   \n",
       "\n",
       "        purchase_date product_creation_date product_category   \n",
       "0 2016-06-26 12:00:00   2011-03-19 15:47:36            Video  \\\n",
       "1 2016-06-26 12:00:00   2010-07-05 01:50:15          Podcast   \n",
       "2 2016-06-26 12:00:00   2012-06-13 02:59:37          Podcast   \n",
       "3 2016-06-26 12:00:00   2013-05-07 08:51:31          Podcast   \n",
       "4 2016-06-26 12:00:00   2013-05-12 08:12:06          Podcast   \n",
       "\n",
       "         product_niche  purchase_value  affiliate_commission_percentual   \n",
       "0  Presentation skills            -0.3                              NaN  \\\n",
       "1     Child psychology            -0.2                              NaN   \n",
       "2  Presentation skills            -0.5                              NaN   \n",
       "3   Anxiety management            -0.4                              NaN   \n",
       "4     Teaching English            -0.5                              NaN   \n",
       "\n",
       "  purchase_device purchase_origin is_origin_page_social_network  Venda  \n",
       "0        Smart TV     Origin ef2b                           0,0      1  \n",
       "1        Smart TV     Origin ef2b                           0,0      1  \n",
       "2        Smart TV     Origin ef2b                           0,0      1  \n",
       "3        Smart TV     Origin ef2b                           0,0      1  \n",
       "4        Smart TV     Origin ef2b                           0,0      1  \n",
       "\n",
       "[5 rows x 15 columns]"
      ]
     },
     "metadata": {},
     "output_type": "display_data"
    },
    {
     "name": "stdout",
     "output_type": "stream",
     "text": [
      "*************************************************\n"
     ]
    }
   ],
   "source": [
    "# create a restore point of the previous section\n",
    "df_description = df_extraction.copy()\n",
    "\n",
    "# check dataframe for this new section\n",
    "check_dataframe( dataframe=df_description, summary_stats=True, head=True )"
   ]
  },
  {
   "attachments": {},
   "cell_type": "markdown",
   "id": "3f1557c5",
   "metadata": {
    "ExecuteTime": {
     "end_time": "2021-11-08T11:35:57.560444Z",
     "start_time": "2021-11-08T11:35:57.552443Z"
    },
    "heading_collapsed": true,
    "hidden": true
   },
   "source": [
    "## 2.2 - Rename Columns"
   ]
  },
  {
   "attachments": {},
   "cell_type": "markdown",
   "id": "300574e9",
   "metadata": {},
   "source": [
    "*Search for misleading or error-prone column names*"
   ]
  },
  {
   "cell_type": "code",
   "execution_count": null,
   "id": "84b35f8a",
   "metadata": {
    "ExecuteTime": {
     "end_time": "2021-11-22T11:35:10.018834Z",
     "start_time": "2021-11-22T11:35:10.014437Z"
    },
    "hidden": true,
    "scrolled": true
   },
   "outputs": [],
   "source": [
    "# TO-DO"
   ]
  },
  {
   "attachments": {},
   "cell_type": "markdown",
   "id": "2cbdc1b6",
   "metadata": {
    "heading_collapsed": true,
    "hidden": true
   },
   "source": [
    "## 2.3 - Check Data Dimensions"
   ]
  },
  {
   "attachments": {},
   "cell_type": "markdown",
   "id": "ee1a1d9f",
   "metadata": {},
   "source": [
    "*Check dataframe dimensions to know if pandas will be enough to handle such data size or we will need Big Data tools like Spark*"
   ]
  },
  {
   "cell_type": "code",
   "execution_count": null,
   "id": "f88b4e12",
   "metadata": {
    "ExecuteTime": {
     "end_time": "2021-11-22T11:35:10.025219Z",
     "start_time": "2021-11-22T11:35:10.020770Z"
    },
    "hidden": true
   },
   "outputs": [],
   "source": [
    "# check number of rows and columns\n",
    "print( f'\\\n",
    "Dataframe has {df_description.shape[0]:,} \\\n",
    "rows and {df_description.shape[1]} columns' )"
   ]
  },
  {
   "attachments": {},
   "cell_type": "markdown",
   "id": "5a2f8863",
   "metadata": {},
   "source": [
    "## 2.4 - Data Types"
   ]
  },
  {
   "attachments": {},
   "cell_type": "markdown",
   "id": "2018dc53",
   "metadata": {},
   "source": [
    "*Check if data types on dataframe makes sense according to database information*"
   ]
  },
  {
   "cell_type": "code",
   "execution_count": null,
   "id": "bf87e28c",
   "metadata": {},
   "outputs": [],
   "source": [
    "# inspect dataframe types\n",
    "inspect_dtypes(df_description, 15)"
   ]
  },
  {
   "attachments": {},
   "cell_type": "markdown",
   "id": "aaf6f518",
   "metadata": {},
   "source": [
    "## 2.5 - Data Validation"
   ]
  },
  {
   "attachments": {},
   "cell_type": "markdown",
   "id": "e9b811b1",
   "metadata": {},
   "source": [
    "*Check if columns make sense in regard to business understanding*"
   ]
  },
  {
   "cell_type": "code",
   "execution_count": null,
   "id": "3dd4270a",
   "metadata": {},
   "outputs": [],
   "source": [
    "# instanciate data validator object\n",
    "dv = DataValidator(\n",
    "    dataframe=df_description, \n",
    "    col_funcions_checker=col_funcions_checker,\n",
    "    dataframe_granularity=df_grain,\n",
    "    col_aggregations_checker=col_aggregations_checker,\n",
    "    # pandas_queries = pandas_queries,\n",
    "    # records_file=validation_file\n",
    ")\n",
    "\n",
    "# validate data\n",
    "dv.validate_data()\n",
    "\n",
    "# # plot historical validations\n",
    "# dv.plot_historical_report(records_file=validation_file, save_report=False)"
   ]
  },
  {
   "attachments": {},
   "cell_type": "markdown",
   "id": "e0d5576b",
   "metadata": {},
   "source": [
    "## 2.6 - Check Duplicated Rows"
   ]
  },
  {
   "attachments": {},
   "cell_type": "markdown",
   "id": "d9a70dc0",
   "metadata": {},
   "source": [
    "*Inspect duplicated rows and handle them properly*"
   ]
  },
  {
   "cell_type": "code",
   "execution_count": null,
   "id": "4df49971",
   "metadata": {},
   "outputs": [],
   "source": [
    "# check duplicated rows\n",
    "print(\n",
    "    f'{\"*\"*49}\\n\\n'\n",
    "    f'There are {df_description.duplicated(keep=False).sum():,} \\\n",
    "duplicated rows [{df_description.duplicated(keep=False).mean()*100:.2f}%] based on all columns. \\\n",
    "Duplicated rows are double counted.'\n",
    "    f'\\n\\n{\"*\"*49}\\n\\n'\n",
    "    f'There are {df_description.duplicated(subset=df_grain, keep=False).sum():,} duplicated rows [{df_description.duplicated(subset=df_grain, keep=False).mean()*100:.2f}%] based on table granularity. \\\n",
    "Duplicated rows are double counted.'\n",
    "    f'\\n\\n{\"*\"*49}'\n",
    ")"
   ]
  },
  {
   "attachments": {},
   "cell_type": "markdown",
   "id": "4627b5a2",
   "metadata": {
    "ExecuteTime": {
     "end_time": "2021-11-08T11:40:01.154007Z",
     "start_time": "2021-11-08T11:40:01.126048Z"
    },
    "heading_collapsed": true,
    "hidden": true
   },
   "source": [
    "## 2.7 - Check Missing Values"
   ]
  },
  {
   "attachments": {},
   "cell_type": "markdown",
   "id": "9d8c1102",
   "metadata": {},
   "source": [
    "*Inspect number and percentage of missing value per column to decide what to do with them*"
   ]
  },
  {
   "cell_type": "code",
   "execution_count": null,
   "id": "792f5e02",
   "metadata": {},
   "outputs": [],
   "source": [
    "#  get number of NA, percent of NA, number of unique and column type\n",
    "check_na_unique_dtypes(df_description);"
   ]
  },
  {
   "attachments": {},
   "cell_type": "markdown",
   "id": "99df2de1",
   "metadata": {
    "heading_collapsed": true,
    "hidden": true
   },
   "source": [
    "## 2.8 - Handle Missing Values"
   ]
  },
  {
   "attachments": {},
   "cell_type": "markdown",
   "id": "efea71d8",
   "metadata": {},
   "source": [
    "*Handle missing value for columns*"
   ]
  },
  {
   "cell_type": "code",
   "execution_count": null,
   "id": "c2ebe4e0",
   "metadata": {},
   "outputs": [],
   "source": [
    "# TO-DO"
   ]
  },
  {
   "attachments": {},
   "cell_type": "markdown",
   "id": "918bd63b",
   "metadata": {
    "heading_collapsed": true,
    "hidden": true
   },
   "source": [
    "## 2.9 - Descriptive Statistics"
   ]
  },
  {
   "attachments": {},
   "cell_type": "markdown",
   "id": "66576dc1",
   "metadata": {},
   "source": [
    "*Inspect some summary statistics for numerical columns*"
   ]
  },
  {
   "cell_type": "code",
   "execution_count": null,
   "id": "ea18362e",
   "metadata": {},
   "outputs": [],
   "source": [
    "# split dataset into types of features\n",
    "df_number = df_description.select_dtypes(include=[\"number\", \"bool\"])\n",
    "df_date = df_description.select_dtypes(include=[\"datetime\"])\n",
    "df_string = df_description.select_dtypes(include=[\"object\"])\n",
    "\n",
    "# sanity check\n",
    "assert df_number.shape[1] + df_date.shape[1] + df_string.shape[1] == df_description.shape[1], \"\"\"Revise the previous split, something may be wrong!\"\"\""
   ]
  },
  {
   "attachments": {},
   "cell_type": "markdown",
   "id": "90cd3688",
   "metadata": {},
   "source": [
    "### 2.9.1 - Numerical Variables"
   ]
  },
  {
   "attachments": {},
   "cell_type": "markdown",
   "id": "21704db6",
   "metadata": {},
   "source": [
    "*Inspect numerical variables*"
   ]
  },
  {
   "cell_type": "code",
   "execution_count": null,
   "id": "50ae4b5d",
   "metadata": {},
   "outputs": [],
   "source": [
    "# check summary statistics\n",
    "summary_statistics(df_number)"
   ]
  },
  {
   "attachments": {},
   "cell_type": "markdown",
   "id": "c5f415f3",
   "metadata": {},
   "source": [
    "### 2.9.2 - Categorical Variables"
   ]
  },
  {
   "attachments": {},
   "cell_type": "markdown",
   "id": "cd102a7d",
   "metadata": {},
   "source": [
    "*Inspect categorical variables*"
   ]
  },
  {
   "cell_type": "code",
   "execution_count": null,
   "id": "3ad44e8e",
   "metadata": {},
   "outputs": [],
   "source": [
    "# check overview of categorical features\n",
    "categorical_summary(df_string)"
   ]
  },
  {
   "attachments": {},
   "cell_type": "markdown",
   "id": "429001da",
   "metadata": {},
   "source": [
    "### 2.9.3 - Datetime Variables"
   ]
  },
  {
   "attachments": {},
   "cell_type": "markdown",
   "id": "4ff30514",
   "metadata": {},
   "source": [
    "*Inspect datetime variables*"
   ]
  },
  {
   "cell_type": "code",
   "execution_count": null,
   "id": "8e847fd4",
   "metadata": {},
   "outputs": [],
   "source": [
    "# check an overview of datetime features\n",
    "datetime_summary(df_date)"
   ]
  },
  {
   "attachments": {},
   "cell_type": "markdown",
   "id": "fcba07f5",
   "metadata": {},
   "source": [
    "### 2.9.4 - Investigate further:"
   ]
  },
  {
   "attachments": {},
   "cell_type": "markdown",
   "id": "e66e2046",
   "metadata": {},
   "source": [
    "*Variables to inspect the real meaning**"
   ]
  },
  {
   "cell_type": "code",
   "execution_count": null,
   "id": "995e384c",
   "metadata": {},
   "outputs": [],
   "source": [
    "# TO-DO"
   ]
  },
  {
   "attachments": {},
   "cell_type": "markdown",
   "id": "0782f000",
   "metadata": {},
   "source": [
    "# **3 - FEATURE ENGINEERING**"
   ]
  },
  {
   "attachments": {},
   "cell_type": "markdown",
   "id": "15c2eb92",
   "metadata": {},
   "source": [
    "## 3.1 - Restore Point"
   ]
  },
  {
   "attachments": {},
   "cell_type": "markdown",
   "id": "86ffb7ec",
   "metadata": {},
   "source": [
    "*Create a checkpoint of the last dataframe from previous section*"
   ]
  },
  {
   "cell_type": "code",
   "execution_count": null,
   "id": "d48c0545",
   "metadata": {},
   "outputs": [],
   "source": [
    "# create a restore point for the previous section dataframe\n",
    "df_f_eng = df_description.copy()\n",
    "\n",
    "# check dataframe\n",
    "check_dataframe( df_f_eng )"
   ]
  },
  {
   "attachments": {},
   "cell_type": "markdown",
   "id": "5fc8ce4a",
   "metadata": {},
   "source": [
    "## 3.2 - Hypothesis Testing List"
   ]
  },
  {
   "attachments": {},
   "cell_type": "markdown",
   "id": "1aeb871f",
   "metadata": {},
   "source": [
    "*Define the list of hypotheses that will be validated during Exploratory Data Analysis (EDA)*"
   ]
  },
  {
   "attachments": {},
   "cell_type": "markdown",
   "id": "e96ccd38",
   "metadata": {},
   "source": [
    "**HYPOTHESIS MIND MAP**\n",
    "\n",
    "![Business hypothesis mindmap](../img/project_structure/xxx.jpg)\n",
    "\n",
    "*The above image is the product of a brainstorm that took into consideration many different variables that can impact the main business metric. This mind map is a great help when trying to raise hypotheses that could lead to insights. It is also helpful to guide feature engineering (create new relevant features) and when there is a need to look for more data elsewhere.*"
   ]
  },
  {
   "attachments": {},
   "cell_type": "markdown",
   "id": "517c742d",
   "metadata": {},
   "source": [
    "> *Taking into consideration hypothesis mind map (at the beginning of this notebook) and the data available on dataset:*\n",
    "\n",
    "H1. **...**\n",
    "\n",
    "H2. **...**\n",
    "\n",
    "H3. **...**\n",
    "\n",
    "H4. **...**\n",
    "\n",
    "H5. **...**"
   ]
  },
  {
   "attachments": {},
   "cell_type": "markdown",
   "id": "75ba067e",
   "metadata": {},
   "source": [
    "## 3.3 - Feature Creation"
   ]
  },
  {
   "attachments": {},
   "cell_type": "markdown",
   "id": "d4301622",
   "metadata": {},
   "source": [
    "*Create new features (columns) that can be meaningful for EDA and, especially, machine learning modelling.*"
   ]
  },
  {
   "cell_type": "code",
   "execution_count": null,
   "id": "4406cabd",
   "metadata": {},
   "outputs": [],
   "source": [
    "# TO-DO"
   ]
  },
  {
   "attachments": {},
   "cell_type": "markdown",
   "id": "755eba7c",
   "metadata": {
    "ExecuteTime": {
     "end_time": "2021-11-08T17:29:18.464606Z",
     "start_time": "2021-11-08T17:29:18.458947Z"
    },
    "heading_collapsed": true
   },
   "source": [
    "# **4 - DATA FILTERING**"
   ]
  },
  {
   "attachments": {},
   "cell_type": "markdown",
   "id": "026ae2aa",
   "metadata": {
    "hidden": true
   },
   "source": [
    "## 4.1 - Restore Point"
   ]
  },
  {
   "attachments": {},
   "cell_type": "markdown",
   "id": "cb4c9722",
   "metadata": {},
   "source": [
    "*Create a checkpoint of the last dataframe from previous section*"
   ]
  },
  {
   "cell_type": "code",
   "execution_count": null,
   "id": "569c1ae8",
   "metadata": {
    "ExecuteTime": {
     "end_time": "2021-11-22T11:35:16.188448Z",
     "start_time": "2021-11-22T11:35:15.658676Z"
    },
    "hidden": true
   },
   "outputs": [],
   "source": [
    "# create a restore point for the previous section dataframe\n",
    "df_filter = df_f_eng.copy()\n",
    "\n",
    "# check dataframe\n",
    "check_dataframe( df_filter )"
   ]
  },
  {
   "attachments": {},
   "cell_type": "markdown",
   "id": "196cddb7",
   "metadata": {
    "ExecuteTime": {
     "end_time": "2021-11-08T18:08:30.512496Z",
     "start_time": "2021-11-08T18:08:30.507268Z"
    },
    "heading_collapsed": true,
    "hidden": true
   },
   "source": [
    "## 4.2 Rows Filtering"
   ]
  },
  {
   "attachments": {},
   "cell_type": "markdown",
   "id": "8253646d",
   "metadata": {},
   "source": [
    "*Remove rows with meaningless (or unimportant) data*"
   ]
  },
  {
   "cell_type": "code",
   "execution_count": null,
   "id": "457347a6",
   "metadata": {
    "ExecuteTime": {
     "end_time": "2021-11-22T11:35:16.193901Z",
     "start_time": "2021-11-22T11:35:16.190106Z"
    },
    "hidden": true,
    "scrolled": true
   },
   "outputs": [],
   "source": [
    "# TO-DO"
   ]
  },
  {
   "attachments": {},
   "cell_type": "markdown",
   "id": "1ca35d9b",
   "metadata": {},
   "source": [
    "## 4.3 - Columns Filtering"
   ]
  },
  {
   "attachments": {},
   "cell_type": "markdown",
   "id": "9acd7efd",
   "metadata": {},
   "source": [
    "*Remove auxiliary columns or columns that won't be available in the prediction moment*"
   ]
  },
  {
   "cell_type": "code",
   "execution_count": null,
   "id": "bfd86022",
   "metadata": {},
   "outputs": [],
   "source": [
    "# TO-DO"
   ]
  },
  {
   "attachments": {},
   "cell_type": "markdown",
   "id": "ac14ec6b",
   "metadata": {},
   "source": [
    "Some columns may be removed in the beginning of DATA DESCRIPTION SECTION.\n",
    "\n",
    "No more columns will be removed so far."
   ]
  },
  {
   "cell_type": "code",
   "execution_count": null,
   "id": "2f22f29f",
   "metadata": {},
   "outputs": [],
   "source": []
  },
  {
   "attachments": {},
   "cell_type": "markdown",
   "id": "36158fe8",
   "metadata": {
    "heading_collapsed": true
   },
   "source": [
    "# **5 - EXPLORATORY DATA ANALYSIS**"
   ]
  },
  {
   "attachments": {},
   "cell_type": "markdown",
   "id": "e109374b",
   "metadata": {
    "heading_collapsed": true,
    "hidden": true
   },
   "source": [
    "## 5.1 - Restore Point"
   ]
  },
  {
   "attachments": {},
   "cell_type": "markdown",
   "id": "2b6245ee",
   "metadata": {},
   "source": [
    "*Create a checkpoint of the last dataframe from previous section*"
   ]
  },
  {
   "cell_type": "code",
   "execution_count": null,
   "id": "9ec1c6c5",
   "metadata": {
    "ExecuteTime": {
     "end_time": "2021-11-22T11:35:18.508075Z",
     "start_time": "2021-11-22T11:35:17.992047Z"
    },
    "hidden": true,
    "scrolled": true
   },
   "outputs": [],
   "source": [
    "# create a restore point for the previous section dataframe\n",
    "df_eda = df_eng.copy()\n",
    "\n",
    "# check dataframe\n",
    "check_dataframe( df_eda )"
   ]
  },
  {
   "attachments": {},
   "cell_type": "markdown",
   "id": "7ce04da7",
   "metadata": {},
   "source": [
    "## 5.2 - Univariate Analysis"
   ]
  },
  {
   "attachments": {},
   "cell_type": "markdown",
   "id": "251f387b",
   "metadata": {},
   "source": [
    "*Explore variables distributions*"
   ]
  },
  {
   "cell_type": "code",
   "execution_count": null,
   "id": "3aca4f52",
   "metadata": {},
   "outputs": [],
   "source": [
    "# split dataset into types of features\n",
    "df_eda_num = df_eda.select_dtypes(include=[\"number\", \"bool\"])\n",
    "df_eda_date = df_eda.select_dtypes(include=[\"datetime\"])\n",
    "df_eda_str = df_eda.select_dtypes(include=[\"object\"])\n",
    "\n",
    "# sanity check\n",
    "assert df_eda_num.shape[1] + df_eda_date.shape[1] + df_eda_str.shape[1] == df_eda.shape[1], \"\"\"Revise the previous split, something may be wrong!\"\"\""
   ]
  },
  {
   "attachments": {},
   "cell_type": "markdown",
   "id": "2453e220",
   "metadata": {},
   "source": [
    "### 5.2.1 - Numerical Columns"
   ]
  },
  {
   "cell_type": "code",
   "execution_count": null,
   "id": "06ff8907",
   "metadata": {},
   "outputs": [],
   "source": [
    "# plot numerical columns for base data\n",
    "numerical_plot(df_eda_num, hist=False)"
   ]
  },
  {
   "attachments": {},
   "cell_type": "markdown",
   "id": "fc3d072e",
   "metadata": {},
   "source": [
    "### 5.2.2 - Categorical Columns"
   ]
  },
  {
   "cell_type": "code",
   "execution_count": null,
   "id": "e2107307",
   "metadata": {},
   "outputs": [],
   "source": [
    "# plot categorical columns for base data\n",
    "categorical_plot(df_eda_str)"
   ]
  },
  {
   "attachments": {},
   "cell_type": "markdown",
   "id": "e51d0134",
   "metadata": {},
   "source": [
    "### 5.2.3 Datetime Columns"
   ]
  },
  {
   "cell_type": "code",
   "execution_count": null,
   "id": "8e4ea868",
   "metadata": {},
   "outputs": [],
   "source": [
    "# plot datetime columns for base data\n",
    "datetime_plot(df_eda_date)"
   ]
  },
  {
   "attachments": {},
   "cell_type": "markdown",
   "id": "186dfadf",
   "metadata": {
    "heading_collapsed": true,
    "hidden": true
   },
   "source": [
    "## 5.3 - Bivariate Analysis"
   ]
  },
  {
   "attachments": {},
   "cell_type": "markdown",
   "id": "45447dfc",
   "metadata": {},
   "source": [
    "*Explore relationship between variables (in pairs)*"
   ]
  },
  {
   "attachments": {},
   "cell_type": "markdown",
   "id": "b19f30b0",
   "metadata": {},
   "source": [
    "### 5.3.1 - Initial inspection"
   ]
  },
  {
   "cell_type": "code",
   "execution_count": null,
   "id": "b09f0af9",
   "metadata": {
    "ExecuteTime": {
     "end_time": "2021-11-22T11:35:39.225076Z",
     "start_time": "2021-11-22T11:35:28.117744Z"
    },
    "hidden": true
   },
   "outputs": [],
   "source": [
    "# plot pairplot\n",
    "sns.pairplot( df_eda, diag_kind = \"kde\" );"
   ]
  },
  {
   "attachments": {},
   "cell_type": "markdown",
   "id": "20845368",
   "metadata": {
    "ExecuteTime": {
     "end_time": "2021-11-22T11:35:39.228869Z",
     "start_time": "2021-11-22T11:35:39.226949Z"
    },
    "hidden": true
   },
   "source": [
    "### 5.3.2 - Numerical variables"
   ]
  },
  {
   "cell_type": "code",
   "execution_count": null,
   "id": "79118ce5",
   "metadata": {
    "ExecuteTime": {
     "end_time": "2021-11-22T11:35:39.939255Z",
     "start_time": "2021-11-22T11:35:39.230647Z"
    },
    "hidden": true
   },
   "outputs": [],
   "source": [
    "# calculate pearson correlation coefficient\n",
    "correlation = df_eda_ref.corr( method = 'spearman' )\n",
    "\n",
    "# create figure and ax object\n",
    "fig, ax = plt.subplots( figsize = (6, 6) )\n",
    "\n",
    "# display heatmap of correlation on figure\n",
    "sns.heatmap( correlation, annot = True, ax = ax)\n",
    "plt.yticks( rotation = 0 );"
   ]
  },
  {
   "attachments": {},
   "cell_type": "markdown",
   "id": "c916bafd",
   "metadata": {},
   "source": [
    "### 5.3.3 - Categorical variables"
   ]
  },
  {
   "cell_type": "code",
   "execution_count": null,
   "id": "c17624c7",
   "metadata": {},
   "outputs": [],
   "source": [
    "# TO-DO ---> cramer-v heatmap"
   ]
  },
  {
   "cell_type": "code",
   "execution_count": null,
   "id": "b3bfc9e9",
   "metadata": {},
   "outputs": [],
   "source": [
    "# create a dataframe with cramer-v for every row-column pair\n",
    "cramer_v_corr = create_cramer_v_dataframe( multivar_cat_analysis )\n",
    "\n",
    "# create figure and ax object\n",
    "fig, ax = plt.subplots( figsize = (20, 20) )\n",
    "\n",
    "# display heatmap of correlation on figure\n",
    "sns.heatmap( cramer_v_corr, annot = True, ax = ax);"
   ]
  },
  {
   "attachments": {},
   "cell_type": "markdown",
   "id": "606d451c",
   "metadata": {},
   "source": [
    "## 5.4 - Business Hypothesis"
   ]
  },
  {
   "attachments": {},
   "cell_type": "markdown",
   "id": "0876f828",
   "metadata": {},
   "source": [
    "*Validate all business hypothesis based on available data*"
   ]
  },
  {
   "attachments": {},
   "cell_type": "markdown",
   "id": "1671d285",
   "metadata": {},
   "source": [
    "### **H1. ..**"
   ]
  },
  {
   "cell_type": "code",
   "execution_count": null,
   "id": "cb8e5b11",
   "metadata": {},
   "outputs": [],
   "source": []
  },
  {
   "attachments": {},
   "cell_type": "markdown",
   "id": "8b6006ae",
   "metadata": {},
   "source": [
    "### **H2. ..**"
   ]
  },
  {
   "cell_type": "code",
   "execution_count": null,
   "id": "45e59c75",
   "metadata": {},
   "outputs": [],
   "source": []
  },
  {
   "attachments": {},
   "cell_type": "markdown",
   "id": "b5353cde",
   "metadata": {},
   "source": [
    "### **H3. ..**"
   ]
  },
  {
   "cell_type": "code",
   "execution_count": null,
   "id": "98c59e80",
   "metadata": {},
   "outputs": [],
   "source": []
  },
  {
   "attachments": {},
   "cell_type": "markdown",
   "id": "14a7fae9",
   "metadata": {},
   "source": [
    "### **H4. ..**"
   ]
  },
  {
   "cell_type": "code",
   "execution_count": null,
   "id": "e5078c5e",
   "metadata": {},
   "outputs": [],
   "source": []
  },
  {
   "attachments": {},
   "cell_type": "markdown",
   "id": "e8788e1b",
   "metadata": {},
   "source": [
    "### **H5. ..**"
   ]
  },
  {
   "cell_type": "code",
   "execution_count": null,
   "id": "9a9c15dd",
   "metadata": {},
   "outputs": [],
   "source": []
  },
  {
   "attachments": {},
   "cell_type": "markdown",
   "id": "a83c4df3",
   "metadata": {
    "heading_collapsed": true,
    "hidden": true
   },
   "source": [
    "## 5.5 - Data Space Analysis"
   ]
  },
  {
   "attachments": {},
   "cell_type": "markdown",
   "id": "035779a8",
   "metadata": {},
   "source": [
    "**Initial inspection on dimensionality reduction potential**"
   ]
  },
  {
   "attachments": {},
   "cell_type": "markdown",
   "id": "58d17b6d",
   "metadata": {
    "ExecuteTime": {
     "end_time": "2021-11-12T14:52:05.470744Z",
     "start_time": "2021-11-12T14:52:05.466937Z"
    },
    "heading_collapsed": true,
    "hidden": true
   },
   "source": [
    "### PCA"
   ]
  },
  {
   "cell_type": "code",
   "execution_count": null,
   "id": "1918b2c1",
   "metadata": {
    "ExecuteTime": {
     "end_time": "2021-11-22T11:35:39.981919Z",
     "start_time": "2021-11-22T11:35:39.955021Z"
    },
    "hidden": true
   },
   "outputs": [],
   "source": [
    "# TO-DO"
   ]
  },
  {
   "attachments": {},
   "cell_type": "markdown",
   "id": "6cfeafc6",
   "metadata": {
    "heading_collapsed": true,
    "hidden": true
   },
   "source": [
    "### UMAP"
   ]
  },
  {
   "cell_type": "code",
   "execution_count": null,
   "id": "b8b1451b",
   "metadata": {
    "ExecuteTime": {
     "end_time": "2021-11-22T11:36:07.808671Z",
     "start_time": "2021-11-22T11:35:40.592638Z"
    },
    "hidden": true
   },
   "outputs": [],
   "source": [
    "# TO-DO"
   ]
  },
  {
   "attachments": {},
   "cell_type": "markdown",
   "id": "158cdc9e",
   "metadata": {
    "heading_collapsed": true,
    "hidden": true
   },
   "source": [
    "### t-SNE"
   ]
  },
  {
   "cell_type": "code",
   "execution_count": null,
   "id": "0cb4ccb3",
   "metadata": {
    "ExecuteTime": {
     "end_time": "2021-11-22T11:36:45.325959Z",
     "start_time": "2021-11-22T11:36:08.051724Z"
    },
    "hidden": true,
    "scrolled": true
   },
   "outputs": [],
   "source": [
    "# TO-DO"
   ]
  },
  {
   "attachments": {},
   "cell_type": "markdown",
   "id": "facedc5f",
   "metadata": {
    "heading_collapsed": true,
    "hidden": true
   },
   "source": [
    "### PHATE"
   ]
  },
  {
   "cell_type": "code",
   "execution_count": null,
   "id": "a1e2ab66",
   "metadata": {
    "ExecuteTime": {
     "end_time": "2021-11-22T11:37:16.617873Z",
     "start_time": "2021-11-22T11:36:45.530058Z"
    },
    "hidden": true
   },
   "outputs": [],
   "source": [
    "# TO-DO"
   ]
  },
  {
   "attachments": {},
   "cell_type": "markdown",
   "id": "bd3b10a4",
   "metadata": {
    "heading_collapsed": true,
    "hidden": true
   },
   "source": [
    "### Tree-Base Embedding"
   ]
  },
  {
   "cell_type": "code",
   "execution_count": null,
   "id": "1be00715",
   "metadata": {
    "ExecuteTime": {
     "end_time": "2021-11-22T11:37:17.721638Z",
     "start_time": "2021-11-22T11:37:16.881301Z"
    },
    "hidden": true
   },
   "outputs": [],
   "source": [
    "# TO-DO"
   ]
  },
  {
   "attachments": {},
   "cell_type": "markdown",
   "id": "dad2f694",
   "metadata": {
    "heading_collapsed": true,
    "hidden": true
   },
   "source": [
    "### KMeans Embedding"
   ]
  },
  {
   "cell_type": "code",
   "execution_count": null,
   "id": "156840e8",
   "metadata": {
    "ExecuteTime": {
     "end_time": "2021-11-22T11:37:40.479163Z",
     "start_time": "2021-11-22T11:37:29.524697Z"
    },
    "hidden": true
   },
   "outputs": [],
   "source": [
    "# TO-DO"
   ]
  },
  {
   "attachments": {},
   "cell_type": "markdown",
   "id": "1c42ecba",
   "metadata": {},
   "source": [
    "# **6 - DATA PREPARATION**"
   ]
  },
  {
   "attachments": {},
   "cell_type": "markdown",
   "id": "ec7eabd2",
   "metadata": {},
   "source": [
    "## 6.1 - Restore Point"
   ]
  },
  {
   "attachments": {},
   "cell_type": "markdown",
   "id": "e5eabd39",
   "metadata": {},
   "source": [
    "*Create a checkpoint of the last dataframe from previous section*"
   ]
  },
  {
   "cell_type": "code",
   "execution_count": null,
   "id": "40ff716a",
   "metadata": {},
   "outputs": [],
   "source": [
    "# create a restore point for the previous section dataframe\n",
    "df_prep = df_eda.copy()\n",
    "\n",
    "# check dataframe\n",
    "check_dataframe( df_prep )"
   ]
  },
  {
   "attachments": {},
   "cell_type": "markdown",
   "id": "44c0d35a",
   "metadata": {},
   "source": [
    "## 6.2 - Remove variables that won't be available in the production environment"
   ]
  },
  {
   "attachments": {},
   "cell_type": "markdown",
   "id": "767334b4",
   "metadata": {},
   "source": [
    "*Remove variables that model can use on production to make predictions*"
   ]
  },
  {
   "cell_type": "code",
   "execution_count": null,
   "id": "61fe90a8",
   "metadata": {},
   "outputs": [],
   "source": [
    "# TO-DO"
   ]
  },
  {
   "attachments": {},
   "cell_type": "markdown",
   "id": "3cfe39a4",
   "metadata": {},
   "source": [
    "## 6.3 - Train-Validation-Test split"
   ]
  },
  {
   "attachments": {},
   "cell_type": "markdown",
   "id": "a14a8105",
   "metadata": {},
   "source": [
    "*Split dataframe into training, validation and test dataset*"
   ]
  },
  {
   "cell_type": "code",
   "execution_count": null,
   "id": "dfac0f92",
   "metadata": {},
   "outputs": [],
   "source": [
    "# TO-DO"
   ]
  },
  {
   "attachments": {},
   "cell_type": "markdown",
   "id": "b2f48e31",
   "metadata": {},
   "source": [
    "## 6.4 - Scale numeric features"
   ]
  },
  {
   "attachments": {},
   "cell_type": "markdown",
   "id": "cd93f108",
   "metadata": {},
   "source": [
    "*Scale numeric feature to make modelling \"easier\" for ML models*"
   ]
  },
  {
   "attachments": {},
   "cell_type": "markdown",
   "id": "c58a8f54",
   "metadata": {},
   "source": [
    "### 6.4.1 - Standard Scaler"
   ]
  },
  {
   "cell_type": "code",
   "execution_count": null,
   "id": "44cfe8ab",
   "metadata": {},
   "outputs": [],
   "source": [
    "# TO-DO"
   ]
  },
  {
   "attachments": {},
   "cell_type": "markdown",
   "id": "f40f60b7",
   "metadata": {},
   "source": [
    "### 6.4.2 - Min-Max Scaler"
   ]
  },
  {
   "cell_type": "code",
   "execution_count": null,
   "id": "99d1dcb2",
   "metadata": {},
   "outputs": [],
   "source": [
    "# TO-DO"
   ]
  },
  {
   "attachments": {},
   "cell_type": "markdown",
   "id": "880503b8",
   "metadata": {},
   "source": [
    "### 6.4.3 - Robust Scaler"
   ]
  },
  {
   "cell_type": "code",
   "execution_count": null,
   "id": "51a24aad",
   "metadata": {},
   "outputs": [],
   "source": [
    "# TO-DO"
   ]
  },
  {
   "attachments": {},
   "cell_type": "markdown",
   "id": "22c6163d",
   "metadata": {},
   "source": [
    "### 6.4.4 - Discretization"
   ]
  },
  {
   "cell_type": "code",
   "execution_count": null,
   "id": "18f78a64",
   "metadata": {},
   "outputs": [],
   "source": [
    "# TO-DO"
   ]
  },
  {
   "attachments": {},
   "cell_type": "markdown",
   "id": "bed93774",
   "metadata": {},
   "source": [
    "## 6.5 - Encode categorical features"
   ]
  },
  {
   "attachments": {},
   "cell_type": "markdown",
   "id": "55ac6f45",
   "metadata": {},
   "source": [
    "*Encode categorical feature to make modelling possible for ML models*"
   ]
  },
  {
   "attachments": {},
   "cell_type": "markdown",
   "id": "c0814e8c",
   "metadata": {},
   "source": [
    "### 6.5.1 - One-Hot Encodingm"
   ]
  },
  {
   "cell_type": "code",
   "execution_count": null,
   "id": "7a2486ff",
   "metadata": {},
   "outputs": [],
   "source": [
    "# TO-DO"
   ]
  },
  {
   "attachments": {},
   "cell_type": "markdown",
   "id": "e50dacee",
   "metadata": {},
   "source": [
    "### 6.5.2 - Ordinal Encoding"
   ]
  },
  {
   "cell_type": "code",
   "execution_count": null,
   "id": "f5848643",
   "metadata": {},
   "outputs": [],
   "source": [
    "# TO-DO"
   ]
  },
  {
   "attachments": {},
   "cell_type": "markdown",
   "id": "2d8e7c71",
   "metadata": {},
   "source": [
    "### 6.5.3 - Target Encoding"
   ]
  },
  {
   "cell_type": "code",
   "execution_count": null,
   "id": "d72d40c7",
   "metadata": {},
   "outputs": [],
   "source": [
    "# TO-DO"
   ]
  },
  {
   "attachments": {},
   "cell_type": "markdown",
   "id": "99e12393",
   "metadata": {},
   "source": [
    "## 6.6 - Response variable transformation"
   ]
  },
  {
   "attachments": {},
   "cell_type": "markdown",
   "id": "6f07db9d",
   "metadata": {},
   "source": [
    "*Transform target variable (e.g. log, sqrt, etc) to make modelling \"easier\" for ML models*"
   ]
  },
  {
   "cell_type": "code",
   "execution_count": null,
   "id": "70d3ee79",
   "metadata": {},
   "outputs": [],
   "source": [
    "# TO-DO"
   ]
  },
  {
   "attachments": {},
   "cell_type": "markdown",
   "id": "20a1fee9",
   "metadata": {},
   "source": [
    "## 6.7 - Cyclic variables transformation"
   ]
  },
  {
   "attachments": {},
   "cell_type": "markdown",
   "id": "f88bdcde",
   "metadata": {},
   "source": [
    "*Transform cyclic variables (e.g. days of week, months in year, etc) with a sin and cos functions*"
   ]
  },
  {
   "cell_type": "code",
   "execution_count": null,
   "id": "aa224055",
   "metadata": {},
   "outputs": [],
   "source": [
    "# TO-DO"
   ]
  },
  {
   "attachments": {},
   "cell_type": "markdown",
   "id": "35474f40",
   "metadata": {},
   "source": [
    "## 6.8 - Double-check preparation"
   ]
  },
  {
   "attachments": {},
   "cell_type": "markdown",
   "id": "ec4faaa7",
   "metadata": {},
   "source": [
    "*Double-check the prepared dataset to make sure it is as expected*"
   ]
  },
  {
   "cell_type": "code",
   "execution_count": null,
   "id": "72f62edb",
   "metadata": {},
   "outputs": [],
   "source": [
    "# TO-DO"
   ]
  },
  {
   "attachments": {},
   "cell_type": "markdown",
   "id": "ee9d757b",
   "metadata": {
    "ExecuteTime": {
     "end_time": "2021-11-09T11:28:02.993277Z",
     "start_time": "2021-11-09T11:28:02.988140Z"
    },
    "heading_collapsed": true
   },
   "source": [
    "# **7 - FEATURE SELECTION**"
   ]
  },
  {
   "attachments": {},
   "cell_type": "markdown",
   "id": "989cfb33",
   "metadata": {
    "heading_collapsed": true,
    "hidden": true
   },
   "source": [
    "## 7.1 - Restore Point"
   ]
  },
  {
   "attachments": {},
   "cell_type": "markdown",
   "id": "dab40a87",
   "metadata": {},
   "source": [
    "*Create a checkpoint of the last dataframe from previous section*"
   ]
  },
  {
   "cell_type": "code",
   "execution_count": null,
   "id": "9e572e68",
   "metadata": {},
   "outputs": [],
   "source": [
    "# create a restore point for the previous section dataframe\n",
    "df_f_selection = df_prep.copy()\n",
    "\n",
    "# check dataframe\n",
    "check_dataframe( df_f_selection )"
   ]
  },
  {
   "attachments": {},
   "cell_type": "markdown",
   "id": "2ed869c5",
   "metadata": {},
   "source": [
    "## 7.2 - Logist regression coefficients"
   ]
  },
  {
   "cell_type": "code",
   "execution_count": null,
   "id": "b109fbf8",
   "metadata": {},
   "outputs": [],
   "source": [
    "# TO-DO"
   ]
  },
  {
   "attachments": {},
   "cell_type": "markdown",
   "id": "18ded795",
   "metadata": {},
   "source": [
    "## 7.3 - Random forest feature importance"
   ]
  },
  {
   "cell_type": "code",
   "execution_count": null,
   "id": "bddb7118",
   "metadata": {},
   "outputs": [],
   "source": [
    "# TO-DO"
   ]
  },
  {
   "attachments": {},
   "cell_type": "markdown",
   "id": "ed578042",
   "metadata": {},
   "source": [
    "## 7.4 - Boruta algorithm"
   ]
  },
  {
   "cell_type": "code",
   "execution_count": null,
   "id": "d9be4e25",
   "metadata": {},
   "outputs": [],
   "source": [
    "# TO-DO"
   ]
  },
  {
   "attachments": {},
   "cell_type": "markdown",
   "id": "593aa50b",
   "metadata": {},
   "source": [
    "## 7.5 - Mutual information"
   ]
  },
  {
   "cell_type": "code",
   "execution_count": null,
   "id": "42990ce9",
   "metadata": {},
   "outputs": [],
   "source": [
    "# TO-DO"
   ]
  },
  {
   "attachments": {},
   "cell_type": "markdown",
   "id": "6cd4a7d0",
   "metadata": {
    "heading_collapsed": true
   },
   "source": [
    "# **8 - ML MODEL TRAINING**"
   ]
  },
  {
   "attachments": {},
   "cell_type": "markdown",
   "id": "0b3baa9b",
   "metadata": {
    "heading_collapsed": true,
    "hidden": true
   },
   "source": [
    "## 8.1 - Restore Point"
   ]
  },
  {
   "attachments": {},
   "cell_type": "markdown",
   "id": "78eb6db9",
   "metadata": {},
   "source": [
    "*Create a checkpoint of the last dataframe from previous section*"
   ]
  },
  {
   "cell_type": "code",
   "execution_count": null,
   "id": "2711c6a3",
   "metadata": {
    "ExecuteTime": {
     "end_time": "2021-11-22T11:44:02.805951Z",
     "start_time": "2021-11-22T11:44:02.715657Z"
    },
    "hidden": true,
    "scrolled": true
   },
   "outputs": [],
   "source": [
    "# create a restore point for the previous section dataframe\n",
    "df_train = df_f_selection.copy()\n",
    "\n",
    "# check dataframe\n",
    "check_dataframe( df_train )"
   ]
  },
  {
   "attachments": {},
   "cell_type": "markdown",
   "id": "dab90bd1",
   "metadata": {},
   "source": [
    "## 8.2 - Metrics"
   ]
  },
  {
   "attachments": {},
   "cell_type": "markdown",
   "id": "a3265dbc",
   "metadata": {},
   "source": [
    "*Define the metric of success and the health metrics*"
   ]
  },
  {
   "cell_type": "code",
   "execution_count": null,
   "id": "088c6cce",
   "metadata": {},
   "outputs": [],
   "source": [
    "# TO-DO"
   ]
  },
  {
   "attachments": {},
   "cell_type": "markdown",
   "id": "611df983",
   "metadata": {},
   "source": [
    "## 8.3 - Baseline model"
   ]
  },
  {
   "attachments": {},
   "cell_type": "markdown",
   "id": "e1cba9e3",
   "metadata": {},
   "source": [
    "*Check the performance metrics with a dummy model to get the baseline metric*"
   ]
  },
  {
   "cell_type": "code",
   "execution_count": null,
   "id": "74687ece",
   "metadata": {},
   "outputs": [],
   "source": [
    "# TO-DO"
   ]
  },
  {
   "attachments": {},
   "cell_type": "markdown",
   "id": "ca3fc080",
   "metadata": {},
   "source": [
    "## 8.4 - ML models"
   ]
  },
  {
   "attachments": {},
   "cell_type": "markdown",
   "id": "0d1afd08",
   "metadata": {},
   "source": [
    "*Get performance metrics of ML model with cross-validation*"
   ]
  },
  {
   "cell_type": "code",
   "execution_count": null,
   "id": "b5bc1860",
   "metadata": {},
   "outputs": [],
   "source": [
    "# TO-DO"
   ]
  },
  {
   "attachments": {},
   "cell_type": "markdown",
   "id": "5d3c3c07",
   "metadata": {},
   "source": [
    "## 8.5 - Final modelling comparison"
   ]
  },
  {
   "attachments": {},
   "cell_type": "markdown",
   "id": "dd70b6db",
   "metadata": {},
   "source": [
    "*Compare all models and decide what one is the best (and will be fine-tuned)*"
   ]
  },
  {
   "cell_type": "code",
   "execution_count": null,
   "id": "c4712c7a",
   "metadata": {},
   "outputs": [],
   "source": [
    "# TO-DO"
   ]
  },
  {
   "attachments": {},
   "cell_type": "markdown",
   "id": "575611fe",
   "metadata": {},
   "source": [
    "# **9 - HYPERPARAMETER TUNNING**"
   ]
  },
  {
   "attachments": {},
   "cell_type": "markdown",
   "id": "e2edc6bc",
   "metadata": {},
   "source": [
    "## 9.1 - Restore Point"
   ]
  },
  {
   "attachments": {},
   "cell_type": "markdown",
   "id": "bc71366d",
   "metadata": {},
   "source": [
    "*Create a checkpoint of the last dataframe from previous section*"
   ]
  },
  {
   "cell_type": "code",
   "execution_count": null,
   "id": "08d3467a",
   "metadata": {},
   "outputs": [],
   "source": [
    "# create a restore point for the previous section dataframe\n",
    "df_tune = df_train.copy()\n",
    "\n",
    "# check dataframe\n",
    "check_dataframe( df_tune )"
   ]
  },
  {
   "attachments": {},
   "cell_type": "markdown",
   "id": "de10e50a",
   "metadata": {},
   "source": [
    "## 9.2 - Hypertune the best ML model"
   ]
  },
  {
   "attachments": {},
   "cell_type": "markdown",
   "id": "9e6ac096",
   "metadata": {},
   "source": [
    "*Check the best hyperparams for the best ML model*"
   ]
  },
  {
   "attachments": {},
   "cell_type": "markdown",
   "id": "8f4cd59d",
   "metadata": {},
   "source": [
    "### 9.2.1 - Grid Search"
   ]
  },
  {
   "cell_type": "code",
   "execution_count": null,
   "id": "191d670f",
   "metadata": {},
   "outputs": [],
   "source": [
    "# TO-DO"
   ]
  },
  {
   "attachments": {},
   "cell_type": "markdown",
   "id": "3ca5e074",
   "metadata": {},
   "source": [
    "### 9.2.2 - Random Search"
   ]
  },
  {
   "cell_type": "code",
   "execution_count": null,
   "id": "3ba96cf2",
   "metadata": {},
   "outputs": [],
   "source": [
    "# TO-DO"
   ]
  },
  {
   "attachments": {},
   "cell_type": "markdown",
   "id": "1099906e",
   "metadata": {},
   "source": [
    "### 9.2.3 - Bayesian Search"
   ]
  },
  {
   "cell_type": "code",
   "execution_count": null,
   "id": "b9d6a0a3",
   "metadata": {},
   "outputs": [],
   "source": [
    "# TO-DO"
   ]
  },
  {
   "attachments": {},
   "cell_type": "markdown",
   "id": "cc85ea29",
   "metadata": {},
   "source": [
    "## 9.3 - Define best hyperparameters"
   ]
  },
  {
   "attachments": {},
   "cell_type": "markdown",
   "id": "56530fc0",
   "metadata": {},
   "source": [
    "*Explicitly define best hyper parameters*"
   ]
  },
  {
   "cell_type": "code",
   "execution_count": null,
   "id": "29a0941a",
   "metadata": {},
   "outputs": [],
   "source": [
    "# TO-DO"
   ]
  },
  {
   "attachments": {},
   "cell_type": "markdown",
   "id": "118a044d",
   "metadata": {},
   "source": [
    "# **10 - PERFORMANCE EVALUATION AND INTERPRETATION**"
   ]
  },
  {
   "attachments": {},
   "cell_type": "markdown",
   "id": "9beb0f5e",
   "metadata": {},
   "source": [
    "## 10.1 - Restore Point"
   ]
  },
  {
   "attachments": {},
   "cell_type": "markdown",
   "id": "06063ebc",
   "metadata": {},
   "source": [
    "*Create a checkpoint of the last dataframe from previous section*"
   ]
  },
  {
   "cell_type": "code",
   "execution_count": null,
   "id": "ca048da1",
   "metadata": {},
   "outputs": [],
   "source": [
    "# create a restore point for the previous section dataframe\n",
    "df_perform = df_tune.copy()\n",
    "\n",
    "# check dataframe\n",
    "check_dataframe( df_perform )"
   ]
  },
  {
   "attachments": {},
   "cell_type": "markdown",
   "id": "bd259a95",
   "metadata": {},
   "source": [
    "## 10.2 - Training Performance"
   ]
  },
  {
   "attachments": {},
   "cell_type": "markdown",
   "id": "61597c50",
   "metadata": {},
   "source": [
    "*Get final model performance on training data*"
   ]
  },
  {
   "cell_type": "code",
   "execution_count": null,
   "id": "de669b2b",
   "metadata": {},
   "outputs": [],
   "source": [
    "# TO-DO"
   ]
  },
  {
   "attachments": {},
   "cell_type": "markdown",
   "id": "ad7b1738",
   "metadata": {},
   "source": [
    "## 10.3 - Generalization performance"
   ]
  },
  {
   "attachments": {},
   "cell_type": "markdown",
   "id": "86cbc993",
   "metadata": {},
   "source": [
    "### 10.3.1 - Final model training"
   ]
  },
  {
   "attachments": {},
   "cell_type": "markdown",
   "id": "e68bfaed",
   "metadata": {},
   "source": [
    "*Get final model performance on validation data*"
   ]
  },
  {
   "cell_type": "code",
   "execution_count": null,
   "id": "51f346c4",
   "metadata": {},
   "outputs": [],
   "source": [
    "# TO-DO"
   ]
  },
  {
   "attachments": {},
   "cell_type": "markdown",
   "id": "56ad9401",
   "metadata": {},
   "source": [
    "### 10.3.2 - Error analysis"
   ]
  },
  {
   "attachments": {},
   "cell_type": "markdown",
   "id": "30f53834",
   "metadata": {},
   "source": [
    "*Perform error analysis on final model to make sure it is ready for production*"
   ]
  },
  {
   "cell_type": "code",
   "execution_count": null,
   "id": "08faa83e",
   "metadata": {},
   "outputs": [],
   "source": [
    "# TO-DO"
   ]
  },
  {
   "attachments": {},
   "cell_type": "markdown",
   "id": "227e866b",
   "metadata": {},
   "source": [
    "## 10.4 - Define prodution model"
   ]
  },
  {
   "attachments": {},
   "cell_type": "markdown",
   "id": "d3babf23",
   "metadata": {},
   "source": [
    "*Train ML on \"training + validation\" data*"
   ]
  },
  {
   "cell_type": "code",
   "execution_count": null,
   "id": "4c8d89a9",
   "metadata": {},
   "outputs": [],
   "source": [
    "# TO-DO"
   ]
  },
  {
   "attachments": {},
   "cell_type": "markdown",
   "id": "5b33acde",
   "metadata": {},
   "source": [
    "## 10.5 - Testing performance"
   ]
  },
  {
   "attachments": {},
   "cell_type": "markdown",
   "id": "fb1220a9",
   "metadata": {},
   "source": [
    "*Get production model performance on testing data*"
   ]
  },
  {
   "cell_type": "code",
   "execution_count": null,
   "id": "6e52f764",
   "metadata": {},
   "outputs": [],
   "source": [
    "# TO-DO"
   ]
  },
  {
   "attachments": {},
   "cell_type": "markdown",
   "id": "1d2e70d7",
   "metadata": {},
   "source": [
    "## 10.6 - Business performance"
   ]
  },
  {
   "attachments": {},
   "cell_type": "markdown",
   "id": "a294eeac",
   "metadata": {},
   "source": [
    "*Translate testing performance into business results*"
   ]
  },
  {
   "cell_type": "code",
   "execution_count": null,
   "id": "36f80bff",
   "metadata": {},
   "outputs": [],
   "source": [
    "# TO-DO"
   ]
  },
  {
   "attachments": {},
   "cell_type": "markdown",
   "id": "855aae5f",
   "metadata": {},
   "source": [
    "# **11 - DEPLOYMENT**"
   ]
  },
  {
   "attachments": {},
   "cell_type": "markdown",
   "id": "ee8e3824",
   "metadata": {},
   "source": [
    "![Deployment architecture](../img/....jpg)"
   ]
  },
  {
   "attachments": {},
   "cell_type": "markdown",
   "id": "c8ebea41",
   "metadata": {},
   "source": [
    "## 11.1 - API creation"
   ]
  },
  {
   "attachments": {},
   "cell_type": "markdown",
   "id": "33ea6360",
   "metadata": {},
   "source": [
    "*Code to create API for ML predictions*"
   ]
  },
  {
   "cell_type": "code",
   "execution_count": null,
   "id": "c1352323",
   "metadata": {},
   "outputs": [],
   "source": [
    "# TO-DO"
   ]
  },
  {
   "attachments": {},
   "cell_type": "markdown",
   "id": "60bbaa2e",
   "metadata": {},
   "source": [
    "## 11.2 - Docker container"
   ]
  },
  {
   "attachments": {},
   "cell_type": "markdown",
   "id": "4e1b9c1e",
   "metadata": {},
   "source": [
    "*Code to create a Docker container and deploy ML model*"
   ]
  },
  {
   "cell_type": "code",
   "execution_count": null,
   "id": "73bb3659",
   "metadata": {},
   "outputs": [],
   "source": [
    "# TO-DO"
   ]
  },
  {
   "cell_type": "code",
   "execution_count": null,
   "id": "c0333fb1",
   "metadata": {},
   "outputs": [],
   "source": []
  }
 ],
 "metadata": {
  "kernelspec": {
   "display_name": "hotmart_case",
   "language": "python",
   "name": "hotmart_case"
  },
  "language_info": {
   "codemirror_mode": {
    "name": "ipython",
    "version": 3
   },
   "file_extension": ".py",
   "mimetype": "text/x-python",
   "name": "python",
   "nbconvert_exporter": "python",
   "pygments_lexer": "ipython3",
   "version": "3.10.6"
  },
  "toc": {
   "base_numbering": 1,
   "nav_menu": {},
   "number_sections": false,
   "sideBar": true,
   "skip_h1_title": false,
   "title_cell": "Table of Contents",
   "title_sidebar": "Contents",
   "toc_cell": false,
   "toc_position": {},
   "toc_section_display": true,
   "toc_window_display": false
  },
  "varInspector": {
   "cols": {
    "lenName": 16,
    "lenType": 16,
    "lenVar": 40
   },
   "kernels_config": {
    "python": {
     "delete_cmd_postfix": "",
     "delete_cmd_prefix": "del ",
     "library": "var_list.py",
     "varRefreshCmd": "print(var_dic_list())"
    },
    "r": {
     "delete_cmd_postfix": ") ",
     "delete_cmd_prefix": "rm(",
     "library": "var_list.r",
     "varRefreshCmd": "cat(var_dic_list()) "
    }
   },
   "types_to_exclude": [
    "module",
    "function",
    "builtin_function_or_method",
    "instance",
    "_Feature"
   ],
   "window_display": false
  }
 },
 "nbformat": 4,
 "nbformat_minor": 5
}
