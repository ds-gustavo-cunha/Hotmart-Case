{
 "cells": [
  {
   "attachments": {},
   "cell_type": "markdown",
   "id": "2bf7b726",
   "metadata": {},
   "source": [
    "# **PROBLEM SOLVING DESIGN**\n",
    "\n",
    "![Lean StartUp Feedback Loop](../img/project_structure/lean_startup_feedback_loop.jpg)"
   ]
  },
  {
   "attachments": {},
   "cell_type": "markdown",
   "id": "866053b1",
   "metadata": {},
   "source": [
    "# **BUSINESS CONTEXT**"
   ]
  },
  {
   "attachments": {},
   "cell_type": "markdown",
   "id": "654c805f",
   "metadata": {
    "heading_collapsed": true
   },
   "source": [
    "## **What is the company?**\n",
    "\n",
    "Hotmart\n",
    "\n",
    "## **What is its business model?**\n",
    "\n",
    "Two-sided marketplace. It is a platform for buying, selling and promoting digital products in which Hotmart connects product creators/disseminators to their customers.\n",
    "\n",
    "## **What is the company stage on the market?**\n",
    "\n",
    "\"Virality\" (Lean Analytics) or \"early majority\" (Innovation Adoption Curve). The company found a pain in the market and validated a product that solves the pain; now is the time to increase the customer base."
   ]
  },
  {
   "attachments": {},
   "cell_type": "markdown",
   "id": "d5329e88",
   "metadata": {
    "ExecuteTime": {
     "end_time": "2021-11-04T17:35:13.475385Z",
     "start_time": "2021-11-04T17:35:13.469403Z"
    }
   },
   "source": [
    "# **BUSINESS PROBLEM**"
   ]
  },
  {
   "attachments": {},
   "cell_type": "markdown",
   "id": "f00d37f8",
   "metadata": {
    "ExecuteTime": {
     "end_time": "2021-11-04T17:35:17.610201Z",
     "start_time": "2021-11-04T17:35:17.584618Z"
    }
   },
   "source": [
    "## **What is the business problem the company is facing?**\n",
    "\n",
    "The company wants to get insight based on customers' data in order to unveil new product opportunities, especially in terms of product success, customer segmentation, and revenue estimation.\n",
    "\n",
    "## **What is the business solution that this project has to deliver?**\n",
    "\n",
    "A presentation of storytelling insights based on the available data and, possibly, answers to the following questions:\n",
    "- Does Hotmart depend on the biggest producers on the platform? That is, the top-selling producers are responsible for most of the\n",
    "Hotmart billing?\n",
    "- Are there any relevant patterns or trends in the data?\n",
    "- It is possible to segment users based on their characteristics (revenue, product niche, etc.)?\n",
    "- What features most impact the success of a product? that is, the What makes a product sell more?\n",
    "- It is possible to estimate how much revenue Hotmart will generate in the next three months from the last month shown in the dataset?\n",
    "\n",
    "**References:**\n",
    "- Case description\n",
    "- https://hotmart.com/pt-br"
   ]
  },
  {
   "attachments": {},
   "cell_type": "markdown",
   "id": "cce72a6a",
   "metadata": {},
   "source": [
    "# **SCOPE AND BUSINESS ASSUMPTIONS**\n",
    "\n",
    "- **...**\n",
    "\n",
    "- **...**\n",
    "\n",
    "\n",
    "REFERENCES:\n",
    "..."
   ]
  },
  {
   "attachments": {},
   "cell_type": "markdown",
   "id": "34f8a758",
   "metadata": {
    "ExecuteTime": {
     "end_time": "2021-11-04T13:34:43.189698Z",
     "start_time": "2021-11-04T13:34:43.022292Z"
    }
   },
   "source": [
    "# **SOLUTION STRATEGY**\n",
    "\n",
    "![IoT method](../img/project_structure/iot_method.png)*IOT (Input-Output-Taks) is a planning strategy to structure a problem solution and make sure it delivers a solution that solves the initial problem.*"
   ]
  },
  {
   "attachments": {},
   "cell_type": "markdown",
   "id": "b6ca3bf4",
   "metadata": {
    "ExecuteTime": {
     "end_time": "2021-11-04T17:39:03.938670Z",
     "start_time": "2021-11-04T17:39:03.934341Z"
    }
   },
   "source": [
    "### INPUT\n",
    "\n",
    "- **Business context**:\n",
    "    - It is a platform for buying, selling and promoting digital products in which Hotmart connects product creators/disseminators to their customers.\n",
    "    - In principle, Hotmart makes money by **taxing**, either the creators or the disseminators, **a percentage of the purchase by the customer**.\n",
    "- **Business problem**:\n",
    "    - The company wants to get **insights** based on customers' data in order to **unveil new product opportunities**, especially in terms of product success, customer segmentation, and revenue estimation.\n",
    "- **Business questions**:\n",
    "    - Does **Hotmart depend** on the **biggest producers** on the platform? That is, the **top-selling producers** are responsible for **most** of the Hotmart **billing**?\n",
    "    - Are there any **relevant patterns or trends** in the data?\n",
    "    - It is possible to **segment users** based on their characteristics (revenue, product niche, etc.)?\n",
    "    - What **features most impact** the success of a **product**? that is, the What makes a **product sell more**?\n",
    "    - It is possible to **estimate** how much **revenue** Hotmart will generate in the **next three months from the last month** shown in the dataset?\n",
    "- **Available data**:\n",
    "    - Data referring to a **sample of purchases made** at Hotmart in 2016. These are more than 1.5 million records of purchases made on our **platform**."
   ]
  },
  {
   "attachments": {},
   "cell_type": "markdown",
   "id": "8df0c314",
   "metadata": {
    "ExecuteTime": {
     "end_time": "2021-11-04T17:38:29.559329Z",
     "start_time": "2021-11-04T17:38:29.544358Z"
    },
    "heading_collapsed": true
   },
   "source": [
    "### OUTPUT \n",
    "\n",
    "- A presentation of storytelling insights based on the available data and, possibly, answers to the previous questions."
   ]
  },
  {
   "attachments": {},
   "cell_type": "markdown",
   "id": "fa2284b4",
   "metadata": {},
   "source": [
    "### TASKs\n",
    "\n",
    "- *QUESTION*:\n",
    "    - Does **Hotmart depend** on the **biggest producers** on the platform? That is, the **top-selling producers** are responsible for **most** of the Hotmart **billing**?\n",
    "        - What are the biggest producers on the platform? What is its definition?\n",
    "            - Assuming higher than 95th percentile of volume of product sold.\n",
    "        - What it means to be dependent on some producers?\n",
    "            - Assuming \"Pareto rule\" like: 80% of revenue comes from the 5th top selling producers\n",
    "        - What is the revenue difference from this customers to the remaining one?\n",
    "            - Compare revenues\n",
    "\n",
    "<br >\n",
    "\n",
    "- *QUESTION*:\n",
    "    - Are there any **relevant patterns or trends** in the data?\n",
    "        - Check for features (correlation between features, feature distributions and time-changes trends) that shows patterns in terms of customers/producers groups or revenue impact or scaling impact.\n",
    "\n",
    "<br >\n",
    "\n",
    "- *QUESTION*:\n",
    "    - It is possible to **segment users** based on their characteristics (revenue, product niche, etc.)?\n",
    "        - What is the purpose of segmenting customers?\n",
    "          - Find out what are the best customers and what coould be done to change the behaviour of the not-best ones. \n",
    "          - Revenue from best customer could support scaling efforts.\n",
    "        - Check for features that can cluster customer/producers for better revenue undestanding\n",
    "          - Initially try RFM (Recency-Frequency-Monetary)\n",
    "\n",
    "<br >      \n",
    "\n",
    "- *QUESTION*:\n",
    "    - What **features most impact** the success of a **product**? that is, what makes a **product sell more**?\n",
    "        - Success of a product = number of products sold\n",
    "            - Inspect features with high correlation to the number of product sold\n",
    "            - Inspect feature with high correlation with an increasing trend of products sold\n",
    "            - Check for simple causal inference techniques\n",
    "              - knowing features that best impact the product success, we can use this feature for marketing purpose (scalling effort) and, perhaps, get a better overview about what leads to focus on.\n",
    "\n",
    "<br >\n",
    "\n",
    "- *QUESTION*:\n",
    "    - It is possible to **estimate** how much **revenue** Hotmart will generate in the **next three months from the last month** shown in the dataset?\n",
    "        - Check the revenue time-series to understand how to extrapolate it to the future\n",
    "            - Visual inspection\n",
    "            - Check for trend and seasonality and noise\n",
    "            - Define baseline (dummy = last available date)\n",
    "                - Initially, ARIMA model\n",
    "                - If possible, machine learning models\n",
    "                - Check model error and extrapolate to business impact\n",
    "                  - knowing revenue forecast we can predcit scaling investments and even prepone investments."
   ]
  },
  {
   "attachments": {},
   "cell_type": "markdown",
   "id": "b9825219",
   "metadata": {},
   "source": [
    "# **PRODUCT BUILDING ROADMAP**\n",
    "\n",
    "![CRISP-DS Framework](../img/project_structure/crisp_ds.jpg)"
   ]
  },
  {
   "attachments": {},
   "cell_type": "markdown",
   "id": "aa8ba4f7",
   "metadata": {},
   "source": [
    "---\n",
    "---\n",
    "---"
   ]
  },
  {
   "attachments": {},
   "cell_type": "markdown",
   "id": "cfb7b1da",
   "metadata": {
    "heading_collapsed": true
   },
   "source": [
    "# **0 - HELPERS**"
   ]
  },
  {
   "attachments": {},
   "cell_type": "markdown",
   "id": "f73c6dcd",
   "metadata": {
    "heading_collapsed": true,
    "hidden": true
   },
   "source": [
    "## 0.1 - Libraries"
   ]
  },
  {
   "attachments": {},
   "cell_type": "markdown",
   "id": "3a213f9e",
   "metadata": {},
   "source": [
    "*Import required libraries*"
   ]
  },
  {
   "cell_type": "code",
   "execution_count": 1,
   "id": "6bef9efa",
   "metadata": {},
   "outputs": [],
   "source": [
    "# don't cache libraries (especially project library)\n",
    "%load_ext autoreload\n",
    "%autoreload 2"
   ]
  },
  {
   "cell_type": "code",
   "execution_count": 2,
   "id": "2d066e75",
   "metadata": {},
   "outputs": [
    {
     "data": {
      "text/html": [
       "<style>.container { width:100% !important; }</style>"
      ],
      "text/plain": [
       "<IPython.core.display.HTML object>"
      ]
     },
     "metadata": {},
     "output_type": "display_data"
    },
    {
     "data": {
      "text/html": [
       "<style>.container { width:100% !important; }</style>"
      ],
      "text/plain": [
       "<IPython.core.display.HTML object>"
      ]
     },
     "metadata": {},
     "output_type": "display_data"
    }
   ],
   "source": [
    "# setup and environment\n",
    "import os\n",
    "from   pathlib import Path\n",
    "\n",
    "# data extraction\n",
    "from sqlalchemy import create_engine\n",
    "\n",
    "# data manipulation\n",
    "import numpy as np\n",
    "import pandas as pd\n",
    "\n",
    "# data visualization\n",
    "import matplotlib.pyplot as plt\n",
    "import seaborn as sns\n",
    "\n",
    "# project library\n",
    "from project_lib.initial_config import initial_settings\n",
    "from project_lib.data_description import (check_dataframe, inspect_dtypes, \n",
    "                                          check_na_unique_dtypes, check_dtype_convertion,\n",
    "                                          summary_statistics, categorical_summary, datetime_summary\n",
    "                                          )\n",
    "from project_lib.data_exploration import (numerical_plot, categorical_plot, datetime_plot)"
   ]
  },
  {
   "attachments": {},
   "cell_type": "markdown",
   "id": "66efdb94",
   "metadata": {
    "ExecuteTime": {
     "end_time": "2021-11-08T11:06:42.870317Z",
     "start_time": "2021-11-08T11:06:42.862040Z"
    },
    "heading_collapsed": true,
    "hidden": true
   },
   "source": [
    "## 0.2 - Functions"
   ]
  },
  {
   "attachments": {},
   "cell_type": "markdown",
   "id": "8e94d8f7",
   "metadata": {},
   "source": [
    "*Define functions that will be used on the project*"
   ]
  },
  {
   "attachments": {},
   "cell_type": "markdown",
   "id": "005d90e2",
   "metadata": {
    "ExecuteTime": {
     "end_time": "2021-12-10T14:13:12.396952Z",
     "start_time": "2021-12-10T14:13:12.316411Z"
    },
    "hidden": true
   },
   "source": [
    "NOTE: Most functions made for this project are inside the project library. That is, **a package called \"project_lib\" was created to hold all functions that will be needed for this project.**\n",
    "\n",
    "\n",
    "For further details, please check the modules inside \"project_lib\" package [in other words, check .py files inside project_lib folder]"
   ]
  },
  {
   "cell_type": "code",
   "execution_count": 3,
   "id": "0166e669",
   "metadata": {},
   "outputs": [],
   "source": [
    "# # example of function created for this project\n",
    "# help(check_dataframe)"
   ]
  },
  {
   "attachments": {},
   "cell_type": "markdown",
   "id": "31bfa06e",
   "metadata": {},
   "source": [
    "## 0.3 - Setup"
   ]
  },
  {
   "attachments": {},
   "cell_type": "markdown",
   "id": "7dc1ec1d",
   "metadata": {},
   "source": [
    "*Define basic configurations*"
   ]
  },
  {
   "cell_type": "code",
   "execution_count": 4,
   "id": "66009c14",
   "metadata": {},
   "outputs": [
    {
     "data": {
      "text/html": [
       "<style>.container { width:100% !important; }</style>"
      ],
      "text/plain": [
       "<IPython.core.display.HTML object>"
      ]
     },
     "metadata": {},
     "output_type": "display_data"
    }
   ],
   "source": [
    "# initial setup of dataframes and plots\n",
    "initial_settings(storytelling=False)"
   ]
  },
  {
   "attachments": {},
   "cell_type": "markdown",
   "id": "fa085249",
   "metadata": {},
   "source": [
    "## 0.4 - Constants"
   ]
  },
  {
   "attachments": {},
   "cell_type": "markdown",
   "id": "059932be",
   "metadata": {},
   "source": [
    "*Define reusuable constants*"
   ]
  },
  {
   "cell_type": "code",
   "execution_count": 5,
   "id": "ad9f83e2",
   "metadata": {},
   "outputs": [
    {
     "data": {
      "text/plain": [
       "PosixPath('/home/ds-gustavo-cunha/Projects/hotmart_case')"
      ]
     },
     "execution_count": 5,
     "metadata": {},
     "output_type": "execute_result"
    }
   ],
   "source": [
    "# define the project root path that will be the \"baseline\" for all paths in the notebook\n",
    "PROJECT_ROOT_PATH = Path.cwd().parent\n",
    "PROJECT_ROOT_PATH"
   ]
  },
  {
   "cell_type": "code",
   "execution_count": 6,
   "id": "98cc48c5-8f19-484d-aa2e-71ca25a41b67",
   "metadata": {},
   "outputs": [],
   "source": [
    "# # variables to connect to data source\n",
    "# HOST=os.environ[\"HOST\"]\n",
    "# PORT=os.environ[\"PORT\"]\n",
    "# USER=os.environ[\"USER\"]\n",
    "# PASSWORD=os.environ[\"PASSWORD\"]\n",
    "# SCHEMA=os.environ[\"SCHEMA\"]\n",
    "# TABLE=os.environ[\"TABLE\"]"
   ]
  },
  {
   "attachments": {},
   "cell_type": "markdown",
   "id": "71c139dd",
   "metadata": {
    "ExecuteTime": {
     "end_time": "2021-11-04T23:09:51.772110Z",
     "start_time": "2021-11-04T23:09:51.767141Z"
    }
   },
   "source": [
    "# **1 - DATA EXTRACTION**"
   ]
  },
  {
   "attachments": {},
   "cell_type": "markdown",
   "id": "870fc960",
   "metadata": {},
   "source": [
    "## 1.1 - Entity Relationship Diagram"
   ]
  },
  {
   "attachments": {},
   "cell_type": "markdown",
   "id": "52b1c61e",
   "metadata": {},
   "source": [
    "*Display Entity-Relationship Diagram to a better data understanding*"
   ]
  },
  {
   "cell_type": "code",
   "execution_count": 7,
   "id": "aee358fe",
   "metadata": {},
   "outputs": [],
   "source": [
    "# Not available -> datasets are already merged"
   ]
  },
  {
   "attachments": {},
   "cell_type": "markdown",
   "id": "eddb0851",
   "metadata": {
    "ExecuteTime": {
     "end_time": "2021-11-08T11:11:43.415835Z",
     "start_time": "2021-11-08T11:11:43.409069Z"
    }
   },
   "source": [
    "## 1.2 - Data Fields Description"
   ]
  },
  {
   "attachments": {},
   "cell_type": "markdown",
   "id": "6ef925d8",
   "metadata": {},
   "source": [
    "*Describe available data in regard to database information*\n"
   ]
  },
  {
   "attachments": {},
   "cell_type": "markdown",
   "id": "ae37d62c-5cfa-4997-87dc-552340480a3c",
   "metadata": {},
   "source": [
    "---\n",
    "\n",
    "Na Hotmart, possuímos três principais personas que integram nosso negócio: os produtores, os afiliados e os compradores.\n",
    "- Produtores são pessoas que criam produtos digitais na Hotmart, como cursos de idiomas, ebooks de receitas culinárias, audiolivros, softwares, dentre muitos outros exemplos.\n",
    "- Afiliados são pessoas que promovem produtos dos produtores em troca de uma comissão na venda, que varia de produto para produto, e de afiliado para afiliado.\n",
    "- Compradores são pessoas que adquirem um ou mais produtos digitais.\n",
    "    \n",
    "Uma venda é feita por um afiliado quando alguém clica em um link de afiliados. Eles geralmente fazem a promoção desses produtos em redes sociais, vídeos, anúncios, etc.\n",
    "\n",
    "Já uma venda é feita por um produtor quando alguém tem acesso direto ao seu produto, sem intermediação do afiliado. Por exemplo, pessoas que seguem o Whindersson Nunes no Youtube e entraram em seu site oficial para adquirir seu produto, ou clicaram no link do produto sem código de afiliação.\n",
    "\n",
    "---"
   ]
  },
  {
   "attachments": {},
   "cell_type": "markdown",
   "id": "8a995eff-1a03-4512-91b0-254468c3b809",
   "metadata": {},
   "source": [
    "---\n",
    "\n",
    "Durante sua avaliação, você irá analisar dados referentes a uma amostra de compras feitas na Hotmart em 2016. Tratam-se de mais de 1,5 milhão registros de compras realizadas em nossa plataforma. Abaixo, nós iremos detalhar o que significa cada campo:\n",
    "- **purchase_id**: Identificação da compra na Hotmart;\n",
    "- **product_id**: Identificação do produto na Hotmart;\n",
    "- **affiliate_id**: Identificação do afiliado na Hotmart;\n",
    "- **producer_id**: Identificação do produtor na Hotmart;\n",
    "- **buyer_id**: Identificação do comprador na Hotmart;\n",
    "- **purchase_date**: Data e hora em que a compra foi realizada;\n",
    "- **product_creation_date**: Data e hora em que o produto foi criado na Hotmart;\n",
    "- **product_category**: categoria do produto na Hotmart. Exemplo: e-book, software, curso online, e-tickets, etc.;\n",
    "- **product_niche**: nicho de mercado que o produto faz parte. Exemplo: educação, saúde e bem-estar, sexualidade, etc.;\n",
    "- **purchase_value**: valor da compra. Esse dado, assim como nicho e categoria foi codificado para manter a confidencialidade. O valor apresentado no dataset é o z-score do valor real;\n",
    "- **affiliate_commission_percentual**: percentual de comissão que o afiliado receberá da compra;\n",
    "- **purchase_device**: tipo de dispositivo utilizado no momento da compra, como: Desktop, Mobile, Tablet, ou Outros;\n",
    "- **purchase_origin**: endereço do site do qual a pessoa veio antes da compra. Por exemplo, se uma pessoa veio do Facebook, Youtube, ou até mesmo de outra página no site oficial do produto;\n",
    "- **is_origin_page_social_network**: informa se essa compra veio de uma URL do Facebook, Youtube, Instagram, Pinterest, ou Twitter.\n",
    "\n",
    "---"
   ]
  },
  {
   "attachments": {},
   "cell_type": "markdown",
   "id": "76df06ec-313d-4bf6-b1ed-413e2c43e926",
   "metadata": {},
   "source": [
    "---\n",
    "\n",
    "Algumas regras de negócio:\n",
    "- Quando a compra for feita diretamente pelo produtor, ou seja, quando não houver afiliado intermediando a compra, o campo affiliate_commission_percentual terá valor 0, e o campo affiliate_id será igual ao producer_id;\n",
    "- No campo purchase_origin nós apenas consideramos o host do site. Isso quer dizer que, se uma pessoa veio do site www.meuproduto.com/promocoes, esse campo só irá retornar o valor www.meuproduto.com;\n",
    "\n",
    "---"
   ]
  },
  {
   "attachments": {},
   "cell_type": "markdown",
   "id": "425ae4b4",
   "metadata": {},
   "source": [
    "## 1.3 - Data Loading"
   ]
  },
  {
   "attachments": {},
   "cell_type": "markdown",
   "id": "98e6ffec",
   "metadata": {},
   "source": [
    "*Load data from required files*"
   ]
  },
  {
   "cell_type": "code",
   "execution_count": 8,
   "id": "e856158a-8b04-4d68-b6ea-c46789fffaf1",
   "metadata": {},
   "outputs": [],
   "source": [
    "# # define connection \"endpoint\"\n",
    "# db_connection_str = f'mysql+pymysql://{USER}:{PASSWORD}@{HOST}/{SCHEMA}'\n",
    "# # create an engine to connect to database\n",
    "# db_connection = create_engine(db_connection_str)\n",
    "\n",
    "# # define query to get data\n",
    "# query=f\"\"\"\n",
    "# SELECT *\n",
    "# FROM {TABLE}\n",
    "# \"\"\"\n",
    "\n",
    "# # read all data from database\n",
    "# df_sql = pd.read_sql(sql=query, con=db_connection)\n",
    "# df_sql"
   ]
  },
  {
   "cell_type": "code",
   "execution_count": 9,
   "id": "0f9aaf2e-15e2-4bd0-b305-d1e0b27a5619",
   "metadata": {},
   "outputs": [],
   "source": [
    "# # save data to parquet so as to not overload database server unnecessarily\n",
    "# df_sql.to_parquet(\n",
    "#     path=os.path.join(PROJECT_ROOT_PATH, \"data\", \"raw_data\", \"customer_data.parquet\")\n",
    "# )"
   ]
  },
  {
   "cell_type": "code",
   "execution_count": 10,
   "id": "5c1b6096",
   "metadata": {},
   "outputs": [
    {
     "data": {
      "text/html": [
       "<div>\n",
       "<style scoped>\n",
       "    .dataframe tbody tr th:only-of-type {\n",
       "        vertical-align: middle;\n",
       "    }\n",
       "\n",
       "    .dataframe tbody tr th {\n",
       "        vertical-align: top;\n",
       "    }\n",
       "\n",
       "    .dataframe thead th {\n",
       "        text-align: right;\n",
       "    }\n",
       "</style>\n",
       "<table border=\"1\" class=\"dataframe\">\n",
       "  <thead>\n",
       "    <tr style=\"text-align: right;\">\n",
       "      <th></th>\n",
       "      <th>purchase_id</th>\n",
       "      <th>product_id</th>\n",
       "      <th>affiliate_id</th>\n",
       "      <th>producer_id</th>\n",
       "      <th>buyer_id</th>\n",
       "      <th>purchase_date</th>\n",
       "      <th>product_creation_date</th>\n",
       "      <th>product_category</th>\n",
       "      <th>product_niche</th>\n",
       "      <th>purchase_value</th>\n",
       "      <th>affiliate_commission_percentual</th>\n",
       "      <th>purchase_device</th>\n",
       "      <th>purchase_origin</th>\n",
       "      <th>is_origin_page_social_network</th>\n",
       "      <th>Venda</th>\n",
       "    </tr>\n",
       "  </thead>\n",
       "  <tbody>\n",
       "    <tr>\n",
       "      <th>586283</th>\n",
       "      <td>12036841</td>\n",
       "      <td>143399</td>\n",
       "      <td>27147</td>\n",
       "      <td>1471554</td>\n",
       "      <td>5924461</td>\n",
       "      <td>2016-03-13 15:06:17</td>\n",
       "      <td>2015-03-24 20:05:02</td>\n",
       "      <td>Phisical book</td>\n",
       "      <td>Media training</td>\n",
       "      <td>-0.415</td>\n",
       "      <td>0.000</td>\n",
       "      <td>Desktop</td>\n",
       "      <td>Origin 32cf</td>\n",
       "      <td>0,0</td>\n",
       "      <td>1</td>\n",
       "    </tr>\n",
       "    <tr>\n",
       "      <th>1426024</th>\n",
       "      <td>13669209</td>\n",
       "      <td>114914</td>\n",
       "      <td>3364586</td>\n",
       "      <td>3364586</td>\n",
       "      <td>1428164</td>\n",
       "      <td>2016-06-12 00:30:47</td>\n",
       "      <td>2014-09-03 13:29:48</td>\n",
       "      <td>Podcast</td>\n",
       "      <td>Negotiation</td>\n",
       "      <td>-0.448</td>\n",
       "      <td>0.000</td>\n",
       "      <td>eReaders</td>\n",
       "      <td>Origin 4f06</td>\n",
       "      <td>0,0</td>\n",
       "      <td>1</td>\n",
       "    </tr>\n",
       "    <tr>\n",
       "      <th>646279</th>\n",
       "      <td>12157405</td>\n",
       "      <td>191898</td>\n",
       "      <td>349701</td>\n",
       "      <td>349701</td>\n",
       "      <td>6829336</td>\n",
       "      <td>2016-03-20 09:52:35</td>\n",
       "      <td>2015-12-14 16:22:37</td>\n",
       "      <td>Phisical book</td>\n",
       "      <td>Anxiety management</td>\n",
       "      <td>0.132</td>\n",
       "      <td>0.000</td>\n",
       "      <td>eReaders</td>\n",
       "      <td>Origin d8b2</td>\n",
       "      <td>0,0</td>\n",
       "      <td>1</td>\n",
       "    </tr>\n",
       "    <tr>\n",
       "      <th>600834</th>\n",
       "      <td>12065078</td>\n",
       "      <td>86109</td>\n",
       "      <td>586839</td>\n",
       "      <td>586839</td>\n",
       "      <td>4983211</td>\n",
       "      <td>2016-03-14 19:10:32</td>\n",
       "      <td>2014-02-18 14:01:16</td>\n",
       "      <td>Phisical book</td>\n",
       "      <td>Personal finance</td>\n",
       "      <td>-0.415</td>\n",
       "      <td>0.000</td>\n",
       "      <td>Desktop</td>\n",
       "      <td>Origin 6d94</td>\n",
       "      <td>0,0</td>\n",
       "      <td>1</td>\n",
       "    </tr>\n",
       "    <tr>\n",
       "      <th>792602</th>\n",
       "      <td>12453847</td>\n",
       "      <td>214912</td>\n",
       "      <td>4734645</td>\n",
       "      <td>4734645</td>\n",
       "      <td>6970078</td>\n",
       "      <td>2016-04-06 18:52:33</td>\n",
       "      <td>2016-03-25 01:18:38</td>\n",
       "      <td>Phisical book</td>\n",
       "      <td>Anxiety management</td>\n",
       "      <td>-0.412</td>\n",
       "      <td>0.000</td>\n",
       "      <td>eReaders</td>\n",
       "      <td>Origin 7f8f</td>\n",
       "      <td>0,0</td>\n",
       "      <td>1</td>\n",
       "    </tr>\n",
       "  </tbody>\n",
       "</table>\n",
       "<p>5 rows × 15 columns</p>\n",
       "</div>"
      ],
      "text/plain": [
       "         purchase_id  product_id  affiliate_id  producer_id  buyer_id   \n",
       "586283      12036841      143399         27147      1471554   5924461  \\\n",
       "1426024     13669209      114914       3364586      3364586   1428164   \n",
       "646279      12157405      191898        349701       349701   6829336   \n",
       "600834      12065078       86109        586839       586839   4983211   \n",
       "792602      12453847      214912       4734645      4734645   6970078   \n",
       "\n",
       "              purchase_date product_creation_date product_category   \n",
       "586283  2016-03-13 15:06:17   2015-03-24 20:05:02    Phisical book  \\\n",
       "1426024 2016-06-12 00:30:47   2014-09-03 13:29:48          Podcast   \n",
       "646279  2016-03-20 09:52:35   2015-12-14 16:22:37    Phisical book   \n",
       "600834  2016-03-14 19:10:32   2014-02-18 14:01:16    Phisical book   \n",
       "792602  2016-04-06 18:52:33   2016-03-25 01:18:38    Phisical book   \n",
       "\n",
       "              product_niche  purchase_value  affiliate_commission_percentual   \n",
       "586283       Media training          -0.415                            0.000  \\\n",
       "1426024         Negotiation          -0.448                            0.000   \n",
       "646279   Anxiety management           0.132                            0.000   \n",
       "600834     Personal finance          -0.415                            0.000   \n",
       "792602   Anxiety management          -0.412                            0.000   \n",
       "\n",
       "        purchase_device purchase_origin is_origin_page_social_network  Venda  \n",
       "586283          Desktop     Origin 32cf                           0,0      1  \n",
       "1426024        eReaders     Origin 4f06                           0,0      1  \n",
       "646279         eReaders     Origin d8b2                           0,0      1  \n",
       "600834          Desktop     Origin 6d94                           0,0      1  \n",
       "792602         eReaders     Origin 7f8f                           0,0      1  \n",
       "\n",
       "[5 rows x 15 columns]"
      ]
     },
     "execution_count": 10,
     "metadata": {},
     "output_type": "execute_result"
    }
   ],
   "source": [
    "# read data from local source\n",
    "df_extraction = pd.read_parquet(\n",
    "    path=os.path.join(PROJECT_ROOT_PATH, \"data\", \"raw_data\", \"customer_data.parquet\")\n",
    ")\n",
    "\n",
    "# inspect results\n",
    "df_extraction.sample(5)"
   ]
  },
  {
   "attachments": {},
   "cell_type": "markdown",
   "id": "fab65071",
   "metadata": {
    "heading_collapsed": true
   },
   "source": [
    "# **2 - DATA DESCRIPTION**"
   ]
  },
  {
   "attachments": {},
   "cell_type": "markdown",
   "id": "4baca2ad",
   "metadata": {
    "ExecuteTime": {
     "end_time": "2021-11-08T11:33:34.436022Z",
     "start_time": "2021-11-08T11:33:34.433283Z"
    },
    "heading_collapsed": true,
    "hidden": true
   },
   "source": [
    "## 2.1 - Restore Point"
   ]
  },
  {
   "attachments": {},
   "cell_type": "markdown",
   "id": "d8fff667",
   "metadata": {},
   "source": [
    "*Create a checkpoint of the last dataframe from previous section*"
   ]
  },
  {
   "cell_type": "code",
   "execution_count": 11,
   "id": "5798a081",
   "metadata": {
    "ExecuteTime": {
     "end_time": "2021-11-22T11:35:09.995864Z",
     "start_time": "2021-11-22T11:35:09.300194Z"
    },
    "hidden": true
   },
   "outputs": [
    {
     "name": "stdout",
     "output_type": "stream",
     "text": [
      "*************************************************\n",
      "Dataframe size in memory: 660.704 MB \n",
      "\n",
      "-----------------------------\n",
      "Dataframe overview:\n"
     ]
    },
    {
     "data": {
      "text/html": [
       "<style type=\"text/css\">\n",
       "#T_f4ae8_row0_col1, #T_f4ae8_row0_col3, #T_f4ae8_row1_col1, #T_f4ae8_row1_col3, #T_f4ae8_row2_col1, #T_f4ae8_row2_col3, #T_f4ae8_row3_col1, #T_f4ae8_row3_col3, #T_f4ae8_row4_col1, #T_f4ae8_row4_col3, #T_f4ae8_row5_col1, #T_f4ae8_row5_col3, #T_f4ae8_row6_col1, #T_f4ae8_row6_col3, #T_f4ae8_row7_col1, #T_f4ae8_row7_col3, #T_f4ae8_row8_col1, #T_f4ae8_row8_col3, #T_f4ae8_row9_col1, #T_f4ae8_row9_col3, #T_f4ae8_row10_col1, #T_f4ae8_row10_col3, #T_f4ae8_row11_col1, #T_f4ae8_row11_col3, #T_f4ae8_row12_col1, #T_f4ae8_row12_col3, #T_f4ae8_row13_col1, #T_f4ae8_row13_col3, #T_f4ae8_row14_col1, #T_f4ae8_row14_col3 {\n",
       "  background-color: Navy;\n",
       "  color: White;\n",
       "}\n",
       "</style>\n",
       "<table id=\"T_f4ae8\">\n",
       "  <thead>\n",
       "    <tr>\n",
       "      <th class=\"blank level0\" >&nbsp;</th>\n",
       "      <th id=\"T_f4ae8_level0_col0\" class=\"col_heading level0 col0\" >Num NAs</th>\n",
       "      <th id=\"T_f4ae8_level0_col1\" class=\"col_heading level0 col1\" >Percent NAs</th>\n",
       "      <th id=\"T_f4ae8_level0_col2\" class=\"col_heading level0 col2\" >Num unique [include NAs]</th>\n",
       "      <th id=\"T_f4ae8_level0_col3\" class=\"col_heading level0 col3\" >Data Type</th>\n",
       "    </tr>\n",
       "  </thead>\n",
       "  <tbody>\n",
       "    <tr>\n",
       "      <th id=\"T_f4ae8_level0_row0\" class=\"row_heading level0 row0\" >purchase_id</th>\n",
       "      <td id=\"T_f4ae8_row0_col0\" class=\"data row0 col0\" >0</td>\n",
       "      <td id=\"T_f4ae8_row0_col1\" class=\"data row0 col1\" >0</td>\n",
       "      <td id=\"T_f4ae8_row0_col2\" class=\"data row0 col2\" >1.599.828</td>\n",
       "      <td id=\"T_f4ae8_row0_col3\" class=\"data row0 col3\" >int64</td>\n",
       "    </tr>\n",
       "    <tr>\n",
       "      <th id=\"T_f4ae8_level0_row1\" class=\"row_heading level0 row1\" >product_id</th>\n",
       "      <td id=\"T_f4ae8_row1_col0\" class=\"data row1 col0\" >0</td>\n",
       "      <td id=\"T_f4ae8_row1_col1\" class=\"data row1 col1\" >0</td>\n",
       "      <td id=\"T_f4ae8_row1_col2\" class=\"data row1 col2\" >17.883</td>\n",
       "      <td id=\"T_f4ae8_row1_col3\" class=\"data row1 col3\" >int64</td>\n",
       "    </tr>\n",
       "    <tr>\n",
       "      <th id=\"T_f4ae8_level0_row2\" class=\"row_heading level0 row2\" >affiliate_id</th>\n",
       "      <td id=\"T_f4ae8_row2_col0\" class=\"data row2 col0\" >0</td>\n",
       "      <td id=\"T_f4ae8_row2_col1\" class=\"data row2 col1\" >0</td>\n",
       "      <td id=\"T_f4ae8_row2_col2\" class=\"data row2 col2\" >22.947</td>\n",
       "      <td id=\"T_f4ae8_row2_col3\" class=\"data row2 col3\" >int64</td>\n",
       "    </tr>\n",
       "    <tr>\n",
       "      <th id=\"T_f4ae8_level0_row3\" class=\"row_heading level0 row3\" >producer_id</th>\n",
       "      <td id=\"T_f4ae8_row3_col0\" class=\"data row3 col0\" >0</td>\n",
       "      <td id=\"T_f4ae8_row3_col1\" class=\"data row3 col1\" >0</td>\n",
       "      <td id=\"T_f4ae8_row3_col2\" class=\"data row3 col2\" >8.020</td>\n",
       "      <td id=\"T_f4ae8_row3_col3\" class=\"data row3 col3\" >int64</td>\n",
       "    </tr>\n",
       "    <tr>\n",
       "      <th id=\"T_f4ae8_level0_row4\" class=\"row_heading level0 row4\" >buyer_id</th>\n",
       "      <td id=\"T_f4ae8_row4_col0\" class=\"data row4 col0\" >0</td>\n",
       "      <td id=\"T_f4ae8_row4_col1\" class=\"data row4 col1\" >0</td>\n",
       "      <td id=\"T_f4ae8_row4_col2\" class=\"data row4 col2\" >1.100.649</td>\n",
       "      <td id=\"T_f4ae8_row4_col3\" class=\"data row4 col3\" >int64</td>\n",
       "    </tr>\n",
       "    <tr>\n",
       "      <th id=\"T_f4ae8_level0_row5\" class=\"row_heading level0 row5\" >purchase_date</th>\n",
       "      <td id=\"T_f4ae8_row5_col0\" class=\"data row5 col0\" >0</td>\n",
       "      <td id=\"T_f4ae8_row5_col1\" class=\"data row5 col1\" >0</td>\n",
       "      <td id=\"T_f4ae8_row5_col2\" class=\"data row5 col2\" >1.488.964</td>\n",
       "      <td id=\"T_f4ae8_row5_col3\" class=\"data row5 col3\" >datetime64[ns]</td>\n",
       "    </tr>\n",
       "    <tr>\n",
       "      <th id=\"T_f4ae8_level0_row6\" class=\"row_heading level0 row6\" >product_creation_date</th>\n",
       "      <td id=\"T_f4ae8_row6_col0\" class=\"data row6 col0\" >0</td>\n",
       "      <td id=\"T_f4ae8_row6_col1\" class=\"data row6 col1\" >0</td>\n",
       "      <td id=\"T_f4ae8_row6_col2\" class=\"data row6 col2\" >17.879</td>\n",
       "      <td id=\"T_f4ae8_row6_col3\" class=\"data row6 col3\" >datetime64[ns]</td>\n",
       "    </tr>\n",
       "    <tr>\n",
       "      <th id=\"T_f4ae8_level0_row7\" class=\"row_heading level0 row7\" >product_category</th>\n",
       "      <td id=\"T_f4ae8_row7_col0\" class=\"data row7 col0\" >0</td>\n",
       "      <td id=\"T_f4ae8_row7_col1\" class=\"data row7 col1\" >0</td>\n",
       "      <td id=\"T_f4ae8_row7_col2\" class=\"data row7 col2\" >10</td>\n",
       "      <td id=\"T_f4ae8_row7_col3\" class=\"data row7 col3\" >object</td>\n",
       "    </tr>\n",
       "    <tr>\n",
       "      <th id=\"T_f4ae8_level0_row8\" class=\"row_heading level0 row8\" >product_niche</th>\n",
       "      <td id=\"T_f4ae8_row8_col0\" class=\"data row8 col0\" >0</td>\n",
       "      <td id=\"T_f4ae8_row8_col1\" class=\"data row8 col1\" >0</td>\n",
       "      <td id=\"T_f4ae8_row8_col2\" class=\"data row8 col2\" >25</td>\n",
       "      <td id=\"T_f4ae8_row8_col3\" class=\"data row8 col3\" >object</td>\n",
       "    </tr>\n",
       "    <tr>\n",
       "      <th id=\"T_f4ae8_level0_row9\" class=\"row_heading level0 row9\" >purchase_value</th>\n",
       "      <td id=\"T_f4ae8_row9_col0\" class=\"data row9 col0\" >0</td>\n",
       "      <td id=\"T_f4ae8_row9_col1\" class=\"data row9 col1\" >0</td>\n",
       "      <td id=\"T_f4ae8_row9_col2\" class=\"data row9 col2\" >32.617</td>\n",
       "      <td id=\"T_f4ae8_row9_col3\" class=\"data row9 col3\" >float64</td>\n",
       "    </tr>\n",
       "    <tr>\n",
       "      <th id=\"T_f4ae8_level0_row10\" class=\"row_heading level0 row10\" >affiliate_commission_percentual</th>\n",
       "      <td id=\"T_f4ae8_row10_col0\" class=\"data row10 col0\" >199</td>\n",
       "      <td id=\"T_f4ae8_row10_col1\" class=\"data row10 col1\" >1</td>\n",
       "      <td id=\"T_f4ae8_row10_col2\" class=\"data row10 col2\" >280</td>\n",
       "      <td id=\"T_f4ae8_row10_col3\" class=\"data row10 col3\" >float64</td>\n",
       "    </tr>\n",
       "    <tr>\n",
       "      <th id=\"T_f4ae8_level0_row11\" class=\"row_heading level0 row11\" >purchase_device</th>\n",
       "      <td id=\"T_f4ae8_row11_col0\" class=\"data row11 col0\" >0</td>\n",
       "      <td id=\"T_f4ae8_row11_col1\" class=\"data row11 col1\" >0</td>\n",
       "      <td id=\"T_f4ae8_row11_col2\" class=\"data row11 col2\" >5</td>\n",
       "      <td id=\"T_f4ae8_row11_col3\" class=\"data row11 col3\" >object</td>\n",
       "    </tr>\n",
       "    <tr>\n",
       "      <th id=\"T_f4ae8_level0_row12\" class=\"row_heading level0 row12\" >purchase_origin</th>\n",
       "      <td id=\"T_f4ae8_row12_col0\" class=\"data row12 col0\" >0</td>\n",
       "      <td id=\"T_f4ae8_row12_col1\" class=\"data row12 col1\" >0</td>\n",
       "      <td id=\"T_f4ae8_row12_col2\" class=\"data row12 col2\" >9.603</td>\n",
       "      <td id=\"T_f4ae8_row12_col3\" class=\"data row12 col3\" >object</td>\n",
       "    </tr>\n",
       "    <tr>\n",
       "      <th id=\"T_f4ae8_level0_row13\" class=\"row_heading level0 row13\" >is_origin_page_social_network</th>\n",
       "      <td id=\"T_f4ae8_row13_col0\" class=\"data row13 col0\" >0</td>\n",
       "      <td id=\"T_f4ae8_row13_col1\" class=\"data row13 col1\" >0</td>\n",
       "      <td id=\"T_f4ae8_row13_col2\" class=\"data row13 col2\" >2</td>\n",
       "      <td id=\"T_f4ae8_row13_col3\" class=\"data row13 col3\" >object</td>\n",
       "    </tr>\n",
       "    <tr>\n",
       "      <th id=\"T_f4ae8_level0_row14\" class=\"row_heading level0 row14\" >Venda</th>\n",
       "      <td id=\"T_f4ae8_row14_col0\" class=\"data row14 col0\" >0</td>\n",
       "      <td id=\"T_f4ae8_row14_col1\" class=\"data row14 col1\" >0</td>\n",
       "      <td id=\"T_f4ae8_row14_col2\" class=\"data row14 col2\" >1</td>\n",
       "      <td id=\"T_f4ae8_row14_col3\" class=\"data row14 col3\" >int64</td>\n",
       "    </tr>\n",
       "  </tbody>\n",
       "</table>\n"
      ],
      "text/plain": [
       "<pandas.io.formats.style.Styler at 0x7f41dd458940>"
      ]
     },
     "metadata": {},
     "output_type": "display_data"
    },
    {
     "name": "stdout",
     "output_type": "stream",
     "text": [
      "-----------------------------\n",
      "\n",
      " Dataframe shape is (1599828, 15) \n",
      "\n",
      "-----------------------------\n",
      "\n",
      "\n",
      "Statistics for Numerical Variables [NaNs are ignored]:\n"
     ]
    },
    {
     "data": {
      "text/html": [
       "<style type=\"text/css\">\n",
       "#T_369c5_row0_col5, #T_369c5_row0_col6, #T_369c5_row1_col5, #T_369c5_row1_col6, #T_369c5_row2_col5, #T_369c5_row2_col6, #T_369c5_row3_col5, #T_369c5_row3_col6, #T_369c5_row4_col5, #T_369c5_row4_col6, #T_369c5_row5_col5, #T_369c5_row5_col6, #T_369c5_row6_col5, #T_369c5_row6_col6, #T_369c5_row7_col5, #T_369c5_row7_col6 {\n",
       "  background-color: Navy;\n",
       "  color: White;\n",
       "}\n",
       "</style>\n",
       "<table id=\"T_369c5\">\n",
       "  <thead>\n",
       "    <tr>\n",
       "      <th class=\"blank level0\" >&nbsp;</th>\n",
       "      <th id=\"T_369c5_level0_col0\" class=\"col_heading level0 col0\" >attribute</th>\n",
       "      <th id=\"T_369c5_level0_col1\" class=\"col_heading level0 col1\" >mean</th>\n",
       "      <th id=\"T_369c5_level0_col2\" class=\"col_heading level0 col2\" >median</th>\n",
       "      <th id=\"T_369c5_level0_col3\" class=\"col_heading level0 col3\" >std</th>\n",
       "      <th id=\"T_369c5_level0_col4\" class=\"col_heading level0 col4\" >iqr</th>\n",
       "      <th id=\"T_369c5_level0_col5\" class=\"col_heading level0 col5\" >min</th>\n",
       "      <th id=\"T_369c5_level0_col6\" class=\"col_heading level0 col6\" >max</th>\n",
       "      <th id=\"T_369c5_level0_col7\" class=\"col_heading level0 col7\" >range</th>\n",
       "      <th id=\"T_369c5_level0_col8\" class=\"col_heading level0 col8\" >skew</th>\n",
       "      <th id=\"T_369c5_level0_col9\" class=\"col_heading level0 col9\" >kurtosis</th>\n",
       "    </tr>\n",
       "  </thead>\n",
       "  <tbody>\n",
       "    <tr>\n",
       "      <th id=\"T_369c5_level0_row0\" class=\"row_heading level0 row0\" >0</th>\n",
       "      <td id=\"T_369c5_row0_col0\" class=\"data row0 col0\" >purchase_id</td>\n",
       "      <td id=\"T_369c5_row0_col1\" class=\"data row0 col1\" >12.445.456,601</td>\n",
       "      <td id=\"T_369c5_row0_col2\" class=\"data row0 col2\" >12.468.487,500</td>\n",
       "      <td id=\"T_369c5_row0_col3\" class=\"data row0 col3\" >917.581,737</td>\n",
       "      <td id=\"T_369c5_row0_col4\" class=\"data row0 col4\" >1.579.356,500</td>\n",
       "      <td id=\"T_369c5_row0_col5\" class=\"data row0 col5\" >1.663.958,000</td>\n",
       "      <td id=\"T_369c5_row0_col6\" class=\"data row0 col6\" >14.357.203,000</td>\n",
       "      <td id=\"T_369c5_row0_col7\" class=\"data row0 col7\" >12.693.245,000</td>\n",
       "      <td id=\"T_369c5_row0_col8\" class=\"data row0 col8\" >-0,090</td>\n",
       "      <td id=\"T_369c5_row0_col9\" class=\"data row0 col9\" >-0,756</td>\n",
       "    </tr>\n",
       "    <tr>\n",
       "      <th id=\"T_369c5_level0_row1\" class=\"row_heading level0 row1\" >1</th>\n",
       "      <td id=\"T_369c5_row1_col0\" class=\"data row1 col0\" >product_id</td>\n",
       "      <td id=\"T_369c5_row1_col1\" class=\"data row1 col1\" >148.595,814</td>\n",
       "      <td id=\"T_369c5_row1_col2\" class=\"data row1 col2\" >154.310,000</td>\n",
       "      <td id=\"T_369c5_row1_col3\" class=\"data row1 col3\" >55.543,152</td>\n",
       "      <td id=\"T_369c5_row1_col4\" class=\"data row1 col4\" >81.796,000</td>\n",
       "      <td id=\"T_369c5_row1_col5\" class=\"data row1 col5\" >4,000</td>\n",
       "      <td id=\"T_369c5_row1_col6\" class=\"data row1 col6\" >319.129,000</td>\n",
       "      <td id=\"T_369c5_row1_col7\" class=\"data row1 col7\" >319.125,000</td>\n",
       "      <td id=\"T_369c5_row1_col8\" class=\"data row1 col8\" >-0,482</td>\n",
       "      <td id=\"T_369c5_row1_col9\" class=\"data row1 col9\" >-0,702</td>\n",
       "    </tr>\n",
       "    <tr>\n",
       "      <th id=\"T_369c5_level0_row2\" class=\"row_heading level0 row2\" >2</th>\n",
       "      <td id=\"T_369c5_row2_col0\" class=\"data row2 col0\" >affiliate_id</td>\n",
       "      <td id=\"T_369c5_row2_col1\" class=\"data row2 col1\" >2.297.500,688</td>\n",
       "      <td id=\"T_369c5_row2_col2\" class=\"data row2 col2\" >1.690.428,000</td>\n",
       "      <td id=\"T_369c5_row2_col3\" class=\"data row2 col3\" >2.092.655,502</td>\n",
       "      <td id=\"T_369c5_row2_col4\" class=\"data row2 col4\" >3.549.994,000</td>\n",
       "      <td id=\"T_369c5_row2_col5\" class=\"data row2 col5\" >3,000</td>\n",
       "      <td id=\"T_369c5_row2_col6\" class=\"data row2 col6\" >7.700.836,000</td>\n",
       "      <td id=\"T_369c5_row2_col7\" class=\"data row2 col7\" >7.700.833,000</td>\n",
       "      <td id=\"T_369c5_row2_col8\" class=\"data row2 col8\" >0,651</td>\n",
       "      <td id=\"T_369c5_row2_col9\" class=\"data row2 col9\" >-0,823</td>\n",
       "    </tr>\n",
       "    <tr>\n",
       "      <th id=\"T_369c5_level0_row3\" class=\"row_heading level0 row3\" >3</th>\n",
       "      <td id=\"T_369c5_row3_col0\" class=\"data row3 col0\" >producer_id</td>\n",
       "      <td id=\"T_369c5_row3_col1\" class=\"data row3 col1\" >2.164.479,522</td>\n",
       "      <td id=\"T_369c5_row3_col2\" class=\"data row3 col2\" >1.377.289,000</td>\n",
       "      <td id=\"T_369c5_row3_col3\" class=\"data row3 col3\" >2.038.959,782</td>\n",
       "      <td id=\"T_369c5_row3_col4\" class=\"data row3 col4\" >3.366.648,000</td>\n",
       "      <td id=\"T_369c5_row3_col5\" class=\"data row3 col5\" >3,000</td>\n",
       "      <td id=\"T_369c5_row3_col6\" class=\"data row3 col6\" >9.868.481,000</td>\n",
       "      <td id=\"T_369c5_row3_col7\" class=\"data row3 col7\" >9.868.478,000</td>\n",
       "      <td id=\"T_369c5_row3_col8\" class=\"data row3 col8\" >0,724</td>\n",
       "      <td id=\"T_369c5_row3_col9\" class=\"data row3 col9\" >-0,699</td>\n",
       "    </tr>\n",
       "    <tr>\n",
       "      <th id=\"T_369c5_level0_row4\" class=\"row_heading level0 row4\" >4</th>\n",
       "      <td id=\"T_369c5_row4_col0\" class=\"data row4 col0\" >buyer_id</td>\n",
       "      <td id=\"T_369c5_row4_col1\" class=\"data row4 col1\" >5.187.551,341</td>\n",
       "      <td id=\"T_369c5_row4_col2\" class=\"data row4 col2\" >5.999.153,500</td>\n",
       "      <td id=\"T_369c5_row4_col3\" class=\"data row4 col3\" >2.199.255,869</td>\n",
       "      <td id=\"T_369c5_row4_col4\" class=\"data row4 col4\" >3.216.124,250</td>\n",
       "      <td id=\"T_369c5_row4_col5\" class=\"data row4 col5\" >60,000</td>\n",
       "      <td id=\"T_369c5_row4_col6\" class=\"data row4 col6\" >12.014.792,000</td>\n",
       "      <td id=\"T_369c5_row4_col7\" class=\"data row4 col7\" >12.014.732,000</td>\n",
       "      <td id=\"T_369c5_row4_col8\" class=\"data row4 col8\" >-0,878</td>\n",
       "      <td id=\"T_369c5_row4_col9\" class=\"data row4 col9\" >-0,492</td>\n",
       "    </tr>\n",
       "    <tr>\n",
       "      <th id=\"T_369c5_level0_row5\" class=\"row_heading level0 row5\" >5</th>\n",
       "      <td id=\"T_369c5_row5_col0\" class=\"data row5 col0\" >purchase_value</td>\n",
       "      <td id=\"T_369c5_row5_col1\" class=\"data row5 col1\" >0,000</td>\n",
       "      <td id=\"T_369c5_row5_col2\" class=\"data row5 col2\" >-0,350</td>\n",
       "      <td id=\"T_369c5_row5_col3\" class=\"data row5 col3\" >1,000</td>\n",
       "      <td id=\"T_369c5_row5_col4\" class=\"data row5 col4\" >0,518</td>\n",
       "      <td id=\"T_369c5_row5_col5\" class=\"data row5 col5\" >-0,541</td>\n",
       "      <td id=\"T_369c5_row5_col6\" class=\"data row5 col6\" >124,561</td>\n",
       "      <td id=\"T_369c5_row5_col7\" class=\"data row5 col7\" >125,102</td>\n",
       "      <td id=\"T_369c5_row5_col8\" class=\"data row5 col8\" >10,817</td>\n",
       "      <td id=\"T_369c5_row5_col9\" class=\"data row5 col9\" >629,206</td>\n",
       "    </tr>\n",
       "    <tr>\n",
       "      <th id=\"T_369c5_level0_row6\" class=\"row_heading level0 row6\" >6</th>\n",
       "      <td id=\"T_369c5_row6_col0\" class=\"data row6 col0\" >affiliate_commission_percentual</td>\n",
       "      <td id=\"T_369c5_row6_col1\" class=\"data row6 col1\" >7,596</td>\n",
       "      <td id=\"T_369c5_row6_col2\" class=\"data row6 col2\" >0,000</td>\n",
       "      <td id=\"T_369c5_row6_col3\" class=\"data row6 col3\" >18,477</td>\n",
       "      <td id=\"T_369c5_row6_col4\" class=\"data row6 col4\" >0,000</td>\n",
       "      <td id=\"T_369c5_row6_col5\" class=\"data row6 col5\" >0,000</td>\n",
       "      <td id=\"T_369c5_row6_col6\" class=\"data row6 col6\" >100,000</td>\n",
       "      <td id=\"T_369c5_row6_col7\" class=\"data row6 col7\" >100,000</td>\n",
       "      <td id=\"T_369c5_row6_col8\" class=\"data row6 col8\" >2,259</td>\n",
       "      <td id=\"T_369c5_row6_col9\" class=\"data row6 col9\" >3,753</td>\n",
       "    </tr>\n",
       "    <tr>\n",
       "      <th id=\"T_369c5_level0_row7\" class=\"row_heading level0 row7\" >7</th>\n",
       "      <td id=\"T_369c5_row7_col0\" class=\"data row7 col0\" >Venda</td>\n",
       "      <td id=\"T_369c5_row7_col1\" class=\"data row7 col1\" >1,000</td>\n",
       "      <td id=\"T_369c5_row7_col2\" class=\"data row7 col2\" >1,000</td>\n",
       "      <td id=\"T_369c5_row7_col3\" class=\"data row7 col3\" >0,000</td>\n",
       "      <td id=\"T_369c5_row7_col4\" class=\"data row7 col4\" >0,000</td>\n",
       "      <td id=\"T_369c5_row7_col5\" class=\"data row7 col5\" >1,000</td>\n",
       "      <td id=\"T_369c5_row7_col6\" class=\"data row7 col6\" >1,000</td>\n",
       "      <td id=\"T_369c5_row7_col7\" class=\"data row7 col7\" >0,000</td>\n",
       "      <td id=\"T_369c5_row7_col8\" class=\"data row7 col8\" >0,000</td>\n",
       "      <td id=\"T_369c5_row7_col9\" class=\"data row7 col9\" >0,000</td>\n",
       "    </tr>\n",
       "  </tbody>\n",
       "</table>\n"
      ],
      "text/plain": [
       "<pandas.io.formats.style.Styler at 0x7f4228ab2e60>"
      ]
     },
     "metadata": {},
     "output_type": "display_data"
    },
    {
     "name": "stdout",
     "output_type": "stream",
     "text": [
      "-----------------------------\n",
      "\n",
      "\n",
      "dataframe.head(5)\n"
     ]
    },
    {
     "data": {
      "text/html": [
       "<div>\n",
       "<style scoped>\n",
       "    .dataframe tbody tr th:only-of-type {\n",
       "        vertical-align: middle;\n",
       "    }\n",
       "\n",
       "    .dataframe tbody tr th {\n",
       "        vertical-align: top;\n",
       "    }\n",
       "\n",
       "    .dataframe thead th {\n",
       "        text-align: right;\n",
       "    }\n",
       "</style>\n",
       "<table border=\"1\" class=\"dataframe\">\n",
       "  <thead>\n",
       "    <tr style=\"text-align: right;\">\n",
       "      <th></th>\n",
       "      <th>purchase_id</th>\n",
       "      <th>product_id</th>\n",
       "      <th>affiliate_id</th>\n",
       "      <th>producer_id</th>\n",
       "      <th>buyer_id</th>\n",
       "      <th>purchase_date</th>\n",
       "      <th>product_creation_date</th>\n",
       "      <th>product_category</th>\n",
       "      <th>product_niche</th>\n",
       "      <th>purchase_value</th>\n",
       "      <th>affiliate_commission_percentual</th>\n",
       "      <th>purchase_device</th>\n",
       "      <th>purchase_origin</th>\n",
       "      <th>is_origin_page_social_network</th>\n",
       "      <th>Venda</th>\n",
       "    </tr>\n",
       "  </thead>\n",
       "  <tbody>\n",
       "    <tr>\n",
       "      <th>0</th>\n",
       "      <td>1663958</td>\n",
       "      <td>6640</td>\n",
       "      <td>209372</td>\n",
       "      <td>116238</td>\n",
       "      <td>1200397</td>\n",
       "      <td>2016-06-26 12:00:00</td>\n",
       "      <td>2011-03-19 15:47:36</td>\n",
       "      <td>Video</td>\n",
       "      <td>Presentation skills</td>\n",
       "      <td>-0.3</td>\n",
       "      <td>NaN</td>\n",
       "      <td>Smart TV</td>\n",
       "      <td>Origin ef2b</td>\n",
       "      <td>0,0</td>\n",
       "      <td>1</td>\n",
       "    </tr>\n",
       "    <tr>\n",
       "      <th>1</th>\n",
       "      <td>1677087</td>\n",
       "      <td>2350</td>\n",
       "      <td>141418</td>\n",
       "      <td>2821</td>\n",
       "      <td>1083764</td>\n",
       "      <td>2016-06-26 12:00:00</td>\n",
       "      <td>2010-07-05 01:50:15</td>\n",
       "      <td>Podcast</td>\n",
       "      <td>Child psychology</td>\n",
       "      <td>-0.2</td>\n",
       "      <td>NaN</td>\n",
       "      <td>Smart TV</td>\n",
       "      <td>Origin ef2b</td>\n",
       "      <td>0,0</td>\n",
       "      <td>1</td>\n",
       "    </tr>\n",
       "    <tr>\n",
       "      <th>2</th>\n",
       "      <td>2017360</td>\n",
       "      <td>35669</td>\n",
       "      <td>618642</td>\n",
       "      <td>618642</td>\n",
       "      <td>1436106</td>\n",
       "      <td>2016-06-26 12:00:00</td>\n",
       "      <td>2012-06-13 02:59:37</td>\n",
       "      <td>Podcast</td>\n",
       "      <td>Presentation skills</td>\n",
       "      <td>-0.5</td>\n",
       "      <td>NaN</td>\n",
       "      <td>Smart TV</td>\n",
       "      <td>Origin ef2b</td>\n",
       "      <td>0,0</td>\n",
       "      <td>1</td>\n",
       "    </tr>\n",
       "    <tr>\n",
       "      <th>3</th>\n",
       "      <td>2017379</td>\n",
       "      <td>57998</td>\n",
       "      <td>1164511</td>\n",
       "      <td>70388</td>\n",
       "      <td>1436118</td>\n",
       "      <td>2016-06-26 12:00:00</td>\n",
       "      <td>2013-05-07 08:51:31</td>\n",
       "      <td>Podcast</td>\n",
       "      <td>Anxiety management</td>\n",
       "      <td>-0.4</td>\n",
       "      <td>NaN</td>\n",
       "      <td>Smart TV</td>\n",
       "      <td>Origin ef2b</td>\n",
       "      <td>0,0</td>\n",
       "      <td>1</td>\n",
       "    </tr>\n",
       "    <tr>\n",
       "      <th>4</th>\n",
       "      <td>2017382</td>\n",
       "      <td>58329</td>\n",
       "      <td>1261488</td>\n",
       "      <td>221253</td>\n",
       "      <td>1386357</td>\n",
       "      <td>2016-06-26 12:00:00</td>\n",
       "      <td>2013-05-12 08:12:06</td>\n",
       "      <td>Podcast</td>\n",
       "      <td>Teaching English</td>\n",
       "      <td>-0.5</td>\n",
       "      <td>NaN</td>\n",
       "      <td>Smart TV</td>\n",
       "      <td>Origin ef2b</td>\n",
       "      <td>0,0</td>\n",
       "      <td>1</td>\n",
       "    </tr>\n",
       "  </tbody>\n",
       "</table>\n",
       "<p>5 rows × 15 columns</p>\n",
       "</div>"
      ],
      "text/plain": [
       "   purchase_id  product_id  affiliate_id  producer_id  buyer_id   \n",
       "0      1663958        6640        209372       116238   1200397  \\\n",
       "1      1677087        2350        141418         2821   1083764   \n",
       "2      2017360       35669        618642       618642   1436106   \n",
       "3      2017379       57998       1164511        70388   1436118   \n",
       "4      2017382       58329       1261488       221253   1386357   \n",
       "\n",
       "        purchase_date product_creation_date product_category   \n",
       "0 2016-06-26 12:00:00   2011-03-19 15:47:36            Video  \\\n",
       "1 2016-06-26 12:00:00   2010-07-05 01:50:15          Podcast   \n",
       "2 2016-06-26 12:00:00   2012-06-13 02:59:37          Podcast   \n",
       "3 2016-06-26 12:00:00   2013-05-07 08:51:31          Podcast   \n",
       "4 2016-06-26 12:00:00   2013-05-12 08:12:06          Podcast   \n",
       "\n",
       "         product_niche  purchase_value  affiliate_commission_percentual   \n",
       "0  Presentation skills            -0.3                              NaN  \\\n",
       "1     Child psychology            -0.2                              NaN   \n",
       "2  Presentation skills            -0.5                              NaN   \n",
       "3   Anxiety management            -0.4                              NaN   \n",
       "4     Teaching English            -0.5                              NaN   \n",
       "\n",
       "  purchase_device purchase_origin is_origin_page_social_network  Venda  \n",
       "0        Smart TV     Origin ef2b                           0,0      1  \n",
       "1        Smart TV     Origin ef2b                           0,0      1  \n",
       "2        Smart TV     Origin ef2b                           0,0      1  \n",
       "3        Smart TV     Origin ef2b                           0,0      1  \n",
       "4        Smart TV     Origin ef2b                           0,0      1  \n",
       "\n",
       "[5 rows x 15 columns]"
      ]
     },
     "metadata": {},
     "output_type": "display_data"
    },
    {
     "name": "stdout",
     "output_type": "stream",
     "text": [
      "*************************************************\n"
     ]
    }
   ],
   "source": [
    "# create a restore point of the previous section\n",
    "df_description = df_extraction.copy()\n",
    "\n",
    "# check dataframe for this new section\n",
    "check_dataframe( dataframe=df_description, summary_stats=True, head=True )"
   ]
  },
  {
   "attachments": {},
   "cell_type": "markdown",
   "id": "3f1557c5",
   "metadata": {
    "ExecuteTime": {
     "end_time": "2021-11-08T11:35:57.560444Z",
     "start_time": "2021-11-08T11:35:57.552443Z"
    },
    "heading_collapsed": true,
    "hidden": true
   },
   "source": [
    "## 2.2 - Rename Columns"
   ]
  },
  {
   "attachments": {},
   "cell_type": "markdown",
   "id": "300574e9",
   "metadata": {},
   "source": [
    "*Search for misleading or error-prone column names*"
   ]
  },
  {
   "cell_type": "code",
   "execution_count": 12,
   "id": "84b35f8a",
   "metadata": {
    "ExecuteTime": {
     "end_time": "2021-11-22T11:35:10.018834Z",
     "start_time": "2021-11-22T11:35:10.014437Z"
    },
    "hidden": true,
    "scrolled": true
   },
   "outputs": [
    {
     "data": {
      "text/plain": [
       "Index(['purchase_id', 'product_id', 'affiliate_id', 'producer_id', 'buyer_id',\n",
       "       'purchase_date', 'product_creation_date', 'product_category',\n",
       "       'product_niche', 'purchase_value', 'affiliate_commission_percentual',\n",
       "       'purchase_device', 'purchase_origin', 'is_origin_page_social_network',\n",
       "       'Venda'],\n",
       "      dtype='object')"
      ]
     },
     "execution_count": 12,
     "metadata": {},
     "output_type": "execute_result"
    }
   ],
   "source": [
    "# inspect column names\n",
    "df_description.columns"
   ]
  },
  {
   "cell_type": "code",
   "execution_count": 13,
   "id": "79529779",
   "metadata": {},
   "outputs": [
    {
     "data": {
      "text/plain": [
       "Index(['purchase_id', 'product_id', 'affiliate_id', 'producer_id', 'buyer_id',\n",
       "       'purchase_date', 'product_creation_date', 'product_category',\n",
       "       'product_niche', 'purchase_value', 'affiliate_commission_percentual',\n",
       "       'purchase_device', 'purchase_origin', 'is_origin_page_social_network',\n",
       "       'sell'],\n",
       "      dtype='object')"
      ]
     },
     "execution_count": 13,
     "metadata": {},
     "output_type": "execute_result"
    }
   ],
   "source": [
    "# lower the case of venda column\n",
    "df_description = df_description.rename(columns={\"Venda\": \"sell\"})\n",
    "\n",
    "# inspect results\n",
    "df_description.columns"
   ]
  },
  {
   "attachments": {},
   "cell_type": "markdown",
   "id": "2cbdc1b6",
   "metadata": {
    "heading_collapsed": true,
    "hidden": true
   },
   "source": [
    "## 2.3 - Check Data Dimensions"
   ]
  },
  {
   "attachments": {},
   "cell_type": "markdown",
   "id": "ee1a1d9f",
   "metadata": {},
   "source": [
    "*Check dataframe dimensions to know if pandas will be enough to handle such data size or we will need Big Data tools like Spark*"
   ]
  },
  {
   "cell_type": "code",
   "execution_count": 14,
   "id": "f88b4e12",
   "metadata": {
    "ExecuteTime": {
     "end_time": "2021-11-22T11:35:10.025219Z",
     "start_time": "2021-11-22T11:35:10.020770Z"
    },
    "hidden": true
   },
   "outputs": [
    {
     "name": "stdout",
     "output_type": "stream",
     "text": [
      "Dataframe has 1,599,828 rows and 15 columns\n"
     ]
    }
   ],
   "source": [
    "# check number of rows and columns\n",
    "print( f'\\\n",
    "Dataframe has {df_description.shape[0]:,} \\\n",
    "rows and {df_description.shape[1]} columns' )"
   ]
  },
  {
   "attachments": {},
   "cell_type": "markdown",
   "id": "5a2f8863",
   "metadata": {},
   "source": [
    "## 2.4 - Data Types"
   ]
  },
  {
   "attachments": {},
   "cell_type": "markdown",
   "id": "2018dc53",
   "metadata": {},
   "source": [
    "*Check if data types on dataframe makes sense according to database information*"
   ]
  },
  {
   "cell_type": "code",
   "execution_count": 15,
   "id": "bf87e28c",
   "metadata": {},
   "outputs": [
    {
     "data": {
      "text/html": [
       "<style type=\"text/css\">\n",
       "#T_537cf_row0_col0, #T_537cf_row1_col0, #T_537cf_row2_col0, #T_537cf_row3_col0, #T_537cf_row4_col0, #T_537cf_row5_col0, #T_537cf_row6_col0, #T_537cf_row7_col0, #T_537cf_row8_col0, #T_537cf_row9_col0, #T_537cf_row10_col0, #T_537cf_row11_col0, #T_537cf_row12_col0, #T_537cf_row13_col0, #T_537cf_row14_col0 {\n",
       "  background-color: Navy;\n",
       "  color: White;\n",
       "}\n",
       "</style>\n",
       "<table id=\"T_537cf\">\n",
       "  <thead>\n",
       "    <tr>\n",
       "      <th class=\"blank level0\" >&nbsp;</th>\n",
       "      <th id=\"T_537cf_level0_col0\" class=\"col_heading level0 col0\" >types</th>\n",
       "      <th id=\"T_537cf_level0_col1\" class=\"col_heading level0 col1\" >random row: 1</th>\n",
       "      <th id=\"T_537cf_level0_col2\" class=\"col_heading level0 col2\" >random row: 2</th>\n",
       "      <th id=\"T_537cf_level0_col3\" class=\"col_heading level0 col3\" >random row: 3</th>\n",
       "      <th id=\"T_537cf_level0_col4\" class=\"col_heading level0 col4\" >random row: 4</th>\n",
       "      <th id=\"T_537cf_level0_col5\" class=\"col_heading level0 col5\" >random row: 5</th>\n",
       "      <th id=\"T_537cf_level0_col6\" class=\"col_heading level0 col6\" >random row: 6</th>\n",
       "      <th id=\"T_537cf_level0_col7\" class=\"col_heading level0 col7\" >random row: 7</th>\n",
       "      <th id=\"T_537cf_level0_col8\" class=\"col_heading level0 col8\" >random row: 8</th>\n",
       "      <th id=\"T_537cf_level0_col9\" class=\"col_heading level0 col9\" >random row: 9</th>\n",
       "      <th id=\"T_537cf_level0_col10\" class=\"col_heading level0 col10\" >random row: 10</th>\n",
       "      <th id=\"T_537cf_level0_col11\" class=\"col_heading level0 col11\" >random row: 11</th>\n",
       "      <th id=\"T_537cf_level0_col12\" class=\"col_heading level0 col12\" >random row: 12</th>\n",
       "      <th id=\"T_537cf_level0_col13\" class=\"col_heading level0 col13\" >random row: 13</th>\n",
       "      <th id=\"T_537cf_level0_col14\" class=\"col_heading level0 col14\" >random row: 14</th>\n",
       "      <th id=\"T_537cf_level0_col15\" class=\"col_heading level0 col15\" >random row: 15</th>\n",
       "    </tr>\n",
       "  </thead>\n",
       "  <tbody>\n",
       "    <tr>\n",
       "      <th id=\"T_537cf_level0_row0\" class=\"row_heading level0 row0\" >purchase_id</th>\n",
       "      <td id=\"T_537cf_row0_col0\" class=\"data row0 col0\" >int64</td>\n",
       "      <td id=\"T_537cf_row0_col1\" class=\"data row0 col1\" >11.289.863</td>\n",
       "      <td id=\"T_537cf_row0_col2\" class=\"data row0 col2\" >13.891.778</td>\n",
       "      <td id=\"T_537cf_row0_col3\" class=\"data row0 col3\" >12.345.685</td>\n",
       "      <td id=\"T_537cf_row0_col4\" class=\"data row0 col4\" >11.543.137</td>\n",
       "      <td id=\"T_537cf_row0_col5\" class=\"data row0 col5\" >13.447.274</td>\n",
       "      <td id=\"T_537cf_row0_col6\" class=\"data row0 col6\" >12.162.329</td>\n",
       "      <td id=\"T_537cf_row0_col7\" class=\"data row0 col7\" >12.308.734</td>\n",
       "      <td id=\"T_537cf_row0_col8\" class=\"data row0 col8\" >12.485.889</td>\n",
       "      <td id=\"T_537cf_row0_col9\" class=\"data row0 col9\" >13.883.857</td>\n",
       "      <td id=\"T_537cf_row0_col10\" class=\"data row0 col10\" >11.718.361</td>\n",
       "      <td id=\"T_537cf_row0_col11\" class=\"data row0 col11\" >13.707.037</td>\n",
       "      <td id=\"T_537cf_row0_col12\" class=\"data row0 col12\" >13.417.248</td>\n",
       "      <td id=\"T_537cf_row0_col13\" class=\"data row0 col13\" >11.372.825</td>\n",
       "      <td id=\"T_537cf_row0_col14\" class=\"data row0 col14\" >11.469.690</td>\n",
       "      <td id=\"T_537cf_row0_col15\" class=\"data row0 col15\" >12.459.424</td>\n",
       "    </tr>\n",
       "    <tr>\n",
       "      <th id=\"T_537cf_level0_row1\" class=\"row_heading level0 row1\" >product_id</th>\n",
       "      <td id=\"T_537cf_row1_col0\" class=\"data row1 col0\" >int64</td>\n",
       "      <td id=\"T_537cf_row1_col1\" class=\"data row1 col1\" >111.830</td>\n",
       "      <td id=\"T_537cf_row1_col2\" class=\"data row1 col2\" >239.217</td>\n",
       "      <td id=\"T_537cf_row1_col3\" class=\"data row1 col3\" >209.381</td>\n",
       "      <td id=\"T_537cf_row1_col4\" class=\"data row1 col4\" >131.756</td>\n",
       "      <td id=\"T_537cf_row1_col5\" class=\"data row1 col5\" >132.273</td>\n",
       "      <td id=\"T_537cf_row1_col6\" class=\"data row1 col6\" >83.916</td>\n",
       "      <td id=\"T_537cf_row1_col7\" class=\"data row1 col7\" >207.407</td>\n",
       "      <td id=\"T_537cf_row1_col8\" class=\"data row1 col8\" >199.922</td>\n",
       "      <td id=\"T_537cf_row1_col9\" class=\"data row1 col9\" >121.779</td>\n",
       "      <td id=\"T_537cf_row1_col10\" class=\"data row1 col10\" >124.027</td>\n",
       "      <td id=\"T_537cf_row1_col11\" class=\"data row1 col11\" >207.374</td>\n",
       "      <td id=\"T_537cf_row1_col12\" class=\"data row1 col12\" >135.461</td>\n",
       "      <td id=\"T_537cf_row1_col13\" class=\"data row1 col13\" >42.903</td>\n",
       "      <td id=\"T_537cf_row1_col14\" class=\"data row1 col14\" >197.068</td>\n",
       "      <td id=\"T_537cf_row1_col15\" class=\"data row1 col15\" >218.030</td>\n",
       "    </tr>\n",
       "    <tr>\n",
       "      <th id=\"T_537cf_level0_row2\" class=\"row_heading level0 row2\" >affiliate_id</th>\n",
       "      <td id=\"T_537cf_row2_col0\" class=\"data row2 col0\" >int64</td>\n",
       "      <td id=\"T_537cf_row2_col1\" class=\"data row2 col1\" >3.258.278</td>\n",
       "      <td id=\"T_537cf_row2_col2\" class=\"data row2 col2\" >1.111.682</td>\n",
       "      <td id=\"T_537cf_row2_col3\" class=\"data row2 col3\" >236.083</td>\n",
       "      <td id=\"T_537cf_row2_col4\" class=\"data row2 col4\" >811.062</td>\n",
       "      <td id=\"T_537cf_row2_col5\" class=\"data row2 col5\" >4.057.408</td>\n",
       "      <td id=\"T_537cf_row2_col6\" class=\"data row2 col6\" >348.488</td>\n",
       "      <td id=\"T_537cf_row2_col7\" class=\"data row2 col7\" >4.372.178</td>\n",
       "      <td id=\"T_537cf_row2_col8\" class=\"data row2 col8\" >6.728.566</td>\n",
       "      <td id=\"T_537cf_row2_col9\" class=\"data row2 col9\" >1.845.090</td>\n",
       "      <td id=\"T_537cf_row2_col10\" class=\"data row2 col10\" >3.810.829</td>\n",
       "      <td id=\"T_537cf_row2_col11\" class=\"data row2 col11\" >5.441.590</td>\n",
       "      <td id=\"T_537cf_row2_col12\" class=\"data row2 col12\" >96.585</td>\n",
       "      <td id=\"T_537cf_row2_col13\" class=\"data row2 col13\" >3.124.408</td>\n",
       "      <td id=\"T_537cf_row2_col14\" class=\"data row2 col14\" >1.095.211</td>\n",
       "      <td id=\"T_537cf_row2_col15\" class=\"data row2 col15\" >41.463</td>\n",
       "    </tr>\n",
       "    <tr>\n",
       "      <th id=\"T_537cf_level0_row3\" class=\"row_heading level0 row3\" >producer_id</th>\n",
       "      <td id=\"T_537cf_row3_col0\" class=\"data row3 col0\" >int64</td>\n",
       "      <td id=\"T_537cf_row3_col1\" class=\"data row3 col1\" >3.258.278</td>\n",
       "      <td id=\"T_537cf_row3_col2\" class=\"data row3 col2\" >1.111.682</td>\n",
       "      <td id=\"T_537cf_row3_col3\" class=\"data row3 col3\" >236.083</td>\n",
       "      <td id=\"T_537cf_row3_col4\" class=\"data row3 col4\" >811.062</td>\n",
       "      <td id=\"T_537cf_row3_col5\" class=\"data row3 col5\" >4.057.408</td>\n",
       "      <td id=\"T_537cf_row3_col6\" class=\"data row3 col6\" >348.488</td>\n",
       "      <td id=\"T_537cf_row3_col7\" class=\"data row3 col7\" >4.372.178</td>\n",
       "      <td id=\"T_537cf_row3_col8\" class=\"data row3 col8\" >6.090.854</td>\n",
       "      <td id=\"T_537cf_row3_col9\" class=\"data row3 col9\" >2.546.880</td>\n",
       "      <td id=\"T_537cf_row3_col10\" class=\"data row3 col10\" >3.810.829</td>\n",
       "      <td id=\"T_537cf_row3_col11\" class=\"data row3 col11\" >5.441.590</td>\n",
       "      <td id=\"T_537cf_row3_col12\" class=\"data row3 col12\" >96.585</td>\n",
       "      <td id=\"T_537cf_row3_col13\" class=\"data row3 col13\" >442.241</td>\n",
       "      <td id=\"T_537cf_row3_col14\" class=\"data row3 col14\" >1.095.211</td>\n",
       "      <td id=\"T_537cf_row3_col15\" class=\"data row3 col15\" >41.463</td>\n",
       "    </tr>\n",
       "    <tr>\n",
       "      <th id=\"T_537cf_level0_row4\" class=\"row_heading level0 row4\" >buyer_id</th>\n",
       "      <td id=\"T_537cf_row4_col0\" class=\"data row4 col0\" >int64</td>\n",
       "      <td id=\"T_537cf_row4_col1\" class=\"data row4 col1\" >6.123.425</td>\n",
       "      <td id=\"T_537cf_row4_col2\" class=\"data row4 col2\" >5.408.465</td>\n",
       "      <td id=\"T_537cf_row4_col3\" class=\"data row4 col3\" >3.750.475</td>\n",
       "      <td id=\"T_537cf_row4_col4\" class=\"data row4 col4\" >4.275.209</td>\n",
       "      <td id=\"T_537cf_row4_col5\" class=\"data row4 col5\" >7.441.062</td>\n",
       "      <td id=\"T_537cf_row4_col6\" class=\"data row4 col6\" >4.063.235</td>\n",
       "      <td id=\"T_537cf_row4_col7\" class=\"data row4 col7\" >6.898.330</td>\n",
       "      <td id=\"T_537cf_row4_col8\" class=\"data row4 col8\" >6.985.536</td>\n",
       "      <td id=\"T_537cf_row4_col9\" class=\"data row4 col9\" >1.859.645</td>\n",
       "      <td id=\"T_537cf_row4_col10\" class=\"data row4 col10\" >5.206.449</td>\n",
       "      <td id=\"T_537cf_row4_col11\" class=\"data row4 col11\" >7.428.208</td>\n",
       "      <td id=\"T_537cf_row4_col12\" class=\"data row4 col12\" >1.988.745</td>\n",
       "      <td id=\"T_537cf_row4_col13\" class=\"data row4 col13\" >4.408.187</td>\n",
       "      <td id=\"T_537cf_row4_col14\" class=\"data row4 col14\" >6.500.209</td>\n",
       "      <td id=\"T_537cf_row4_col15\" class=\"data row4 col15\" >3.175.581</td>\n",
       "    </tr>\n",
       "    <tr>\n",
       "      <th id=\"T_537cf_level0_row5\" class=\"row_heading level0 row5\" >purchase_date</th>\n",
       "      <td id=\"T_537cf_row5_col0\" class=\"data row5 col0\" >datetime64[ns]</td>\n",
       "      <td id=\"T_537cf_row5_col1\" class=\"data row5 col1\" >2016-01-28 22:17:05</td>\n",
       "      <td id=\"T_537cf_row5_col2\" class=\"data row5 col2\" >2016-06-23 21:20:29</td>\n",
       "      <td id=\"T_537cf_row5_col3\" class=\"data row5 col3\" >2016-03-31 12:04:26</td>\n",
       "      <td id=\"T_537cf_row5_col4\" class=\"data row5 col4\" >2016-02-13 21:01:51</td>\n",
       "      <td id=\"T_537cf_row5_col5\" class=\"data row5 col5\" >2016-05-31 20:01:11</td>\n",
       "      <td id=\"T_537cf_row5_col6\" class=\"data row5 col6\" >2016-03-20 14:26:54</td>\n",
       "      <td id=\"T_537cf_row5_col7\" class=\"data row5 col7\" >2016-03-28 19:37:40</td>\n",
       "      <td id=\"T_537cf_row5_col8\" class=\"data row5 col8\" >2016-04-08 23:41:55</td>\n",
       "      <td id=\"T_537cf_row5_col9\" class=\"data row5 col9\" >2016-06-23 13:05:24</td>\n",
       "      <td id=\"T_537cf_row5_col10\" class=\"data row5 col10\" >2016-02-24 13:35:51</td>\n",
       "      <td id=\"T_537cf_row5_col11\" class=\"data row5 col11\" >2016-06-13 21:54:07</td>\n",
       "      <td id=\"T_537cf_row5_col12\" class=\"data row5 col12\" >2016-05-29 22:30:56</td>\n",
       "      <td id=\"T_537cf_row5_col13\" class=\"data row5 col13\" >2016-02-02 16:20:19</td>\n",
       "      <td id=\"T_537cf_row5_col14\" class=\"data row5 col14\" >2016-02-08 15:30:29</td>\n",
       "      <td id=\"T_537cf_row5_col15\" class=\"data row5 col15\" >2016-04-07 02:55:50</td>\n",
       "    </tr>\n",
       "    <tr>\n",
       "      <th id=\"T_537cf_level0_row6\" class=\"row_heading level0 row6\" >product_creation_date</th>\n",
       "      <td id=\"T_537cf_row6_col0\" class=\"data row6 col0\" >datetime64[ns]</td>\n",
       "      <td id=\"T_537cf_row6_col1\" class=\"data row6 col1\" >2014-08-06 17:59:26</td>\n",
       "      <td id=\"T_537cf_row6_col2\" class=\"data row6 col2\" >2016-06-19 23:42:18</td>\n",
       "      <td id=\"T_537cf_row6_col3\" class=\"data row6 col3\" >2016-03-05 12:06:48</td>\n",
       "      <td id=\"T_537cf_row6_col4\" class=\"data row6 col4\" >2015-01-09 17:29:58</td>\n",
       "      <td id=\"T_537cf_row6_col5\" class=\"data row6 col5\" >2015-01-12 15:15:55</td>\n",
       "      <td id=\"T_537cf_row6_col6\" class=\"data row6 col6\" >2014-01-28 17:11:10</td>\n",
       "      <td id=\"T_537cf_row6_col7\" class=\"data row6 col7\" >2016-02-25 17:32:16</td>\n",
       "      <td id=\"T_537cf_row6_col8\" class=\"data row6 col8\" >2016-01-24 15:07:48</td>\n",
       "      <td id=\"T_537cf_row6_col9\" class=\"data row6 col9\" >2014-10-29 19:15:23</td>\n",
       "      <td id=\"T_537cf_row6_col10\" class=\"data row6 col10\" >2014-11-13 21:15:20</td>\n",
       "      <td id=\"T_537cf_row6_col11\" class=\"data row6 col11\" >2016-02-25 12:56:08</td>\n",
       "      <td id=\"T_537cf_row6_col12\" class=\"data row6 col12\" >2015-02-01 13:34:24</td>\n",
       "      <td id=\"T_537cf_row6_col13\" class=\"data row6 col13\" >2012-09-26 15:54:59</td>\n",
       "      <td id=\"T_537cf_row6_col14\" class=\"data row6 col14\" >2016-01-12 14:14:31</td>\n",
       "      <td id=\"T_537cf_row6_col15\" class=\"data row6 col15\" >2016-04-05 01:32:57</td>\n",
       "    </tr>\n",
       "    <tr>\n",
       "      <th id=\"T_537cf_level0_row7\" class=\"row_heading level0 row7\" >product_category</th>\n",
       "      <td id=\"T_537cf_row7_col0\" class=\"data row7 col0\" >object</td>\n",
       "      <td id=\"T_537cf_row7_col1\" class=\"data row7 col1\" >Podcast</td>\n",
       "      <td id=\"T_537cf_row7_col2\" class=\"data row7 col2\" >Workshop</td>\n",
       "      <td id=\"T_537cf_row7_col3\" class=\"data row7 col3\" >Phisical book</td>\n",
       "      <td id=\"T_537cf_row7_col4\" class=\"data row7 col4\" >Phisical book</td>\n",
       "      <td id=\"T_537cf_row7_col5\" class=\"data row7 col5\" >Phisical book</td>\n",
       "      <td id=\"T_537cf_row7_col6\" class=\"data row7 col6\" >Phisical book</td>\n",
       "      <td id=\"T_537cf_row7_col7\" class=\"data row7 col7\" >Podcast</td>\n",
       "      <td id=\"T_537cf_row7_col8\" class=\"data row7 col8\" >Phisical book</td>\n",
       "      <td id=\"T_537cf_row7_col9\" class=\"data row7 col9\" >Phisical book</td>\n",
       "      <td id=\"T_537cf_row7_col10\" class=\"data row7 col10\" >Phisical book</td>\n",
       "      <td id=\"T_537cf_row7_col11\" class=\"data row7 col11\" >Podcast</td>\n",
       "      <td id=\"T_537cf_row7_col12\" class=\"data row7 col12\" >Phisical book</td>\n",
       "      <td id=\"T_537cf_row7_col13\" class=\"data row7 col13\" >Phisical book</td>\n",
       "      <td id=\"T_537cf_row7_col14\" class=\"data row7 col14\" >Phisical book</td>\n",
       "      <td id=\"T_537cf_row7_col15\" class=\"data row7 col15\" >Phisical book</td>\n",
       "    </tr>\n",
       "    <tr>\n",
       "      <th id=\"T_537cf_level0_row8\" class=\"row_heading level0 row8\" >product_niche</th>\n",
       "      <td id=\"T_537cf_row8_col0\" class=\"data row8 col0\" >object</td>\n",
       "      <td id=\"T_537cf_row8_col1\" class=\"data row8 col1\" >Careers</td>\n",
       "      <td id=\"T_537cf_row8_col2\" class=\"data row8 col2\" >Anxiety management</td>\n",
       "      <td id=\"T_537cf_row8_col3\" class=\"data row8 col3\" >Presentation skills</td>\n",
       "      <td id=\"T_537cf_row8_col4\" class=\"data row8 col4\" >Anxiety management</td>\n",
       "      <td id=\"T_537cf_row8_col5\" class=\"data row8 col5\" >YouTube video creation</td>\n",
       "      <td id=\"T_537cf_row8_col6\" class=\"data row8 col6\" >Anxiety management</td>\n",
       "      <td id=\"T_537cf_row8_col7\" class=\"data row8 col7\" >Government</td>\n",
       "      <td id=\"T_537cf_row8_col8\" class=\"data row8 col8\" >Anxiety management</td>\n",
       "      <td id=\"T_537cf_row8_col9\" class=\"data row8 col9\" >Personal finance</td>\n",
       "      <td id=\"T_537cf_row8_col10\" class=\"data row8 col10\" >Online course creation</td>\n",
       "      <td id=\"T_537cf_row8_col11\" class=\"data row8 col11\" >Physics</td>\n",
       "      <td id=\"T_537cf_row8_col12\" class=\"data row8 col12\" >Global diplomacy</td>\n",
       "      <td id=\"T_537cf_row8_col13\" class=\"data row8 col13\" >YouTube video creation</td>\n",
       "      <td id=\"T_537cf_row8_col14\" class=\"data row8 col14\" >Personal finance</td>\n",
       "      <td id=\"T_537cf_row8_col15\" class=\"data row8 col15\" >Presentation skills</td>\n",
       "    </tr>\n",
       "    <tr>\n",
       "      <th id=\"T_537cf_level0_row9\" class=\"row_heading level0 row9\" >purchase_value</th>\n",
       "      <td id=\"T_537cf_row9_col0\" class=\"data row9 col0\" >float64</td>\n",
       "      <td id=\"T_537cf_row9_col1\" class=\"data row9 col1\" >-0,532</td>\n",
       "      <td id=\"T_537cf_row9_col2\" class=\"data row9 col2\" >0,204</td>\n",
       "      <td id=\"T_537cf_row9_col3\" class=\"data row9 col3\" >-0,509</td>\n",
       "      <td id=\"T_537cf_row9_col4\" class=\"data row9 col4\" >0,769</td>\n",
       "      <td id=\"T_537cf_row9_col5\" class=\"data row9 col5\" >-0,261</td>\n",
       "      <td id=\"T_537cf_row9_col6\" class=\"data row9 col6\" >0,955</td>\n",
       "      <td id=\"T_537cf_row9_col7\" class=\"data row9 col7\" >-0,414</td>\n",
       "      <td id=\"T_537cf_row9_col8\" class=\"data row9 col8\" >0,204</td>\n",
       "      <td id=\"T_537cf_row9_col9\" class=\"data row9 col9\" >2,748</td>\n",
       "      <td id=\"T_537cf_row9_col10\" class=\"data row9 col10\" >-0,372</td>\n",
       "      <td id=\"T_537cf_row9_col11\" class=\"data row9 col11\" >-0,522</td>\n",
       "      <td id=\"T_537cf_row9_col12\" class=\"data row9 col12\" >-0,415</td>\n",
       "      <td id=\"T_537cf_row9_col13\" class=\"data row9 col13\" >-0,252</td>\n",
       "      <td id=\"T_537cf_row9_col14\" class=\"data row9 col14\" >-0,359</td>\n",
       "      <td id=\"T_537cf_row9_col15\" class=\"data row9 col15\" >-0,491</td>\n",
       "    </tr>\n",
       "    <tr>\n",
       "      <th id=\"T_537cf_level0_row10\" class=\"row_heading level0 row10\" >affiliate_commission_percentual</th>\n",
       "      <td id=\"T_537cf_row10_col0\" class=\"data row10 col0\" >float64</td>\n",
       "      <td id=\"T_537cf_row10_col1\" class=\"data row10 col1\" >0,000</td>\n",
       "      <td id=\"T_537cf_row10_col2\" class=\"data row10 col2\" >0,000</td>\n",
       "      <td id=\"T_537cf_row10_col3\" class=\"data row10 col3\" >0,000</td>\n",
       "      <td id=\"T_537cf_row10_col4\" class=\"data row10 col4\" >0,000</td>\n",
       "      <td id=\"T_537cf_row10_col5\" class=\"data row10 col5\" >0,000</td>\n",
       "      <td id=\"T_537cf_row10_col6\" class=\"data row10 col6\" >0,000</td>\n",
       "      <td id=\"T_537cf_row10_col7\" class=\"data row10 col7\" >0,000</td>\n",
       "      <td id=\"T_537cf_row10_col8\" class=\"data row10 col8\" >30,000</td>\n",
       "      <td id=\"T_537cf_row10_col9\" class=\"data row10 col9\" >10,000</td>\n",
       "      <td id=\"T_537cf_row10_col10\" class=\"data row10 col10\" >0,000</td>\n",
       "      <td id=\"T_537cf_row10_col11\" class=\"data row10 col11\" >0,000</td>\n",
       "      <td id=\"T_537cf_row10_col12\" class=\"data row10 col12\" >0,000</td>\n",
       "      <td id=\"T_537cf_row10_col13\" class=\"data row10 col13\" >0,000</td>\n",
       "      <td id=\"T_537cf_row10_col14\" class=\"data row10 col14\" >0,000</td>\n",
       "      <td id=\"T_537cf_row10_col15\" class=\"data row10 col15\" >0,000</td>\n",
       "    </tr>\n",
       "    <tr>\n",
       "      <th id=\"T_537cf_level0_row11\" class=\"row_heading level0 row11\" >purchase_device</th>\n",
       "      <td id=\"T_537cf_row11_col0\" class=\"data row11 col0\" >object</td>\n",
       "      <td id=\"T_537cf_row11_col1\" class=\"data row11 col1\" >Desktop</td>\n",
       "      <td id=\"T_537cf_row11_col2\" class=\"data row11 col2\" >eReaders</td>\n",
       "      <td id=\"T_537cf_row11_col3\" class=\"data row11 col3\" >Desktop</td>\n",
       "      <td id=\"T_537cf_row11_col4\" class=\"data row11 col4\" >eReaders</td>\n",
       "      <td id=\"T_537cf_row11_col5\" class=\"data row11 col5\" >Cellphone</td>\n",
       "      <td id=\"T_537cf_row11_col6\" class=\"data row11 col6\" >eReaders</td>\n",
       "      <td id=\"T_537cf_row11_col7\" class=\"data row11 col7\" >eReaders</td>\n",
       "      <td id=\"T_537cf_row11_col8\" class=\"data row11 col8\" >eReaders</td>\n",
       "      <td id=\"T_537cf_row11_col9\" class=\"data row11 col9\" >eReaders</td>\n",
       "      <td id=\"T_537cf_row11_col10\" class=\"data row11 col10\" >Smart TV</td>\n",
       "      <td id=\"T_537cf_row11_col11\" class=\"data row11 col11\" >Desktop</td>\n",
       "      <td id=\"T_537cf_row11_col12\" class=\"data row11 col12\" >eReaders</td>\n",
       "      <td id=\"T_537cf_row11_col13\" class=\"data row11 col13\" >Smart TV</td>\n",
       "      <td id=\"T_537cf_row11_col14\" class=\"data row11 col14\" >eReaders</td>\n",
       "      <td id=\"T_537cf_row11_col15\" class=\"data row11 col15\" >eReaders</td>\n",
       "    </tr>\n",
       "    <tr>\n",
       "      <th id=\"T_537cf_level0_row12\" class=\"row_heading level0 row12\" >purchase_origin</th>\n",
       "      <td id=\"T_537cf_row12_col0\" class=\"data row12 col0\" >object</td>\n",
       "      <td id=\"T_537cf_row12_col1\" class=\"data row12 col1\" >Origin 90f2</td>\n",
       "      <td id=\"T_537cf_row12_col2\" class=\"data row12 col2\" >Origin d132</td>\n",
       "      <td id=\"T_537cf_row12_col3\" class=\"data row12 col3\" >Origin 5c1f</td>\n",
       "      <td id=\"T_537cf_row12_col4\" class=\"data row12 col4\" >Origin e9a5</td>\n",
       "      <td id=\"T_537cf_row12_col5\" class=\"data row12 col5\" >Origin 310d</td>\n",
       "      <td id=\"T_537cf_row12_col6\" class=\"data row12 col6\" >Origin 5187</td>\n",
       "      <td id=\"T_537cf_row12_col7\" class=\"data row12 col7\" >Origin 6b1b</td>\n",
       "      <td id=\"T_537cf_row12_col8\" class=\"data row12 col8\" >Origin 3deb</td>\n",
       "      <td id=\"T_537cf_row12_col9\" class=\"data row12 col9\" >Origin 6e7d</td>\n",
       "      <td id=\"T_537cf_row12_col10\" class=\"data row12 col10\" >Origin ef2b</td>\n",
       "      <td id=\"T_537cf_row12_col11\" class=\"data row12 col11\" >Origin adf0</td>\n",
       "      <td id=\"T_537cf_row12_col12\" class=\"data row12 col12\" >Origin 15f9</td>\n",
       "      <td id=\"T_537cf_row12_col13\" class=\"data row12 col13\" >Origin ef2b</td>\n",
       "      <td id=\"T_537cf_row12_col14\" class=\"data row12 col14\" >Origin da12</td>\n",
       "      <td id=\"T_537cf_row12_col15\" class=\"data row12 col15\" >Origin b905</td>\n",
       "    </tr>\n",
       "    <tr>\n",
       "      <th id=\"T_537cf_level0_row13\" class=\"row_heading level0 row13\" >is_origin_page_social_network</th>\n",
       "      <td id=\"T_537cf_row13_col0\" class=\"data row13 col0\" >object</td>\n",
       "      <td id=\"T_537cf_row13_col1\" class=\"data row13 col1\" >0,0</td>\n",
       "      <td id=\"T_537cf_row13_col2\" class=\"data row13 col2\" >0,0</td>\n",
       "      <td id=\"T_537cf_row13_col3\" class=\"data row13 col3\" >0,0</td>\n",
       "      <td id=\"T_537cf_row13_col4\" class=\"data row13 col4\" >0,0</td>\n",
       "      <td id=\"T_537cf_row13_col5\" class=\"data row13 col5\" >0,0</td>\n",
       "      <td id=\"T_537cf_row13_col6\" class=\"data row13 col6\" >0,0</td>\n",
       "      <td id=\"T_537cf_row13_col7\" class=\"data row13 col7\" >1,0</td>\n",
       "      <td id=\"T_537cf_row13_col8\" class=\"data row13 col8\" >0,0</td>\n",
       "      <td id=\"T_537cf_row13_col9\" class=\"data row13 col9\" >0,0</td>\n",
       "      <td id=\"T_537cf_row13_col10\" class=\"data row13 col10\" >0,0</td>\n",
       "      <td id=\"T_537cf_row13_col11\" class=\"data row13 col11\" >0,0</td>\n",
       "      <td id=\"T_537cf_row13_col12\" class=\"data row13 col12\" >0,0</td>\n",
       "      <td id=\"T_537cf_row13_col13\" class=\"data row13 col13\" >0,0</td>\n",
       "      <td id=\"T_537cf_row13_col14\" class=\"data row13 col14\" >0,0</td>\n",
       "      <td id=\"T_537cf_row13_col15\" class=\"data row13 col15\" >0,0</td>\n",
       "    </tr>\n",
       "    <tr>\n",
       "      <th id=\"T_537cf_level0_row14\" class=\"row_heading level0 row14\" >sell</th>\n",
       "      <td id=\"T_537cf_row14_col0\" class=\"data row14 col0\" >int64</td>\n",
       "      <td id=\"T_537cf_row14_col1\" class=\"data row14 col1\" >1</td>\n",
       "      <td id=\"T_537cf_row14_col2\" class=\"data row14 col2\" >1</td>\n",
       "      <td id=\"T_537cf_row14_col3\" class=\"data row14 col3\" >1</td>\n",
       "      <td id=\"T_537cf_row14_col4\" class=\"data row14 col4\" >1</td>\n",
       "      <td id=\"T_537cf_row14_col5\" class=\"data row14 col5\" >1</td>\n",
       "      <td id=\"T_537cf_row14_col6\" class=\"data row14 col6\" >1</td>\n",
       "      <td id=\"T_537cf_row14_col7\" class=\"data row14 col7\" >1</td>\n",
       "      <td id=\"T_537cf_row14_col8\" class=\"data row14 col8\" >1</td>\n",
       "      <td id=\"T_537cf_row14_col9\" class=\"data row14 col9\" >1</td>\n",
       "      <td id=\"T_537cf_row14_col10\" class=\"data row14 col10\" >1</td>\n",
       "      <td id=\"T_537cf_row14_col11\" class=\"data row14 col11\" >1</td>\n",
       "      <td id=\"T_537cf_row14_col12\" class=\"data row14 col12\" >1</td>\n",
       "      <td id=\"T_537cf_row14_col13\" class=\"data row14 col13\" >1</td>\n",
       "      <td id=\"T_537cf_row14_col14\" class=\"data row14 col14\" >1</td>\n",
       "      <td id=\"T_537cf_row14_col15\" class=\"data row14 col15\" >1</td>\n",
       "    </tr>\n",
       "  </tbody>\n",
       "</table>\n"
      ],
      "text/plain": [
       "<pandas.io.formats.style.Styler at 0x7f4228ab2e90>"
      ]
     },
     "metadata": {},
     "output_type": "display_data"
    }
   ],
   "source": [
    "# define shape before dtype convertion\n",
    "shape_before = df_description.shape\n",
    "\n",
    "# inspect dataframe types\n",
    "inspect_dtypes(df_description, 15)"
   ]
  },
  {
   "cell_type": "code",
   "execution_count": 16,
   "id": "f3285be0",
   "metadata": {},
   "outputs": [
    {
     "name": "stdout",
     "output_type": "stream",
     "text": [
      "*************************************************\n",
      "Dataframe size in memory: 660.704 MB \n",
      "\n",
      "-----------------------------\n",
      "Dataframe overview:\n"
     ]
    },
    {
     "data": {
      "text/html": [
       "<style type=\"text/css\">\n",
       "#T_20f15_row0_col1, #T_20f15_row0_col3, #T_20f15_row1_col1, #T_20f15_row1_col3, #T_20f15_row2_col1, #T_20f15_row2_col3, #T_20f15_row3_col1, #T_20f15_row3_col3, #T_20f15_row4_col1, #T_20f15_row4_col3, #T_20f15_row5_col1, #T_20f15_row5_col3, #T_20f15_row6_col1, #T_20f15_row6_col3, #T_20f15_row7_col1, #T_20f15_row7_col3, #T_20f15_row8_col1, #T_20f15_row8_col3, #T_20f15_row9_col1, #T_20f15_row9_col3, #T_20f15_row10_col1, #T_20f15_row10_col3, #T_20f15_row11_col1, #T_20f15_row11_col3, #T_20f15_row12_col1, #T_20f15_row12_col3, #T_20f15_row13_col1, #T_20f15_row13_col3, #T_20f15_row14_col1, #T_20f15_row14_col3 {\n",
       "  background-color: Navy;\n",
       "  color: White;\n",
       "}\n",
       "</style>\n",
       "<table id=\"T_20f15\">\n",
       "  <thead>\n",
       "    <tr>\n",
       "      <th class=\"blank level0\" >&nbsp;</th>\n",
       "      <th id=\"T_20f15_level0_col0\" class=\"col_heading level0 col0\" >Num NAs</th>\n",
       "      <th id=\"T_20f15_level0_col1\" class=\"col_heading level0 col1\" >Percent NAs</th>\n",
       "      <th id=\"T_20f15_level0_col2\" class=\"col_heading level0 col2\" >Num unique [include NAs]</th>\n",
       "      <th id=\"T_20f15_level0_col3\" class=\"col_heading level0 col3\" >Data Type</th>\n",
       "    </tr>\n",
       "  </thead>\n",
       "  <tbody>\n",
       "    <tr>\n",
       "      <th id=\"T_20f15_level0_row0\" class=\"row_heading level0 row0\" >purchase_id</th>\n",
       "      <td id=\"T_20f15_row0_col0\" class=\"data row0 col0\" >0</td>\n",
       "      <td id=\"T_20f15_row0_col1\" class=\"data row0 col1\" >0</td>\n",
       "      <td id=\"T_20f15_row0_col2\" class=\"data row0 col2\" >1.599.828</td>\n",
       "      <td id=\"T_20f15_row0_col3\" class=\"data row0 col3\" >int64</td>\n",
       "    </tr>\n",
       "    <tr>\n",
       "      <th id=\"T_20f15_level0_row1\" class=\"row_heading level0 row1\" >product_id</th>\n",
       "      <td id=\"T_20f15_row1_col0\" class=\"data row1 col0\" >0</td>\n",
       "      <td id=\"T_20f15_row1_col1\" class=\"data row1 col1\" >0</td>\n",
       "      <td id=\"T_20f15_row1_col2\" class=\"data row1 col2\" >17.883</td>\n",
       "      <td id=\"T_20f15_row1_col3\" class=\"data row1 col3\" >int64</td>\n",
       "    </tr>\n",
       "    <tr>\n",
       "      <th id=\"T_20f15_level0_row2\" class=\"row_heading level0 row2\" >affiliate_id</th>\n",
       "      <td id=\"T_20f15_row2_col0\" class=\"data row2 col0\" >0</td>\n",
       "      <td id=\"T_20f15_row2_col1\" class=\"data row2 col1\" >0</td>\n",
       "      <td id=\"T_20f15_row2_col2\" class=\"data row2 col2\" >22.947</td>\n",
       "      <td id=\"T_20f15_row2_col3\" class=\"data row2 col3\" >int64</td>\n",
       "    </tr>\n",
       "    <tr>\n",
       "      <th id=\"T_20f15_level0_row3\" class=\"row_heading level0 row3\" >producer_id</th>\n",
       "      <td id=\"T_20f15_row3_col0\" class=\"data row3 col0\" >0</td>\n",
       "      <td id=\"T_20f15_row3_col1\" class=\"data row3 col1\" >0</td>\n",
       "      <td id=\"T_20f15_row3_col2\" class=\"data row3 col2\" >8.020</td>\n",
       "      <td id=\"T_20f15_row3_col3\" class=\"data row3 col3\" >int64</td>\n",
       "    </tr>\n",
       "    <tr>\n",
       "      <th id=\"T_20f15_level0_row4\" class=\"row_heading level0 row4\" >buyer_id</th>\n",
       "      <td id=\"T_20f15_row4_col0\" class=\"data row4 col0\" >0</td>\n",
       "      <td id=\"T_20f15_row4_col1\" class=\"data row4 col1\" >0</td>\n",
       "      <td id=\"T_20f15_row4_col2\" class=\"data row4 col2\" >1.100.649</td>\n",
       "      <td id=\"T_20f15_row4_col3\" class=\"data row4 col3\" >int64</td>\n",
       "    </tr>\n",
       "    <tr>\n",
       "      <th id=\"T_20f15_level0_row5\" class=\"row_heading level0 row5\" >purchase_date</th>\n",
       "      <td id=\"T_20f15_row5_col0\" class=\"data row5 col0\" >0</td>\n",
       "      <td id=\"T_20f15_row5_col1\" class=\"data row5 col1\" >0</td>\n",
       "      <td id=\"T_20f15_row5_col2\" class=\"data row5 col2\" >1.488.964</td>\n",
       "      <td id=\"T_20f15_row5_col3\" class=\"data row5 col3\" >datetime64[ns]</td>\n",
       "    </tr>\n",
       "    <tr>\n",
       "      <th id=\"T_20f15_level0_row6\" class=\"row_heading level0 row6\" >product_creation_date</th>\n",
       "      <td id=\"T_20f15_row6_col0\" class=\"data row6 col0\" >0</td>\n",
       "      <td id=\"T_20f15_row6_col1\" class=\"data row6 col1\" >0</td>\n",
       "      <td id=\"T_20f15_row6_col2\" class=\"data row6 col2\" >17.879</td>\n",
       "      <td id=\"T_20f15_row6_col3\" class=\"data row6 col3\" >datetime64[ns]</td>\n",
       "    </tr>\n",
       "    <tr>\n",
       "      <th id=\"T_20f15_level0_row7\" class=\"row_heading level0 row7\" >product_category</th>\n",
       "      <td id=\"T_20f15_row7_col0\" class=\"data row7 col0\" >0</td>\n",
       "      <td id=\"T_20f15_row7_col1\" class=\"data row7 col1\" >0</td>\n",
       "      <td id=\"T_20f15_row7_col2\" class=\"data row7 col2\" >10</td>\n",
       "      <td id=\"T_20f15_row7_col3\" class=\"data row7 col3\" >object</td>\n",
       "    </tr>\n",
       "    <tr>\n",
       "      <th id=\"T_20f15_level0_row8\" class=\"row_heading level0 row8\" >product_niche</th>\n",
       "      <td id=\"T_20f15_row8_col0\" class=\"data row8 col0\" >0</td>\n",
       "      <td id=\"T_20f15_row8_col1\" class=\"data row8 col1\" >0</td>\n",
       "      <td id=\"T_20f15_row8_col2\" class=\"data row8 col2\" >25</td>\n",
       "      <td id=\"T_20f15_row8_col3\" class=\"data row8 col3\" >object</td>\n",
       "    </tr>\n",
       "    <tr>\n",
       "      <th id=\"T_20f15_level0_row9\" class=\"row_heading level0 row9\" >purchase_value</th>\n",
       "      <td id=\"T_20f15_row9_col0\" class=\"data row9 col0\" >0</td>\n",
       "      <td id=\"T_20f15_row9_col1\" class=\"data row9 col1\" >0</td>\n",
       "      <td id=\"T_20f15_row9_col2\" class=\"data row9 col2\" >32.617</td>\n",
       "      <td id=\"T_20f15_row9_col3\" class=\"data row9 col3\" >float64</td>\n",
       "    </tr>\n",
       "    <tr>\n",
       "      <th id=\"T_20f15_level0_row10\" class=\"row_heading level0 row10\" >affiliate_commission_percentual</th>\n",
       "      <td id=\"T_20f15_row10_col0\" class=\"data row10 col0\" >199</td>\n",
       "      <td id=\"T_20f15_row10_col1\" class=\"data row10 col1\" >1</td>\n",
       "      <td id=\"T_20f15_row10_col2\" class=\"data row10 col2\" >280</td>\n",
       "      <td id=\"T_20f15_row10_col3\" class=\"data row10 col3\" >float64</td>\n",
       "    </tr>\n",
       "    <tr>\n",
       "      <th id=\"T_20f15_level0_row11\" class=\"row_heading level0 row11\" >purchase_device</th>\n",
       "      <td id=\"T_20f15_row11_col0\" class=\"data row11 col0\" >0</td>\n",
       "      <td id=\"T_20f15_row11_col1\" class=\"data row11 col1\" >0</td>\n",
       "      <td id=\"T_20f15_row11_col2\" class=\"data row11 col2\" >5</td>\n",
       "      <td id=\"T_20f15_row11_col3\" class=\"data row11 col3\" >object</td>\n",
       "    </tr>\n",
       "    <tr>\n",
       "      <th id=\"T_20f15_level0_row12\" class=\"row_heading level0 row12\" >purchase_origin</th>\n",
       "      <td id=\"T_20f15_row12_col0\" class=\"data row12 col0\" >0</td>\n",
       "      <td id=\"T_20f15_row12_col1\" class=\"data row12 col1\" >0</td>\n",
       "      <td id=\"T_20f15_row12_col2\" class=\"data row12 col2\" >9.603</td>\n",
       "      <td id=\"T_20f15_row12_col3\" class=\"data row12 col3\" >object</td>\n",
       "    </tr>\n",
       "    <tr>\n",
       "      <th id=\"T_20f15_level0_row13\" class=\"row_heading level0 row13\" >is_origin_page_social_network</th>\n",
       "      <td id=\"T_20f15_row13_col0\" class=\"data row13 col0\" >0</td>\n",
       "      <td id=\"T_20f15_row13_col1\" class=\"data row13 col1\" >0</td>\n",
       "      <td id=\"T_20f15_row13_col2\" class=\"data row13 col2\" >2</td>\n",
       "      <td id=\"T_20f15_row13_col3\" class=\"data row13 col3\" >object</td>\n",
       "    </tr>\n",
       "    <tr>\n",
       "      <th id=\"T_20f15_level0_row14\" class=\"row_heading level0 row14\" >sell</th>\n",
       "      <td id=\"T_20f15_row14_col0\" class=\"data row14 col0\" >0</td>\n",
       "      <td id=\"T_20f15_row14_col1\" class=\"data row14 col1\" >0</td>\n",
       "      <td id=\"T_20f15_row14_col2\" class=\"data row14 col2\" >1</td>\n",
       "      <td id=\"T_20f15_row14_col3\" class=\"data row14 col3\" >int64</td>\n",
       "    </tr>\n",
       "  </tbody>\n",
       "</table>\n"
      ],
      "text/plain": [
       "<pandas.io.formats.style.Styler at 0x7f41dd4589d0>"
      ]
     },
     "metadata": {},
     "output_type": "display_data"
    },
    {
     "name": "stdout",
     "output_type": "stream",
     "text": [
      "-----------------------------\n",
      "\n",
      " Dataframe shape is (1599828, 15) \n",
      "\n"
     ]
    }
   ],
   "source": [
    "# inspect basic column descriptions\n",
    "check_na_unique_dtypes(df_description);"
   ]
  },
  {
   "cell_type": "code",
   "execution_count": 17,
   "id": "deab866e",
   "metadata": {},
   "outputs": [
    {
     "name": "stdout",
     "output_type": "stream",
     "text": [
      "Unique values in colum 'sell': {1}\n"
     ]
    }
   ],
   "source": [
    "# print report\n",
    "print(\n",
    "    f\"Unique values in colum 'sell': {set(df_description['sell'].tolist())}\"\n",
    ")"
   ]
  },
  {
   "cell_type": "code",
   "execution_count": 18,
   "id": "2146bdb5",
   "metadata": {},
   "outputs": [
    {
     "name": "stdout",
     "output_type": "stream",
     "text": [
      "Unique values in colum 'sell': {'0,0', '1,0'}\n",
      "Unique values in colum 'sell' after transformation: {False, True}\n"
     ]
    }
   ],
   "source": [
    "# print report\n",
    "print(\n",
    "    f\"Unique values in colum 'sell': {set(df_description['is_origin_page_social_network'].tolist())}\"\n",
    ")\n",
    "\n",
    "# convert column is_origin_page_social_network to boolean\n",
    "df_description[\"is_origin_page_social_network\"] = df_description[\"is_origin_page_social_network\"].apply( lambda x: True if x == '0,0' else False if x == '1,0' else \"NaN\")\n",
    "\n",
    "# print report\n",
    "print(\n",
    "    f\"Unique values in colum 'sell' after transformation: {set(df_description['is_origin_page_social_network'].tolist())}\"\n",
    ")"
   ]
  },
  {
   "cell_type": "code",
   "execution_count": 19,
   "id": "deb7f8be",
   "metadata": {},
   "outputs": [],
   "source": [
    "# sanity check\n",
    "assert df_description.shape == shape_before, \"Data was missed during dtype convertion\""
   ]
  },
  {
   "attachments": {},
   "cell_type": "markdown",
   "id": "aaf6f518",
   "metadata": {},
   "source": [
    "## 2.5 - Data Validation"
   ]
  },
  {
   "attachments": {},
   "cell_type": "markdown",
   "id": "e9b811b1",
   "metadata": {},
   "source": [
    "*Check if columns make sense in regard to business understanding*"
   ]
  },
  {
   "cell_type": "code",
   "execution_count": 20,
   "id": "3dd4270a",
   "metadata": {},
   "outputs": [],
   "source": [
    "# as data was already made available to us \n",
    "# and there is no way to validate data source,\n",
    "# no need for data validation right now."
   ]
  },
  {
   "attachments": {},
   "cell_type": "markdown",
   "id": "e0d5576b",
   "metadata": {},
   "source": [
    "## 2.6 - Check Duplicated Rows"
   ]
  },
  {
   "attachments": {},
   "cell_type": "markdown",
   "id": "d9a70dc0",
   "metadata": {},
   "source": [
    "*Inspect duplicated rows and handle them properly*"
   ]
  },
  {
   "cell_type": "code",
   "execution_count": 21,
   "id": "4df49971",
   "metadata": {},
   "outputs": [
    {
     "name": "stdout",
     "output_type": "stream",
     "text": [
      "*************************************************\n",
      "\n",
      "There are 0 duplicated rows [0.00%] based on all columns. Duplicated rows are double counted.\n",
      "\n",
      "*************************************************\n",
      "\n",
      "Dataframe granularity: ['purchase_id']\n",
      "\n",
      "There are 0 duplicated rows [0.00%] based on table granularity. Duplicated rows are double counted.\n",
      "\n",
      "*************************************************\n"
     ]
    }
   ],
   "source": [
    "# define dataframe grain\n",
    "grain = [\"purchase_id\"]\n",
    "\n",
    "# check duplicated rows\n",
    "print(\n",
    "    f'{\"*\"*49}\\n\\n'\n",
    "    f'There are {df_description.duplicated(keep=False).sum():,} '\n",
    "    f'duplicated rows [{df_description.duplicated(keep=False).mean()*100:.2f}%] based on all columns. '\n",
    "    f'Duplicated rows are double counted.'\n",
    "    f'\\n\\n{\"*\"*49}\\n\\n'\n",
    "    f'Dataframe granularity: {grain}\\n\\n'\n",
    "    f'There are {df_description.duplicated(subset=grain, keep=False).sum():,} duplicated rows '\n",
    "    f'[{df_description.duplicated(subset=grain, keep=False).mean()*100:.2f}%] based on table granularity. '\n",
    "    f'Duplicated rows are double counted.'\n",
    "    f'\\n\\n{\"*\"*49}'\n",
    ")"
   ]
  },
  {
   "attachments": {},
   "cell_type": "markdown",
   "id": "4627b5a2",
   "metadata": {
    "ExecuteTime": {
     "end_time": "2021-11-08T11:40:01.154007Z",
     "start_time": "2021-11-08T11:40:01.126048Z"
    },
    "heading_collapsed": true,
    "hidden": true
   },
   "source": [
    "## 2.7 - Check Missing Values"
   ]
  },
  {
   "attachments": {},
   "cell_type": "markdown",
   "id": "9d8c1102",
   "metadata": {},
   "source": [
    "*Inspect number and percentage of missing value per column to decide what to do with them*"
   ]
  },
  {
   "cell_type": "code",
   "execution_count": 22,
   "id": "792f5e02",
   "metadata": {},
   "outputs": [
    {
     "name": "stdout",
     "output_type": "stream",
     "text": [
      "*************************************************\n",
      "Dataframe size in memory: 566.315 MB \n",
      "\n",
      "-----------------------------\n",
      "Dataframe overview:\n"
     ]
    },
    {
     "data": {
      "text/html": [
       "<style type=\"text/css\">\n",
       "#T_938b7_row0_col1, #T_938b7_row0_col3, #T_938b7_row1_col1, #T_938b7_row1_col3, #T_938b7_row2_col1, #T_938b7_row2_col3, #T_938b7_row3_col1, #T_938b7_row3_col3, #T_938b7_row4_col1, #T_938b7_row4_col3, #T_938b7_row5_col1, #T_938b7_row5_col3, #T_938b7_row6_col1, #T_938b7_row6_col3, #T_938b7_row7_col1, #T_938b7_row7_col3, #T_938b7_row8_col1, #T_938b7_row8_col3, #T_938b7_row9_col1, #T_938b7_row9_col3, #T_938b7_row10_col1, #T_938b7_row10_col3, #T_938b7_row11_col1, #T_938b7_row11_col3, #T_938b7_row12_col1, #T_938b7_row12_col3, #T_938b7_row13_col1, #T_938b7_row13_col3, #T_938b7_row14_col1, #T_938b7_row14_col3 {\n",
       "  background-color: Navy;\n",
       "  color: White;\n",
       "}\n",
       "</style>\n",
       "<table id=\"T_938b7\">\n",
       "  <thead>\n",
       "    <tr>\n",
       "      <th class=\"blank level0\" >&nbsp;</th>\n",
       "      <th id=\"T_938b7_level0_col0\" class=\"col_heading level0 col0\" >Num NAs</th>\n",
       "      <th id=\"T_938b7_level0_col1\" class=\"col_heading level0 col1\" >Percent NAs</th>\n",
       "      <th id=\"T_938b7_level0_col2\" class=\"col_heading level0 col2\" >Num unique [include NAs]</th>\n",
       "      <th id=\"T_938b7_level0_col3\" class=\"col_heading level0 col3\" >Data Type</th>\n",
       "    </tr>\n",
       "  </thead>\n",
       "  <tbody>\n",
       "    <tr>\n",
       "      <th id=\"T_938b7_level0_row0\" class=\"row_heading level0 row0\" >purchase_id</th>\n",
       "      <td id=\"T_938b7_row0_col0\" class=\"data row0 col0\" >0</td>\n",
       "      <td id=\"T_938b7_row0_col1\" class=\"data row0 col1\" >0</td>\n",
       "      <td id=\"T_938b7_row0_col2\" class=\"data row0 col2\" >1.599.828</td>\n",
       "      <td id=\"T_938b7_row0_col3\" class=\"data row0 col3\" >int64</td>\n",
       "    </tr>\n",
       "    <tr>\n",
       "      <th id=\"T_938b7_level0_row1\" class=\"row_heading level0 row1\" >product_id</th>\n",
       "      <td id=\"T_938b7_row1_col0\" class=\"data row1 col0\" >0</td>\n",
       "      <td id=\"T_938b7_row1_col1\" class=\"data row1 col1\" >0</td>\n",
       "      <td id=\"T_938b7_row1_col2\" class=\"data row1 col2\" >17.883</td>\n",
       "      <td id=\"T_938b7_row1_col3\" class=\"data row1 col3\" >int64</td>\n",
       "    </tr>\n",
       "    <tr>\n",
       "      <th id=\"T_938b7_level0_row2\" class=\"row_heading level0 row2\" >affiliate_id</th>\n",
       "      <td id=\"T_938b7_row2_col0\" class=\"data row2 col0\" >0</td>\n",
       "      <td id=\"T_938b7_row2_col1\" class=\"data row2 col1\" >0</td>\n",
       "      <td id=\"T_938b7_row2_col2\" class=\"data row2 col2\" >22.947</td>\n",
       "      <td id=\"T_938b7_row2_col3\" class=\"data row2 col3\" >int64</td>\n",
       "    </tr>\n",
       "    <tr>\n",
       "      <th id=\"T_938b7_level0_row3\" class=\"row_heading level0 row3\" >producer_id</th>\n",
       "      <td id=\"T_938b7_row3_col0\" class=\"data row3 col0\" >0</td>\n",
       "      <td id=\"T_938b7_row3_col1\" class=\"data row3 col1\" >0</td>\n",
       "      <td id=\"T_938b7_row3_col2\" class=\"data row3 col2\" >8.020</td>\n",
       "      <td id=\"T_938b7_row3_col3\" class=\"data row3 col3\" >int64</td>\n",
       "    </tr>\n",
       "    <tr>\n",
       "      <th id=\"T_938b7_level0_row4\" class=\"row_heading level0 row4\" >buyer_id</th>\n",
       "      <td id=\"T_938b7_row4_col0\" class=\"data row4 col0\" >0</td>\n",
       "      <td id=\"T_938b7_row4_col1\" class=\"data row4 col1\" >0</td>\n",
       "      <td id=\"T_938b7_row4_col2\" class=\"data row4 col2\" >1.100.649</td>\n",
       "      <td id=\"T_938b7_row4_col3\" class=\"data row4 col3\" >int64</td>\n",
       "    </tr>\n",
       "    <tr>\n",
       "      <th id=\"T_938b7_level0_row5\" class=\"row_heading level0 row5\" >purchase_date</th>\n",
       "      <td id=\"T_938b7_row5_col0\" class=\"data row5 col0\" >0</td>\n",
       "      <td id=\"T_938b7_row5_col1\" class=\"data row5 col1\" >0</td>\n",
       "      <td id=\"T_938b7_row5_col2\" class=\"data row5 col2\" >1.488.964</td>\n",
       "      <td id=\"T_938b7_row5_col3\" class=\"data row5 col3\" >datetime64[ns]</td>\n",
       "    </tr>\n",
       "    <tr>\n",
       "      <th id=\"T_938b7_level0_row6\" class=\"row_heading level0 row6\" >product_creation_date</th>\n",
       "      <td id=\"T_938b7_row6_col0\" class=\"data row6 col0\" >0</td>\n",
       "      <td id=\"T_938b7_row6_col1\" class=\"data row6 col1\" >0</td>\n",
       "      <td id=\"T_938b7_row6_col2\" class=\"data row6 col2\" >17.879</td>\n",
       "      <td id=\"T_938b7_row6_col3\" class=\"data row6 col3\" >datetime64[ns]</td>\n",
       "    </tr>\n",
       "    <tr>\n",
       "      <th id=\"T_938b7_level0_row7\" class=\"row_heading level0 row7\" >product_category</th>\n",
       "      <td id=\"T_938b7_row7_col0\" class=\"data row7 col0\" >0</td>\n",
       "      <td id=\"T_938b7_row7_col1\" class=\"data row7 col1\" >0</td>\n",
       "      <td id=\"T_938b7_row7_col2\" class=\"data row7 col2\" >10</td>\n",
       "      <td id=\"T_938b7_row7_col3\" class=\"data row7 col3\" >object</td>\n",
       "    </tr>\n",
       "    <tr>\n",
       "      <th id=\"T_938b7_level0_row8\" class=\"row_heading level0 row8\" >product_niche</th>\n",
       "      <td id=\"T_938b7_row8_col0\" class=\"data row8 col0\" >0</td>\n",
       "      <td id=\"T_938b7_row8_col1\" class=\"data row8 col1\" >0</td>\n",
       "      <td id=\"T_938b7_row8_col2\" class=\"data row8 col2\" >25</td>\n",
       "      <td id=\"T_938b7_row8_col3\" class=\"data row8 col3\" >object</td>\n",
       "    </tr>\n",
       "    <tr>\n",
       "      <th id=\"T_938b7_level0_row9\" class=\"row_heading level0 row9\" >purchase_value</th>\n",
       "      <td id=\"T_938b7_row9_col0\" class=\"data row9 col0\" >0</td>\n",
       "      <td id=\"T_938b7_row9_col1\" class=\"data row9 col1\" >0</td>\n",
       "      <td id=\"T_938b7_row9_col2\" class=\"data row9 col2\" >32.617</td>\n",
       "      <td id=\"T_938b7_row9_col3\" class=\"data row9 col3\" >float64</td>\n",
       "    </tr>\n",
       "    <tr>\n",
       "      <th id=\"T_938b7_level0_row10\" class=\"row_heading level0 row10\" >affiliate_commission_percentual</th>\n",
       "      <td id=\"T_938b7_row10_col0\" class=\"data row10 col0\" >199</td>\n",
       "      <td id=\"T_938b7_row10_col1\" class=\"data row10 col1\" >1</td>\n",
       "      <td id=\"T_938b7_row10_col2\" class=\"data row10 col2\" >280</td>\n",
       "      <td id=\"T_938b7_row10_col3\" class=\"data row10 col3\" >float64</td>\n",
       "    </tr>\n",
       "    <tr>\n",
       "      <th id=\"T_938b7_level0_row11\" class=\"row_heading level0 row11\" >purchase_device</th>\n",
       "      <td id=\"T_938b7_row11_col0\" class=\"data row11 col0\" >0</td>\n",
       "      <td id=\"T_938b7_row11_col1\" class=\"data row11 col1\" >0</td>\n",
       "      <td id=\"T_938b7_row11_col2\" class=\"data row11 col2\" >5</td>\n",
       "      <td id=\"T_938b7_row11_col3\" class=\"data row11 col3\" >object</td>\n",
       "    </tr>\n",
       "    <tr>\n",
       "      <th id=\"T_938b7_level0_row12\" class=\"row_heading level0 row12\" >purchase_origin</th>\n",
       "      <td id=\"T_938b7_row12_col0\" class=\"data row12 col0\" >0</td>\n",
       "      <td id=\"T_938b7_row12_col1\" class=\"data row12 col1\" >0</td>\n",
       "      <td id=\"T_938b7_row12_col2\" class=\"data row12 col2\" >9.603</td>\n",
       "      <td id=\"T_938b7_row12_col3\" class=\"data row12 col3\" >object</td>\n",
       "    </tr>\n",
       "    <tr>\n",
       "      <th id=\"T_938b7_level0_row13\" class=\"row_heading level0 row13\" >is_origin_page_social_network</th>\n",
       "      <td id=\"T_938b7_row13_col0\" class=\"data row13 col0\" >0</td>\n",
       "      <td id=\"T_938b7_row13_col1\" class=\"data row13 col1\" >0</td>\n",
       "      <td id=\"T_938b7_row13_col2\" class=\"data row13 col2\" >2</td>\n",
       "      <td id=\"T_938b7_row13_col3\" class=\"data row13 col3\" >bool</td>\n",
       "    </tr>\n",
       "    <tr>\n",
       "      <th id=\"T_938b7_level0_row14\" class=\"row_heading level0 row14\" >sell</th>\n",
       "      <td id=\"T_938b7_row14_col0\" class=\"data row14 col0\" >0</td>\n",
       "      <td id=\"T_938b7_row14_col1\" class=\"data row14 col1\" >0</td>\n",
       "      <td id=\"T_938b7_row14_col2\" class=\"data row14 col2\" >1</td>\n",
       "      <td id=\"T_938b7_row14_col3\" class=\"data row14 col3\" >int64</td>\n",
       "    </tr>\n",
       "  </tbody>\n",
       "</table>\n"
      ],
      "text/plain": [
       "<pandas.io.formats.style.Styler at 0x7f41dd458bb0>"
      ]
     },
     "metadata": {},
     "output_type": "display_data"
    },
    {
     "name": "stdout",
     "output_type": "stream",
     "text": [
      "-----------------------------\n",
      "\n",
      " Dataframe shape is (1599828, 15) \n",
      "\n"
     ]
    }
   ],
   "source": [
    "#  get number of NA, percent of NA, number of unique and column type\n",
    "check_na_unique_dtypes(df_description);"
   ]
  },
  {
   "cell_type": "code",
   "execution_count": 23,
   "id": "f3bd2c5f",
   "metadata": {},
   "outputs": [
    {
     "name": "stdout",
     "output_type": "stream",
     "text": [
      "affiliate_commission_percentual\n",
      "\tmax value 100.0\n",
      "\tmin value 0.0\n"
     ]
    }
   ],
   "source": [
    "# print report\n",
    "print(\n",
    "    f'affiliate_commission_percentual\\n'\n",
    "    f'\\tmax value {df_description[\"affiliate_commission_percentual\"].max(skipna=True)}\\n'\n",
    "    f'\\tmin value {df_description[\"affiliate_commission_percentual\"].min(skipna=True)}'\n",
    ")"
   ]
  },
  {
   "attachments": {},
   "cell_type": "markdown",
   "id": "99df2de1",
   "metadata": {
    "heading_collapsed": true,
    "hidden": true
   },
   "source": [
    "## 2.8 - Handle Missing Values"
   ]
  },
  {
   "attachments": {},
   "cell_type": "markdown",
   "id": "efea71d8",
   "metadata": {},
   "source": [
    "*Handle missing value for columns*"
   ]
  },
  {
   "attachments": {},
   "cell_type": "markdown",
   "id": "14b28ea1",
   "metadata": {},
   "source": [
    "**Business rule**\n",
    "- Quando a compra for feita diretamente pelo produtor, ou seja, quando não houver afiliado intermediando a compra, o campo affiliate_commission_percentual terá valor 0, e o campo affiliate_id será igual ao producer_id;"
   ]
  },
  {
   "cell_type": "code",
   "execution_count": 24,
   "id": "881ff3b9",
   "metadata": {},
   "outputs": [],
   "source": [
    "# get number of NaN in affiliate_commission_percentual\n",
    "num_nas = df_description[\"affiliate_commission_percentual\"].isna().sum()"
   ]
  },
  {
   "cell_type": "code",
   "execution_count": 25,
   "id": "c2ebe4e0",
   "metadata": {},
   "outputs": [
    {
     "data": {
      "text/html": [
       "<div>\n",
       "<style scoped>\n",
       "    .dataframe tbody tr th:only-of-type {\n",
       "        vertical-align: middle;\n",
       "    }\n",
       "\n",
       "    .dataframe tbody tr th {\n",
       "        vertical-align: top;\n",
       "    }\n",
       "\n",
       "    .dataframe thead th {\n",
       "        text-align: right;\n",
       "    }\n",
       "</style>\n",
       "<table border=\"1\" class=\"dataframe\">\n",
       "  <thead>\n",
       "    <tr style=\"text-align: right;\">\n",
       "      <th></th>\n",
       "      <th>affiliate_commission_percentual</th>\n",
       "      <th>affiliate_id</th>\n",
       "      <th>producer_id</th>\n",
       "    </tr>\n",
       "  </thead>\n",
       "  <tbody>\n",
       "    <tr>\n",
       "      <th>85</th>\n",
       "      <td>NaN</td>\n",
       "      <td>213339</td>\n",
       "      <td>213339</td>\n",
       "    </tr>\n",
       "    <tr>\n",
       "      <th>106</th>\n",
       "      <td>NaN</td>\n",
       "      <td>195000</td>\n",
       "      <td>195000</td>\n",
       "    </tr>\n",
       "    <tr>\n",
       "      <th>22</th>\n",
       "      <td>NaN</td>\n",
       "      <td>431496</td>\n",
       "      <td>298517</td>\n",
       "    </tr>\n",
       "    <tr>\n",
       "      <th>11</th>\n",
       "      <td>NaN</td>\n",
       "      <td>618642</td>\n",
       "      <td>618642</td>\n",
       "    </tr>\n",
       "    <tr>\n",
       "      <th>65</th>\n",
       "      <td>NaN</td>\n",
       "      <td>8716</td>\n",
       "      <td>361052</td>\n",
       "    </tr>\n",
       "  </tbody>\n",
       "</table>\n",
       "<p>5 rows × 3 columns</p>\n",
       "</div>"
      ],
      "text/plain": [
       "     affiliate_commission_percentual  affiliate_id  producer_id\n",
       "85                               NaN        213339       213339\n",
       "106                              NaN        195000       195000\n",
       "22                               NaN        431496       298517\n",
       "11                               NaN        618642       618642\n",
       "65                               NaN          8716       361052\n",
       "\n",
       "[5 rows x 3 columns]"
      ]
     },
     "execution_count": 25,
     "metadata": {},
     "output_type": "execute_result"
    }
   ],
   "source": [
    "# inspect rows where affiliate_commission_percentual is NaN to validate business rule\n",
    "df_description.loc[\n",
    "    df_description[\"affiliate_commission_percentual\"].isna(),\n",
    "    [\"affiliate_commission_percentual\", \"affiliate_id\", \"producer_id\"]    \n",
    "].sample(5, random_state=7)"
   ]
  },
  {
   "cell_type": "code",
   "execution_count": 26,
   "id": "d7dc8b83",
   "metadata": {},
   "outputs": [],
   "source": [
    "# as NaNs in affiliate_commission_percentual don't seem to be due to business rule,\n",
    "# let's fill NaN with -1 (number outside of the scope of min-max range)\n",
    "df_description[\"affiliate_commission_percentual\"] = df_description[\"affiliate_commission_percentual\"].fillna(value=-1)\n",
    "\n",
    "# sanity check\n",
    "assert (df_description[\"affiliate_commission_percentual\"] == -1).sum() == num_nas, \"Misleading fillna operation\""
   ]
  },
  {
   "attachments": {},
   "cell_type": "markdown",
   "id": "918bd63b",
   "metadata": {
    "heading_collapsed": true,
    "hidden": true
   },
   "source": [
    "## 2.9 - Descriptive Statistics"
   ]
  },
  {
   "attachments": {},
   "cell_type": "markdown",
   "id": "66576dc1",
   "metadata": {},
   "source": [
    "*Inspect some summary statistics for numerical columns*"
   ]
  },
  {
   "cell_type": "code",
   "execution_count": 27,
   "id": "ea18362e",
   "metadata": {},
   "outputs": [],
   "source": [
    "# split dataset into types of features\n",
    "df_number = df_description.select_dtypes(include=[\"number\", \"bool\"])\n",
    "df_date = df_description.select_dtypes(include=[\"datetime\"])\n",
    "df_string = df_description.select_dtypes(include=[\"object\"])\n",
    "\n",
    "# sanity check\n",
    "assert df_number.shape[1] + df_date.shape[1] + df_string.shape[1] == df_description.shape[1], \"\"\"Revise the previous split, something may be wrong!\"\"\""
   ]
  },
  {
   "attachments": {},
   "cell_type": "markdown",
   "id": "90cd3688",
   "metadata": {},
   "source": [
    "### 2.9.1 - Numerical Variables"
   ]
  },
  {
   "attachments": {},
   "cell_type": "markdown",
   "id": "21704db6",
   "metadata": {},
   "source": [
    "*Inspect numerical variables*"
   ]
  },
  {
   "cell_type": "code",
   "execution_count": 28,
   "id": "50ae4b5d",
   "metadata": {},
   "outputs": [
    {
     "name": "stdout",
     "output_type": "stream",
     "text": [
      "\n",
      "\n",
      "Statistics for Numerical Variables [NaNs are ignored]:\n"
     ]
    },
    {
     "data": {
      "text/html": [
       "<style type=\"text/css\">\n",
       "#T_0a389_row0_col5, #T_0a389_row0_col6, #T_0a389_row1_col5, #T_0a389_row1_col6, #T_0a389_row2_col5, #T_0a389_row2_col6, #T_0a389_row3_col5, #T_0a389_row3_col6, #T_0a389_row4_col5, #T_0a389_row4_col6, #T_0a389_row5_col5, #T_0a389_row5_col6, #T_0a389_row6_col5, #T_0a389_row6_col6, #T_0a389_row7_col5, #T_0a389_row7_col6 {\n",
       "  background-color: Navy;\n",
       "  color: White;\n",
       "}\n",
       "</style>\n",
       "<table id=\"T_0a389\">\n",
       "  <thead>\n",
       "    <tr>\n",
       "      <th class=\"blank level0\" >&nbsp;</th>\n",
       "      <th id=\"T_0a389_level0_col0\" class=\"col_heading level0 col0\" >attribute</th>\n",
       "      <th id=\"T_0a389_level0_col1\" class=\"col_heading level0 col1\" >mean</th>\n",
       "      <th id=\"T_0a389_level0_col2\" class=\"col_heading level0 col2\" >median</th>\n",
       "      <th id=\"T_0a389_level0_col3\" class=\"col_heading level0 col3\" >std</th>\n",
       "      <th id=\"T_0a389_level0_col4\" class=\"col_heading level0 col4\" >iqr</th>\n",
       "      <th id=\"T_0a389_level0_col5\" class=\"col_heading level0 col5\" >min</th>\n",
       "      <th id=\"T_0a389_level0_col6\" class=\"col_heading level0 col6\" >max</th>\n",
       "      <th id=\"T_0a389_level0_col7\" class=\"col_heading level0 col7\" >range</th>\n",
       "      <th id=\"T_0a389_level0_col8\" class=\"col_heading level0 col8\" >skew</th>\n",
       "      <th id=\"T_0a389_level0_col9\" class=\"col_heading level0 col9\" >kurtosis</th>\n",
       "    </tr>\n",
       "  </thead>\n",
       "  <tbody>\n",
       "    <tr>\n",
       "      <th id=\"T_0a389_level0_row0\" class=\"row_heading level0 row0\" >0</th>\n",
       "      <td id=\"T_0a389_row0_col0\" class=\"data row0 col0\" >purchase_id</td>\n",
       "      <td id=\"T_0a389_row0_col1\" class=\"data row0 col1\" >12.445.456,601</td>\n",
       "      <td id=\"T_0a389_row0_col2\" class=\"data row0 col2\" >12.468.487,500</td>\n",
       "      <td id=\"T_0a389_row0_col3\" class=\"data row0 col3\" >917.581,737</td>\n",
       "      <td id=\"T_0a389_row0_col4\" class=\"data row0 col4\" >1.579.356,500</td>\n",
       "      <td id=\"T_0a389_row0_col5\" class=\"data row0 col5\" >1.663.958,000</td>\n",
       "      <td id=\"T_0a389_row0_col6\" class=\"data row0 col6\" >14.357.203,000</td>\n",
       "      <td id=\"T_0a389_row0_col7\" class=\"data row0 col7\" >12.693.245,000</td>\n",
       "      <td id=\"T_0a389_row0_col8\" class=\"data row0 col8\" >-0,090</td>\n",
       "      <td id=\"T_0a389_row0_col9\" class=\"data row0 col9\" >-0,756</td>\n",
       "    </tr>\n",
       "    <tr>\n",
       "      <th id=\"T_0a389_level0_row1\" class=\"row_heading level0 row1\" >1</th>\n",
       "      <td id=\"T_0a389_row1_col0\" class=\"data row1 col0\" >product_id</td>\n",
       "      <td id=\"T_0a389_row1_col1\" class=\"data row1 col1\" >148.595,814</td>\n",
       "      <td id=\"T_0a389_row1_col2\" class=\"data row1 col2\" >154.310,000</td>\n",
       "      <td id=\"T_0a389_row1_col3\" class=\"data row1 col3\" >55.543,152</td>\n",
       "      <td id=\"T_0a389_row1_col4\" class=\"data row1 col4\" >81.796,000</td>\n",
       "      <td id=\"T_0a389_row1_col5\" class=\"data row1 col5\" >4,000</td>\n",
       "      <td id=\"T_0a389_row1_col6\" class=\"data row1 col6\" >319.129,000</td>\n",
       "      <td id=\"T_0a389_row1_col7\" class=\"data row1 col7\" >319.125,000</td>\n",
       "      <td id=\"T_0a389_row1_col8\" class=\"data row1 col8\" >-0,482</td>\n",
       "      <td id=\"T_0a389_row1_col9\" class=\"data row1 col9\" >-0,702</td>\n",
       "    </tr>\n",
       "    <tr>\n",
       "      <th id=\"T_0a389_level0_row2\" class=\"row_heading level0 row2\" >2</th>\n",
       "      <td id=\"T_0a389_row2_col0\" class=\"data row2 col0\" >affiliate_id</td>\n",
       "      <td id=\"T_0a389_row2_col1\" class=\"data row2 col1\" >2.297.500,688</td>\n",
       "      <td id=\"T_0a389_row2_col2\" class=\"data row2 col2\" >1.690.428,000</td>\n",
       "      <td id=\"T_0a389_row2_col3\" class=\"data row2 col3\" >2.092.655,502</td>\n",
       "      <td id=\"T_0a389_row2_col4\" class=\"data row2 col4\" >3.549.994,000</td>\n",
       "      <td id=\"T_0a389_row2_col5\" class=\"data row2 col5\" >3,000</td>\n",
       "      <td id=\"T_0a389_row2_col6\" class=\"data row2 col6\" >7.700.836,000</td>\n",
       "      <td id=\"T_0a389_row2_col7\" class=\"data row2 col7\" >7.700.833,000</td>\n",
       "      <td id=\"T_0a389_row2_col8\" class=\"data row2 col8\" >0,651</td>\n",
       "      <td id=\"T_0a389_row2_col9\" class=\"data row2 col9\" >-0,823</td>\n",
       "    </tr>\n",
       "    <tr>\n",
       "      <th id=\"T_0a389_level0_row3\" class=\"row_heading level0 row3\" >3</th>\n",
       "      <td id=\"T_0a389_row3_col0\" class=\"data row3 col0\" >producer_id</td>\n",
       "      <td id=\"T_0a389_row3_col1\" class=\"data row3 col1\" >2.164.479,522</td>\n",
       "      <td id=\"T_0a389_row3_col2\" class=\"data row3 col2\" >1.377.289,000</td>\n",
       "      <td id=\"T_0a389_row3_col3\" class=\"data row3 col3\" >2.038.959,782</td>\n",
       "      <td id=\"T_0a389_row3_col4\" class=\"data row3 col4\" >3.366.648,000</td>\n",
       "      <td id=\"T_0a389_row3_col5\" class=\"data row3 col5\" >3,000</td>\n",
       "      <td id=\"T_0a389_row3_col6\" class=\"data row3 col6\" >9.868.481,000</td>\n",
       "      <td id=\"T_0a389_row3_col7\" class=\"data row3 col7\" >9.868.478,000</td>\n",
       "      <td id=\"T_0a389_row3_col8\" class=\"data row3 col8\" >0,724</td>\n",
       "      <td id=\"T_0a389_row3_col9\" class=\"data row3 col9\" >-0,699</td>\n",
       "    </tr>\n",
       "    <tr>\n",
       "      <th id=\"T_0a389_level0_row4\" class=\"row_heading level0 row4\" >4</th>\n",
       "      <td id=\"T_0a389_row4_col0\" class=\"data row4 col0\" >buyer_id</td>\n",
       "      <td id=\"T_0a389_row4_col1\" class=\"data row4 col1\" >5.187.551,341</td>\n",
       "      <td id=\"T_0a389_row4_col2\" class=\"data row4 col2\" >5.999.153,500</td>\n",
       "      <td id=\"T_0a389_row4_col3\" class=\"data row4 col3\" >2.199.255,869</td>\n",
       "      <td id=\"T_0a389_row4_col4\" class=\"data row4 col4\" >3.216.124,250</td>\n",
       "      <td id=\"T_0a389_row4_col5\" class=\"data row4 col5\" >60,000</td>\n",
       "      <td id=\"T_0a389_row4_col6\" class=\"data row4 col6\" >12.014.792,000</td>\n",
       "      <td id=\"T_0a389_row4_col7\" class=\"data row4 col7\" >12.014.732,000</td>\n",
       "      <td id=\"T_0a389_row4_col8\" class=\"data row4 col8\" >-0,878</td>\n",
       "      <td id=\"T_0a389_row4_col9\" class=\"data row4 col9\" >-0,492</td>\n",
       "    </tr>\n",
       "    <tr>\n",
       "      <th id=\"T_0a389_level0_row5\" class=\"row_heading level0 row5\" >5</th>\n",
       "      <td id=\"T_0a389_row5_col0\" class=\"data row5 col0\" >purchase_value</td>\n",
       "      <td id=\"T_0a389_row5_col1\" class=\"data row5 col1\" >0,000</td>\n",
       "      <td id=\"T_0a389_row5_col2\" class=\"data row5 col2\" >-0,350</td>\n",
       "      <td id=\"T_0a389_row5_col3\" class=\"data row5 col3\" >1,000</td>\n",
       "      <td id=\"T_0a389_row5_col4\" class=\"data row5 col4\" >0,518</td>\n",
       "      <td id=\"T_0a389_row5_col5\" class=\"data row5 col5\" >-0,541</td>\n",
       "      <td id=\"T_0a389_row5_col6\" class=\"data row5 col6\" >124,561</td>\n",
       "      <td id=\"T_0a389_row5_col7\" class=\"data row5 col7\" >125,102</td>\n",
       "      <td id=\"T_0a389_row5_col8\" class=\"data row5 col8\" >10,817</td>\n",
       "      <td id=\"T_0a389_row5_col9\" class=\"data row5 col9\" >629,206</td>\n",
       "    </tr>\n",
       "    <tr>\n",
       "      <th id=\"T_0a389_level0_row6\" class=\"row_heading level0 row6\" >6</th>\n",
       "      <td id=\"T_0a389_row6_col0\" class=\"data row6 col0\" >affiliate_commission_percentual</td>\n",
       "      <td id=\"T_0a389_row6_col1\" class=\"data row6 col1\" >7,595</td>\n",
       "      <td id=\"T_0a389_row6_col2\" class=\"data row6 col2\" >0,000</td>\n",
       "      <td id=\"T_0a389_row6_col3\" class=\"data row6 col3\" >18,476</td>\n",
       "      <td id=\"T_0a389_row6_col4\" class=\"data row6 col4\" >0,000</td>\n",
       "      <td id=\"T_0a389_row6_col5\" class=\"data row6 col5\" >-1,000</td>\n",
       "      <td id=\"T_0a389_row6_col6\" class=\"data row6 col6\" >100,000</td>\n",
       "      <td id=\"T_0a389_row6_col7\" class=\"data row6 col7\" >101,000</td>\n",
       "      <td id=\"T_0a389_row6_col8\" class=\"data row6 col8\" >2,259</td>\n",
       "      <td id=\"T_0a389_row6_col9\" class=\"data row6 col9\" >3,754</td>\n",
       "    </tr>\n",
       "    <tr>\n",
       "      <th id=\"T_0a389_level0_row7\" class=\"row_heading level0 row7\" >7</th>\n",
       "      <td id=\"T_0a389_row7_col0\" class=\"data row7 col0\" >sell</td>\n",
       "      <td id=\"T_0a389_row7_col1\" class=\"data row7 col1\" >1,000</td>\n",
       "      <td id=\"T_0a389_row7_col2\" class=\"data row7 col2\" >1,000</td>\n",
       "      <td id=\"T_0a389_row7_col3\" class=\"data row7 col3\" >0,000</td>\n",
       "      <td id=\"T_0a389_row7_col4\" class=\"data row7 col4\" >0,000</td>\n",
       "      <td id=\"T_0a389_row7_col5\" class=\"data row7 col5\" >1,000</td>\n",
       "      <td id=\"T_0a389_row7_col6\" class=\"data row7 col6\" >1,000</td>\n",
       "      <td id=\"T_0a389_row7_col7\" class=\"data row7 col7\" >0,000</td>\n",
       "      <td id=\"T_0a389_row7_col8\" class=\"data row7 col8\" >0,000</td>\n",
       "      <td id=\"T_0a389_row7_col9\" class=\"data row7 col9\" >0,000</td>\n",
       "    </tr>\n",
       "  </tbody>\n",
       "</table>\n"
      ],
      "text/plain": [
       "<pandas.io.formats.style.Styler at 0x7f41dd458ca0>"
      ]
     },
     "metadata": {},
     "output_type": "display_data"
    }
   ],
   "source": [
    "# check summary statistics\n",
    "summary_statistics(df_number)"
   ]
  },
  {
   "attachments": {},
   "cell_type": "markdown",
   "id": "55c73cb6",
   "metadata": {},
   "source": [
    "According to business rule:\n",
    "- purchase_value: \"valor da compra. Esse dado, assim como nicho e categoria foi codificado para manter a  confidencialidade. O valor apresentado no dataset é o **z-score** do valor real\";\n",
    "  - So it is fine to have negative values!"
   ]
  },
  {
   "attachments": {},
   "cell_type": "markdown",
   "id": "c5f415f3",
   "metadata": {},
   "source": [
    "### 2.9.2 - Categorical Variables"
   ]
  },
  {
   "attachments": {},
   "cell_type": "markdown",
   "id": "cd102a7d",
   "metadata": {},
   "source": [
    "*Inspect categorical variables*"
   ]
  },
  {
   "cell_type": "code",
   "execution_count": 29,
   "id": "3ad44e8e",
   "metadata": {},
   "outputs": [
    {
     "name": "stdout",
     "output_type": "stream",
     "text": [
      "Overview of string columns:\n"
     ]
    },
    {
     "data": {
      "text/html": [
       "<style type=\"text/css\">\n",
       "#T_29e3e_row0_col1, #T_29e3e_row1_col1, #T_29e3e_row2_col1, #T_29e3e_row3_col1 {\n",
       "  background-color: Navy;\n",
       "  color: White;\n",
       "}\n",
       "</style>\n",
       "<table id=\"T_29e3e\">\n",
       "  <thead>\n",
       "    <tr>\n",
       "      <th class=\"blank level0\" >&nbsp;</th>\n",
       "      <th id=\"T_29e3e_level0_col0\" class=\"col_heading level0 col0\" >Num NAs</th>\n",
       "      <th id=\"T_29e3e_level0_col1\" class=\"col_heading level0 col1\" >Percent NAs</th>\n",
       "      <th id=\"T_29e3e_level0_col2\" class=\"col_heading level0 col2\" >Num unique [include NAs]</th>\n",
       "      <th id=\"T_29e3e_level0_col3\" class=\"col_heading level0 col3\" >Data Type</th>\n",
       "    </tr>\n",
       "  </thead>\n",
       "  <tbody>\n",
       "    <tr>\n",
       "      <th id=\"T_29e3e_level0_row0\" class=\"row_heading level0 row0\" >product_category</th>\n",
       "      <td id=\"T_29e3e_row0_col0\" class=\"data row0 col0\" >0</td>\n",
       "      <td id=\"T_29e3e_row0_col1\" class=\"data row0 col1\" >0</td>\n",
       "      <td id=\"T_29e3e_row0_col2\" class=\"data row0 col2\" >10</td>\n",
       "      <td id=\"T_29e3e_row0_col3\" class=\"data row0 col3\" >object</td>\n",
       "    </tr>\n",
       "    <tr>\n",
       "      <th id=\"T_29e3e_level0_row1\" class=\"row_heading level0 row1\" >product_niche</th>\n",
       "      <td id=\"T_29e3e_row1_col0\" class=\"data row1 col0\" >0</td>\n",
       "      <td id=\"T_29e3e_row1_col1\" class=\"data row1 col1\" >0</td>\n",
       "      <td id=\"T_29e3e_row1_col2\" class=\"data row1 col2\" >25</td>\n",
       "      <td id=\"T_29e3e_row1_col3\" class=\"data row1 col3\" >object</td>\n",
       "    </tr>\n",
       "    <tr>\n",
       "      <th id=\"T_29e3e_level0_row2\" class=\"row_heading level0 row2\" >purchase_device</th>\n",
       "      <td id=\"T_29e3e_row2_col0\" class=\"data row2 col0\" >0</td>\n",
       "      <td id=\"T_29e3e_row2_col1\" class=\"data row2 col1\" >0</td>\n",
       "      <td id=\"T_29e3e_row2_col2\" class=\"data row2 col2\" >5</td>\n",
       "      <td id=\"T_29e3e_row2_col3\" class=\"data row2 col3\" >object</td>\n",
       "    </tr>\n",
       "    <tr>\n",
       "      <th id=\"T_29e3e_level0_row3\" class=\"row_heading level0 row3\" >purchase_origin</th>\n",
       "      <td id=\"T_29e3e_row3_col0\" class=\"data row3 col0\" >0</td>\n",
       "      <td id=\"T_29e3e_row3_col1\" class=\"data row3 col1\" >0</td>\n",
       "      <td id=\"T_29e3e_row3_col2\" class=\"data row3 col2\" >9.603</td>\n",
       "      <td id=\"T_29e3e_row3_col3\" class=\"data row3 col3\" >object</td>\n",
       "    </tr>\n",
       "  </tbody>\n",
       "</table>\n"
      ],
      "text/plain": [
       "<pandas.io.formats.style.Styler at 0x7f41dd459900>"
      ]
     },
     "metadata": {},
     "output_type": "display_data"
    },
    {
     "name": "stdout",
     "output_type": "stream",
     "text": [
      "------------------------------------------------- \n",
      "\n",
      "\u001b[94m--->\u001b[0m The unique values for \u001b[94m\u001b[1mproduct_category\u001b[0m\u001b[0m column are: [\u001b[1mvalues are truncated\u001b[0m] \n",
      "\n",
      "['Video', 'Podcast', 'Phisical book', 'eBook', 'In-class course', 'Workshop', 'Webinar', 'eTicket', 'Subscription', 'App']\n",
      "------------------------------------------------- \n",
      "\n",
      "\u001b[94m--->\u001b[0m The unique values for \u001b[94m\u001b[1mproduct_niche\u001b[0m\u001b[0m column are: [\u001b[1mvalues are truncated\u001b[0m] \n",
      "\n",
      "['Presentation skills', 'Child psychology', 'Anxiety management', 'Teaching English', 'Online course creation', 'Media training', 'Storytelling', 'YouTube video creation', 'Procrastination', 'Organization', 'Negotiation', 'Careers', 'Personal finance', 'Filmmaking', 'Government', 'Global diplomacy', 'Immigration', 'Economics', 'Accounting', 'Biology', 'Physics', 'Genetics', 'Disease', 'Thermodynamics', 'Travel hacking']\n",
      "------------------------------------------------- \n",
      "\n",
      "\u001b[94m--->\u001b[0m The unique values for \u001b[94m\u001b[1mpurchase_device\u001b[0m\u001b[0m column are: [\u001b[1mvalues are truncated\u001b[0m] \n",
      "\n",
      "['Smart TV', 'Tablet', 'Desktop', 'eReaders', 'Cellphone']\n",
      "------------------------------------------------- \n",
      "\n",
      "\u001b[94m--->\u001b[0m The unique values for \u001b[94m\u001b[1mpurchase_origin\u001b[0m\u001b[0m column are: [\u001b[1mvalues are truncated\u001b[0m] \n",
      "\n",
      "Column purchase_origin has more than 30 unique values. To avoid a noisy display, they weren't printed. You can change the nunique_threshold param if you do want to print them.\n",
      "------------------------------------------------- \n",
      "\n"
     ]
    }
   ],
   "source": [
    "# check overview of categorical features\n",
    "categorical_summary(df_string, nunique_threshold=30, unique_name_len_threshold=50)"
   ]
  },
  {
   "attachments": {},
   "cell_type": "markdown",
   "id": "429001da",
   "metadata": {},
   "source": [
    "### 2.9.3 - Datetime Variables"
   ]
  },
  {
   "attachments": {},
   "cell_type": "markdown",
   "id": "4ff30514",
   "metadata": {},
   "source": [
    "*Inspect datetime variables*"
   ]
  },
  {
   "cell_type": "code",
   "execution_count": 30,
   "id": "8e847fd4",
   "metadata": {},
   "outputs": [
    {
     "data": {
      "text/html": [
       "<style type=\"text/css\">\n",
       "#T_1b660_row0_col0, #T_1b660_row0_col1, #T_1b660_row0_col2, #T_1b660_row0_col6, #T_1b660_row1_col0, #T_1b660_row1_col1, #T_1b660_row1_col2, #T_1b660_row1_col6 {\n",
       "  background-color: Navy;\n",
       "  color: White;\n",
       "}\n",
       "</style>\n",
       "<table id=\"T_1b660\">\n",
       "  <thead>\n",
       "    <tr>\n",
       "      <th class=\"blank level0\" >&nbsp;</th>\n",
       "      <th id=\"T_1b660_level0_col0\" class=\"col_heading level0 col0\" >first date</th>\n",
       "      <th id=\"T_1b660_level0_col1\" class=\"col_heading level0 col1\" >last date</th>\n",
       "      <th id=\"T_1b660_level0_col2\" class=\"col_heading level0 col2\" >range [months]</th>\n",
       "      <th id=\"T_1b660_level0_col3\" class=\"col_heading level0 col3\" >mean</th>\n",
       "      <th id=\"T_1b660_level0_col4\" class=\"col_heading level0 col4\" >median</th>\n",
       "      <th id=\"T_1b660_level0_col5\" class=\"col_heading level0 col5\" >Num NAs</th>\n",
       "      <th id=\"T_1b660_level0_col6\" class=\"col_heading level0 col6\" >Percent NAs</th>\n",
       "      <th id=\"T_1b660_level0_col7\" class=\"col_heading level0 col7\" >count [non-NA]</th>\n",
       "      <th id=\"T_1b660_level0_col8\" class=\"col_heading level0 col8\" >nunique</th>\n",
       "    </tr>\n",
       "  </thead>\n",
       "  <tbody>\n",
       "    <tr>\n",
       "      <th id=\"T_1b660_level0_row0\" class=\"row_heading level0 row0\" >purchase_date</th>\n",
       "      <td id=\"T_1b660_row0_col0\" class=\"data row0 col0\" >2016-01-01 00:00:27</td>\n",
       "      <td id=\"T_1b660_row0_col1\" class=\"data row0 col1\" >2016-06-30 23:59:57</td>\n",
       "      <td id=\"T_1b660_row0_col2\" class=\"data row0 col2\" >6</td>\n",
       "      <td id=\"T_1b660_row0_col3\" class=\"data row0 col3\" >2016-04-04 18:39:34.511339776</td>\n",
       "      <td id=\"T_1b660_row0_col4\" class=\"data row0 col4\" >2016-04-07 18:50:16.500000</td>\n",
       "      <td id=\"T_1b660_row0_col5\" class=\"data row0 col5\" >0</td>\n",
       "      <td id=\"T_1b660_row0_col6\" class=\"data row0 col6\" >0</td>\n",
       "      <td id=\"T_1b660_row0_col7\" class=\"data row0 col7\" >1.599.828</td>\n",
       "      <td id=\"T_1b660_row0_col8\" class=\"data row0 col8\" >1.488.964</td>\n",
       "    </tr>\n",
       "    <tr>\n",
       "      <th id=\"T_1b660_level0_row1\" class=\"row_heading level0 row1\" >product_creation_date</th>\n",
       "      <td id=\"T_1b660_row1_col0\" class=\"data row1 col0\" >2008-10-27 01:39:34</td>\n",
       "      <td id=\"T_1b660_row1_col1\" class=\"data row1 col1\" >2016-12-31 13:43:50</td>\n",
       "      <td id=\"T_1b660_row1_col2\" class=\"data row1 col2\" >99</td>\n",
       "      <td id=\"T_1b660_row1_col3\" class=\"data row1 col3\" >2015-02-22 14:52:58.141221376</td>\n",
       "      <td id=\"T_1b660_row1_col4\" class=\"data row1 col4\" >2015-05-31 00:12:18</td>\n",
       "      <td id=\"T_1b660_row1_col5\" class=\"data row1 col5\" >0</td>\n",
       "      <td id=\"T_1b660_row1_col6\" class=\"data row1 col6\" >0</td>\n",
       "      <td id=\"T_1b660_row1_col7\" class=\"data row1 col7\" >1.599.828</td>\n",
       "      <td id=\"T_1b660_row1_col8\" class=\"data row1 col8\" >17.879</td>\n",
       "    </tr>\n",
       "  </tbody>\n",
       "</table>\n"
      ],
      "text/plain": [
       "<pandas.io.formats.style.Styler at 0x7f41dd45a590>"
      ]
     },
     "metadata": {},
     "output_type": "display_data"
    }
   ],
   "source": [
    "# check an overview of datetime features\n",
    "datetime_summary(df_date)"
   ]
  },
  {
   "attachments": {},
   "cell_type": "markdown",
   "id": "fcba07f5",
   "metadata": {},
   "source": [
    "### 2.9.4 - Investigate further:"
   ]
  },
  {
   "attachments": {},
   "cell_type": "markdown",
   "id": "e66e2046",
   "metadata": {},
   "source": [
    "*Variables to inspect the real meaning*"
   ]
  },
  {
   "cell_type": "code",
   "execution_count": 31,
   "id": "995e384c",
   "metadata": {},
   "outputs": [],
   "source": [
    "# None up to this point"
   ]
  },
  {
   "attachments": {},
   "cell_type": "markdown",
   "id": "0782f000",
   "metadata": {},
   "source": [
    "# **3 - FEATURE ENGINEERING**"
   ]
  },
  {
   "attachments": {},
   "cell_type": "markdown",
   "id": "15c2eb92",
   "metadata": {},
   "source": [
    "## 3.1 - Restore Point"
   ]
  },
  {
   "attachments": {},
   "cell_type": "markdown",
   "id": "86ffb7ec",
   "metadata": {},
   "source": [
    "*Create a checkpoint of the last dataframe from previous section*"
   ]
  },
  {
   "cell_type": "code",
   "execution_count": 32,
   "id": "d48c0545",
   "metadata": {},
   "outputs": [
    {
     "name": "stdout",
     "output_type": "stream",
     "text": [
      "*************************************************\n",
      "Dataframe size in memory: 566.315 MB \n",
      "\n",
      "-----------------------------\n",
      "Dataframe overview:\n"
     ]
    },
    {
     "data": {
      "text/html": [
       "<style type=\"text/css\">\n",
       "#T_ba2e9_row0_col1, #T_ba2e9_row0_col3, #T_ba2e9_row1_col1, #T_ba2e9_row1_col3, #T_ba2e9_row2_col1, #T_ba2e9_row2_col3, #T_ba2e9_row3_col1, #T_ba2e9_row3_col3, #T_ba2e9_row4_col1, #T_ba2e9_row4_col3, #T_ba2e9_row5_col1, #T_ba2e9_row5_col3, #T_ba2e9_row6_col1, #T_ba2e9_row6_col3, #T_ba2e9_row7_col1, #T_ba2e9_row7_col3, #T_ba2e9_row8_col1, #T_ba2e9_row8_col3, #T_ba2e9_row9_col1, #T_ba2e9_row9_col3, #T_ba2e9_row10_col1, #T_ba2e9_row10_col3, #T_ba2e9_row11_col1, #T_ba2e9_row11_col3, #T_ba2e9_row12_col1, #T_ba2e9_row12_col3, #T_ba2e9_row13_col1, #T_ba2e9_row13_col3, #T_ba2e9_row14_col1, #T_ba2e9_row14_col3 {\n",
       "  background-color: Navy;\n",
       "  color: White;\n",
       "}\n",
       "</style>\n",
       "<table id=\"T_ba2e9\">\n",
       "  <thead>\n",
       "    <tr>\n",
       "      <th class=\"blank level0\" >&nbsp;</th>\n",
       "      <th id=\"T_ba2e9_level0_col0\" class=\"col_heading level0 col0\" >Num NAs</th>\n",
       "      <th id=\"T_ba2e9_level0_col1\" class=\"col_heading level0 col1\" >Percent NAs</th>\n",
       "      <th id=\"T_ba2e9_level0_col2\" class=\"col_heading level0 col2\" >Num unique [include NAs]</th>\n",
       "      <th id=\"T_ba2e9_level0_col3\" class=\"col_heading level0 col3\" >Data Type</th>\n",
       "    </tr>\n",
       "  </thead>\n",
       "  <tbody>\n",
       "    <tr>\n",
       "      <th id=\"T_ba2e9_level0_row0\" class=\"row_heading level0 row0\" >purchase_id</th>\n",
       "      <td id=\"T_ba2e9_row0_col0\" class=\"data row0 col0\" >0</td>\n",
       "      <td id=\"T_ba2e9_row0_col1\" class=\"data row0 col1\" >0</td>\n",
       "      <td id=\"T_ba2e9_row0_col2\" class=\"data row0 col2\" >1.599.828</td>\n",
       "      <td id=\"T_ba2e9_row0_col3\" class=\"data row0 col3\" >int64</td>\n",
       "    </tr>\n",
       "    <tr>\n",
       "      <th id=\"T_ba2e9_level0_row1\" class=\"row_heading level0 row1\" >product_id</th>\n",
       "      <td id=\"T_ba2e9_row1_col0\" class=\"data row1 col0\" >0</td>\n",
       "      <td id=\"T_ba2e9_row1_col1\" class=\"data row1 col1\" >0</td>\n",
       "      <td id=\"T_ba2e9_row1_col2\" class=\"data row1 col2\" >17.883</td>\n",
       "      <td id=\"T_ba2e9_row1_col3\" class=\"data row1 col3\" >int64</td>\n",
       "    </tr>\n",
       "    <tr>\n",
       "      <th id=\"T_ba2e9_level0_row2\" class=\"row_heading level0 row2\" >affiliate_id</th>\n",
       "      <td id=\"T_ba2e9_row2_col0\" class=\"data row2 col0\" >0</td>\n",
       "      <td id=\"T_ba2e9_row2_col1\" class=\"data row2 col1\" >0</td>\n",
       "      <td id=\"T_ba2e9_row2_col2\" class=\"data row2 col2\" >22.947</td>\n",
       "      <td id=\"T_ba2e9_row2_col3\" class=\"data row2 col3\" >int64</td>\n",
       "    </tr>\n",
       "    <tr>\n",
       "      <th id=\"T_ba2e9_level0_row3\" class=\"row_heading level0 row3\" >producer_id</th>\n",
       "      <td id=\"T_ba2e9_row3_col0\" class=\"data row3 col0\" >0</td>\n",
       "      <td id=\"T_ba2e9_row3_col1\" class=\"data row3 col1\" >0</td>\n",
       "      <td id=\"T_ba2e9_row3_col2\" class=\"data row3 col2\" >8.020</td>\n",
       "      <td id=\"T_ba2e9_row3_col3\" class=\"data row3 col3\" >int64</td>\n",
       "    </tr>\n",
       "    <tr>\n",
       "      <th id=\"T_ba2e9_level0_row4\" class=\"row_heading level0 row4\" >buyer_id</th>\n",
       "      <td id=\"T_ba2e9_row4_col0\" class=\"data row4 col0\" >0</td>\n",
       "      <td id=\"T_ba2e9_row4_col1\" class=\"data row4 col1\" >0</td>\n",
       "      <td id=\"T_ba2e9_row4_col2\" class=\"data row4 col2\" >1.100.649</td>\n",
       "      <td id=\"T_ba2e9_row4_col3\" class=\"data row4 col3\" >int64</td>\n",
       "    </tr>\n",
       "    <tr>\n",
       "      <th id=\"T_ba2e9_level0_row5\" class=\"row_heading level0 row5\" >purchase_date</th>\n",
       "      <td id=\"T_ba2e9_row5_col0\" class=\"data row5 col0\" >0</td>\n",
       "      <td id=\"T_ba2e9_row5_col1\" class=\"data row5 col1\" >0</td>\n",
       "      <td id=\"T_ba2e9_row5_col2\" class=\"data row5 col2\" >1.488.964</td>\n",
       "      <td id=\"T_ba2e9_row5_col3\" class=\"data row5 col3\" >datetime64[ns]</td>\n",
       "    </tr>\n",
       "    <tr>\n",
       "      <th id=\"T_ba2e9_level0_row6\" class=\"row_heading level0 row6\" >product_creation_date</th>\n",
       "      <td id=\"T_ba2e9_row6_col0\" class=\"data row6 col0\" >0</td>\n",
       "      <td id=\"T_ba2e9_row6_col1\" class=\"data row6 col1\" >0</td>\n",
       "      <td id=\"T_ba2e9_row6_col2\" class=\"data row6 col2\" >17.879</td>\n",
       "      <td id=\"T_ba2e9_row6_col3\" class=\"data row6 col3\" >datetime64[ns]</td>\n",
       "    </tr>\n",
       "    <tr>\n",
       "      <th id=\"T_ba2e9_level0_row7\" class=\"row_heading level0 row7\" >product_category</th>\n",
       "      <td id=\"T_ba2e9_row7_col0\" class=\"data row7 col0\" >0</td>\n",
       "      <td id=\"T_ba2e9_row7_col1\" class=\"data row7 col1\" >0</td>\n",
       "      <td id=\"T_ba2e9_row7_col2\" class=\"data row7 col2\" >10</td>\n",
       "      <td id=\"T_ba2e9_row7_col3\" class=\"data row7 col3\" >object</td>\n",
       "    </tr>\n",
       "    <tr>\n",
       "      <th id=\"T_ba2e9_level0_row8\" class=\"row_heading level0 row8\" >product_niche</th>\n",
       "      <td id=\"T_ba2e9_row8_col0\" class=\"data row8 col0\" >0</td>\n",
       "      <td id=\"T_ba2e9_row8_col1\" class=\"data row8 col1\" >0</td>\n",
       "      <td id=\"T_ba2e9_row8_col2\" class=\"data row8 col2\" >25</td>\n",
       "      <td id=\"T_ba2e9_row8_col3\" class=\"data row8 col3\" >object</td>\n",
       "    </tr>\n",
       "    <tr>\n",
       "      <th id=\"T_ba2e9_level0_row9\" class=\"row_heading level0 row9\" >purchase_value</th>\n",
       "      <td id=\"T_ba2e9_row9_col0\" class=\"data row9 col0\" >0</td>\n",
       "      <td id=\"T_ba2e9_row9_col1\" class=\"data row9 col1\" >0</td>\n",
       "      <td id=\"T_ba2e9_row9_col2\" class=\"data row9 col2\" >32.617</td>\n",
       "      <td id=\"T_ba2e9_row9_col3\" class=\"data row9 col3\" >float64</td>\n",
       "    </tr>\n",
       "    <tr>\n",
       "      <th id=\"T_ba2e9_level0_row10\" class=\"row_heading level0 row10\" >affiliate_commission_percentual</th>\n",
       "      <td id=\"T_ba2e9_row10_col0\" class=\"data row10 col0\" >0</td>\n",
       "      <td id=\"T_ba2e9_row10_col1\" class=\"data row10 col1\" >0</td>\n",
       "      <td id=\"T_ba2e9_row10_col2\" class=\"data row10 col2\" >280</td>\n",
       "      <td id=\"T_ba2e9_row10_col3\" class=\"data row10 col3\" >float64</td>\n",
       "    </tr>\n",
       "    <tr>\n",
       "      <th id=\"T_ba2e9_level0_row11\" class=\"row_heading level0 row11\" >purchase_device</th>\n",
       "      <td id=\"T_ba2e9_row11_col0\" class=\"data row11 col0\" >0</td>\n",
       "      <td id=\"T_ba2e9_row11_col1\" class=\"data row11 col1\" >0</td>\n",
       "      <td id=\"T_ba2e9_row11_col2\" class=\"data row11 col2\" >5</td>\n",
       "      <td id=\"T_ba2e9_row11_col3\" class=\"data row11 col3\" >object</td>\n",
       "    </tr>\n",
       "    <tr>\n",
       "      <th id=\"T_ba2e9_level0_row12\" class=\"row_heading level0 row12\" >purchase_origin</th>\n",
       "      <td id=\"T_ba2e9_row12_col0\" class=\"data row12 col0\" >0</td>\n",
       "      <td id=\"T_ba2e9_row12_col1\" class=\"data row12 col1\" >0</td>\n",
       "      <td id=\"T_ba2e9_row12_col2\" class=\"data row12 col2\" >9.603</td>\n",
       "      <td id=\"T_ba2e9_row12_col3\" class=\"data row12 col3\" >object</td>\n",
       "    </tr>\n",
       "    <tr>\n",
       "      <th id=\"T_ba2e9_level0_row13\" class=\"row_heading level0 row13\" >is_origin_page_social_network</th>\n",
       "      <td id=\"T_ba2e9_row13_col0\" class=\"data row13 col0\" >0</td>\n",
       "      <td id=\"T_ba2e9_row13_col1\" class=\"data row13 col1\" >0</td>\n",
       "      <td id=\"T_ba2e9_row13_col2\" class=\"data row13 col2\" >2</td>\n",
       "      <td id=\"T_ba2e9_row13_col3\" class=\"data row13 col3\" >bool</td>\n",
       "    </tr>\n",
       "    <tr>\n",
       "      <th id=\"T_ba2e9_level0_row14\" class=\"row_heading level0 row14\" >sell</th>\n",
       "      <td id=\"T_ba2e9_row14_col0\" class=\"data row14 col0\" >0</td>\n",
       "      <td id=\"T_ba2e9_row14_col1\" class=\"data row14 col1\" >0</td>\n",
       "      <td id=\"T_ba2e9_row14_col2\" class=\"data row14 col2\" >1</td>\n",
       "      <td id=\"T_ba2e9_row14_col3\" class=\"data row14 col3\" >int64</td>\n",
       "    </tr>\n",
       "  </tbody>\n",
       "</table>\n"
      ],
      "text/plain": [
       "<pandas.io.formats.style.Styler at 0x7f42075b2290>"
      ]
     },
     "metadata": {},
     "output_type": "display_data"
    },
    {
     "name": "stdout",
     "output_type": "stream",
     "text": [
      "-----------------------------\n",
      "\n",
      " Dataframe shape is (1599828, 15) \n",
      "\n",
      "-----------------------------\n",
      "\n",
      "\n",
      "dataframe.sample(5)\n"
     ]
    },
    {
     "data": {
      "text/html": [
       "<div>\n",
       "<style scoped>\n",
       "    .dataframe tbody tr th:only-of-type {\n",
       "        vertical-align: middle;\n",
       "    }\n",
       "\n",
       "    .dataframe tbody tr th {\n",
       "        vertical-align: top;\n",
       "    }\n",
       "\n",
       "    .dataframe thead th {\n",
       "        text-align: right;\n",
       "    }\n",
       "</style>\n",
       "<table border=\"1\" class=\"dataframe\">\n",
       "  <thead>\n",
       "    <tr style=\"text-align: right;\">\n",
       "      <th></th>\n",
       "      <th>purchase_id</th>\n",
       "      <th>product_id</th>\n",
       "      <th>affiliate_id</th>\n",
       "      <th>producer_id</th>\n",
       "      <th>buyer_id</th>\n",
       "      <th>purchase_date</th>\n",
       "      <th>product_creation_date</th>\n",
       "      <th>product_category</th>\n",
       "      <th>product_niche</th>\n",
       "      <th>purchase_value</th>\n",
       "      <th>affiliate_commission_percentual</th>\n",
       "      <th>purchase_device</th>\n",
       "      <th>purchase_origin</th>\n",
       "      <th>is_origin_page_social_network</th>\n",
       "      <th>sell</th>\n",
       "    </tr>\n",
       "  </thead>\n",
       "  <tbody>\n",
       "    <tr>\n",
       "      <th>383926</th>\n",
       "      <td>11621960</td>\n",
       "      <td>179883</td>\n",
       "      <td>2264099</td>\n",
       "      <td>2264099</td>\n",
       "      <td>4467102</td>\n",
       "      <td>2016-02-18 23:04:04</td>\n",
       "      <td>2015-10-16 13:18:03</td>\n",
       "      <td>Phisical book</td>\n",
       "      <td>Global diplomacy</td>\n",
       "      <td>-0.2</td>\n",
       "      <td>0.0</td>\n",
       "      <td>Desktop</td>\n",
       "      <td>Origin cb6b</td>\n",
       "      <td>True</td>\n",
       "      <td>1</td>\n",
       "    </tr>\n",
       "    <tr>\n",
       "      <th>806968</th>\n",
       "      <td>12483208</td>\n",
       "      <td>116882</td>\n",
       "      <td>4621070</td>\n",
       "      <td>2026525</td>\n",
       "      <td>6983894</td>\n",
       "      <td>2016-04-08 19:34:59</td>\n",
       "      <td>2014-09-19 10:14:10</td>\n",
       "      <td>Phisical book</td>\n",
       "      <td>Negotiation</td>\n",
       "      <td>-0.4</td>\n",
       "      <td>0.0</td>\n",
       "      <td>eReaders</td>\n",
       "      <td>Origin 5159</td>\n",
       "      <td>True</td>\n",
       "      <td>1</td>\n",
       "    </tr>\n",
       "    <tr>\n",
       "      <th>587584</th>\n",
       "      <td>12039290</td>\n",
       "      <td>181119</td>\n",
       "      <td>213339</td>\n",
       "      <td>213339</td>\n",
       "      <td>4695931</td>\n",
       "      <td>2016-03-13 16:41:19</td>\n",
       "      <td>2015-10-22 11:05:58</td>\n",
       "      <td>Phisical book</td>\n",
       "      <td>Organization</td>\n",
       "      <td>0.2</td>\n",
       "      <td>0.0</td>\n",
       "      <td>eReaders</td>\n",
       "      <td>Origin 3c5a</td>\n",
       "      <td>True</td>\n",
       "      <td>1</td>\n",
       "    </tr>\n",
       "    <tr>\n",
       "      <th>384197</th>\n",
       "      <td>11622527</td>\n",
       "      <td>144782</td>\n",
       "      <td>4719147</td>\n",
       "      <td>3241028</td>\n",
       "      <td>4432108</td>\n",
       "      <td>2016-02-18 23:46:29</td>\n",
       "      <td>2015-04-03 19:29:38</td>\n",
       "      <td>Phisical book</td>\n",
       "      <td>Online course creation</td>\n",
       "      <td>-0.2</td>\n",
       "      <td>45.0</td>\n",
       "      <td>Desktop</td>\n",
       "      <td>Origin 9034</td>\n",
       "      <td>True</td>\n",
       "      <td>1</td>\n",
       "    </tr>\n",
       "    <tr>\n",
       "      <th>1392825</th>\n",
       "      <td>13606396</td>\n",
       "      <td>233324</td>\n",
       "      <td>641011</td>\n",
       "      <td>641011</td>\n",
       "      <td>7513266</td>\n",
       "      <td>2016-06-08 17:38:28</td>\n",
       "      <td>2016-05-30 19:07:41</td>\n",
       "      <td>Phisical book</td>\n",
       "      <td>Personal finance</td>\n",
       "      <td>0.3</td>\n",
       "      <td>0.0</td>\n",
       "      <td>eReaders</td>\n",
       "      <td>Origin eeeb</td>\n",
       "      <td>True</td>\n",
       "      <td>1</td>\n",
       "    </tr>\n",
       "  </tbody>\n",
       "</table>\n",
       "<p>5 rows × 15 columns</p>\n",
       "</div>"
      ],
      "text/plain": [
       "         purchase_id  product_id  affiliate_id  producer_id  buyer_id   \n",
       "383926      11621960      179883       2264099      2264099   4467102  \\\n",
       "806968      12483208      116882       4621070      2026525   6983894   \n",
       "587584      12039290      181119        213339       213339   4695931   \n",
       "384197      11622527      144782       4719147      3241028   4432108   \n",
       "1392825     13606396      233324        641011       641011   7513266   \n",
       "\n",
       "              purchase_date product_creation_date product_category   \n",
       "383926  2016-02-18 23:04:04   2015-10-16 13:18:03    Phisical book  \\\n",
       "806968  2016-04-08 19:34:59   2014-09-19 10:14:10    Phisical book   \n",
       "587584  2016-03-13 16:41:19   2015-10-22 11:05:58    Phisical book   \n",
       "384197  2016-02-18 23:46:29   2015-04-03 19:29:38    Phisical book   \n",
       "1392825 2016-06-08 17:38:28   2016-05-30 19:07:41    Phisical book   \n",
       "\n",
       "                  product_niche  purchase_value   \n",
       "383926         Global diplomacy            -0.2  \\\n",
       "806968              Negotiation            -0.4   \n",
       "587584             Organization             0.2   \n",
       "384197   Online course creation            -0.2   \n",
       "1392825        Personal finance             0.3   \n",
       "\n",
       "         affiliate_commission_percentual purchase_device purchase_origin   \n",
       "383926                               0.0         Desktop     Origin cb6b  \\\n",
       "806968                               0.0        eReaders     Origin 5159   \n",
       "587584                               0.0        eReaders     Origin 3c5a   \n",
       "384197                              45.0         Desktop     Origin 9034   \n",
       "1392825                              0.0        eReaders     Origin eeeb   \n",
       "\n",
       "         is_origin_page_social_network  sell  \n",
       "383926                            True     1  \n",
       "806968                            True     1  \n",
       "587584                            True     1  \n",
       "384197                            True     1  \n",
       "1392825                           True     1  \n",
       "\n",
       "[5 rows x 15 columns]"
      ]
     },
     "metadata": {},
     "output_type": "display_data"
    },
    {
     "name": "stdout",
     "output_type": "stream",
     "text": [
      "*************************************************\n"
     ]
    }
   ],
   "source": [
    "# create a restore point for the previous section dataframe\n",
    "df_f_eng = df_description.copy()\n",
    "\n",
    "# check dataframe\n",
    "check_dataframe( df_f_eng )"
   ]
  },
  {
   "attachments": {},
   "cell_type": "markdown",
   "id": "5fc8ce4a",
   "metadata": {},
   "source": [
    "## 3.2 - Hypothesis Testing List"
   ]
  },
  {
   "attachments": {},
   "cell_type": "markdown",
   "id": "1aeb871f",
   "metadata": {},
   "source": [
    "*Define the list of hypotheses that will be validated during Exploratory Data Analysis (EDA)*"
   ]
  },
  {
   "attachments": {},
   "cell_type": "markdown",
   "id": "e96ccd38",
   "metadata": {},
   "source": [
    "**HYPOTHESIS MIND MAP**\n",
    "\n",
    "![Business hypothesis mindmap](../img/project_structure/xxx.jpg)\n",
    "\n",
    "*The above image is the product of a brainstorm that took into consideration many different variables that can impact the main business metric. This mind map is a great help when trying to raise hypotheses that could lead to insights. It is also helpful to guide feature engineering (create new relevant features) and when there is a need to look for more data elsewhere.*"
   ]
  },
  {
   "attachments": {},
   "cell_type": "markdown",
   "id": "517c742d",
   "metadata": {},
   "source": [
    "> *Taking into consideration hypothesis mind map (at the beginning of this notebook) and the business case questions:*\n",
    "\n",
    "\n",
    "**H1**. Does **Hotmart depend** on the **biggest producers** on the platform? That is, the **top-selling producers** are responsible for **most** of the Hotmart **billing**?\n",
    "\n",
    "**H2**. Are there any **relevant patterns or trends** in the data?\n",
    "\n",
    "**H3**. It is possible to **segment users** based on their characteristics (revenue, product niche, etc.)?\n",
    "\n",
    "**H4**. What **features most impact** the success of a **product**? that is, the What makes a **product sell more**?\n",
    "\n",
    "**H5**. It is possible to **estimate** how much **revenue** Hotmart will generate in the **next three months from the last month** shown in the dataset?\n"
   ]
  },
  {
   "attachments": {},
   "cell_type": "markdown",
   "id": "75ba067e",
   "metadata": {},
   "source": [
    "## 3.3 - Feature Creation"
   ]
  },
  {
   "attachments": {},
   "cell_type": "markdown",
   "id": "d4301622",
   "metadata": {},
   "source": [
    "*Create new features (columns) that can be meaningful for EDA and, especially, machine learning modelling.*"
   ]
  },
  {
   "cell_type": "code",
   "execution_count": 33,
   "id": "0558e18e",
   "metadata": {},
   "outputs": [
    {
     "data": {
      "text/html": [
       "<div>\n",
       "<style scoped>\n",
       "    .dataframe tbody tr th:only-of-type {\n",
       "        vertical-align: middle;\n",
       "    }\n",
       "\n",
       "    .dataframe tbody tr th {\n",
       "        vertical-align: top;\n",
       "    }\n",
       "\n",
       "    .dataframe thead th {\n",
       "        text-align: right;\n",
       "    }\n",
       "</style>\n",
       "<table border=\"1\" class=\"dataframe\">\n",
       "  <thead>\n",
       "    <tr style=\"text-align: right;\">\n",
       "      <th></th>\n",
       "      <th>product_creation_date</th>\n",
       "      <th>purchase_date</th>\n",
       "      <th>product_age_when_purchased</th>\n",
       "    </tr>\n",
       "  </thead>\n",
       "  <tbody>\n",
       "    <tr>\n",
       "      <th>687286</th>\n",
       "      <td>2015-12-01 12:37:00</td>\n",
       "      <td>2016-03-24 20:01:35</td>\n",
       "      <td>3</td>\n",
       "    </tr>\n",
       "    <tr>\n",
       "      <th>307154</th>\n",
       "      <td>2016-01-27 22:56:37</td>\n",
       "      <td>2016-02-08 01:28:05</td>\n",
       "      <td>1</td>\n",
       "    </tr>\n",
       "    <tr>\n",
       "      <th>94908</th>\n",
       "      <td>2015-01-10 15:32:09</td>\n",
       "      <td>2016-01-13 13:48:37</td>\n",
       "      <td>12</td>\n",
       "    </tr>\n",
       "    <tr>\n",
       "      <th>309710</th>\n",
       "      <td>2013-01-14 13:17:37</td>\n",
       "      <td>2016-02-08 13:19:27</td>\n",
       "      <td>37</td>\n",
       "    </tr>\n",
       "    <tr>\n",
       "      <th>1074287</th>\n",
       "      <td>2015-12-27 13:17:06</td>\n",
       "      <td>2016-05-06 12:38:26</td>\n",
       "      <td>5</td>\n",
       "    </tr>\n",
       "    <tr>\n",
       "      <th>1398614</th>\n",
       "      <td>2016-04-11 13:35:45</td>\n",
       "      <td>2016-06-09 12:45:41</td>\n",
       "      <td>2</td>\n",
       "    </tr>\n",
       "    <tr>\n",
       "      <th>1587844</th>\n",
       "      <td>2015-11-06 23:59:53</td>\n",
       "      <td>2016-06-29 12:32:21</td>\n",
       "      <td>7</td>\n",
       "    </tr>\n",
       "    <tr>\n",
       "      <th>1184721</th>\n",
       "      <td>2016-04-14 21:41:31</td>\n",
       "      <td>2016-05-17 02:28:10</td>\n",
       "      <td>1</td>\n",
       "    </tr>\n",
       "    <tr>\n",
       "      <th>514906</th>\n",
       "      <td>2016-02-12 14:33:39</td>\n",
       "      <td>2016-03-06 01:52:02</td>\n",
       "      <td>1</td>\n",
       "    </tr>\n",
       "    <tr>\n",
       "      <th>810722</th>\n",
       "      <td>2016-02-21 18:28:50</td>\n",
       "      <td>2016-04-09 11:46:53</td>\n",
       "      <td>2</td>\n",
       "    </tr>\n",
       "  </tbody>\n",
       "</table>\n",
       "<p>10 rows × 3 columns</p>\n",
       "</div>"
      ],
      "text/plain": [
       "        product_creation_date       purchase_date  product_age_when_purchased\n",
       "687286    2015-12-01 12:37:00 2016-03-24 20:01:35                           3\n",
       "307154    2016-01-27 22:56:37 2016-02-08 01:28:05                           1\n",
       "94908     2015-01-10 15:32:09 2016-01-13 13:48:37                          12\n",
       "309710    2013-01-14 13:17:37 2016-02-08 13:19:27                          37\n",
       "1074287   2015-12-27 13:17:06 2016-05-06 12:38:26                           5\n",
       "1398614   2016-04-11 13:35:45 2016-06-09 12:45:41                           2\n",
       "1587844   2015-11-06 23:59:53 2016-06-29 12:32:21                           7\n",
       "1184721   2016-04-14 21:41:31 2016-05-17 02:28:10                           1\n",
       "514906    2016-02-12 14:33:39 2016-03-06 01:52:02                           1\n",
       "810722    2016-02-21 18:28:50 2016-04-09 11:46:53                           2\n",
       "\n",
       "[10 rows x 3 columns]"
      ]
     },
     "execution_count": 33,
     "metadata": {},
     "output_type": "execute_result"
    }
   ],
   "source": [
    "# create a column to indicate what is the age of the product when it was purchased\n",
    "# purchase_date - product_creation_date in months\n",
    "# month = 0 ---> purchased on the month of creation\n",
    "df_f_eng[\"product_age_when_purchased\"] = df_f_eng[\"purchase_date\"].dt.to_period(freq=\"M\") - df_f_eng[\"product_creation_date\"].dt.to_period(freq=\"M\")\n",
    "# extract the month information\n",
    "df_f_eng[\"product_age_when_purchased\"] = df_f_eng[\"product_age_when_purchased\"].apply(lambda x: x.n)\n",
    "\n",
    "# inspect result\n",
    "df_f_eng[[\"product_creation_date\", \"purchase_date\", \"product_age_when_purchased\"]].sample(10, random_state=7)"
   ]
  },
  {
   "attachments": {},
   "cell_type": "markdown",
   "id": "755eba7c",
   "metadata": {
    "ExecuteTime": {
     "end_time": "2021-11-08T17:29:18.464606Z",
     "start_time": "2021-11-08T17:29:18.458947Z"
    },
    "heading_collapsed": true
   },
   "source": [
    "# **4 - DATA FILTERING**"
   ]
  },
  {
   "attachments": {},
   "cell_type": "markdown",
   "id": "026ae2aa",
   "metadata": {
    "hidden": true
   },
   "source": [
    "## 4.1 - Restore Point"
   ]
  },
  {
   "attachments": {},
   "cell_type": "markdown",
   "id": "cb4c9722",
   "metadata": {},
   "source": [
    "*Create a checkpoint of the last dataframe from previous section*"
   ]
  },
  {
   "cell_type": "code",
   "execution_count": 34,
   "id": "569c1ae8",
   "metadata": {
    "ExecuteTime": {
     "end_time": "2021-11-22T11:35:16.188448Z",
     "start_time": "2021-11-22T11:35:15.658676Z"
    },
    "hidden": true
   },
   "outputs": [
    {
     "name": "stdout",
     "output_type": "stream",
     "text": [
      "*************************************************\n",
      "Dataframe size in memory: 579.113 MB \n",
      "\n",
      "-----------------------------\n",
      "Dataframe overview:\n"
     ]
    },
    {
     "data": {
      "text/html": [
       "<style type=\"text/css\">\n",
       "#T_0613e_row0_col1, #T_0613e_row0_col3, #T_0613e_row1_col1, #T_0613e_row1_col3, #T_0613e_row2_col1, #T_0613e_row2_col3, #T_0613e_row3_col1, #T_0613e_row3_col3, #T_0613e_row4_col1, #T_0613e_row4_col3, #T_0613e_row5_col1, #T_0613e_row5_col3, #T_0613e_row6_col1, #T_0613e_row6_col3, #T_0613e_row7_col1, #T_0613e_row7_col3, #T_0613e_row8_col1, #T_0613e_row8_col3, #T_0613e_row9_col1, #T_0613e_row9_col3, #T_0613e_row10_col1, #T_0613e_row10_col3, #T_0613e_row11_col1, #T_0613e_row11_col3, #T_0613e_row12_col1, #T_0613e_row12_col3, #T_0613e_row13_col1, #T_0613e_row13_col3, #T_0613e_row14_col1, #T_0613e_row14_col3, #T_0613e_row15_col1, #T_0613e_row15_col3 {\n",
       "  background-color: Navy;\n",
       "  color: White;\n",
       "}\n",
       "</style>\n",
       "<table id=\"T_0613e\">\n",
       "  <thead>\n",
       "    <tr>\n",
       "      <th class=\"blank level0\" >&nbsp;</th>\n",
       "      <th id=\"T_0613e_level0_col0\" class=\"col_heading level0 col0\" >Num NAs</th>\n",
       "      <th id=\"T_0613e_level0_col1\" class=\"col_heading level0 col1\" >Percent NAs</th>\n",
       "      <th id=\"T_0613e_level0_col2\" class=\"col_heading level0 col2\" >Num unique [include NAs]</th>\n",
       "      <th id=\"T_0613e_level0_col3\" class=\"col_heading level0 col3\" >Data Type</th>\n",
       "    </tr>\n",
       "  </thead>\n",
       "  <tbody>\n",
       "    <tr>\n",
       "      <th id=\"T_0613e_level0_row0\" class=\"row_heading level0 row0\" >purchase_id</th>\n",
       "      <td id=\"T_0613e_row0_col0\" class=\"data row0 col0\" >0</td>\n",
       "      <td id=\"T_0613e_row0_col1\" class=\"data row0 col1\" >0</td>\n",
       "      <td id=\"T_0613e_row0_col2\" class=\"data row0 col2\" >1.599.828</td>\n",
       "      <td id=\"T_0613e_row0_col3\" class=\"data row0 col3\" >int64</td>\n",
       "    </tr>\n",
       "    <tr>\n",
       "      <th id=\"T_0613e_level0_row1\" class=\"row_heading level0 row1\" >product_id</th>\n",
       "      <td id=\"T_0613e_row1_col0\" class=\"data row1 col0\" >0</td>\n",
       "      <td id=\"T_0613e_row1_col1\" class=\"data row1 col1\" >0</td>\n",
       "      <td id=\"T_0613e_row1_col2\" class=\"data row1 col2\" >17.883</td>\n",
       "      <td id=\"T_0613e_row1_col3\" class=\"data row1 col3\" >int64</td>\n",
       "    </tr>\n",
       "    <tr>\n",
       "      <th id=\"T_0613e_level0_row2\" class=\"row_heading level0 row2\" >affiliate_id</th>\n",
       "      <td id=\"T_0613e_row2_col0\" class=\"data row2 col0\" >0</td>\n",
       "      <td id=\"T_0613e_row2_col1\" class=\"data row2 col1\" >0</td>\n",
       "      <td id=\"T_0613e_row2_col2\" class=\"data row2 col2\" >22.947</td>\n",
       "      <td id=\"T_0613e_row2_col3\" class=\"data row2 col3\" >int64</td>\n",
       "    </tr>\n",
       "    <tr>\n",
       "      <th id=\"T_0613e_level0_row3\" class=\"row_heading level0 row3\" >producer_id</th>\n",
       "      <td id=\"T_0613e_row3_col0\" class=\"data row3 col0\" >0</td>\n",
       "      <td id=\"T_0613e_row3_col1\" class=\"data row3 col1\" >0</td>\n",
       "      <td id=\"T_0613e_row3_col2\" class=\"data row3 col2\" >8.020</td>\n",
       "      <td id=\"T_0613e_row3_col3\" class=\"data row3 col3\" >int64</td>\n",
       "    </tr>\n",
       "    <tr>\n",
       "      <th id=\"T_0613e_level0_row4\" class=\"row_heading level0 row4\" >buyer_id</th>\n",
       "      <td id=\"T_0613e_row4_col0\" class=\"data row4 col0\" >0</td>\n",
       "      <td id=\"T_0613e_row4_col1\" class=\"data row4 col1\" >0</td>\n",
       "      <td id=\"T_0613e_row4_col2\" class=\"data row4 col2\" >1.100.649</td>\n",
       "      <td id=\"T_0613e_row4_col3\" class=\"data row4 col3\" >int64</td>\n",
       "    </tr>\n",
       "    <tr>\n",
       "      <th id=\"T_0613e_level0_row5\" class=\"row_heading level0 row5\" >purchase_date</th>\n",
       "      <td id=\"T_0613e_row5_col0\" class=\"data row5 col0\" >0</td>\n",
       "      <td id=\"T_0613e_row5_col1\" class=\"data row5 col1\" >0</td>\n",
       "      <td id=\"T_0613e_row5_col2\" class=\"data row5 col2\" >1.488.964</td>\n",
       "      <td id=\"T_0613e_row5_col3\" class=\"data row5 col3\" >datetime64[ns]</td>\n",
       "    </tr>\n",
       "    <tr>\n",
       "      <th id=\"T_0613e_level0_row6\" class=\"row_heading level0 row6\" >product_creation_date</th>\n",
       "      <td id=\"T_0613e_row6_col0\" class=\"data row6 col0\" >0</td>\n",
       "      <td id=\"T_0613e_row6_col1\" class=\"data row6 col1\" >0</td>\n",
       "      <td id=\"T_0613e_row6_col2\" class=\"data row6 col2\" >17.879</td>\n",
       "      <td id=\"T_0613e_row6_col3\" class=\"data row6 col3\" >datetime64[ns]</td>\n",
       "    </tr>\n",
       "    <tr>\n",
       "      <th id=\"T_0613e_level0_row7\" class=\"row_heading level0 row7\" >product_category</th>\n",
       "      <td id=\"T_0613e_row7_col0\" class=\"data row7 col0\" >0</td>\n",
       "      <td id=\"T_0613e_row7_col1\" class=\"data row7 col1\" >0</td>\n",
       "      <td id=\"T_0613e_row7_col2\" class=\"data row7 col2\" >10</td>\n",
       "      <td id=\"T_0613e_row7_col3\" class=\"data row7 col3\" >object</td>\n",
       "    </tr>\n",
       "    <tr>\n",
       "      <th id=\"T_0613e_level0_row8\" class=\"row_heading level0 row8\" >product_niche</th>\n",
       "      <td id=\"T_0613e_row8_col0\" class=\"data row8 col0\" >0</td>\n",
       "      <td id=\"T_0613e_row8_col1\" class=\"data row8 col1\" >0</td>\n",
       "      <td id=\"T_0613e_row8_col2\" class=\"data row8 col2\" >25</td>\n",
       "      <td id=\"T_0613e_row8_col3\" class=\"data row8 col3\" >object</td>\n",
       "    </tr>\n",
       "    <tr>\n",
       "      <th id=\"T_0613e_level0_row9\" class=\"row_heading level0 row9\" >purchase_value</th>\n",
       "      <td id=\"T_0613e_row9_col0\" class=\"data row9 col0\" >0</td>\n",
       "      <td id=\"T_0613e_row9_col1\" class=\"data row9 col1\" >0</td>\n",
       "      <td id=\"T_0613e_row9_col2\" class=\"data row9 col2\" >32.617</td>\n",
       "      <td id=\"T_0613e_row9_col3\" class=\"data row9 col3\" >float64</td>\n",
       "    </tr>\n",
       "    <tr>\n",
       "      <th id=\"T_0613e_level0_row10\" class=\"row_heading level0 row10\" >affiliate_commission_percentual</th>\n",
       "      <td id=\"T_0613e_row10_col0\" class=\"data row10 col0\" >0</td>\n",
       "      <td id=\"T_0613e_row10_col1\" class=\"data row10 col1\" >0</td>\n",
       "      <td id=\"T_0613e_row10_col2\" class=\"data row10 col2\" >280</td>\n",
       "      <td id=\"T_0613e_row10_col3\" class=\"data row10 col3\" >float64</td>\n",
       "    </tr>\n",
       "    <tr>\n",
       "      <th id=\"T_0613e_level0_row11\" class=\"row_heading level0 row11\" >purchase_device</th>\n",
       "      <td id=\"T_0613e_row11_col0\" class=\"data row11 col0\" >0</td>\n",
       "      <td id=\"T_0613e_row11_col1\" class=\"data row11 col1\" >0</td>\n",
       "      <td id=\"T_0613e_row11_col2\" class=\"data row11 col2\" >5</td>\n",
       "      <td id=\"T_0613e_row11_col3\" class=\"data row11 col3\" >object</td>\n",
       "    </tr>\n",
       "    <tr>\n",
       "      <th id=\"T_0613e_level0_row12\" class=\"row_heading level0 row12\" >purchase_origin</th>\n",
       "      <td id=\"T_0613e_row12_col0\" class=\"data row12 col0\" >0</td>\n",
       "      <td id=\"T_0613e_row12_col1\" class=\"data row12 col1\" >0</td>\n",
       "      <td id=\"T_0613e_row12_col2\" class=\"data row12 col2\" >9.603</td>\n",
       "      <td id=\"T_0613e_row12_col3\" class=\"data row12 col3\" >object</td>\n",
       "    </tr>\n",
       "    <tr>\n",
       "      <th id=\"T_0613e_level0_row13\" class=\"row_heading level0 row13\" >is_origin_page_social_network</th>\n",
       "      <td id=\"T_0613e_row13_col0\" class=\"data row13 col0\" >0</td>\n",
       "      <td id=\"T_0613e_row13_col1\" class=\"data row13 col1\" >0</td>\n",
       "      <td id=\"T_0613e_row13_col2\" class=\"data row13 col2\" >2</td>\n",
       "      <td id=\"T_0613e_row13_col3\" class=\"data row13 col3\" >bool</td>\n",
       "    </tr>\n",
       "    <tr>\n",
       "      <th id=\"T_0613e_level0_row14\" class=\"row_heading level0 row14\" >sell</th>\n",
       "      <td id=\"T_0613e_row14_col0\" class=\"data row14 col0\" >0</td>\n",
       "      <td id=\"T_0613e_row14_col1\" class=\"data row14 col1\" >0</td>\n",
       "      <td id=\"T_0613e_row14_col2\" class=\"data row14 col2\" >1</td>\n",
       "      <td id=\"T_0613e_row14_col3\" class=\"data row14 col3\" >int64</td>\n",
       "    </tr>\n",
       "    <tr>\n",
       "      <th id=\"T_0613e_level0_row15\" class=\"row_heading level0 row15\" >product_age_when_purchased</th>\n",
       "      <td id=\"T_0613e_row15_col0\" class=\"data row15 col0\" >0</td>\n",
       "      <td id=\"T_0613e_row15_col1\" class=\"data row15 col1\" >0</td>\n",
       "      <td id=\"T_0613e_row15_col2\" class=\"data row15 col2\" >93</td>\n",
       "      <td id=\"T_0613e_row15_col3\" class=\"data row15 col3\" >int64</td>\n",
       "    </tr>\n",
       "  </tbody>\n",
       "</table>\n"
      ],
      "text/plain": [
       "<pandas.io.formats.style.Styler at 0x7f42075b1e70>"
      ]
     },
     "metadata": {},
     "output_type": "display_data"
    },
    {
     "name": "stdout",
     "output_type": "stream",
     "text": [
      "-----------------------------\n",
      "\n",
      " Dataframe shape is (1599828, 16) \n",
      "\n",
      "-----------------------------\n",
      "\n",
      "\n",
      "Statistics for Numerical Variables [NaNs are ignored]:\n"
     ]
    },
    {
     "data": {
      "text/html": [
       "<style type=\"text/css\">\n",
       "#T_e356d_row0_col5, #T_e356d_row0_col6, #T_e356d_row1_col5, #T_e356d_row1_col6, #T_e356d_row2_col5, #T_e356d_row2_col6, #T_e356d_row3_col5, #T_e356d_row3_col6, #T_e356d_row4_col5, #T_e356d_row4_col6, #T_e356d_row5_col5, #T_e356d_row5_col6, #T_e356d_row6_col5, #T_e356d_row6_col6, #T_e356d_row7_col5, #T_e356d_row7_col6, #T_e356d_row8_col5, #T_e356d_row8_col6 {\n",
       "  background-color: Navy;\n",
       "  color: White;\n",
       "}\n",
       "</style>\n",
       "<table id=\"T_e356d\">\n",
       "  <thead>\n",
       "    <tr>\n",
       "      <th class=\"blank level0\" >&nbsp;</th>\n",
       "      <th id=\"T_e356d_level0_col0\" class=\"col_heading level0 col0\" >attribute</th>\n",
       "      <th id=\"T_e356d_level0_col1\" class=\"col_heading level0 col1\" >mean</th>\n",
       "      <th id=\"T_e356d_level0_col2\" class=\"col_heading level0 col2\" >median</th>\n",
       "      <th id=\"T_e356d_level0_col3\" class=\"col_heading level0 col3\" >std</th>\n",
       "      <th id=\"T_e356d_level0_col4\" class=\"col_heading level0 col4\" >iqr</th>\n",
       "      <th id=\"T_e356d_level0_col5\" class=\"col_heading level0 col5\" >min</th>\n",
       "      <th id=\"T_e356d_level0_col6\" class=\"col_heading level0 col6\" >max</th>\n",
       "      <th id=\"T_e356d_level0_col7\" class=\"col_heading level0 col7\" >range</th>\n",
       "      <th id=\"T_e356d_level0_col8\" class=\"col_heading level0 col8\" >skew</th>\n",
       "      <th id=\"T_e356d_level0_col9\" class=\"col_heading level0 col9\" >kurtosis</th>\n",
       "    </tr>\n",
       "  </thead>\n",
       "  <tbody>\n",
       "    <tr>\n",
       "      <th id=\"T_e356d_level0_row0\" class=\"row_heading level0 row0\" >0</th>\n",
       "      <td id=\"T_e356d_row0_col0\" class=\"data row0 col0\" >purchase_id</td>\n",
       "      <td id=\"T_e356d_row0_col1\" class=\"data row0 col1\" >12.445.456,601</td>\n",
       "      <td id=\"T_e356d_row0_col2\" class=\"data row0 col2\" >12.468.487,500</td>\n",
       "      <td id=\"T_e356d_row0_col3\" class=\"data row0 col3\" >917.581,737</td>\n",
       "      <td id=\"T_e356d_row0_col4\" class=\"data row0 col4\" >1.579.356,500</td>\n",
       "      <td id=\"T_e356d_row0_col5\" class=\"data row0 col5\" >1.663.958,000</td>\n",
       "      <td id=\"T_e356d_row0_col6\" class=\"data row0 col6\" >14.357.203,000</td>\n",
       "      <td id=\"T_e356d_row0_col7\" class=\"data row0 col7\" >12.693.245,000</td>\n",
       "      <td id=\"T_e356d_row0_col8\" class=\"data row0 col8\" >-0,090</td>\n",
       "      <td id=\"T_e356d_row0_col9\" class=\"data row0 col9\" >-0,756</td>\n",
       "    </tr>\n",
       "    <tr>\n",
       "      <th id=\"T_e356d_level0_row1\" class=\"row_heading level0 row1\" >1</th>\n",
       "      <td id=\"T_e356d_row1_col0\" class=\"data row1 col0\" >product_id</td>\n",
       "      <td id=\"T_e356d_row1_col1\" class=\"data row1 col1\" >148.595,814</td>\n",
       "      <td id=\"T_e356d_row1_col2\" class=\"data row1 col2\" >154.310,000</td>\n",
       "      <td id=\"T_e356d_row1_col3\" class=\"data row1 col3\" >55.543,152</td>\n",
       "      <td id=\"T_e356d_row1_col4\" class=\"data row1 col4\" >81.796,000</td>\n",
       "      <td id=\"T_e356d_row1_col5\" class=\"data row1 col5\" >4,000</td>\n",
       "      <td id=\"T_e356d_row1_col6\" class=\"data row1 col6\" >319.129,000</td>\n",
       "      <td id=\"T_e356d_row1_col7\" class=\"data row1 col7\" >319.125,000</td>\n",
       "      <td id=\"T_e356d_row1_col8\" class=\"data row1 col8\" >-0,482</td>\n",
       "      <td id=\"T_e356d_row1_col9\" class=\"data row1 col9\" >-0,702</td>\n",
       "    </tr>\n",
       "    <tr>\n",
       "      <th id=\"T_e356d_level0_row2\" class=\"row_heading level0 row2\" >2</th>\n",
       "      <td id=\"T_e356d_row2_col0\" class=\"data row2 col0\" >affiliate_id</td>\n",
       "      <td id=\"T_e356d_row2_col1\" class=\"data row2 col1\" >2.297.500,688</td>\n",
       "      <td id=\"T_e356d_row2_col2\" class=\"data row2 col2\" >1.690.428,000</td>\n",
       "      <td id=\"T_e356d_row2_col3\" class=\"data row2 col3\" >2.092.655,502</td>\n",
       "      <td id=\"T_e356d_row2_col4\" class=\"data row2 col4\" >3.549.994,000</td>\n",
       "      <td id=\"T_e356d_row2_col5\" class=\"data row2 col5\" >3,000</td>\n",
       "      <td id=\"T_e356d_row2_col6\" class=\"data row2 col6\" >7.700.836,000</td>\n",
       "      <td id=\"T_e356d_row2_col7\" class=\"data row2 col7\" >7.700.833,000</td>\n",
       "      <td id=\"T_e356d_row2_col8\" class=\"data row2 col8\" >0,651</td>\n",
       "      <td id=\"T_e356d_row2_col9\" class=\"data row2 col9\" >-0,823</td>\n",
       "    </tr>\n",
       "    <tr>\n",
       "      <th id=\"T_e356d_level0_row3\" class=\"row_heading level0 row3\" >3</th>\n",
       "      <td id=\"T_e356d_row3_col0\" class=\"data row3 col0\" >producer_id</td>\n",
       "      <td id=\"T_e356d_row3_col1\" class=\"data row3 col1\" >2.164.479,522</td>\n",
       "      <td id=\"T_e356d_row3_col2\" class=\"data row3 col2\" >1.377.289,000</td>\n",
       "      <td id=\"T_e356d_row3_col3\" class=\"data row3 col3\" >2.038.959,782</td>\n",
       "      <td id=\"T_e356d_row3_col4\" class=\"data row3 col4\" >3.366.648,000</td>\n",
       "      <td id=\"T_e356d_row3_col5\" class=\"data row3 col5\" >3,000</td>\n",
       "      <td id=\"T_e356d_row3_col6\" class=\"data row3 col6\" >9.868.481,000</td>\n",
       "      <td id=\"T_e356d_row3_col7\" class=\"data row3 col7\" >9.868.478,000</td>\n",
       "      <td id=\"T_e356d_row3_col8\" class=\"data row3 col8\" >0,724</td>\n",
       "      <td id=\"T_e356d_row3_col9\" class=\"data row3 col9\" >-0,699</td>\n",
       "    </tr>\n",
       "    <tr>\n",
       "      <th id=\"T_e356d_level0_row4\" class=\"row_heading level0 row4\" >4</th>\n",
       "      <td id=\"T_e356d_row4_col0\" class=\"data row4 col0\" >buyer_id</td>\n",
       "      <td id=\"T_e356d_row4_col1\" class=\"data row4 col1\" >5.187.551,341</td>\n",
       "      <td id=\"T_e356d_row4_col2\" class=\"data row4 col2\" >5.999.153,500</td>\n",
       "      <td id=\"T_e356d_row4_col3\" class=\"data row4 col3\" >2.199.255,869</td>\n",
       "      <td id=\"T_e356d_row4_col4\" class=\"data row4 col4\" >3.216.124,250</td>\n",
       "      <td id=\"T_e356d_row4_col5\" class=\"data row4 col5\" >60,000</td>\n",
       "      <td id=\"T_e356d_row4_col6\" class=\"data row4 col6\" >12.014.792,000</td>\n",
       "      <td id=\"T_e356d_row4_col7\" class=\"data row4 col7\" >12.014.732,000</td>\n",
       "      <td id=\"T_e356d_row4_col8\" class=\"data row4 col8\" >-0,878</td>\n",
       "      <td id=\"T_e356d_row4_col9\" class=\"data row4 col9\" >-0,492</td>\n",
       "    </tr>\n",
       "    <tr>\n",
       "      <th id=\"T_e356d_level0_row5\" class=\"row_heading level0 row5\" >5</th>\n",
       "      <td id=\"T_e356d_row5_col0\" class=\"data row5 col0\" >purchase_value</td>\n",
       "      <td id=\"T_e356d_row5_col1\" class=\"data row5 col1\" >0,000</td>\n",
       "      <td id=\"T_e356d_row5_col2\" class=\"data row5 col2\" >-0,350</td>\n",
       "      <td id=\"T_e356d_row5_col3\" class=\"data row5 col3\" >1,000</td>\n",
       "      <td id=\"T_e356d_row5_col4\" class=\"data row5 col4\" >0,518</td>\n",
       "      <td id=\"T_e356d_row5_col5\" class=\"data row5 col5\" >-0,541</td>\n",
       "      <td id=\"T_e356d_row5_col6\" class=\"data row5 col6\" >124,561</td>\n",
       "      <td id=\"T_e356d_row5_col7\" class=\"data row5 col7\" >125,102</td>\n",
       "      <td id=\"T_e356d_row5_col8\" class=\"data row5 col8\" >10,817</td>\n",
       "      <td id=\"T_e356d_row5_col9\" class=\"data row5 col9\" >629,206</td>\n",
       "    </tr>\n",
       "    <tr>\n",
       "      <th id=\"T_e356d_level0_row6\" class=\"row_heading level0 row6\" >6</th>\n",
       "      <td id=\"T_e356d_row6_col0\" class=\"data row6 col0\" >affiliate_commission_percentual</td>\n",
       "      <td id=\"T_e356d_row6_col1\" class=\"data row6 col1\" >7,595</td>\n",
       "      <td id=\"T_e356d_row6_col2\" class=\"data row6 col2\" >0,000</td>\n",
       "      <td id=\"T_e356d_row6_col3\" class=\"data row6 col3\" >18,476</td>\n",
       "      <td id=\"T_e356d_row6_col4\" class=\"data row6 col4\" >0,000</td>\n",
       "      <td id=\"T_e356d_row6_col5\" class=\"data row6 col5\" >-1,000</td>\n",
       "      <td id=\"T_e356d_row6_col6\" class=\"data row6 col6\" >100,000</td>\n",
       "      <td id=\"T_e356d_row6_col7\" class=\"data row6 col7\" >101,000</td>\n",
       "      <td id=\"T_e356d_row6_col8\" class=\"data row6 col8\" >2,259</td>\n",
       "      <td id=\"T_e356d_row6_col9\" class=\"data row6 col9\" >3,754</td>\n",
       "    </tr>\n",
       "    <tr>\n",
       "      <th id=\"T_e356d_level0_row7\" class=\"row_heading level0 row7\" >7</th>\n",
       "      <td id=\"T_e356d_row7_col0\" class=\"data row7 col0\" >sell</td>\n",
       "      <td id=\"T_e356d_row7_col1\" class=\"data row7 col1\" >1,000</td>\n",
       "      <td id=\"T_e356d_row7_col2\" class=\"data row7 col2\" >1,000</td>\n",
       "      <td id=\"T_e356d_row7_col3\" class=\"data row7 col3\" >0,000</td>\n",
       "      <td id=\"T_e356d_row7_col4\" class=\"data row7 col4\" >0,000</td>\n",
       "      <td id=\"T_e356d_row7_col5\" class=\"data row7 col5\" >1,000</td>\n",
       "      <td id=\"T_e356d_row7_col6\" class=\"data row7 col6\" >1,000</td>\n",
       "      <td id=\"T_e356d_row7_col7\" class=\"data row7 col7\" >0,000</td>\n",
       "      <td id=\"T_e356d_row7_col8\" class=\"data row7 col8\" >0,000</td>\n",
       "      <td id=\"T_e356d_row7_col9\" class=\"data row7 col9\" >0,000</td>\n",
       "    </tr>\n",
       "    <tr>\n",
       "      <th id=\"T_e356d_level0_row8\" class=\"row_heading level0 row8\" >8</th>\n",
       "      <td id=\"T_e356d_row8_col0\" class=\"data row8 col0\" >product_age_when_purchased</td>\n",
       "      <td id=\"T_e356d_row8_col1\" class=\"data row8 col1\" >13,416</td>\n",
       "      <td id=\"T_e356d_row8_col2\" class=\"data row8 col2\" >10,000</td>\n",
       "      <td id=\"T_e356d_row8_col3\" class=\"data row8 col3\" >12,933</td>\n",
       "      <td id=\"T_e356d_row8_col4\" class=\"data row8 col4\" >17,000</td>\n",
       "      <td id=\"T_e356d_row8_col5\" class=\"data row8 col5\" >-6,000</td>\n",
       "      <td id=\"T_e356d_row8_col6\" class=\"data row8 col6\" >91,000</td>\n",
       "      <td id=\"T_e356d_row8_col7\" class=\"data row8 col7\" >97,000</td>\n",
       "      <td id=\"T_e356d_row8_col8\" class=\"data row8 col8\" >1,277</td>\n",
       "      <td id=\"T_e356d_row8_col9\" class=\"data row8 col9\" >1,555</td>\n",
       "    </tr>\n",
       "  </tbody>\n",
       "</table>\n"
      ],
      "text/plain": [
       "<pandas.io.formats.style.Styler at 0x7f42075b1db0>"
      ]
     },
     "metadata": {},
     "output_type": "display_data"
    },
    {
     "name": "stdout",
     "output_type": "stream",
     "text": [
      "-----------------------------\n",
      "\n",
      "\n",
      "dataframe.sample(5)\n"
     ]
    },
    {
     "data": {
      "text/html": [
       "<div>\n",
       "<style scoped>\n",
       "    .dataframe tbody tr th:only-of-type {\n",
       "        vertical-align: middle;\n",
       "    }\n",
       "\n",
       "    .dataframe tbody tr th {\n",
       "        vertical-align: top;\n",
       "    }\n",
       "\n",
       "    .dataframe thead th {\n",
       "        text-align: right;\n",
       "    }\n",
       "</style>\n",
       "<table border=\"1\" class=\"dataframe\">\n",
       "  <thead>\n",
       "    <tr style=\"text-align: right;\">\n",
       "      <th></th>\n",
       "      <th>purchase_id</th>\n",
       "      <th>product_id</th>\n",
       "      <th>affiliate_id</th>\n",
       "      <th>producer_id</th>\n",
       "      <th>buyer_id</th>\n",
       "      <th>purchase_date</th>\n",
       "      <th>product_creation_date</th>\n",
       "      <th>product_category</th>\n",
       "      <th>product_niche</th>\n",
       "      <th>purchase_value</th>\n",
       "      <th>affiliate_commission_percentual</th>\n",
       "      <th>purchase_device</th>\n",
       "      <th>purchase_origin</th>\n",
       "      <th>is_origin_page_social_network</th>\n",
       "      <th>sell</th>\n",
       "      <th>product_age_when_purchased</th>\n",
       "    </tr>\n",
       "  </thead>\n",
       "  <tbody>\n",
       "    <tr>\n",
       "      <th>948881</th>\n",
       "      <td>12762646</td>\n",
       "      <td>218024</td>\n",
       "      <td>4328492</td>\n",
       "      <td>4328492</td>\n",
       "      <td>7115412</td>\n",
       "      <td>2016-04-24 01:23:33</td>\n",
       "      <td>2016-04-05 01:15:29</td>\n",
       "      <td>Podcast</td>\n",
       "      <td>Government</td>\n",
       "      <td>-0.4</td>\n",
       "      <td>0.0</td>\n",
       "      <td>Desktop</td>\n",
       "      <td>Origin 5187</td>\n",
       "      <td>True</td>\n",
       "      <td>1</td>\n",
       "      <td>0</td>\n",
       "    </tr>\n",
       "    <tr>\n",
       "      <th>407480</th>\n",
       "      <td>11668526</td>\n",
       "      <td>197735</td>\n",
       "      <td>3971196</td>\n",
       "      <td>3971196</td>\n",
       "      <td>6596833</td>\n",
       "      <td>2016-02-21 14:26:21</td>\n",
       "      <td>2016-01-15 20:04:41</td>\n",
       "      <td>Workshop</td>\n",
       "      <td>Presentation skills</td>\n",
       "      <td>-0.4</td>\n",
       "      <td>0.0</td>\n",
       "      <td>eReaders</td>\n",
       "      <td>Origin e499</td>\n",
       "      <td>True</td>\n",
       "      <td>1</td>\n",
       "      <td>1</td>\n",
       "    </tr>\n",
       "    <tr>\n",
       "      <th>1036827</th>\n",
       "      <td>12929735</td>\n",
       "      <td>210723</td>\n",
       "      <td>898929</td>\n",
       "      <td>898929</td>\n",
       "      <td>4199649</td>\n",
       "      <td>2016-05-03 00:49:03</td>\n",
       "      <td>2016-03-09 17:34:23</td>\n",
       "      <td>Phisical book</td>\n",
       "      <td>Presentation skills</td>\n",
       "      <td>0.6</td>\n",
       "      <td>0.0</td>\n",
       "      <td>eReaders</td>\n",
       "      <td>Origin cf02</td>\n",
       "      <td>True</td>\n",
       "      <td>1</td>\n",
       "      <td>2</td>\n",
       "    </tr>\n",
       "    <tr>\n",
       "      <th>1134631</th>\n",
       "      <td>13109731</td>\n",
       "      <td>224731</td>\n",
       "      <td>1770119</td>\n",
       "      <td>1770119</td>\n",
       "      <td>7283999</td>\n",
       "      <td>2016-05-11 23:05:22</td>\n",
       "      <td>2016-04-29 19:27:14</td>\n",
       "      <td>Phisical book</td>\n",
       "      <td>Online course creation</td>\n",
       "      <td>1.6</td>\n",
       "      <td>0.0</td>\n",
       "      <td>Cellphone</td>\n",
       "      <td>Origin 5187</td>\n",
       "      <td>True</td>\n",
       "      <td>1</td>\n",
       "      <td>1</td>\n",
       "    </tr>\n",
       "    <tr>\n",
       "      <th>18799</th>\n",
       "      <td>10877305</td>\n",
       "      <td>85986</td>\n",
       "      <td>2375948</td>\n",
       "      <td>34602</td>\n",
       "      <td>881614</td>\n",
       "      <td>2016-01-03 17:33:55</td>\n",
       "      <td>2014-02-17 14:25:28</td>\n",
       "      <td>Phisical book</td>\n",
       "      <td>Anxiety management</td>\n",
       "      <td>-0.5</td>\n",
       "      <td>0.0</td>\n",
       "      <td>Smart TV</td>\n",
       "      <td>Origin ef2b</td>\n",
       "      <td>True</td>\n",
       "      <td>1</td>\n",
       "      <td>23</td>\n",
       "    </tr>\n",
       "  </tbody>\n",
       "</table>\n",
       "<p>5 rows × 16 columns</p>\n",
       "</div>"
      ],
      "text/plain": [
       "         purchase_id  product_id  affiliate_id  producer_id  buyer_id   \n",
       "948881      12762646      218024       4328492      4328492   7115412  \\\n",
       "407480      11668526      197735       3971196      3971196   6596833   \n",
       "1036827     12929735      210723        898929       898929   4199649   \n",
       "1134631     13109731      224731       1770119      1770119   7283999   \n",
       "18799       10877305       85986       2375948        34602    881614   \n",
       "\n",
       "              purchase_date product_creation_date product_category   \n",
       "948881  2016-04-24 01:23:33   2016-04-05 01:15:29          Podcast  \\\n",
       "407480  2016-02-21 14:26:21   2016-01-15 20:04:41         Workshop   \n",
       "1036827 2016-05-03 00:49:03   2016-03-09 17:34:23    Phisical book   \n",
       "1134631 2016-05-11 23:05:22   2016-04-29 19:27:14    Phisical book   \n",
       "18799   2016-01-03 17:33:55   2014-02-17 14:25:28    Phisical book   \n",
       "\n",
       "                  product_niche  purchase_value   \n",
       "948881               Government            -0.4  \\\n",
       "407480      Presentation skills            -0.4   \n",
       "1036827     Presentation skills             0.6   \n",
       "1134631  Online course creation             1.6   \n",
       "18799        Anxiety management            -0.5   \n",
       "\n",
       "         affiliate_commission_percentual purchase_device purchase_origin   \n",
       "948881                               0.0         Desktop     Origin 5187  \\\n",
       "407480                               0.0        eReaders     Origin e499   \n",
       "1036827                              0.0        eReaders     Origin cf02   \n",
       "1134631                              0.0       Cellphone     Origin 5187   \n",
       "18799                                0.0        Smart TV     Origin ef2b   \n",
       "\n",
       "         is_origin_page_social_network  sell  product_age_when_purchased  \n",
       "948881                            True     1                           0  \n",
       "407480                            True     1                           1  \n",
       "1036827                           True     1                           2  \n",
       "1134631                           True     1                           1  \n",
       "18799                             True     1                          23  \n",
       "\n",
       "[5 rows x 16 columns]"
      ]
     },
     "metadata": {},
     "output_type": "display_data"
    },
    {
     "name": "stdout",
     "output_type": "stream",
     "text": [
      "*************************************************\n"
     ]
    }
   ],
   "source": [
    "# create a restore point for the previous section dataframe\n",
    "df_filter = df_f_eng.copy()\n",
    "\n",
    "# check dataframe\n",
    "check_dataframe( df_filter, summary_stats=True )"
   ]
  },
  {
   "attachments": {},
   "cell_type": "markdown",
   "id": "196cddb7",
   "metadata": {
    "ExecuteTime": {
     "end_time": "2021-11-08T18:08:30.512496Z",
     "start_time": "2021-11-08T18:08:30.507268Z"
    },
    "heading_collapsed": true,
    "hidden": true
   },
   "source": [
    "## 4.2 Rows Filtering"
   ]
  },
  {
   "attachments": {},
   "cell_type": "markdown",
   "id": "8253646d",
   "metadata": {},
   "source": [
    "*Remove rows with meaningless (or unimportant) data*"
   ]
  },
  {
   "attachments": {},
   "cell_type": "markdown",
   "id": "28b456d1",
   "metadata": {},
   "source": [
    "### purchase_value column"
   ]
  },
  {
   "cell_type": "code",
   "execution_count": 35,
   "id": "74a1e2db",
   "metadata": {},
   "outputs": [],
   "source": [
    "# According to business rule:\n",
    "# - purchase_value: valor da compra. Esse dado, assim como nicho e categoria foi codificado para manter a  confidencialidade. O valor apresentado no dataset é o **z-score** do valor real;\n",
    "# So it is fine to have negative values! ---> no need to filter rows!"
   ]
  },
  {
   "attachments": {},
   "cell_type": "markdown",
   "id": "5c244bd4",
   "metadata": {},
   "source": [
    "### product_age_when_purchased column"
   ]
  },
  {
   "cell_type": "code",
   "execution_count": 36,
   "id": "457347a6",
   "metadata": {
    "ExecuteTime": {
     "end_time": "2021-11-22T11:35:16.193901Z",
     "start_time": "2021-11-22T11:35:16.190106Z"
    },
    "hidden": true,
    "scrolled": true
   },
   "outputs": [
    {
     "data": {
      "text/html": [
       "<div>\n",
       "<style scoped>\n",
       "    .dataframe tbody tr th:only-of-type {\n",
       "        vertical-align: middle;\n",
       "    }\n",
       "\n",
       "    .dataframe tbody tr th {\n",
       "        vertical-align: top;\n",
       "    }\n",
       "\n",
       "    .dataframe thead th {\n",
       "        text-align: right;\n",
       "    }\n",
       "</style>\n",
       "<table border=\"1\" class=\"dataframe\">\n",
       "  <thead>\n",
       "    <tr style=\"text-align: right;\">\n",
       "      <th></th>\n",
       "      <th>purchase_id</th>\n",
       "      <th>product_id</th>\n",
       "      <th>affiliate_id</th>\n",
       "      <th>producer_id</th>\n",
       "      <th>buyer_id</th>\n",
       "      <th>purchase_date</th>\n",
       "      <th>product_creation_date</th>\n",
       "      <th>product_category</th>\n",
       "      <th>product_niche</th>\n",
       "      <th>purchase_value</th>\n",
       "      <th>affiliate_commission_percentual</th>\n",
       "      <th>purchase_device</th>\n",
       "      <th>purchase_origin</th>\n",
       "      <th>is_origin_page_social_network</th>\n",
       "      <th>sell</th>\n",
       "      <th>product_age_when_purchased</th>\n",
       "    </tr>\n",
       "  </thead>\n",
       "  <tbody>\n",
       "    <tr>\n",
       "      <th>1394257</th>\n",
       "      <td>13609042</td>\n",
       "      <td>319129</td>\n",
       "      <td>1738263</td>\n",
       "      <td>9868481</td>\n",
       "      <td>7049073</td>\n",
       "      <td>2016-06-08 19:41:27</td>\n",
       "      <td>2016-12-31 13:43:50</td>\n",
       "      <td>Phisical book</td>\n",
       "      <td>Negotiation</td>\n",
       "      <td>3.4</td>\n",
       "      <td>20.0</td>\n",
       "      <td>Desktop</td>\n",
       "      <td>Origin 5187</td>\n",
       "      <td>True</td>\n",
       "      <td>1</td>\n",
       "      <td>-6</td>\n",
       "    </tr>\n",
       "    <tr>\n",
       "      <th>1438238</th>\n",
       "      <td>13692956</td>\n",
       "      <td>319129</td>\n",
       "      <td>599274</td>\n",
       "      <td>9868481</td>\n",
       "      <td>4450488</td>\n",
       "      <td>2016-06-13 05:57:13</td>\n",
       "      <td>2016-12-31 13:43:50</td>\n",
       "      <td>Phisical book</td>\n",
       "      <td>Negotiation</td>\n",
       "      <td>3.5</td>\n",
       "      <td>30.0</td>\n",
       "      <td>Desktop</td>\n",
       "      <td>Origin 6c05</td>\n",
       "      <td>True</td>\n",
       "      <td>1</td>\n",
       "      <td>-6</td>\n",
       "    </tr>\n",
       "  </tbody>\n",
       "</table>\n",
       "<p>2 rows × 16 columns</p>\n",
       "</div>"
      ],
      "text/plain": [
       "         purchase_id  product_id  affiliate_id  producer_id  buyer_id   \n",
       "1394257     13609042      319129       1738263      9868481   7049073  \\\n",
       "1438238     13692956      319129        599274      9868481   4450488   \n",
       "\n",
       "              purchase_date product_creation_date product_category   \n",
       "1394257 2016-06-08 19:41:27   2016-12-31 13:43:50    Phisical book  \\\n",
       "1438238 2016-06-13 05:57:13   2016-12-31 13:43:50    Phisical book   \n",
       "\n",
       "        product_niche  purchase_value  affiliate_commission_percentual   \n",
       "1394257   Negotiation             3.4                             20.0  \\\n",
       "1438238   Negotiation             3.5                             30.0   \n",
       "\n",
       "        purchase_device purchase_origin  is_origin_page_social_network  sell   \n",
       "1394257         Desktop     Origin 5187                           True     1  \\\n",
       "1438238         Desktop     Origin 6c05                           True     1   \n",
       "\n",
       "         product_age_when_purchased  \n",
       "1394257                          -6  \n",
       "1438238                          -6  \n",
       "\n",
       "[2 rows x 16 columns]"
      ]
     },
     "execution_count": 36,
     "metadata": {},
     "output_type": "execute_result"
    }
   ],
   "source": [
    "# check negative product_age_when_purchased\n",
    "df_filter[df_filter[\"product_age_when_purchased\"] < 0]\n"
   ]
  },
  {
   "cell_type": "code",
   "execution_count": 37,
   "id": "3ef558e8",
   "metadata": {},
   "outputs": [],
   "source": [
    "# define shape before filtering data\n",
    "shape_before = df_filter.shape\n",
    "\n",
    "# it order to avoid misleading data (product was sold before being created)\n",
    "# we will remove these rows\n",
    "df_filter = df_filter[df_filter[\"product_age_when_purchased\"] >= 0]\n",
    "\n",
    "# sanity check\n",
    "assert (\n",
    "    df_filter.shape[0] == shape_before[0] - 2\n",
    ") & (\n",
    "    df_filter.shape[1] == shape_before[1]\n",
    "), \"Misleading rows filtering!\""
   ]
  },
  {
   "attachments": {},
   "cell_type": "markdown",
   "id": "1ca35d9b",
   "metadata": {},
   "source": [
    "## 4.3 - Columns Filtering"
   ]
  },
  {
   "attachments": {},
   "cell_type": "markdown",
   "id": "9acd7efd",
   "metadata": {},
   "source": [
    "*Remove auxiliary columns or columns that won't be available in the prediction moment*"
   ]
  },
  {
   "attachments": {},
   "cell_type": "markdown",
   "id": "0c088b9e",
   "metadata": {},
   "source": [
    "### sell column"
   ]
  },
  {
   "cell_type": "code",
   "execution_count": 38,
   "id": "bfd86022",
   "metadata": {},
   "outputs": [
    {
     "name": "stdout",
     "output_type": "stream",
     "text": [
      "Unique values in colum 'sell': {1}\n"
     ]
    }
   ],
   "source": [
    "# TO-DO\n",
    "# print report\n",
    "print(\n",
    "    f\"Unique values in colum 'sell': {set(df_filter['sell'].tolist())}\"\n",
    ")"
   ]
  },
  {
   "cell_type": "code",
   "execution_count": 39,
   "id": "bbf4b202",
   "metadata": {},
   "outputs": [],
   "source": [
    "# define shape before filtering data\n",
    "shape_before = df_filter.shape\n",
    "\n",
    "# column sell is a constant column ---> remove it\n",
    "df_filter = df_filter.drop(columns=[\"sell\"])\n",
    "\n",
    "# sanity check\n",
    "# sanity check\n",
    "assert (\n",
    "    df_filter.shape[0] == shape_before[0]\n",
    ") & (\n",
    "    df_filter.shape[1] == shape_before[1] - 1\n",
    "), \"Misleading columns filtering!\""
   ]
  },
  {
   "attachments": {},
   "cell_type": "markdown",
   "id": "36158fe8",
   "metadata": {
    "heading_collapsed": true
   },
   "source": [
    "# **5 - EXPLORATORY DATA ANALYSIS**"
   ]
  },
  {
   "attachments": {},
   "cell_type": "markdown",
   "id": "e109374b",
   "metadata": {
    "heading_collapsed": true,
    "hidden": true
   },
   "source": [
    "## 5.1 - Restore Point"
   ]
  },
  {
   "attachments": {},
   "cell_type": "markdown",
   "id": "2b6245ee",
   "metadata": {},
   "source": [
    "*Create a checkpoint of the last dataframe from previous section*"
   ]
  },
  {
   "cell_type": "code",
   "execution_count": null,
   "id": "9ec1c6c5",
   "metadata": {
    "ExecuteTime": {
     "end_time": "2021-11-22T11:35:18.508075Z",
     "start_time": "2021-11-22T11:35:17.992047Z"
    },
    "hidden": true,
    "scrolled": true
   },
   "outputs": [],
   "source": [
    "# create a restore point for the previous section dataframe\n",
    "df_eda = df_filter.copy()\n",
    "\n",
    "# check dataframe\n",
    "check_dataframe( df_eda )"
   ]
  },
  {
   "attachments": {},
   "cell_type": "markdown",
   "id": "7ce04da7",
   "metadata": {},
   "source": [
    "## 5.2 - Univariate Analysis"
   ]
  },
  {
   "attachments": {},
   "cell_type": "markdown",
   "id": "251f387b",
   "metadata": {},
   "source": [
    "*Explore variables distributions*"
   ]
  },
  {
   "cell_type": "code",
   "execution_count": null,
   "id": "3aca4f52",
   "metadata": {},
   "outputs": [],
   "source": [
    "# split dataset into types of features\n",
    "df_eda_num = df_eda.select_dtypes(include=[\"number\", \"bool\"])\n",
    "df_eda_date = df_eda.select_dtypes(include=[\"datetime\"])\n",
    "df_eda_str = df_eda.select_dtypes(include=[\"object\"])\n",
    "\n",
    "# sanity check\n",
    "assert df_eda_num.shape[1] + df_eda_date.shape[1] + df_eda_str.shape[1] == df_eda.shape[1], \"\"\"Revise the previous split, something may be wrong!\"\"\""
   ]
  },
  {
   "attachments": {},
   "cell_type": "markdown",
   "id": "2453e220",
   "metadata": {},
   "source": [
    "### 5.2.1 - Numerical Columns"
   ]
  },
  {
   "cell_type": "code",
   "execution_count": null,
   "id": "06ff8907",
   "metadata": {},
   "outputs": [],
   "source": [
    "# define categorical figure path\n",
    "numerical_fig_path = os.path.join(PROJECT_ROOT_PATH, \"img\", \"data_exploration\", \"numerical_fatures_eda.png\")\n",
    "\n",
    "# plot numerical columns for base data\n",
    "numerical_plot(\n",
    "    dataframe=df_eda_num, \n",
    "    n_cols=3,\n",
    "    hist=False,\n",
    "    save_fig=numerical_fig_path\n",
    "    )"
   ]
  },
  {
   "attachments": {},
   "cell_type": "markdown",
   "id": "fc3d072e",
   "metadata": {},
   "source": [
    "### 5.2.2 - Categorical Columns"
   ]
  },
  {
   "cell_type": "code",
   "execution_count": null,
   "id": "e2107307",
   "metadata": {},
   "outputs": [],
   "source": [
    "# define categorical figure path\n",
    "categorical_fig_path = os.path.join(PROJECT_ROOT_PATH, \"img\", \"data_exploration\", \"categorical_fatures_eda.png\")\n",
    "\n",
    "# plot categorical columns for base data\n",
    "categorical_plot(\n",
    "    dataframe=df_eda_str,\n",
    "    max_num_cat=10,\n",
    "    n_cols=3,\n",
    "    trunc_label=20,\n",
    "    save_fig=categorical_fig_path\n",
    "    )"
   ]
  },
  {
   "attachments": {},
   "cell_type": "markdown",
   "id": "e51d0134",
   "metadata": {},
   "source": [
    "### 5.2.3 Datetime Columns"
   ]
  },
  {
   "cell_type": "code",
   "execution_count": null,
   "id": "8e4ea868",
   "metadata": {},
   "outputs": [],
   "source": [
    "# define datetime figure path\n",
    "datetime_fig_path = os.path.join(PROJECT_ROOT_PATH, \"img\", \"data_exploration\", \"datetime_fatures_eda.png\")\n",
    "\n",
    "# plot datetime columns for base data\n",
    "datetime_plot(\n",
    "    dataframe=df_eda_date,\n",
    "    n_cols=3,\n",
    "    save_fig=datetime_fig_path\n",
    "    )"
   ]
  },
  {
   "attachments": {},
   "cell_type": "markdown",
   "id": "186dfadf",
   "metadata": {
    "heading_collapsed": true,
    "hidden": true
   },
   "source": [
    "## 5.3 - Bivariate Analysis"
   ]
  },
  {
   "attachments": {},
   "cell_type": "markdown",
   "id": "45447dfc",
   "metadata": {},
   "source": [
    "*Explore relationship between variables (in pairs)*"
   ]
  },
  {
   "attachments": {},
   "cell_type": "markdown",
   "id": "b19f30b0",
   "metadata": {},
   "source": [
    "### 5.3.1 - Initial inspection"
   ]
  },
  {
   "cell_type": "code",
   "execution_count": null,
   "id": "b09f0af9",
   "metadata": {
    "ExecuteTime": {
     "end_time": "2021-11-22T11:35:39.225076Z",
     "start_time": "2021-11-22T11:35:28.117744Z"
    },
    "hidden": true
   },
   "outputs": [],
   "source": [
    "# plot pairplot\n",
    "sns.pairplot( df_eda, diag_kind = \"kde\" );"
   ]
  },
  {
   "attachments": {},
   "cell_type": "markdown",
   "id": "20845368",
   "metadata": {
    "ExecuteTime": {
     "end_time": "2021-11-22T11:35:39.228869Z",
     "start_time": "2021-11-22T11:35:39.226949Z"
    },
    "hidden": true
   },
   "source": [
    "### 5.3.2 - Numerical variables"
   ]
  },
  {
   "cell_type": "code",
   "execution_count": null,
   "id": "79118ce5",
   "metadata": {
    "ExecuteTime": {
     "end_time": "2021-11-22T11:35:39.939255Z",
     "start_time": "2021-11-22T11:35:39.230647Z"
    },
    "hidden": true
   },
   "outputs": [],
   "source": [
    "# calculate pearson correlation coefficient\n",
    "correlation = df_eda_ref.corr( method = 'spearman' )\n",
    "\n",
    "# create figure and ax object\n",
    "fig, ax = plt.subplots( figsize = (6, 6) )\n",
    "\n",
    "# display heatmap of correlation on figure\n",
    "sns.heatmap( correlation, annot = True, ax = ax)\n",
    "plt.yticks( rotation = 0 );"
   ]
  },
  {
   "attachments": {},
   "cell_type": "markdown",
   "id": "c916bafd",
   "metadata": {},
   "source": [
    "### 5.3.3 - Categorical variables"
   ]
  },
  {
   "cell_type": "code",
   "execution_count": null,
   "id": "c17624c7",
   "metadata": {},
   "outputs": [],
   "source": [
    "# TO-DO ---> cramer-v heatmap"
   ]
  },
  {
   "cell_type": "code",
   "execution_count": null,
   "id": "b3bfc9e9",
   "metadata": {},
   "outputs": [],
   "source": [
    "# create a dataframe with cramer-v for every row-column pair\n",
    "cramer_v_corr = create_cramer_v_dataframe( multivar_cat_analysis )\n",
    "\n",
    "# create figure and ax object\n",
    "fig, ax = plt.subplots( figsize = (20, 20) )\n",
    "\n",
    "# display heatmap of correlation on figure\n",
    "sns.heatmap( cramer_v_corr, annot = True, ax = ax);"
   ]
  },
  {
   "attachments": {},
   "cell_type": "markdown",
   "id": "606d451c",
   "metadata": {},
   "source": [
    "## 5.4 - Business Hypothesis"
   ]
  },
  {
   "attachments": {},
   "cell_type": "markdown",
   "id": "0876f828",
   "metadata": {},
   "source": [
    "*Validate all business hypothesis based on available data*"
   ]
  },
  {
   "attachments": {},
   "cell_type": "markdown",
   "id": "1671d285",
   "metadata": {},
   "source": [
    "### **H1. ..**"
   ]
  },
  {
   "cell_type": "code",
   "execution_count": null,
   "id": "cb8e5b11",
   "metadata": {},
   "outputs": [],
   "source": []
  },
  {
   "attachments": {},
   "cell_type": "markdown",
   "id": "8b6006ae",
   "metadata": {},
   "source": [
    "### **H2. ..**"
   ]
  },
  {
   "cell_type": "code",
   "execution_count": null,
   "id": "45e59c75",
   "metadata": {},
   "outputs": [],
   "source": []
  },
  {
   "attachments": {},
   "cell_type": "markdown",
   "id": "b5353cde",
   "metadata": {},
   "source": [
    "### **H3. ..**"
   ]
  },
  {
   "cell_type": "code",
   "execution_count": null,
   "id": "98c59e80",
   "metadata": {},
   "outputs": [],
   "source": []
  },
  {
   "attachments": {},
   "cell_type": "markdown",
   "id": "14a7fae9",
   "metadata": {},
   "source": [
    "### **H4. ..**"
   ]
  },
  {
   "cell_type": "code",
   "execution_count": null,
   "id": "e5078c5e",
   "metadata": {},
   "outputs": [],
   "source": []
  },
  {
   "attachments": {},
   "cell_type": "markdown",
   "id": "e8788e1b",
   "metadata": {},
   "source": [
    "### **H5. ..**"
   ]
  },
  {
   "cell_type": "code",
   "execution_count": null,
   "id": "9a9c15dd",
   "metadata": {},
   "outputs": [],
   "source": []
  },
  {
   "attachments": {},
   "cell_type": "markdown",
   "id": "a83c4df3",
   "metadata": {
    "heading_collapsed": true,
    "hidden": true
   },
   "source": [
    "## 5.5 - Data Space Analysis"
   ]
  },
  {
   "attachments": {},
   "cell_type": "markdown",
   "id": "035779a8",
   "metadata": {},
   "source": [
    "**Initial inspection on dimensionality reduction potential**"
   ]
  },
  {
   "attachments": {},
   "cell_type": "markdown",
   "id": "58d17b6d",
   "metadata": {
    "ExecuteTime": {
     "end_time": "2021-11-12T14:52:05.470744Z",
     "start_time": "2021-11-12T14:52:05.466937Z"
    },
    "heading_collapsed": true,
    "hidden": true
   },
   "source": [
    "### PCA"
   ]
  },
  {
   "cell_type": "code",
   "execution_count": null,
   "id": "1918b2c1",
   "metadata": {
    "ExecuteTime": {
     "end_time": "2021-11-22T11:35:39.981919Z",
     "start_time": "2021-11-22T11:35:39.955021Z"
    },
    "hidden": true
   },
   "outputs": [],
   "source": [
    "# TO-DO"
   ]
  },
  {
   "attachments": {},
   "cell_type": "markdown",
   "id": "6cfeafc6",
   "metadata": {
    "heading_collapsed": true,
    "hidden": true
   },
   "source": [
    "### UMAP"
   ]
  },
  {
   "cell_type": "code",
   "execution_count": null,
   "id": "b8b1451b",
   "metadata": {
    "ExecuteTime": {
     "end_time": "2021-11-22T11:36:07.808671Z",
     "start_time": "2021-11-22T11:35:40.592638Z"
    },
    "hidden": true
   },
   "outputs": [],
   "source": [
    "# TO-DO"
   ]
  },
  {
   "attachments": {},
   "cell_type": "markdown",
   "id": "158cdc9e",
   "metadata": {
    "heading_collapsed": true,
    "hidden": true
   },
   "source": [
    "### t-SNE"
   ]
  },
  {
   "cell_type": "code",
   "execution_count": null,
   "id": "0cb4ccb3",
   "metadata": {
    "ExecuteTime": {
     "end_time": "2021-11-22T11:36:45.325959Z",
     "start_time": "2021-11-22T11:36:08.051724Z"
    },
    "hidden": true,
    "scrolled": true
   },
   "outputs": [],
   "source": [
    "# TO-DO"
   ]
  },
  {
   "attachments": {},
   "cell_type": "markdown",
   "id": "facedc5f",
   "metadata": {
    "heading_collapsed": true,
    "hidden": true
   },
   "source": [
    "### PHATE"
   ]
  },
  {
   "cell_type": "code",
   "execution_count": null,
   "id": "a1e2ab66",
   "metadata": {
    "ExecuteTime": {
     "end_time": "2021-11-22T11:37:16.617873Z",
     "start_time": "2021-11-22T11:36:45.530058Z"
    },
    "hidden": true
   },
   "outputs": [],
   "source": [
    "# TO-DO"
   ]
  },
  {
   "attachments": {},
   "cell_type": "markdown",
   "id": "bd3b10a4",
   "metadata": {
    "heading_collapsed": true,
    "hidden": true
   },
   "source": [
    "### Tree-Base Embedding"
   ]
  },
  {
   "cell_type": "code",
   "execution_count": null,
   "id": "1be00715",
   "metadata": {
    "ExecuteTime": {
     "end_time": "2021-11-22T11:37:17.721638Z",
     "start_time": "2021-11-22T11:37:16.881301Z"
    },
    "hidden": true
   },
   "outputs": [],
   "source": [
    "# TO-DO"
   ]
  },
  {
   "attachments": {},
   "cell_type": "markdown",
   "id": "dad2f694",
   "metadata": {
    "heading_collapsed": true,
    "hidden": true
   },
   "source": [
    "### KMeans Embedding"
   ]
  },
  {
   "cell_type": "code",
   "execution_count": null,
   "id": "156840e8",
   "metadata": {
    "ExecuteTime": {
     "end_time": "2021-11-22T11:37:40.479163Z",
     "start_time": "2021-11-22T11:37:29.524697Z"
    },
    "hidden": true
   },
   "outputs": [],
   "source": [
    "# TO-DO"
   ]
  },
  {
   "attachments": {},
   "cell_type": "markdown",
   "id": "1c42ecba",
   "metadata": {},
   "source": [
    "# **6 - DATA PREPARATION**"
   ]
  },
  {
   "attachments": {},
   "cell_type": "markdown",
   "id": "ec7eabd2",
   "metadata": {},
   "source": [
    "## 6.1 - Restore Point"
   ]
  },
  {
   "attachments": {},
   "cell_type": "markdown",
   "id": "e5eabd39",
   "metadata": {},
   "source": [
    "*Create a checkpoint of the last dataframe from previous section*"
   ]
  },
  {
   "cell_type": "code",
   "execution_count": null,
   "id": "40ff716a",
   "metadata": {},
   "outputs": [],
   "source": [
    "# create a restore point for the previous section dataframe\n",
    "df_prep = df_eda.copy()\n",
    "\n",
    "# check dataframe\n",
    "check_dataframe( df_prep )"
   ]
  },
  {
   "attachments": {},
   "cell_type": "markdown",
   "id": "44c0d35a",
   "metadata": {},
   "source": [
    "## 6.2 - Remove variables that won't be available in the production environment"
   ]
  },
  {
   "attachments": {},
   "cell_type": "markdown",
   "id": "767334b4",
   "metadata": {},
   "source": [
    "*Remove variables that model can use on production to make predictions*"
   ]
  },
  {
   "cell_type": "code",
   "execution_count": null,
   "id": "61fe90a8",
   "metadata": {},
   "outputs": [],
   "source": [
    "# TO-DO"
   ]
  },
  {
   "attachments": {},
   "cell_type": "markdown",
   "id": "3cfe39a4",
   "metadata": {},
   "source": [
    "## 6.3 - Train-Validation-Test split"
   ]
  },
  {
   "attachments": {},
   "cell_type": "markdown",
   "id": "a14a8105",
   "metadata": {},
   "source": [
    "*Split dataframe into training, validation and test dataset*"
   ]
  },
  {
   "cell_type": "code",
   "execution_count": null,
   "id": "dfac0f92",
   "metadata": {},
   "outputs": [],
   "source": [
    "# TO-DO"
   ]
  },
  {
   "attachments": {},
   "cell_type": "markdown",
   "id": "b2f48e31",
   "metadata": {},
   "source": [
    "## 6.4 - Scale numeric features"
   ]
  },
  {
   "attachments": {},
   "cell_type": "markdown",
   "id": "cd93f108",
   "metadata": {},
   "source": [
    "*Scale numeric feature to make modelling \"easier\" for ML models*"
   ]
  },
  {
   "attachments": {},
   "cell_type": "markdown",
   "id": "c58a8f54",
   "metadata": {},
   "source": [
    "### 6.4.1 - Standard Scaler"
   ]
  },
  {
   "cell_type": "code",
   "execution_count": null,
   "id": "44cfe8ab",
   "metadata": {},
   "outputs": [],
   "source": [
    "# TO-DO"
   ]
  },
  {
   "attachments": {},
   "cell_type": "markdown",
   "id": "f40f60b7",
   "metadata": {},
   "source": [
    "### 6.4.2 - Min-Max Scaler"
   ]
  },
  {
   "cell_type": "code",
   "execution_count": null,
   "id": "99d1dcb2",
   "metadata": {},
   "outputs": [],
   "source": [
    "# TO-DO"
   ]
  },
  {
   "attachments": {},
   "cell_type": "markdown",
   "id": "880503b8",
   "metadata": {},
   "source": [
    "### 6.4.3 - Robust Scaler"
   ]
  },
  {
   "cell_type": "code",
   "execution_count": null,
   "id": "51a24aad",
   "metadata": {},
   "outputs": [],
   "source": [
    "# TO-DO"
   ]
  },
  {
   "attachments": {},
   "cell_type": "markdown",
   "id": "22c6163d",
   "metadata": {},
   "source": [
    "### 6.4.4 - Discretization"
   ]
  },
  {
   "cell_type": "code",
   "execution_count": null,
   "id": "18f78a64",
   "metadata": {},
   "outputs": [],
   "source": [
    "# TO-DO"
   ]
  },
  {
   "attachments": {},
   "cell_type": "markdown",
   "id": "bed93774",
   "metadata": {},
   "source": [
    "## 6.5 - Encode categorical features"
   ]
  },
  {
   "attachments": {},
   "cell_type": "markdown",
   "id": "55ac6f45",
   "metadata": {},
   "source": [
    "*Encode categorical feature to make modelling possible for ML models*"
   ]
  },
  {
   "attachments": {},
   "cell_type": "markdown",
   "id": "c0814e8c",
   "metadata": {},
   "source": [
    "### 6.5.1 - One-Hot Encodingm"
   ]
  },
  {
   "cell_type": "code",
   "execution_count": null,
   "id": "7a2486ff",
   "metadata": {},
   "outputs": [],
   "source": [
    "# TO-DO"
   ]
  },
  {
   "attachments": {},
   "cell_type": "markdown",
   "id": "e50dacee",
   "metadata": {},
   "source": [
    "### 6.5.2 - Ordinal Encoding"
   ]
  },
  {
   "cell_type": "code",
   "execution_count": null,
   "id": "f5848643",
   "metadata": {},
   "outputs": [],
   "source": [
    "# TO-DO"
   ]
  },
  {
   "attachments": {},
   "cell_type": "markdown",
   "id": "2d8e7c71",
   "metadata": {},
   "source": [
    "### 6.5.3 - Target Encoding"
   ]
  },
  {
   "cell_type": "code",
   "execution_count": null,
   "id": "d72d40c7",
   "metadata": {},
   "outputs": [],
   "source": [
    "# TO-DO"
   ]
  },
  {
   "attachments": {},
   "cell_type": "markdown",
   "id": "99e12393",
   "metadata": {},
   "source": [
    "## 6.6 - Response variable transformation"
   ]
  },
  {
   "attachments": {},
   "cell_type": "markdown",
   "id": "6f07db9d",
   "metadata": {},
   "source": [
    "*Transform target variable (e.g. log, sqrt, etc) to make modelling \"easier\" for ML models*"
   ]
  },
  {
   "cell_type": "code",
   "execution_count": null,
   "id": "70d3ee79",
   "metadata": {},
   "outputs": [],
   "source": [
    "# TO-DO"
   ]
  },
  {
   "attachments": {},
   "cell_type": "markdown",
   "id": "20a1fee9",
   "metadata": {},
   "source": [
    "## 6.7 - Cyclic variables transformation"
   ]
  },
  {
   "attachments": {},
   "cell_type": "markdown",
   "id": "f88bdcde",
   "metadata": {},
   "source": [
    "*Transform cyclic variables (e.g. days of week, months in year, etc) with a sin and cos functions*"
   ]
  },
  {
   "cell_type": "code",
   "execution_count": null,
   "id": "aa224055",
   "metadata": {},
   "outputs": [],
   "source": [
    "# TO-DO"
   ]
  },
  {
   "attachments": {},
   "cell_type": "markdown",
   "id": "35474f40",
   "metadata": {},
   "source": [
    "## 6.8 - Double-check preparation"
   ]
  },
  {
   "attachments": {},
   "cell_type": "markdown",
   "id": "ec4faaa7",
   "metadata": {},
   "source": [
    "*Double-check the prepared dataset to make sure it is as expected*"
   ]
  },
  {
   "cell_type": "code",
   "execution_count": null,
   "id": "72f62edb",
   "metadata": {},
   "outputs": [],
   "source": [
    "# TO-DO"
   ]
  },
  {
   "attachments": {},
   "cell_type": "markdown",
   "id": "ee9d757b",
   "metadata": {
    "ExecuteTime": {
     "end_time": "2021-11-09T11:28:02.993277Z",
     "start_time": "2021-11-09T11:28:02.988140Z"
    },
    "heading_collapsed": true
   },
   "source": [
    "# **7 - FEATURE SELECTION**"
   ]
  },
  {
   "attachments": {},
   "cell_type": "markdown",
   "id": "989cfb33",
   "metadata": {
    "heading_collapsed": true,
    "hidden": true
   },
   "source": [
    "## 7.1 - Restore Point"
   ]
  },
  {
   "attachments": {},
   "cell_type": "markdown",
   "id": "dab40a87",
   "metadata": {},
   "source": [
    "*Create a checkpoint of the last dataframe from previous section*"
   ]
  },
  {
   "cell_type": "code",
   "execution_count": null,
   "id": "9e572e68",
   "metadata": {},
   "outputs": [],
   "source": [
    "# create a restore point for the previous section dataframe\n",
    "df_f_selection = df_prep.copy()\n",
    "\n",
    "# check dataframe\n",
    "check_dataframe( df_f_selection )"
   ]
  },
  {
   "attachments": {},
   "cell_type": "markdown",
   "id": "2ed869c5",
   "metadata": {},
   "source": [
    "## 7.2 - Logist regression coefficients"
   ]
  },
  {
   "cell_type": "code",
   "execution_count": null,
   "id": "b109fbf8",
   "metadata": {},
   "outputs": [],
   "source": [
    "# TO-DO"
   ]
  },
  {
   "attachments": {},
   "cell_type": "markdown",
   "id": "18ded795",
   "metadata": {},
   "source": [
    "## 7.3 - Random forest feature importance"
   ]
  },
  {
   "cell_type": "code",
   "execution_count": null,
   "id": "bddb7118",
   "metadata": {},
   "outputs": [],
   "source": [
    "# TO-DO"
   ]
  },
  {
   "attachments": {},
   "cell_type": "markdown",
   "id": "ed578042",
   "metadata": {},
   "source": [
    "## 7.4 - Boruta algorithm"
   ]
  },
  {
   "cell_type": "code",
   "execution_count": null,
   "id": "d9be4e25",
   "metadata": {},
   "outputs": [],
   "source": [
    "# TO-DO"
   ]
  },
  {
   "attachments": {},
   "cell_type": "markdown",
   "id": "593aa50b",
   "metadata": {},
   "source": [
    "## 7.5 - Mutual information"
   ]
  },
  {
   "cell_type": "code",
   "execution_count": null,
   "id": "42990ce9",
   "metadata": {},
   "outputs": [],
   "source": [
    "# TO-DO"
   ]
  },
  {
   "attachments": {},
   "cell_type": "markdown",
   "id": "6cd4a7d0",
   "metadata": {
    "heading_collapsed": true
   },
   "source": [
    "# **8 - ML MODEL TRAINING**"
   ]
  },
  {
   "attachments": {},
   "cell_type": "markdown",
   "id": "0b3baa9b",
   "metadata": {
    "heading_collapsed": true,
    "hidden": true
   },
   "source": [
    "## 8.1 - Restore Point"
   ]
  },
  {
   "attachments": {},
   "cell_type": "markdown",
   "id": "78eb6db9",
   "metadata": {},
   "source": [
    "*Create a checkpoint of the last dataframe from previous section*"
   ]
  },
  {
   "cell_type": "code",
   "execution_count": null,
   "id": "2711c6a3",
   "metadata": {
    "ExecuteTime": {
     "end_time": "2021-11-22T11:44:02.805951Z",
     "start_time": "2021-11-22T11:44:02.715657Z"
    },
    "hidden": true,
    "scrolled": true
   },
   "outputs": [],
   "source": [
    "# create a restore point for the previous section dataframe\n",
    "df_train = df_f_selection.copy()\n",
    "\n",
    "# check dataframe\n",
    "check_dataframe( df_train )"
   ]
  },
  {
   "attachments": {},
   "cell_type": "markdown",
   "id": "dab90bd1",
   "metadata": {},
   "source": [
    "## 8.2 - Metrics"
   ]
  },
  {
   "attachments": {},
   "cell_type": "markdown",
   "id": "a3265dbc",
   "metadata": {},
   "source": [
    "*Define the metric of success and the health metrics*"
   ]
  },
  {
   "cell_type": "code",
   "execution_count": null,
   "id": "088c6cce",
   "metadata": {},
   "outputs": [],
   "source": [
    "# TO-DO"
   ]
  },
  {
   "attachments": {},
   "cell_type": "markdown",
   "id": "611df983",
   "metadata": {},
   "source": [
    "## 8.3 - Baseline model"
   ]
  },
  {
   "attachments": {},
   "cell_type": "markdown",
   "id": "e1cba9e3",
   "metadata": {},
   "source": [
    "*Check the performance metrics with a dummy model to get the baseline metric*"
   ]
  },
  {
   "cell_type": "code",
   "execution_count": null,
   "id": "74687ece",
   "metadata": {},
   "outputs": [],
   "source": [
    "# TO-DO"
   ]
  },
  {
   "attachments": {},
   "cell_type": "markdown",
   "id": "ca3fc080",
   "metadata": {},
   "source": [
    "## 8.4 - ML models"
   ]
  },
  {
   "attachments": {},
   "cell_type": "markdown",
   "id": "0d1afd08",
   "metadata": {},
   "source": [
    "*Get performance metrics of ML model with cross-validation*"
   ]
  },
  {
   "cell_type": "code",
   "execution_count": null,
   "id": "b5bc1860",
   "metadata": {},
   "outputs": [],
   "source": [
    "# TO-DO"
   ]
  },
  {
   "attachments": {},
   "cell_type": "markdown",
   "id": "5d3c3c07",
   "metadata": {},
   "source": [
    "## 8.5 - Final modelling comparison"
   ]
  },
  {
   "attachments": {},
   "cell_type": "markdown",
   "id": "dd70b6db",
   "metadata": {},
   "source": [
    "*Compare all models and decide what one is the best (and will be fine-tuned)*"
   ]
  },
  {
   "cell_type": "code",
   "execution_count": null,
   "id": "c4712c7a",
   "metadata": {},
   "outputs": [],
   "source": [
    "# TO-DO"
   ]
  },
  {
   "attachments": {},
   "cell_type": "markdown",
   "id": "575611fe",
   "metadata": {},
   "source": [
    "# **9 - HYPERPARAMETER TUNNING**"
   ]
  },
  {
   "attachments": {},
   "cell_type": "markdown",
   "id": "e2edc6bc",
   "metadata": {},
   "source": [
    "## 9.1 - Restore Point"
   ]
  },
  {
   "attachments": {},
   "cell_type": "markdown",
   "id": "bc71366d",
   "metadata": {},
   "source": [
    "*Create a checkpoint of the last dataframe from previous section*"
   ]
  },
  {
   "cell_type": "code",
   "execution_count": null,
   "id": "08d3467a",
   "metadata": {},
   "outputs": [],
   "source": [
    "# create a restore point for the previous section dataframe\n",
    "df_tune = df_train.copy()\n",
    "\n",
    "# check dataframe\n",
    "check_dataframe( df_tune )"
   ]
  },
  {
   "attachments": {},
   "cell_type": "markdown",
   "id": "de10e50a",
   "metadata": {},
   "source": [
    "## 9.2 - Hypertune the best ML model"
   ]
  },
  {
   "attachments": {},
   "cell_type": "markdown",
   "id": "9e6ac096",
   "metadata": {},
   "source": [
    "*Check the best hyperparams for the best ML model*"
   ]
  },
  {
   "attachments": {},
   "cell_type": "markdown",
   "id": "8f4cd59d",
   "metadata": {},
   "source": [
    "### 9.2.1 - Grid Search"
   ]
  },
  {
   "cell_type": "code",
   "execution_count": null,
   "id": "191d670f",
   "metadata": {},
   "outputs": [],
   "source": [
    "# TO-DO"
   ]
  },
  {
   "attachments": {},
   "cell_type": "markdown",
   "id": "3ca5e074",
   "metadata": {},
   "source": [
    "### 9.2.2 - Random Search"
   ]
  },
  {
   "cell_type": "code",
   "execution_count": null,
   "id": "3ba96cf2",
   "metadata": {},
   "outputs": [],
   "source": [
    "# TO-DO"
   ]
  },
  {
   "attachments": {},
   "cell_type": "markdown",
   "id": "1099906e",
   "metadata": {},
   "source": [
    "### 9.2.3 - Bayesian Search"
   ]
  },
  {
   "cell_type": "code",
   "execution_count": null,
   "id": "b9d6a0a3",
   "metadata": {},
   "outputs": [],
   "source": [
    "# TO-DO"
   ]
  },
  {
   "attachments": {},
   "cell_type": "markdown",
   "id": "cc85ea29",
   "metadata": {},
   "source": [
    "## 9.3 - Define best hyperparameters"
   ]
  },
  {
   "attachments": {},
   "cell_type": "markdown",
   "id": "56530fc0",
   "metadata": {},
   "source": [
    "*Explicitly define best hyper parameters*"
   ]
  },
  {
   "cell_type": "code",
   "execution_count": null,
   "id": "29a0941a",
   "metadata": {},
   "outputs": [],
   "source": [
    "# TO-DO"
   ]
  },
  {
   "attachments": {},
   "cell_type": "markdown",
   "id": "118a044d",
   "metadata": {},
   "source": [
    "# **10 - PERFORMANCE EVALUATION AND INTERPRETATION**"
   ]
  },
  {
   "attachments": {},
   "cell_type": "markdown",
   "id": "9beb0f5e",
   "metadata": {},
   "source": [
    "## 10.1 - Restore Point"
   ]
  },
  {
   "attachments": {},
   "cell_type": "markdown",
   "id": "06063ebc",
   "metadata": {},
   "source": [
    "*Create a checkpoint of the last dataframe from previous section*"
   ]
  },
  {
   "cell_type": "code",
   "execution_count": null,
   "id": "ca048da1",
   "metadata": {},
   "outputs": [],
   "source": [
    "# create a restore point for the previous section dataframe\n",
    "df_perform = df_tune.copy()\n",
    "\n",
    "# check dataframe\n",
    "check_dataframe( df_perform )"
   ]
  },
  {
   "attachments": {},
   "cell_type": "markdown",
   "id": "bd259a95",
   "metadata": {},
   "source": [
    "## 10.2 - Training Performance"
   ]
  },
  {
   "attachments": {},
   "cell_type": "markdown",
   "id": "61597c50",
   "metadata": {},
   "source": [
    "*Get final model performance on training data*"
   ]
  },
  {
   "cell_type": "code",
   "execution_count": null,
   "id": "de669b2b",
   "metadata": {},
   "outputs": [],
   "source": [
    "# TO-DO"
   ]
  },
  {
   "attachments": {},
   "cell_type": "markdown",
   "id": "ad7b1738",
   "metadata": {},
   "source": [
    "## 10.3 - Generalization performance"
   ]
  },
  {
   "attachments": {},
   "cell_type": "markdown",
   "id": "86cbc993",
   "metadata": {},
   "source": [
    "### 10.3.1 - Final model training"
   ]
  },
  {
   "attachments": {},
   "cell_type": "markdown",
   "id": "e68bfaed",
   "metadata": {},
   "source": [
    "*Get final model performance on validation data*"
   ]
  },
  {
   "cell_type": "code",
   "execution_count": null,
   "id": "51f346c4",
   "metadata": {},
   "outputs": [],
   "source": [
    "# TO-DO"
   ]
  },
  {
   "attachments": {},
   "cell_type": "markdown",
   "id": "56ad9401",
   "metadata": {},
   "source": [
    "### 10.3.2 - Error analysis"
   ]
  },
  {
   "attachments": {},
   "cell_type": "markdown",
   "id": "30f53834",
   "metadata": {},
   "source": [
    "*Perform error analysis on final model to make sure it is ready for production*"
   ]
  },
  {
   "cell_type": "code",
   "execution_count": null,
   "id": "08faa83e",
   "metadata": {},
   "outputs": [],
   "source": [
    "# TO-DO"
   ]
  },
  {
   "attachments": {},
   "cell_type": "markdown",
   "id": "227e866b",
   "metadata": {},
   "source": [
    "## 10.4 - Define prodution model"
   ]
  },
  {
   "attachments": {},
   "cell_type": "markdown",
   "id": "d3babf23",
   "metadata": {},
   "source": [
    "*Train ML on \"training + validation\" data*"
   ]
  },
  {
   "cell_type": "code",
   "execution_count": null,
   "id": "4c8d89a9",
   "metadata": {},
   "outputs": [],
   "source": [
    "# TO-DO"
   ]
  },
  {
   "attachments": {},
   "cell_type": "markdown",
   "id": "5b33acde",
   "metadata": {},
   "source": [
    "## 10.5 - Testing performance"
   ]
  },
  {
   "attachments": {},
   "cell_type": "markdown",
   "id": "fb1220a9",
   "metadata": {},
   "source": [
    "*Get production model performance on testing data*"
   ]
  },
  {
   "cell_type": "code",
   "execution_count": null,
   "id": "6e52f764",
   "metadata": {},
   "outputs": [],
   "source": [
    "# TO-DO"
   ]
  },
  {
   "attachments": {},
   "cell_type": "markdown",
   "id": "1d2e70d7",
   "metadata": {},
   "source": [
    "## 10.6 - Business performance"
   ]
  },
  {
   "attachments": {},
   "cell_type": "markdown",
   "id": "a294eeac",
   "metadata": {},
   "source": [
    "*Translate testing performance into business results*"
   ]
  },
  {
   "cell_type": "code",
   "execution_count": null,
   "id": "36f80bff",
   "metadata": {},
   "outputs": [],
   "source": [
    "# TO-DO"
   ]
  },
  {
   "attachments": {},
   "cell_type": "markdown",
   "id": "855aae5f",
   "metadata": {},
   "source": [
    "# **11 - DEPLOYMENT**"
   ]
  },
  {
   "attachments": {},
   "cell_type": "markdown",
   "id": "ee8e3824",
   "metadata": {},
   "source": [
    "![Deployment architecture](../img/....jpg)"
   ]
  },
  {
   "attachments": {},
   "cell_type": "markdown",
   "id": "c8ebea41",
   "metadata": {},
   "source": [
    "## 11.1 - API creation"
   ]
  },
  {
   "attachments": {},
   "cell_type": "markdown",
   "id": "33ea6360",
   "metadata": {},
   "source": [
    "*Code to create API for ML predictions*"
   ]
  },
  {
   "cell_type": "code",
   "execution_count": null,
   "id": "c1352323",
   "metadata": {},
   "outputs": [],
   "source": [
    "# TO-DO"
   ]
  },
  {
   "attachments": {},
   "cell_type": "markdown",
   "id": "60bbaa2e",
   "metadata": {},
   "source": [
    "## 11.2 - Docker container"
   ]
  },
  {
   "attachments": {},
   "cell_type": "markdown",
   "id": "4e1b9c1e",
   "metadata": {},
   "source": [
    "*Code to create a Docker container and deploy ML model*"
   ]
  },
  {
   "cell_type": "code",
   "execution_count": null,
   "id": "73bb3659",
   "metadata": {},
   "outputs": [],
   "source": [
    "# TO-DO"
   ]
  },
  {
   "cell_type": "code",
   "execution_count": null,
   "id": "c0333fb1",
   "metadata": {},
   "outputs": [],
   "source": []
  }
 ],
 "metadata": {
  "kernelspec": {
   "display_name": "hotmart_case",
   "language": "python",
   "name": "python3"
  },
  "language_info": {
   "codemirror_mode": {
    "name": "ipython",
    "version": 3
   },
   "file_extension": ".py",
   "mimetype": "text/x-python",
   "name": "python",
   "nbconvert_exporter": "python",
   "pygments_lexer": "ipython3",
   "version": "3.10.6"
  },
  "toc": {
   "base_numbering": 1,
   "nav_menu": {},
   "number_sections": false,
   "sideBar": true,
   "skip_h1_title": false,
   "title_cell": "Table of Contents",
   "title_sidebar": "Contents",
   "toc_cell": false,
   "toc_position": {},
   "toc_section_display": true,
   "toc_window_display": false
  },
  "varInspector": {
   "cols": {
    "lenName": 16,
    "lenType": 16,
    "lenVar": 40
   },
   "kernels_config": {
    "python": {
     "delete_cmd_postfix": "",
     "delete_cmd_prefix": "del ",
     "library": "var_list.py",
     "varRefreshCmd": "print(var_dic_list())"
    },
    "r": {
     "delete_cmd_postfix": ") ",
     "delete_cmd_prefix": "rm(",
     "library": "var_list.r",
     "varRefreshCmd": "cat(var_dic_list()) "
    }
   },
   "types_to_exclude": [
    "module",
    "function",
    "builtin_function_or_method",
    "instance",
    "_Feature"
   ],
   "window_display": false
  }
 },
 "nbformat": 4,
 "nbformat_minor": 5
}
